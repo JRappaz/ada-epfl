{
 "cells": [
  {
   "cell_type": "code",
   "execution_count": 1,
   "metadata": {
    "collapsed": false
   },
   "outputs": [],
   "source": [
    "import pandas as pd\n",
    "import numpy as np\n",
    "import requests as requests\n",
    "from bs4 import BeautifulSoup\n",
    "import re\n",
    "import matplotlib.pyplot as plt\n",
    "%matplotlib inline\n",
    "\n",
    "pd.options.mode.chained_assignment = None  # default='warn'"
   ]
  },
  {
   "cell_type": "code",
   "execution_count": 2,
   "metadata": {
    "collapsed": false
   },
   "outputs": [],
   "source": [
    "r = requests.get('http://isa.epfl.ch/imoniteur_ISAP/!GEDPUBLICREPORTS.filter?ww_i_reportModel=133685247')\n",
    "soupe = BeautifulSoup(r.text, 'html.parser')\n",
    "\n"
   ]
  },
  {
   "cell_type": "markdown",
   "metadata": {},
   "source": [
    "# Collect the data\n",
    "## Get the name of the 4 fields we have to select"
   ]
  },
  {
   "cell_type": "code",
   "execution_count": 3,
   "metadata": {
    "collapsed": false
   },
   "outputs": [
    {
     "data": {
      "text/plain": [
       "['ww_x_UNITE_ACAD',\n",
       " 'ww_x_PERIODE_ACAD',\n",
       " 'ww_x_PERIODE_PEDAGO',\n",
       " 'ww_x_HIVERETE']"
      ]
     },
     "execution_count": 3,
     "metadata": {},
     "output_type": "execute_result"
    }
   ],
   "source": [
    "select = soupe.find_all('select')\n",
    "select_name = [s.attrs['name'] for s in select]\n",
    "select_name\n"
   ]
  },
  {
   "cell_type": "markdown",
   "metadata": {},
   "source": [
    "## Get the select field correspondind to the 4 names found before"
   ]
  },
  {
   "cell_type": "code",
   "execution_count": 4,
   "metadata": {
    "collapsed": false
   },
   "outputs": [],
   "source": [
    "select_field = [soupe.find('select',{'name': name}) for name in select_name]\n"
   ]
  },
  {
   "cell_type": "markdown",
   "metadata": {},
   "source": [
    "## Get the value corresponding to the \"Informatique\""
   ]
  },
  {
   "cell_type": "code",
   "execution_count": 5,
   "metadata": {
    "collapsed": false
   },
   "outputs": [
    {
     "data": {
      "text/plain": [
       "{'249847': 'Informatique'}"
      ]
     },
     "execution_count": 5,
     "metadata": {},
     "output_type": "execute_result"
    }
   ],
   "source": [
    "option_unite_acad = select_field[0].find_all('option')\n",
    "#option_unite_acad[[opt.text == 'Informatique' for opt in option_unite_acad]]\n",
    "option_unite_acad\n",
    "unite_acad ={opt['value']: opt.text for opt in option_unite_acad if opt.text == 'Informatique'}\n",
    " \n",
    "unite_acad       "
   ]
  },
  {
   "cell_type": "markdown",
   "metadata": {},
   "source": [
    "## Get all the values of the academic period field\n",
    "In the second select_Field, in the option tag, we take all value execept the one equal to null\n",
    "\n",
    "We only keep the period that are bigger than 2007 (in case there were older periods)"
   ]
  },
  {
   "cell_type": "code",
   "execution_count": 6,
   "metadata": {
    "collapsed": false
   },
   "outputs": [
    {
     "data": {
      "text/plain": [
       "{'123455150': '2011-2012',\n",
       " '123456101': '2012-2013',\n",
       " '213637754': '2013-2014',\n",
       " '213637922': '2014-2015',\n",
       " '213638028': '2015-2016',\n",
       " '355925344': '2016-2017',\n",
       " '39486325': '2010-2011',\n",
       " '978181': '2007-2008',\n",
       " '978187': '2008-2009',\n",
       " '978195': '2009-2010'}"
      ]
     },
     "execution_count": 6,
     "metadata": {},
     "output_type": "execute_result"
    }
   ],
   "source": [
    "option = select_field[1].find_all('option')\n",
    "period_acad = {opt['value']: opt.text for opt in option if opt['value'] != 'null' and int(opt.text.split('-')[0]) >= 2007}\n",
    "period_acad"
   ]
  },
  {
   "cell_type": "markdown",
   "metadata": {},
   "source": [
    "## Get all the values of the pedagogic period field correspoding to the bachelor semester\n",
    "\n",
    "in the 3rd select_field, we take all value that contains 'Bachelor' in the label\n",
    "\n",
    "Since we need to find the first and last record of a student, we only consider the 1st, 5th and 6th semester. \n",
    "\n",
    "It is not possible to finish his bachelor during the 2, 3 or 4 semester but it is possible to finish during the 5th semester if we miss some credits during our last year and we only need one semester to finish\n"
   ]
  },
  {
   "cell_type": "code",
   "execution_count": 7,
   "metadata": {
    "collapsed": false
   },
   "outputs": [
    {
     "data": {
      "text/plain": [
       "{'2226768': 'Bachelor semestre 5b',\n",
       " '2226785': 'Bachelor semestre 6b',\n",
       " '249108': 'Bachelor semestre 1',\n",
       " '942120': 'Bachelor semestre 5',\n",
       " '942175': 'Bachelor semestre 6'}"
      ]
     },
     "execution_count": 7,
     "metadata": {},
     "output_type": "execute_result"
    }
   ],
   "source": [
    "option = select_field[2].find_all('option')\n",
    "\n",
    "period_pedago = {opt['value']: opt.text for opt in option if 'Bachelor' in opt.text and ('1' in opt.text or '5' in opt.text or '6' in opt.text) }\n",
    "period_pedago"
   ]
  },
  {
   "cell_type": "code",
   "execution_count": 8,
   "metadata": {
    "collapsed": false
   },
   "outputs": [
    {
     "data": {
      "text/plain": [
       "{'2936286': \"Semestre d'automne\", '2936295': 'Semestre de printemps'}"
      ]
     },
     "execution_count": 8,
     "metadata": {},
     "output_type": "execute_result"
    }
   ],
   "source": [
    "option = select_field[3].find_all('option')\n",
    "hiverEte = {opt['value']: opt.text for opt in option if opt['value'] != 'null'}\n",
    "hiverEte"
   ]
  },
  {
   "cell_type": "markdown",
   "metadata": {},
   "source": [
    "## Collect the data"
   ]
  },
  {
   "cell_type": "markdown",
   "metadata": {},
   "source": [
    "Create a function that will parse one request and return a dataFrame"
   ]
  },
  {
   "cell_type": "code",
   "execution_count": 9,
   "metadata": {
    "collapsed": false
   },
   "outputs": [],
   "source": [
    "def parseRequest(u_a, p_a, p_p, h_e):\n",
    "\n",
    "    #Send request\n",
    "    url = 'http://isa.epfl.ch/imoniteur_ISAP/!GEDPUBLICREPORTS.html?ww_x_GPS=-1&ww_i_reportModel=133685247&ww_i_reportModelXsl=133685270&ww_x_UNITE_ACAD='+u_a[0]+'&ww_x_PERIODE_ACAD='+p_a[0]+'&ww_x_PERIODE_PEDAGO='+p_p[0]+'&ww_x_HIVERETE='+ h_e\n",
    "    r = requests.get(url)\n",
    "    soupe = BeautifulSoup(r.text, 'html.parser')\n",
    "    \n",
    "    #get the header , we also replace the space by '_' (easier to use the dataframe later)  \n",
    "    th_tag = soupe.find_all('th')\n",
    "    th = [t.text.replace(' ', '_') for t in th_tag]\n",
    "    #remove the first th that correspond to the title of the table\n",
    "    th = th[1:]\n",
    "\n",
    "    \n",
    "    #save the size of the header\n",
    "    header_size = len(th)\n",
    "    #add new information (new columns): year_start, year_stop, semester number\n",
    "    th = np.append(th, ['Year_start', 'Year_stop', 'Semester'])\n",
    "    \n",
    "    #Find all the 'tr' tag\n",
    "    tr_tag = soupe.find_all('tr')\n",
    "    #drop the 2 first tag that correspond to the title and the headers of the table\n",
    "    tr_tag = tr_tag[2:]\n",
    "    \n",
    "    #Temporary dictionary that will collect all the entry of the dataframe\n",
    "    data = []\n",
    "    \n",
    "    #Read the request line by line and fill the dataframe\n",
    "    for tr in tr_tag:\n",
    "        #create the new entry\n",
    "        row = [r.text.replace('\\xa0', ' ')  for r in tr]\n",
    "        #one row contains 12 elements but the header has only 11-> drop the last one because it is always empty\n",
    "        row = row[:header_size]\n",
    "\n",
    "        ##add the  new information to the row\n",
    "        #split the academic period\n",
    "        year = p_a[1].split('-')\n",
    "        #find the semester\n",
    "        semester = p_p[1].split()[2]\n",
    "        newCol = [int(year[0]), int(year[1]), semester]\n",
    "\n",
    "        #concat the row with the new info\n",
    "        row += newCol\n",
    "        data.append(row)\n",
    "\n",
    "    df = pd.DataFrame(data, columns= th)\n",
    "    return df"
   ]
  },
  {
   "cell_type": "markdown",
   "metadata": {},
   "source": [
    "We iterate over all the parameters. We decided to skip the 'Type de semestre' (HIVERETE) since it is a redundant information. An odd semester is always in Autumn and an even one is always in Spring"
   ]
  },
  {
   "cell_type": "code",
   "execution_count": 10,
   "metadata": {
    "collapsed": false,
    "scrolled": true
   },
   "outputs": [
    {
     "name": "stdout",
     "output_type": "stream",
     "text": [
      "Request for:  Informatique 2014-2015 Bachelor semestre 5b\n",
      "Request for:  Informatique 2014-2015 Bachelor semestre 6\n",
      "Request for:  Informatique 2014-2015 Bachelor semestre 6b\n",
      "Request for:  Informatique 2014-2015 Bachelor semestre 1\n",
      "Request for:  Informatique 2014-2015 Bachelor semestre 5\n",
      "Request for:  Informatique 2008-2009 Bachelor semestre 5b\n",
      "Request for:  Informatique 2008-2009 Bachelor semestre 6\n",
      "Request for:  Informatique 2008-2009 Bachelor semestre 6b\n",
      "Request for:  Informatique 2008-2009 Bachelor semestre 1\n",
      "Request for:  Informatique 2008-2009 Bachelor semestre 5\n",
      "Request for:  Informatique 2015-2016 Bachelor semestre 5b\n",
      "Request for:  Informatique 2015-2016 Bachelor semestre 6\n",
      "Request for:  Informatique 2015-2016 Bachelor semestre 6b\n",
      "Request for:  Informatique 2015-2016 Bachelor semestre 1\n",
      "Request for:  Informatique 2015-2016 Bachelor semestre 5\n",
      "Request for:  Informatique 2010-2011 Bachelor semestre 5b\n",
      "Request for:  Informatique 2010-2011 Bachelor semestre 6\n",
      "Request for:  Informatique 2010-2011 Bachelor semestre 6b\n",
      "Request for:  Informatique 2010-2011 Bachelor semestre 1\n",
      "Request for:  Informatique 2010-2011 Bachelor semestre 5\n",
      "Request for:  Informatique 2013-2014 Bachelor semestre 5b\n",
      "Request for:  Informatique 2013-2014 Bachelor semestre 6\n",
      "Request for:  Informatique 2013-2014 Bachelor semestre 6b\n",
      "Request for:  Informatique 2013-2014 Bachelor semestre 1\n",
      "Request for:  Informatique 2013-2014 Bachelor semestre 5\n",
      "Request for:  Informatique 2016-2017 Bachelor semestre 5b\n",
      "Request for:  Informatique 2016-2017 Bachelor semestre 6\n",
      "Request for:  Informatique 2016-2017 Bachelor semestre 6b\n",
      "Request for:  Informatique 2016-2017 Bachelor semestre 1\n",
      "Request for:  Informatique 2016-2017 Bachelor semestre 5\n",
      "Request for:  Informatique 2007-2008 Bachelor semestre 5b\n",
      "Request for:  Informatique 2007-2008 Bachelor semestre 6\n",
      "Request for:  Informatique 2007-2008 Bachelor semestre 6b\n",
      "Request for:  Informatique 2007-2008 Bachelor semestre 1\n",
      "Request for:  Informatique 2007-2008 Bachelor semestre 5\n",
      "Request for:  Informatique 2011-2012 Bachelor semestre 5b\n",
      "Request for:  Informatique 2011-2012 Bachelor semestre 6\n",
      "Request for:  Informatique 2011-2012 Bachelor semestre 6b\n",
      "Request for:  Informatique 2011-2012 Bachelor semestre 1\n",
      "Request for:  Informatique 2011-2012 Bachelor semestre 5\n",
      "Request for:  Informatique 2009-2010 Bachelor semestre 5b\n",
      "Request for:  Informatique 2009-2010 Bachelor semestre 6\n",
      "Request for:  Informatique 2009-2010 Bachelor semestre 6b\n",
      "Request for:  Informatique 2009-2010 Bachelor semestre 1\n",
      "Request for:  Informatique 2009-2010 Bachelor semestre 5\n",
      "Request for:  Informatique 2012-2013 Bachelor semestre 5b\n",
      "Request for:  Informatique 2012-2013 Bachelor semestre 6\n",
      "Request for:  Informatique 2012-2013 Bachelor semestre 6b\n",
      "Request for:  Informatique 2012-2013 Bachelor semestre 1\n",
      "Request for:  Informatique 2012-2013 Bachelor semestre 5\n"
     ]
    },
    {
     "data": {
      "text/html": [
       "<div>\n",
       "<table border=\"1\" class=\"dataframe\">\n",
       "  <thead>\n",
       "    <tr style=\"text-align: right;\">\n",
       "      <th></th>\n",
       "      <th>Civilité</th>\n",
       "      <th>Ecole_Echange</th>\n",
       "      <th>Filière_opt.</th>\n",
       "      <th>Mineur</th>\n",
       "      <th>No_Sciper</th>\n",
       "      <th>Nom_Prénom</th>\n",
       "      <th>Orientation_Bachelor</th>\n",
       "      <th>Orientation_Master</th>\n",
       "      <th>Semester</th>\n",
       "      <th>Spécialisation</th>\n",
       "      <th>Statut</th>\n",
       "      <th>Type_Echange</th>\n",
       "      <th>Year_start</th>\n",
       "      <th>Year_stop</th>\n",
       "    </tr>\n",
       "  </thead>\n",
       "  <tbody>\n",
       "    <tr>\n",
       "      <th>0</th>\n",
       "      <td>Madame</td>\n",
       "      <td>University of Bristol</td>\n",
       "      <td></td>\n",
       "      <td></td>\n",
       "      <td>225654</td>\n",
       "      <td>Aeby Prisca</td>\n",
       "      <td></td>\n",
       "      <td></td>\n",
       "      <td>6</td>\n",
       "      <td></td>\n",
       "      <td>Congé</td>\n",
       "      <td>Erasmus</td>\n",
       "      <td>2014.0</td>\n",
       "      <td>2015.0</td>\n",
       "    </tr>\n",
       "    <tr>\n",
       "      <th>1</th>\n",
       "      <td>Monsieur</td>\n",
       "      <td></td>\n",
       "      <td></td>\n",
       "      <td></td>\n",
       "      <td>202293</td>\n",
       "      <td>Aiulfi Loris Sandro</td>\n",
       "      <td></td>\n",
       "      <td></td>\n",
       "      <td>6</td>\n",
       "      <td></td>\n",
       "      <td>Présent</td>\n",
       "      <td></td>\n",
       "      <td>2014.0</td>\n",
       "      <td>2015.0</td>\n",
       "    </tr>\n",
       "    <tr>\n",
       "      <th>2</th>\n",
       "      <td>Monsieur</td>\n",
       "      <td></td>\n",
       "      <td></td>\n",
       "      <td></td>\n",
       "      <td>215576</td>\n",
       "      <td>Alonso Seisdedos Florian</td>\n",
       "      <td></td>\n",
       "      <td></td>\n",
       "      <td>6</td>\n",
       "      <td></td>\n",
       "      <td>Présent</td>\n",
       "      <td></td>\n",
       "      <td>2014.0</td>\n",
       "      <td>2015.0</td>\n",
       "    </tr>\n",
       "    <tr>\n",
       "      <th>3</th>\n",
       "      <td>Monsieur</td>\n",
       "      <td></td>\n",
       "      <td></td>\n",
       "      <td></td>\n",
       "      <td>213618</td>\n",
       "      <td>Amorim Afonso Caldeira Da Silva Pedro Maria</td>\n",
       "      <td></td>\n",
       "      <td></td>\n",
       "      <td>6</td>\n",
       "      <td></td>\n",
       "      <td>Présent</td>\n",
       "      <td></td>\n",
       "      <td>2014.0</td>\n",
       "      <td>2015.0</td>\n",
       "    </tr>\n",
       "    <tr>\n",
       "      <th>4</th>\n",
       "      <td>Monsieur</td>\n",
       "      <td></td>\n",
       "      <td></td>\n",
       "      <td></td>\n",
       "      <td>215623</td>\n",
       "      <td>Andreina Sébastien Laurent</td>\n",
       "      <td></td>\n",
       "      <td></td>\n",
       "      <td>6</td>\n",
       "      <td></td>\n",
       "      <td>Présent</td>\n",
       "      <td></td>\n",
       "      <td>2014.0</td>\n",
       "      <td>2015.0</td>\n",
       "    </tr>\n",
       "    <tr>\n",
       "      <th>5</th>\n",
       "      <td>Monsieur</td>\n",
       "      <td></td>\n",
       "      <td></td>\n",
       "      <td></td>\n",
       "      <td>212464</td>\n",
       "      <td>Angerand Grégoire Georges Jacques</td>\n",
       "      <td></td>\n",
       "      <td></td>\n",
       "      <td>6</td>\n",
       "      <td></td>\n",
       "      <td>Présent</td>\n",
       "      <td></td>\n",
       "      <td>2014.0</td>\n",
       "      <td>2015.0</td>\n",
       "    </tr>\n",
       "    <tr>\n",
       "      <th>6</th>\n",
       "      <td>Monsieur</td>\n",
       "      <td>Carnegie Mellon University Pittsburgh</td>\n",
       "      <td></td>\n",
       "      <td></td>\n",
       "      <td>223410</td>\n",
       "      <td>Balle Daniel</td>\n",
       "      <td></td>\n",
       "      <td></td>\n",
       "      <td>6</td>\n",
       "      <td></td>\n",
       "      <td>Congé</td>\n",
       "      <td>Bilatéral</td>\n",
       "      <td>2014.0</td>\n",
       "      <td>2015.0</td>\n",
       "    </tr>\n",
       "    <tr>\n",
       "      <th>7</th>\n",
       "      <td>Monsieur</td>\n",
       "      <td></td>\n",
       "      <td></td>\n",
       "      <td></td>\n",
       "      <td>215625</td>\n",
       "      <td>Barthe Sidney</td>\n",
       "      <td></td>\n",
       "      <td></td>\n",
       "      <td>6</td>\n",
       "      <td></td>\n",
       "      <td>Présent</td>\n",
       "      <td></td>\n",
       "      <td>2014.0</td>\n",
       "      <td>2015.0</td>\n",
       "    </tr>\n",
       "    <tr>\n",
       "      <th>8</th>\n",
       "      <td>Monsieur</td>\n",
       "      <td></td>\n",
       "      <td></td>\n",
       "      <td></td>\n",
       "      <td>212591</td>\n",
       "      <td>Beaud Guillaume François Paul</td>\n",
       "      <td></td>\n",
       "      <td></td>\n",
       "      <td>6</td>\n",
       "      <td></td>\n",
       "      <td>Congé</td>\n",
       "      <td></td>\n",
       "      <td>2014.0</td>\n",
       "      <td>2015.0</td>\n",
       "    </tr>\n",
       "    <tr>\n",
       "      <th>9</th>\n",
       "      <td>Monsieur</td>\n",
       "      <td></td>\n",
       "      <td></td>\n",
       "      <td></td>\n",
       "      <td>226638</td>\n",
       "      <td>Beguet Romain Michel</td>\n",
       "      <td></td>\n",
       "      <td></td>\n",
       "      <td>6</td>\n",
       "      <td></td>\n",
       "      <td>Présent</td>\n",
       "      <td></td>\n",
       "      <td>2014.0</td>\n",
       "      <td>2015.0</td>\n",
       "    </tr>\n",
       "    <tr>\n",
       "      <th>10</th>\n",
       "      <td>Monsieur</td>\n",
       "      <td>Royal Institute of Technology, (KTH) Stockholm</td>\n",
       "      <td></td>\n",
       "      <td></td>\n",
       "      <td>226703</td>\n",
       "      <td>Bertrand Christophe</td>\n",
       "      <td></td>\n",
       "      <td></td>\n",
       "      <td>6</td>\n",
       "      <td></td>\n",
       "      <td>Congé</td>\n",
       "      <td>Erasmus</td>\n",
       "      <td>2014.0</td>\n",
       "      <td>2015.0</td>\n",
       "    </tr>\n",
       "    <tr>\n",
       "      <th>11</th>\n",
       "      <td>Monsieur</td>\n",
       "      <td>Chalmers University of Technology, Göteborg</td>\n",
       "      <td></td>\n",
       "      <td></td>\n",
       "      <td>202704</td>\n",
       "      <td>Billardon Baptiste Olivier Jacques</td>\n",
       "      <td></td>\n",
       "      <td></td>\n",
       "      <td>6</td>\n",
       "      <td></td>\n",
       "      <td>Congé</td>\n",
       "      <td>Erasmus</td>\n",
       "      <td>2014.0</td>\n",
       "      <td>2015.0</td>\n",
       "    </tr>\n",
       "    <tr>\n",
       "      <th>12</th>\n",
       "      <td>Monsieur</td>\n",
       "      <td></td>\n",
       "      <td></td>\n",
       "      <td></td>\n",
       "      <td>224627</td>\n",
       "      <td>Bloch Aurélien François Gilbert</td>\n",
       "      <td></td>\n",
       "      <td></td>\n",
       "      <td>6</td>\n",
       "      <td></td>\n",
       "      <td>Présent</td>\n",
       "      <td></td>\n",
       "      <td>2014.0</td>\n",
       "      <td>2015.0</td>\n",
       "    </tr>\n",
       "    <tr>\n",
       "      <th>13</th>\n",
       "      <td>Monsieur</td>\n",
       "      <td></td>\n",
       "      <td></td>\n",
       "      <td></td>\n",
       "      <td>223606</td>\n",
       "      <td>Bosson Gaylor</td>\n",
       "      <td></td>\n",
       "      <td></td>\n",
       "      <td>6</td>\n",
       "      <td></td>\n",
       "      <td>Présent</td>\n",
       "      <td></td>\n",
       "      <td>2014.0</td>\n",
       "      <td>2015.0</td>\n",
       "    </tr>\n",
       "    <tr>\n",
       "      <th>14</th>\n",
       "      <td>Monsieur</td>\n",
       "      <td></td>\n",
       "      <td></td>\n",
       "      <td></td>\n",
       "      <td>212480</td>\n",
       "      <td>Bouvier Ogier Quentin</td>\n",
       "      <td></td>\n",
       "      <td></td>\n",
       "      <td>6</td>\n",
       "      <td></td>\n",
       "      <td>Présent</td>\n",
       "      <td></td>\n",
       "      <td>2014.0</td>\n",
       "      <td>2015.0</td>\n",
       "    </tr>\n",
       "    <tr>\n",
       "      <th>15</th>\n",
       "      <td>Monsieur</td>\n",
       "      <td></td>\n",
       "      <td></td>\n",
       "      <td></td>\n",
       "      <td>227209</td>\n",
       "      <td>Brousse Cyriaque Gilles Guillaume</td>\n",
       "      <td></td>\n",
       "      <td></td>\n",
       "      <td>6</td>\n",
       "      <td></td>\n",
       "      <td>Présent</td>\n",
       "      <td></td>\n",
       "      <td>2014.0</td>\n",
       "      <td>2015.0</td>\n",
       "    </tr>\n",
       "    <tr>\n",
       "      <th>16</th>\n",
       "      <td>Monsieur</td>\n",
       "      <td></td>\n",
       "      <td></td>\n",
       "      <td></td>\n",
       "      <td>202973</td>\n",
       "      <td>Cartier Alexis Victor Xavier</td>\n",
       "      <td></td>\n",
       "      <td></td>\n",
       "      <td>6</td>\n",
       "      <td></td>\n",
       "      <td>Présent</td>\n",
       "      <td></td>\n",
       "      <td>2014.0</td>\n",
       "      <td>2015.0</td>\n",
       "    </tr>\n",
       "    <tr>\n",
       "      <th>17</th>\n",
       "      <td>Monsieur</td>\n",
       "      <td></td>\n",
       "      <td></td>\n",
       "      <td></td>\n",
       "      <td>217548</td>\n",
       "      <td>Cattin Johan</td>\n",
       "      <td></td>\n",
       "      <td></td>\n",
       "      <td>6</td>\n",
       "      <td></td>\n",
       "      <td>Présent</td>\n",
       "      <td></td>\n",
       "      <td>2014.0</td>\n",
       "      <td>2015.0</td>\n",
       "    </tr>\n",
       "    <tr>\n",
       "      <th>18</th>\n",
       "      <td>Monsieur</td>\n",
       "      <td>Eidgenössische Technische Hochschule Zürich</td>\n",
       "      <td></td>\n",
       "      <td></td>\n",
       "      <td>225203</td>\n",
       "      <td>Chatelain Bastien Ludovic</td>\n",
       "      <td></td>\n",
       "      <td></td>\n",
       "      <td>6</td>\n",
       "      <td></td>\n",
       "      <td>Congé</td>\n",
       "      <td>Mobilité en Suisse</td>\n",
       "      <td>2014.0</td>\n",
       "      <td>2015.0</td>\n",
       "    </tr>\n",
       "    <tr>\n",
       "      <th>19</th>\n",
       "      <td>Monsieur</td>\n",
       "      <td></td>\n",
       "      <td></td>\n",
       "      <td></td>\n",
       "      <td>225483</td>\n",
       "      <td>Cook Cedric Radboud Ernest</td>\n",
       "      <td></td>\n",
       "      <td></td>\n",
       "      <td>6</td>\n",
       "      <td></td>\n",
       "      <td>Présent</td>\n",
       "      <td></td>\n",
       "      <td>2014.0</td>\n",
       "      <td>2015.0</td>\n",
       "    </tr>\n",
       "    <tr>\n",
       "      <th>20</th>\n",
       "      <td>Monsieur</td>\n",
       "      <td></td>\n",
       "      <td></td>\n",
       "      <td></td>\n",
       "      <td>223566</td>\n",
       "      <td>Cotofrei Radu-Mihai</td>\n",
       "      <td></td>\n",
       "      <td></td>\n",
       "      <td>6</td>\n",
       "      <td></td>\n",
       "      <td>Présent</td>\n",
       "      <td></td>\n",
       "      <td>2014.0</td>\n",
       "      <td>2015.0</td>\n",
       "    </tr>\n",
       "    <tr>\n",
       "      <th>21</th>\n",
       "      <td>Monsieur</td>\n",
       "      <td>Royal Institute of Technology, (KTH) Stockholm</td>\n",
       "      <td></td>\n",
       "      <td></td>\n",
       "      <td>229467</td>\n",
       "      <td>De Vecchi Guillaume Paul Louis</td>\n",
       "      <td></td>\n",
       "      <td></td>\n",
       "      <td>6</td>\n",
       "      <td></td>\n",
       "      <td>Congé</td>\n",
       "      <td>Erasmus</td>\n",
       "      <td>2014.0</td>\n",
       "      <td>2015.0</td>\n",
       "    </tr>\n",
       "    <tr>\n",
       "      <th>22</th>\n",
       "      <td>Monsieur</td>\n",
       "      <td></td>\n",
       "      <td></td>\n",
       "      <td></td>\n",
       "      <td>224704</td>\n",
       "      <td>Débieux Vincent</td>\n",
       "      <td></td>\n",
       "      <td></td>\n",
       "      <td>6</td>\n",
       "      <td></td>\n",
       "      <td>Présent</td>\n",
       "      <td></td>\n",
       "      <td>2014.0</td>\n",
       "      <td>2015.0</td>\n",
       "    </tr>\n",
       "    <tr>\n",
       "      <th>23</th>\n",
       "      <td>Monsieur</td>\n",
       "      <td>Ecole Polytechnique de Montréal</td>\n",
       "      <td></td>\n",
       "      <td></td>\n",
       "      <td>225258</td>\n",
       "      <td>Desplaces Pierre-Antoine</td>\n",
       "      <td></td>\n",
       "      <td></td>\n",
       "      <td>6</td>\n",
       "      <td></td>\n",
       "      <td>Congé</td>\n",
       "      <td>Bilatéral</td>\n",
       "      <td>2014.0</td>\n",
       "      <td>2015.0</td>\n",
       "    </tr>\n",
       "    <tr>\n",
       "      <th>24</th>\n",
       "      <td>Monsieur</td>\n",
       "      <td></td>\n",
       "      <td></td>\n",
       "      <td></td>\n",
       "      <td>213027</td>\n",
       "      <td>Devillard Florent</td>\n",
       "      <td></td>\n",
       "      <td></td>\n",
       "      <td>6</td>\n",
       "      <td></td>\n",
       "      <td>Présent</td>\n",
       "      <td></td>\n",
       "      <td>2014.0</td>\n",
       "      <td>2015.0</td>\n",
       "    </tr>\n",
       "    <tr>\n",
       "      <th>25</th>\n",
       "      <td>Monsieur</td>\n",
       "      <td></td>\n",
       "      <td></td>\n",
       "      <td></td>\n",
       "      <td>201253</td>\n",
       "      <td>Drougard Malcom Malo</td>\n",
       "      <td></td>\n",
       "      <td></td>\n",
       "      <td>6</td>\n",
       "      <td></td>\n",
       "      <td>Congé</td>\n",
       "      <td></td>\n",
       "      <td>2014.0</td>\n",
       "      <td>2015.0</td>\n",
       "    </tr>\n",
       "    <tr>\n",
       "      <th>26</th>\n",
       "      <td>Madame</td>\n",
       "      <td></td>\n",
       "      <td></td>\n",
       "      <td></td>\n",
       "      <td>194836</td>\n",
       "      <td>Duré Laurence</td>\n",
       "      <td></td>\n",
       "      <td></td>\n",
       "      <td>6</td>\n",
       "      <td></td>\n",
       "      <td>Congé</td>\n",
       "      <td></td>\n",
       "      <td>2014.0</td>\n",
       "      <td>2015.0</td>\n",
       "    </tr>\n",
       "    <tr>\n",
       "      <th>27</th>\n",
       "      <td>Monsieur</td>\n",
       "      <td></td>\n",
       "      <td></td>\n",
       "      <td></td>\n",
       "      <td>205727</td>\n",
       "      <td>Farine Aurélien</td>\n",
       "      <td></td>\n",
       "      <td></td>\n",
       "      <td>6</td>\n",
       "      <td></td>\n",
       "      <td>Présent</td>\n",
       "      <td></td>\n",
       "      <td>2014.0</td>\n",
       "      <td>2015.0</td>\n",
       "    </tr>\n",
       "    <tr>\n",
       "      <th>28</th>\n",
       "      <td>Monsieur</td>\n",
       "      <td></td>\n",
       "      <td></td>\n",
       "      <td></td>\n",
       "      <td>226647</td>\n",
       "      <td>Favre Léonard Michel</td>\n",
       "      <td></td>\n",
       "      <td></td>\n",
       "      <td>6</td>\n",
       "      <td></td>\n",
       "      <td>Présent</td>\n",
       "      <td></td>\n",
       "      <td>2014.0</td>\n",
       "      <td>2015.0</td>\n",
       "    </tr>\n",
       "    <tr>\n",
       "      <th>29</th>\n",
       "      <td>Monsieur</td>\n",
       "      <td>Johns Hopkins University, Baltimore</td>\n",
       "      <td></td>\n",
       "      <td></td>\n",
       "      <td>216451</td>\n",
       "      <td>Fiszel Ruben Leo</td>\n",
       "      <td></td>\n",
       "      <td></td>\n",
       "      <td>6</td>\n",
       "      <td></td>\n",
       "      <td>Congé</td>\n",
       "      <td>Bilatéral</td>\n",
       "      <td>2014.0</td>\n",
       "      <td>2015.0</td>\n",
       "    </tr>\n",
       "    <tr>\n",
       "      <th>...</th>\n",
       "      <td>...</td>\n",
       "      <td>...</td>\n",
       "      <td>...</td>\n",
       "      <td>...</td>\n",
       "      <td>...</td>\n",
       "      <td>...</td>\n",
       "      <td>...</td>\n",
       "      <td>...</td>\n",
       "      <td>...</td>\n",
       "      <td>...</td>\n",
       "      <td>...</td>\n",
       "      <td>...</td>\n",
       "      <td>...</td>\n",
       "      <td>...</td>\n",
       "    </tr>\n",
       "    <tr>\n",
       "      <th>3244</th>\n",
       "      <td>Monsieur</td>\n",
       "      <td></td>\n",
       "      <td></td>\n",
       "      <td></td>\n",
       "      <td>196118</td>\n",
       "      <td>Ouwehand Frédéric Jan</td>\n",
       "      <td></td>\n",
       "      <td></td>\n",
       "      <td>5</td>\n",
       "      <td></td>\n",
       "      <td>Présent</td>\n",
       "      <td></td>\n",
       "      <td>2012.0</td>\n",
       "      <td>2013.0</td>\n",
       "    </tr>\n",
       "    <tr>\n",
       "      <th>3245</th>\n",
       "      <td>Monsieur</td>\n",
       "      <td></td>\n",
       "      <td></td>\n",
       "      <td></td>\n",
       "      <td>194977</td>\n",
       "      <td>Pagand Jordane</td>\n",
       "      <td></td>\n",
       "      <td></td>\n",
       "      <td>5</td>\n",
       "      <td></td>\n",
       "      <td>Présent</td>\n",
       "      <td></td>\n",
       "      <td>2012.0</td>\n",
       "      <td>2013.0</td>\n",
       "    </tr>\n",
       "    <tr>\n",
       "      <th>3246</th>\n",
       "      <td>Monsieur</td>\n",
       "      <td></td>\n",
       "      <td></td>\n",
       "      <td></td>\n",
       "      <td>196696</td>\n",
       "      <td>Pellet Marc</td>\n",
       "      <td></td>\n",
       "      <td></td>\n",
       "      <td>5</td>\n",
       "      <td></td>\n",
       "      <td>Présent</td>\n",
       "      <td></td>\n",
       "      <td>2012.0</td>\n",
       "      <td>2013.0</td>\n",
       "    </tr>\n",
       "    <tr>\n",
       "      <th>3247</th>\n",
       "      <td>Monsieur</td>\n",
       "      <td></td>\n",
       "      <td></td>\n",
       "      <td></td>\n",
       "      <td>207028</td>\n",
       "      <td>Pittet Valérian Thibault</td>\n",
       "      <td></td>\n",
       "      <td></td>\n",
       "      <td>5</td>\n",
       "      <td></td>\n",
       "      <td>Présent</td>\n",
       "      <td></td>\n",
       "      <td>2012.0</td>\n",
       "      <td>2013.0</td>\n",
       "    </tr>\n",
       "    <tr>\n",
       "      <th>3248</th>\n",
       "      <td>Monsieur</td>\n",
       "      <td></td>\n",
       "      <td></td>\n",
       "      <td></td>\n",
       "      <td>195290</td>\n",
       "      <td>Prakash Aman</td>\n",
       "      <td></td>\n",
       "      <td></td>\n",
       "      <td>5</td>\n",
       "      <td></td>\n",
       "      <td>Présent</td>\n",
       "      <td></td>\n",
       "      <td>2012.0</td>\n",
       "      <td>2013.0</td>\n",
       "    </tr>\n",
       "    <tr>\n",
       "      <th>3249</th>\n",
       "      <td>Monsieur</td>\n",
       "      <td></td>\n",
       "      <td></td>\n",
       "      <td></td>\n",
       "      <td>194171</td>\n",
       "      <td>Quarta Jonny</td>\n",
       "      <td></td>\n",
       "      <td></td>\n",
       "      <td>5</td>\n",
       "      <td></td>\n",
       "      <td>Présent</td>\n",
       "      <td></td>\n",
       "      <td>2012.0</td>\n",
       "      <td>2013.0</td>\n",
       "    </tr>\n",
       "    <tr>\n",
       "      <th>3250</th>\n",
       "      <td>Monsieur</td>\n",
       "      <td></td>\n",
       "      <td></td>\n",
       "      <td></td>\n",
       "      <td>205804</td>\n",
       "      <td>Reber Sven</td>\n",
       "      <td></td>\n",
       "      <td></td>\n",
       "      <td>5</td>\n",
       "      <td></td>\n",
       "      <td>Présent</td>\n",
       "      <td></td>\n",
       "      <td>2012.0</td>\n",
       "      <td>2013.0</td>\n",
       "    </tr>\n",
       "    <tr>\n",
       "      <th>3251</th>\n",
       "      <td>Monsieur</td>\n",
       "      <td></td>\n",
       "      <td></td>\n",
       "      <td></td>\n",
       "      <td>192687</td>\n",
       "      <td>Reis Rui</td>\n",
       "      <td></td>\n",
       "      <td></td>\n",
       "      <td>5</td>\n",
       "      <td></td>\n",
       "      <td>Présent</td>\n",
       "      <td></td>\n",
       "      <td>2012.0</td>\n",
       "      <td>2013.0</td>\n",
       "    </tr>\n",
       "    <tr>\n",
       "      <th>3252</th>\n",
       "      <td>Monsieur</td>\n",
       "      <td></td>\n",
       "      <td></td>\n",
       "      <td></td>\n",
       "      <td>205814</td>\n",
       "      <td>Rensch Colla Davóg Ross</td>\n",
       "      <td></td>\n",
       "      <td></td>\n",
       "      <td>5</td>\n",
       "      <td></td>\n",
       "      <td>Présent</td>\n",
       "      <td></td>\n",
       "      <td>2012.0</td>\n",
       "      <td>2013.0</td>\n",
       "    </tr>\n",
       "    <tr>\n",
       "      <th>3253</th>\n",
       "      <td>Monsieur</td>\n",
       "      <td></td>\n",
       "      <td></td>\n",
       "      <td></td>\n",
       "      <td>195950</td>\n",
       "      <td>Rieder Jeremy</td>\n",
       "      <td></td>\n",
       "      <td></td>\n",
       "      <td>5</td>\n",
       "      <td></td>\n",
       "      <td>Présent</td>\n",
       "      <td></td>\n",
       "      <td>2012.0</td>\n",
       "      <td>2013.0</td>\n",
       "    </tr>\n",
       "    <tr>\n",
       "      <th>3254</th>\n",
       "      <td>Monsieur</td>\n",
       "      <td></td>\n",
       "      <td></td>\n",
       "      <td></td>\n",
       "      <td>186870</td>\n",
       "      <td>Rolland Cédric</td>\n",
       "      <td></td>\n",
       "      <td></td>\n",
       "      <td>5</td>\n",
       "      <td></td>\n",
       "      <td>Présent</td>\n",
       "      <td></td>\n",
       "      <td>2012.0</td>\n",
       "      <td>2013.0</td>\n",
       "    </tr>\n",
       "    <tr>\n",
       "      <th>3255</th>\n",
       "      <td>Madame</td>\n",
       "      <td></td>\n",
       "      <td></td>\n",
       "      <td></td>\n",
       "      <td>184956</td>\n",
       "      <td>Rollier Orianne</td>\n",
       "      <td></td>\n",
       "      <td></td>\n",
       "      <td>5</td>\n",
       "      <td></td>\n",
       "      <td>Présent</td>\n",
       "      <td></td>\n",
       "      <td>2012.0</td>\n",
       "      <td>2013.0</td>\n",
       "    </tr>\n",
       "    <tr>\n",
       "      <th>3256</th>\n",
       "      <td>Monsieur</td>\n",
       "      <td></td>\n",
       "      <td></td>\n",
       "      <td></td>\n",
       "      <td>192674</td>\n",
       "      <td>Rossier Joël</td>\n",
       "      <td></td>\n",
       "      <td></td>\n",
       "      <td>5</td>\n",
       "      <td></td>\n",
       "      <td>Présent</td>\n",
       "      <td></td>\n",
       "      <td>2012.0</td>\n",
       "      <td>2013.0</td>\n",
       "    </tr>\n",
       "    <tr>\n",
       "      <th>3257</th>\n",
       "      <td>Monsieur</td>\n",
       "      <td></td>\n",
       "      <td></td>\n",
       "      <td></td>\n",
       "      <td>192304</td>\n",
       "      <td>Sandoz David</td>\n",
       "      <td></td>\n",
       "      <td></td>\n",
       "      <td>5</td>\n",
       "      <td></td>\n",
       "      <td>Présent</td>\n",
       "      <td></td>\n",
       "      <td>2012.0</td>\n",
       "      <td>2013.0</td>\n",
       "    </tr>\n",
       "    <tr>\n",
       "      <th>3258</th>\n",
       "      <td>Monsieur</td>\n",
       "      <td></td>\n",
       "      <td></td>\n",
       "      <td></td>\n",
       "      <td>195899</td>\n",
       "      <td>Scarnera Gianni</td>\n",
       "      <td></td>\n",
       "      <td></td>\n",
       "      <td>5</td>\n",
       "      <td></td>\n",
       "      <td>Présent</td>\n",
       "      <td></td>\n",
       "      <td>2012.0</td>\n",
       "      <td>2013.0</td>\n",
       "    </tr>\n",
       "    <tr>\n",
       "      <th>3259</th>\n",
       "      <td>Monsieur</td>\n",
       "      <td></td>\n",
       "      <td></td>\n",
       "      <td></td>\n",
       "      <td>195675</td>\n",
       "      <td>Schegg Elias</td>\n",
       "      <td></td>\n",
       "      <td></td>\n",
       "      <td>5</td>\n",
       "      <td></td>\n",
       "      <td>Présent</td>\n",
       "      <td></td>\n",
       "      <td>2012.0</td>\n",
       "      <td>2013.0</td>\n",
       "    </tr>\n",
       "    <tr>\n",
       "      <th>3260</th>\n",
       "      <td>Monsieur</td>\n",
       "      <td></td>\n",
       "      <td></td>\n",
       "      <td></td>\n",
       "      <td>202373</td>\n",
       "      <td>Schmutz Michaël Steven</td>\n",
       "      <td></td>\n",
       "      <td></td>\n",
       "      <td>5</td>\n",
       "      <td></td>\n",
       "      <td>Présent</td>\n",
       "      <td></td>\n",
       "      <td>2012.0</td>\n",
       "      <td>2013.0</td>\n",
       "    </tr>\n",
       "    <tr>\n",
       "      <th>3261</th>\n",
       "      <td>Monsieur</td>\n",
       "      <td></td>\n",
       "      <td></td>\n",
       "      <td></td>\n",
       "      <td>195446</td>\n",
       "      <td>Simond Florian</td>\n",
       "      <td></td>\n",
       "      <td></td>\n",
       "      <td>5</td>\n",
       "      <td></td>\n",
       "      <td>Présent</td>\n",
       "      <td></td>\n",
       "      <td>2012.0</td>\n",
       "      <td>2013.0</td>\n",
       "    </tr>\n",
       "    <tr>\n",
       "      <th>3262</th>\n",
       "      <td>Madame</td>\n",
       "      <td></td>\n",
       "      <td></td>\n",
       "      <td></td>\n",
       "      <td>184373</td>\n",
       "      <td>Sisto Maria</td>\n",
       "      <td></td>\n",
       "      <td></td>\n",
       "      <td>5</td>\n",
       "      <td></td>\n",
       "      <td>Présent</td>\n",
       "      <td></td>\n",
       "      <td>2012.0</td>\n",
       "      <td>2013.0</td>\n",
       "    </tr>\n",
       "    <tr>\n",
       "      <th>3263</th>\n",
       "      <td>Monsieur</td>\n",
       "      <td></td>\n",
       "      <td></td>\n",
       "      <td></td>\n",
       "      <td>193832</td>\n",
       "      <td>Szabo Kristof Tamas</td>\n",
       "      <td></td>\n",
       "      <td></td>\n",
       "      <td>5</td>\n",
       "      <td></td>\n",
       "      <td>Présent</td>\n",
       "      <td></td>\n",
       "      <td>2012.0</td>\n",
       "      <td>2013.0</td>\n",
       "    </tr>\n",
       "    <tr>\n",
       "      <th>3264</th>\n",
       "      <td>Monsieur</td>\n",
       "      <td></td>\n",
       "      <td></td>\n",
       "      <td></td>\n",
       "      <td>194603</td>\n",
       "      <td>Toumi Aymen</td>\n",
       "      <td></td>\n",
       "      <td></td>\n",
       "      <td>5</td>\n",
       "      <td></td>\n",
       "      <td>Présent</td>\n",
       "      <td></td>\n",
       "      <td>2012.0</td>\n",
       "      <td>2013.0</td>\n",
       "    </tr>\n",
       "    <tr>\n",
       "      <th>3265</th>\n",
       "      <td>Monsieur</td>\n",
       "      <td></td>\n",
       "      <td></td>\n",
       "      <td></td>\n",
       "      <td>202508</td>\n",
       "      <td>Vessaz Florian</td>\n",
       "      <td></td>\n",
       "      <td></td>\n",
       "      <td>5</td>\n",
       "      <td></td>\n",
       "      <td>Présent</td>\n",
       "      <td></td>\n",
       "      <td>2012.0</td>\n",
       "      <td>2013.0</td>\n",
       "    </tr>\n",
       "    <tr>\n",
       "      <th>3266</th>\n",
       "      <td>Monsieur</td>\n",
       "      <td></td>\n",
       "      <td></td>\n",
       "      <td></td>\n",
       "      <td>201229</td>\n",
       "      <td>Villa David</td>\n",
       "      <td></td>\n",
       "      <td></td>\n",
       "      <td>5</td>\n",
       "      <td></td>\n",
       "      <td>Présent</td>\n",
       "      <td></td>\n",
       "      <td>2012.0</td>\n",
       "      <td>2013.0</td>\n",
       "    </tr>\n",
       "    <tr>\n",
       "      <th>3267</th>\n",
       "      <td>Monsieur</td>\n",
       "      <td></td>\n",
       "      <td></td>\n",
       "      <td></td>\n",
       "      <td>175410</td>\n",
       "      <td>Vion Roger</td>\n",
       "      <td></td>\n",
       "      <td></td>\n",
       "      <td>5</td>\n",
       "      <td></td>\n",
       "      <td>Présent</td>\n",
       "      <td></td>\n",
       "      <td>2012.0</td>\n",
       "      <td>2013.0</td>\n",
       "    </tr>\n",
       "    <tr>\n",
       "      <th>3268</th>\n",
       "      <td>Monsieur</td>\n",
       "      <td></td>\n",
       "      <td></td>\n",
       "      <td></td>\n",
       "      <td>193558</td>\n",
       "      <td>Vokatch-Boldyrev Igor</td>\n",
       "      <td></td>\n",
       "      <td></td>\n",
       "      <td>5</td>\n",
       "      <td></td>\n",
       "      <td>Présent</td>\n",
       "      <td></td>\n",
       "      <td>2012.0</td>\n",
       "      <td>2013.0</td>\n",
       "    </tr>\n",
       "    <tr>\n",
       "      <th>3269</th>\n",
       "      <td>Monsieur</td>\n",
       "      <td></td>\n",
       "      <td></td>\n",
       "      <td></td>\n",
       "      <td>198216</td>\n",
       "      <td>Von Aarburg Raphaël Richard</td>\n",
       "      <td></td>\n",
       "      <td></td>\n",
       "      <td>5</td>\n",
       "      <td></td>\n",
       "      <td>Présent</td>\n",
       "      <td></td>\n",
       "      <td>2012.0</td>\n",
       "      <td>2013.0</td>\n",
       "    </tr>\n",
       "    <tr>\n",
       "      <th>3270</th>\n",
       "      <td>Monsieur</td>\n",
       "      <td></td>\n",
       "      <td></td>\n",
       "      <td></td>\n",
       "      <td>196683</td>\n",
       "      <td>Vostriakov Alexander</td>\n",
       "      <td></td>\n",
       "      <td></td>\n",
       "      <td>5</td>\n",
       "      <td></td>\n",
       "      <td>Présent</td>\n",
       "      <td></td>\n",
       "      <td>2012.0</td>\n",
       "      <td>2013.0</td>\n",
       "    </tr>\n",
       "    <tr>\n",
       "      <th>3271</th>\n",
       "      <td>Monsieur</td>\n",
       "      <td></td>\n",
       "      <td></td>\n",
       "      <td></td>\n",
       "      <td>184863</td>\n",
       "      <td>Wenger Amos</td>\n",
       "      <td></td>\n",
       "      <td></td>\n",
       "      <td>5</td>\n",
       "      <td></td>\n",
       "      <td>Présent</td>\n",
       "      <td></td>\n",
       "      <td>2012.0</td>\n",
       "      <td>2013.0</td>\n",
       "    </tr>\n",
       "    <tr>\n",
       "      <th>3272</th>\n",
       "      <td>Monsieur</td>\n",
       "      <td></td>\n",
       "      <td></td>\n",
       "      <td></td>\n",
       "      <td>184533</td>\n",
       "      <td>Zellweger Vincent</td>\n",
       "      <td></td>\n",
       "      <td></td>\n",
       "      <td>5</td>\n",
       "      <td></td>\n",
       "      <td>Présent</td>\n",
       "      <td></td>\n",
       "      <td>2012.0</td>\n",
       "      <td>2013.0</td>\n",
       "    </tr>\n",
       "    <tr>\n",
       "      <th>3273</th>\n",
       "      <td>Monsieur</td>\n",
       "      <td>University of Waterloo</td>\n",
       "      <td></td>\n",
       "      <td></td>\n",
       "      <td>203457</td>\n",
       "      <td>Zommerfelds Christian Georges</td>\n",
       "      <td></td>\n",
       "      <td></td>\n",
       "      <td>5</td>\n",
       "      <td></td>\n",
       "      <td>Congé</td>\n",
       "      <td>Bilatéral</td>\n",
       "      <td>2012.0</td>\n",
       "      <td>2013.0</td>\n",
       "    </tr>\n",
       "  </tbody>\n",
       "</table>\n",
       "<p>3274 rows × 14 columns</p>\n",
       "</div>"
      ],
      "text/plain": [
       "      Civilité                                   Ecole_Echange Filière_opt.  \\\n",
       "0       Madame                           University of Bristol                \n",
       "1     Monsieur                                                                \n",
       "2     Monsieur                                                                \n",
       "3     Monsieur                                                                \n",
       "4     Monsieur                                                                \n",
       "5     Monsieur                                                                \n",
       "6     Monsieur           Carnegie Mellon University Pittsburgh                \n",
       "7     Monsieur                                                                \n",
       "8     Monsieur                                                                \n",
       "9     Monsieur                                                                \n",
       "10    Monsieur  Royal Institute of Technology, (KTH) Stockholm                \n",
       "11    Monsieur     Chalmers University of Technology, Göteborg                \n",
       "12    Monsieur                                                                \n",
       "13    Monsieur                                                                \n",
       "14    Monsieur                                                                \n",
       "15    Monsieur                                                                \n",
       "16    Monsieur                                                                \n",
       "17    Monsieur                                                                \n",
       "18    Monsieur     Eidgenössische Technische Hochschule Zürich                \n",
       "19    Monsieur                                                                \n",
       "20    Monsieur                                                                \n",
       "21    Monsieur  Royal Institute of Technology, (KTH) Stockholm                \n",
       "22    Monsieur                                                                \n",
       "23    Monsieur                 Ecole Polytechnique de Montréal                \n",
       "24    Monsieur                                                                \n",
       "25    Monsieur                                                                \n",
       "26      Madame                                                                \n",
       "27    Monsieur                                                                \n",
       "28    Monsieur                                                                \n",
       "29    Monsieur             Johns Hopkins University, Baltimore                \n",
       "...        ...                                             ...          ...   \n",
       "3244  Monsieur                                                                \n",
       "3245  Monsieur                                                                \n",
       "3246  Monsieur                                                                \n",
       "3247  Monsieur                                                                \n",
       "3248  Monsieur                                                                \n",
       "3249  Monsieur                                                                \n",
       "3250  Monsieur                                                                \n",
       "3251  Monsieur                                                                \n",
       "3252  Monsieur                                                                \n",
       "3253  Monsieur                                                                \n",
       "3254  Monsieur                                                                \n",
       "3255    Madame                                                                \n",
       "3256  Monsieur                                                                \n",
       "3257  Monsieur                                                                \n",
       "3258  Monsieur                                                                \n",
       "3259  Monsieur                                                                \n",
       "3260  Monsieur                                                                \n",
       "3261  Monsieur                                                                \n",
       "3262    Madame                                                                \n",
       "3263  Monsieur                                                                \n",
       "3264  Monsieur                                                                \n",
       "3265  Monsieur                                                                \n",
       "3266  Monsieur                                                                \n",
       "3267  Monsieur                                                                \n",
       "3268  Monsieur                                                                \n",
       "3269  Monsieur                                                                \n",
       "3270  Monsieur                                                                \n",
       "3271  Monsieur                                                                \n",
       "3272  Monsieur                                                                \n",
       "3273  Monsieur                          University of Waterloo                \n",
       "\n",
       "     Mineur No_Sciper                                   Nom_Prénom  \\\n",
       "0              225654                                  Aeby Prisca   \n",
       "1              202293                          Aiulfi Loris Sandro   \n",
       "2              215576                     Alonso Seisdedos Florian   \n",
       "3              213618  Amorim Afonso Caldeira Da Silva Pedro Maria   \n",
       "4              215623                   Andreina Sébastien Laurent   \n",
       "5              212464            Angerand Grégoire Georges Jacques   \n",
       "6              223410                                 Balle Daniel   \n",
       "7              215625                                Barthe Sidney   \n",
       "8              212591                Beaud Guillaume François Paul   \n",
       "9              226638                         Beguet Romain Michel   \n",
       "10             226703                          Bertrand Christophe   \n",
       "11             202704           Billardon Baptiste Olivier Jacques   \n",
       "12             224627              Bloch Aurélien François Gilbert   \n",
       "13             223606                                Bosson Gaylor   \n",
       "14             212480                        Bouvier Ogier Quentin   \n",
       "15             227209            Brousse Cyriaque Gilles Guillaume   \n",
       "16             202973                 Cartier Alexis Victor Xavier   \n",
       "17             217548                                 Cattin Johan   \n",
       "18             225203                    Chatelain Bastien Ludovic   \n",
       "19             225483                   Cook Cedric Radboud Ernest   \n",
       "20             223566                          Cotofrei Radu-Mihai   \n",
       "21             229467               De Vecchi Guillaume Paul Louis   \n",
       "22             224704                              Débieux Vincent   \n",
       "23             225258                     Desplaces Pierre-Antoine   \n",
       "24             213027                            Devillard Florent   \n",
       "25             201253                         Drougard Malcom Malo   \n",
       "26             194836                                Duré Laurence   \n",
       "27             205727                              Farine Aurélien   \n",
       "28             226647                         Favre Léonard Michel   \n",
       "29             216451                             Fiszel Ruben Leo   \n",
       "...     ...       ...                                          ...   \n",
       "3244           196118                        Ouwehand Frédéric Jan   \n",
       "3245           194977                               Pagand Jordane   \n",
       "3246           196696                                  Pellet Marc   \n",
       "3247           207028                     Pittet Valérian Thibault   \n",
       "3248           195290                                 Prakash Aman   \n",
       "3249           194171                                 Quarta Jonny   \n",
       "3250           205804                                   Reber Sven   \n",
       "3251           192687                                     Reis Rui   \n",
       "3252           205814                      Rensch Colla Davóg Ross   \n",
       "3253           195950                                Rieder Jeremy   \n",
       "3254           186870                               Rolland Cédric   \n",
       "3255           184956                              Rollier Orianne   \n",
       "3256           192674                                 Rossier Joël   \n",
       "3257           192304                                 Sandoz David   \n",
       "3258           195899                              Scarnera Gianni   \n",
       "3259           195675                                 Schegg Elias   \n",
       "3260           202373                       Schmutz Michaël Steven   \n",
       "3261           195446                               Simond Florian   \n",
       "3262           184373                                  Sisto Maria   \n",
       "3263           193832                          Szabo Kristof Tamas   \n",
       "3264           194603                                  Toumi Aymen   \n",
       "3265           202508                               Vessaz Florian   \n",
       "3266           201229                                  Villa David   \n",
       "3267           175410                                   Vion Roger   \n",
       "3268           193558                        Vokatch-Boldyrev Igor   \n",
       "3269           198216                  Von Aarburg Raphaël Richard   \n",
       "3270           196683                         Vostriakov Alexander   \n",
       "3271           184863                                  Wenger Amos   \n",
       "3272           184533                            Zellweger Vincent   \n",
       "3273           203457                Zommerfelds Christian Georges   \n",
       "\n",
       "     Orientation_Bachelor Orientation_Master Semester Spécialisation   Statut  \\\n",
       "0                                                   6                   Congé   \n",
       "1                                                   6                 Présent   \n",
       "2                                                   6                 Présent   \n",
       "3                                                   6                 Présent   \n",
       "4                                                   6                 Présent   \n",
       "5                                                   6                 Présent   \n",
       "6                                                   6                   Congé   \n",
       "7                                                   6                 Présent   \n",
       "8                                                   6                   Congé   \n",
       "9                                                   6                 Présent   \n",
       "10                                                  6                   Congé   \n",
       "11                                                  6                   Congé   \n",
       "12                                                  6                 Présent   \n",
       "13                                                  6                 Présent   \n",
       "14                                                  6                 Présent   \n",
       "15                                                  6                 Présent   \n",
       "16                                                  6                 Présent   \n",
       "17                                                  6                 Présent   \n",
       "18                                                  6                   Congé   \n",
       "19                                                  6                 Présent   \n",
       "20                                                  6                 Présent   \n",
       "21                                                  6                   Congé   \n",
       "22                                                  6                 Présent   \n",
       "23                                                  6                   Congé   \n",
       "24                                                  6                 Présent   \n",
       "25                                                  6                   Congé   \n",
       "26                                                  6                   Congé   \n",
       "27                                                  6                 Présent   \n",
       "28                                                  6                 Présent   \n",
       "29                                                  6                   Congé   \n",
       "...                   ...                ...      ...            ...      ...   \n",
       "3244                                                5                 Présent   \n",
       "3245                                                5                 Présent   \n",
       "3246                                                5                 Présent   \n",
       "3247                                                5                 Présent   \n",
       "3248                                                5                 Présent   \n",
       "3249                                                5                 Présent   \n",
       "3250                                                5                 Présent   \n",
       "3251                                                5                 Présent   \n",
       "3252                                                5                 Présent   \n",
       "3253                                                5                 Présent   \n",
       "3254                                                5                 Présent   \n",
       "3255                                                5                 Présent   \n",
       "3256                                                5                 Présent   \n",
       "3257                                                5                 Présent   \n",
       "3258                                                5                 Présent   \n",
       "3259                                                5                 Présent   \n",
       "3260                                                5                 Présent   \n",
       "3261                                                5                 Présent   \n",
       "3262                                                5                 Présent   \n",
       "3263                                                5                 Présent   \n",
       "3264                                                5                 Présent   \n",
       "3265                                                5                 Présent   \n",
       "3266                                                5                 Présent   \n",
       "3267                                                5                 Présent   \n",
       "3268                                                5                 Présent   \n",
       "3269                                                5                 Présent   \n",
       "3270                                                5                 Présent   \n",
       "3271                                                5                 Présent   \n",
       "3272                                                5                 Présent   \n",
       "3273                                                5                   Congé   \n",
       "\n",
       "            Type_Echange  Year_start  Year_stop  \n",
       "0                Erasmus      2014.0     2015.0  \n",
       "1                             2014.0     2015.0  \n",
       "2                             2014.0     2015.0  \n",
       "3                             2014.0     2015.0  \n",
       "4                             2014.0     2015.0  \n",
       "5                             2014.0     2015.0  \n",
       "6              Bilatéral      2014.0     2015.0  \n",
       "7                             2014.0     2015.0  \n",
       "8                             2014.0     2015.0  \n",
       "9                             2014.0     2015.0  \n",
       "10               Erasmus      2014.0     2015.0  \n",
       "11               Erasmus      2014.0     2015.0  \n",
       "12                            2014.0     2015.0  \n",
       "13                            2014.0     2015.0  \n",
       "14                            2014.0     2015.0  \n",
       "15                            2014.0     2015.0  \n",
       "16                            2014.0     2015.0  \n",
       "17                            2014.0     2015.0  \n",
       "18    Mobilité en Suisse      2014.0     2015.0  \n",
       "19                            2014.0     2015.0  \n",
       "20                            2014.0     2015.0  \n",
       "21               Erasmus      2014.0     2015.0  \n",
       "22                            2014.0     2015.0  \n",
       "23             Bilatéral      2014.0     2015.0  \n",
       "24                            2014.0     2015.0  \n",
       "25                            2014.0     2015.0  \n",
       "26                            2014.0     2015.0  \n",
       "27                            2014.0     2015.0  \n",
       "28                            2014.0     2015.0  \n",
       "29             Bilatéral      2014.0     2015.0  \n",
       "...                  ...         ...        ...  \n",
       "3244                          2012.0     2013.0  \n",
       "3245                          2012.0     2013.0  \n",
       "3246                          2012.0     2013.0  \n",
       "3247                          2012.0     2013.0  \n",
       "3248                          2012.0     2013.0  \n",
       "3249                          2012.0     2013.0  \n",
       "3250                          2012.0     2013.0  \n",
       "3251                          2012.0     2013.0  \n",
       "3252                          2012.0     2013.0  \n",
       "3253                          2012.0     2013.0  \n",
       "3254                          2012.0     2013.0  \n",
       "3255                          2012.0     2013.0  \n",
       "3256                          2012.0     2013.0  \n",
       "3257                          2012.0     2013.0  \n",
       "3258                          2012.0     2013.0  \n",
       "3259                          2012.0     2013.0  \n",
       "3260                          2012.0     2013.0  \n",
       "3261                          2012.0     2013.0  \n",
       "3262                          2012.0     2013.0  \n",
       "3263                          2012.0     2013.0  \n",
       "3264                          2012.0     2013.0  \n",
       "3265                          2012.0     2013.0  \n",
       "3266                          2012.0     2013.0  \n",
       "3267                          2012.0     2013.0  \n",
       "3268                          2012.0     2013.0  \n",
       "3269                          2012.0     2013.0  \n",
       "3270                          2012.0     2013.0  \n",
       "3271                          2012.0     2013.0  \n",
       "3272                          2012.0     2013.0  \n",
       "3273           Bilatéral      2012.0     2013.0  \n",
       "\n",
       "[3274 rows x 14 columns]"
      ]
     },
     "execution_count": 10,
     "metadata": {},
     "output_type": "execute_result"
    }
   ],
   "source": [
    "\n",
    "\n",
    "list_df = []\n",
    "\n",
    "for u_a in unite_acad.items():\n",
    "    for p_a in period_acad.items():\n",
    "        for p_p in period_pedago.items():\n",
    "                print('Request for: ',u_a[1], p_a[1],  p_p[1])\n",
    "                list_df.append(parseRequest(u_a,p_a, p_p, 'null'))\n",
    "\n",
    "\n",
    "Student = pd.concat(list_df, ignore_index=True)\n",
    "Student                \n"
   ]
  },
  {
   "cell_type": "markdown",
   "metadata": {
    "collapsed": false
   },
   "source": [
    "# How many years it took each student to go from the first to the sixth semester\n",
    "\n",
    "As said before, here we check student that are in semester 1 (beginning) and semester 6 or 5 (in case they did the bachelor in 3.5 or 4.5 year)"
   ]
  },
  {
   "cell_type": "code",
   "execution_count": 11,
   "metadata": {
    "collapsed": false
   },
   "outputs": [
    {
     "data": {
      "text/plain": [
       "True"
      ]
     },
     "execution_count": 11,
     "metadata": {},
     "output_type": "execute_result"
    }
   ],
   "source": [
    "Student.index = Student.No_Sciper + Student.Semester.astype(str) + Student.Year_start.astype(str)\n",
    "Student.index.is_unique"
   ]
  },
  {
   "cell_type": "markdown",
   "metadata": {},
   "source": [
    "Show total number of student that made at least one semester"
   ]
  },
  {
   "cell_type": "code",
   "execution_count": 12,
   "metadata": {
    "collapsed": false
   },
   "outputs": [
    {
     "data": {
      "text/plain": [
       "1466"
      ]
     },
     "execution_count": 12,
     "metadata": {},
     "output_type": "execute_result"
    }
   ],
   "source": [
    "len(Student.No_Sciper.unique())"
   ]
  },
  {
   "cell_type": "markdown",
   "metadata": {},
   "source": [
    "## Eliminate student who don't finished their studies\n",
    "We group by sciper number (which we now is unique for each student). It return a sciper with a dataframe containing all the entries for one student\n",
    "\n",
    "\n",
    "We keep people that appear in semester 1, 5 and 6. => those are the people that graduated in informatique\n",
    "\n",
    "We drop all other people because:\n",
    "   * if they don't appear in semester 6 it means they never finished the Bachelor\n",
    "   * if they appear only in semester 5 and 6 it means that they began in another section (usually in communication system), but we can't know when they began epfl without loading the data for all sections\n",
    "   \n",
    "But just to have an idea, we keep the person who only take part to semester 5 and 6, just to see the proportion   \n"
   ]
  },
  {
   "cell_type": "code",
   "execution_count": 13,
   "metadata": {
    "collapsed": true
   },
   "outputs": [],
   "source": [
    "def computeTotalYears(df):\n",
    "    start = df.Year_start.min()\n",
    "    end = df.Year_stop.max()\n",
    "    end_semester = df[df.Year_stop == end].Semester\n",
    "    if(end_semester == '6').any():\n",
    "        return (int(end) - int(start)) \n",
    "    else: \n",
    "        return (int(end) - int(start) -0.5)\n",
    "    "
   ]
  },
  {
   "cell_type": "code",
   "execution_count": 14,
   "metadata": {
    "collapsed": false
   },
   "outputs": [],
   "source": [
    "Student_copy = Student.copy()\n",
    "Student_copy.index = Student.index\n",
    "\n",
    "\n",
    "#We init the dataframe\n",
    "#store people that complete the 3 years in informatique\n",
    "Bachelor = pd.DataFrame(columns = ['Sciper', 'Civilité', 'Years'])\n",
    "#store people that complet only the 2 last years\n",
    "Only_5_6 = pd.DataFrame(columns = ['Sciper', 'Civilité', 'Years'])\n",
    "\n",
    "#Groupe by sciper\n",
    "grouped = Student_copy.groupby(['No_Sciper'])\n",
    "\n",
    "\n",
    "\n",
    "for scip, group in grouped:\n",
    "    if((group.Semester != '1').all() and (group.Semester == '5').any() and (group.Semester == '6').any()): \n",
    "        total = computeTotalYears(group)\n",
    "        Only_5_6.ix[scip] = [scip,group.Civilité.iloc[0] , total  ]\n",
    "    elif((group.Semester == '1').any() and (group.Semester == '5').any() and (group.Semester == '6').any()):\n",
    "        total = computeTotalYears(group)\n",
    "        Bachelor.ix[scip] = [scip,group.Civilité.iloc[0] , total ]     \n"
   ]
  },
  {
   "cell_type": "code",
   "execution_count": 15,
   "metadata": {
    "collapsed": false
   },
   "outputs": [
    {
     "data": {
      "text/plain": [
       "7.0"
      ]
     },
     "execution_count": 15,
     "metadata": {},
     "output_type": "execute_result"
    }
   ],
   "source": [
    "Bachelor.Years.max()"
   ]
  },
  {
   "cell_type": "code",
   "execution_count": 16,
   "metadata": {
    "collapsed": false
   },
   "outputs": [
    {
     "data": {
      "text/plain": [
       "3.0"
      ]
     },
     "execution_count": 16,
     "metadata": {},
     "output_type": "execute_result"
    }
   ],
   "source": [
    "Bachelor.Years.min()"
   ]
  },
  {
   "cell_type": "code",
   "execution_count": 17,
   "metadata": {
    "collapsed": false
   },
   "outputs": [
    {
     "data": {
      "text/html": [
       "<div>\n",
       "<table border=\"1\" class=\"dataframe\">\n",
       "  <thead>\n",
       "    <tr style=\"text-align: right;\">\n",
       "      <th></th>\n",
       "      <th>Sciper</th>\n",
       "      <th>Civilité</th>\n",
       "      <th>Years</th>\n",
       "    </tr>\n",
       "  </thead>\n",
       "  <tbody>\n",
       "    <tr>\n",
       "      <th>147008</th>\n",
       "      <td>147008</td>\n",
       "      <td>Monsieur</td>\n",
       "      <td>3.0</td>\n",
       "    </tr>\n",
       "    <tr>\n",
       "      <th>169569</th>\n",
       "      <td>169569</td>\n",
       "      <td>Monsieur</td>\n",
       "      <td>3.0</td>\n",
       "    </tr>\n",
       "    <tr>\n",
       "      <th>169731</th>\n",
       "      <td>169731</td>\n",
       "      <td>Monsieur</td>\n",
       "      <td>4.0</td>\n",
       "    </tr>\n",
       "    <tr>\n",
       "      <th>169795</th>\n",
       "      <td>169795</td>\n",
       "      <td>Monsieur</td>\n",
       "      <td>4.5</td>\n",
       "    </tr>\n",
       "    <tr>\n",
       "      <th>171195</th>\n",
       "      <td>171195</td>\n",
       "      <td>Monsieur</td>\n",
       "      <td>3.0</td>\n",
       "    </tr>\n",
       "  </tbody>\n",
       "</table>\n",
       "</div>"
      ],
      "text/plain": [
       "        Sciper  Civilité  Years\n",
       "147008  147008  Monsieur    3.0\n",
       "169569  169569  Monsieur    3.0\n",
       "169731  169731  Monsieur    4.0\n",
       "169795  169795  Monsieur    4.5\n",
       "171195  171195  Monsieur    3.0"
      ]
     },
     "execution_count": 17,
     "metadata": {},
     "output_type": "execute_result"
    }
   ],
   "source": [
    "Bachelor.head()"
   ]
  },
  {
   "cell_type": "markdown",
   "metadata": {},
   "source": [
    "Person that didn't complete the first year in compute Science, we don't consider them since we can't know when they begin their first year"
   ]
  },
  {
   "cell_type": "code",
   "execution_count": 18,
   "metadata": {
    "collapsed": false
   },
   "outputs": [
    {
     "data": {
      "text/plain": [
       "Sciper      119\n",
       "Civilité    119\n",
       "Years       119\n",
       "dtype: int64"
      ]
     },
     "execution_count": 18,
     "metadata": {},
     "output_type": "execute_result"
    }
   ],
   "source": [
    "Only_5_6.count()"
   ]
  },
  {
   "cell_type": "markdown",
   "metadata": {},
   "source": [
    "Nomber of person that complete the bachelor in computer science"
   ]
  },
  {
   "cell_type": "code",
   "execution_count": 19,
   "metadata": {
    "collapsed": false
   },
   "outputs": [
    {
     "data": {
      "text/plain": [
       "Sciper      397\n",
       "Civilité    397\n",
       "Years       397\n",
       "dtype: int64"
      ]
     },
     "execution_count": 19,
     "metadata": {},
     "output_type": "execute_result"
    }
   ],
   "source": [
    "Bachelor.count()"
   ]
  },
  {
   "cell_type": "markdown",
   "metadata": {},
   "source": [
    "Number of person that tried at least the first years or last one"
   ]
  },
  {
   "cell_type": "code",
   "execution_count": 20,
   "metadata": {
    "collapsed": false
   },
   "outputs": [
    {
     "data": {
      "text/plain": [
       "1466"
      ]
     },
     "execution_count": 20,
     "metadata": {},
     "output_type": "execute_result"
    }
   ],
   "source": [
    "len(grouped)"
   ]
  },
  {
   "cell_type": "markdown",
   "metadata": {},
   "source": [
    "Person that tried the first year but never finished the bachelor"
   ]
  },
  {
   "cell_type": "code",
   "execution_count": 21,
   "metadata": {
    "collapsed": false
   },
   "outputs": [
    {
     "data": {
      "text/plain": [
       "950"
      ]
     },
     "execution_count": 21,
     "metadata": {},
     "output_type": "execute_result"
    }
   ],
   "source": [
    "len(grouped) - len(Bachelor) - len(Only_5_6)"
   ]
  },
  {
   "cell_type": "markdown",
   "metadata": {},
   "source": [
    "## Compute the average time (in years) to  complete the bachelor\n",
    "we choose to ouptut the result in years since it is more significant for human than month. To have the number of months we just need to multiply by 12"
   ]
  },
  {
   "cell_type": "markdown",
   "metadata": {},
   "source": [
    "### In total"
   ]
  },
  {
   "cell_type": "code",
   "execution_count": 22,
   "metadata": {
    "collapsed": false
   },
   "outputs": [
    {
     "data": {
      "text/plain": [
       "397"
      ]
     },
     "execution_count": 22,
     "metadata": {},
     "output_type": "execute_result"
    }
   ],
   "source": [
    "len(Bachelor)"
   ]
  },
  {
   "cell_type": "code",
   "execution_count": 23,
   "metadata": {
    "collapsed": false
   },
   "outputs": [
    {
     "data": {
      "text/plain": [
       "3.5604534005037785"
      ]
     },
     "execution_count": 23,
     "metadata": {},
     "output_type": "execute_result"
    }
   ],
   "source": [
    "average = Bachelor.Years.sum()/len(Bachelor)\n",
    "average"
   ]
  },
  {
   "cell_type": "code",
   "execution_count": 24,
   "metadata": {
    "collapsed": false
   },
   "outputs": [
    {
     "data": {
      "text/plain": [
       "7.0"
      ]
     },
     "execution_count": 24,
     "metadata": {},
     "output_type": "execute_result"
    }
   ],
   "source": [
    "Bachelor.Years.max()"
   ]
  },
  {
   "cell_type": "code",
   "execution_count": 25,
   "metadata": {
    "collapsed": false
   },
   "outputs": [
    {
     "data": {
      "text/plain": [
       "3.0"
      ]
     },
     "execution_count": 25,
     "metadata": {},
     "output_type": "execute_result"
    }
   ],
   "source": [
    "Bachelor.Years.min()"
   ]
  },
  {
   "cell_type": "code",
   "execution_count": 26,
   "metadata": {
    "collapsed": false
   },
   "outputs": [
    {
     "data": {
      "text/plain": [
       "<matplotlib.axes._subplots.AxesSubplot at 0x1174477f0>"
      ]
     },
     "execution_count": 26,
     "metadata": {},
     "output_type": "execute_result"
    },
    {
     "data": {
      "image/png": "[encoded data removed]",
      "text/plain": [
       "<matplotlib.figure.Figure at 0x1174473c8>"
      ]
     },
     "metadata": {},
     "output_type": "display_data"
    }
   ],
   "source": [
    "Bachelor.Years.hist(bins = 10, range=[3, 8])"
   ]
  },
  {
   "cell_type": "markdown",
   "metadata": {},
   "source": [
    "### Female"
   ]
  },
  {
   "cell_type": "code",
   "execution_count": 27,
   "metadata": {
    "collapsed": false
   },
   "outputs": [
    {
     "data": {
      "text/plain": [
       "29"
      ]
     },
     "execution_count": 27,
     "metadata": {},
     "output_type": "execute_result"
    }
   ],
   "source": [
    "Female = Bachelor[Bachelor.Civilité == 'Madame']\n",
    "len(Female)"
   ]
  },
  {
   "cell_type": "code",
   "execution_count": 28,
   "metadata": {
    "collapsed": false
   },
   "outputs": [
    {
     "data": {
      "text/plain": [
       "3.396551724137931"
      ]
     },
     "execution_count": 28,
     "metadata": {},
     "output_type": "execute_result"
    }
   ],
   "source": [
    "averageFemale = Female.Years.sum()/len(Female)\n",
    "averageFemale"
   ]
  },
  {
   "cell_type": "code",
   "execution_count": 29,
   "metadata": {
    "collapsed": false
   },
   "outputs": [
    {
     "data": {
      "text/plain": [
       "<matplotlib.axes._subplots.AxesSubplot at 0x116fef278>"
      ]
     },
     "execution_count": 29,
     "metadata": {},
     "output_type": "execute_result"
    },
    {
     "data": {
      "image/png": "[encoded data removed]",
      "text/plain": [
       "<matplotlib.figure.Figure at 0x1177a52e8>"
      ]
     },
     "metadata": {},
     "output_type": "display_data"
    }
   ],
   "source": [
    "Female.Years.hist(bins = 10, range=[3, 8])\n"
   ]
  },
  {
   "cell_type": "markdown",
   "metadata": {},
   "source": [
    "### Male"
   ]
  },
  {
   "cell_type": "code",
   "execution_count": 30,
   "metadata": {
    "collapsed": false
   },
   "outputs": [
    {
     "data": {
      "text/plain": [
       "368"
      ]
     },
     "execution_count": 30,
     "metadata": {},
     "output_type": "execute_result"
    }
   ],
   "source": [
    "Male = Bachelor[Bachelor.Civilité == 'Monsieur']\n",
    "len(Male)"
   ]
  },
  {
   "cell_type": "code",
   "execution_count": 31,
   "metadata": {
    "collapsed": false
   },
   "outputs": [
    {
     "data": {
      "text/plain": [
       "3.573369565217391"
      ]
     },
     "execution_count": 31,
     "metadata": {},
     "output_type": "execute_result"
    }
   ],
   "source": [
    "average = Male.Years.sum()/len(Male)\n",
    "average\n"
   ]
  },
  {
   "cell_type": "code",
   "execution_count": 32,
   "metadata": {
    "collapsed": false
   },
   "outputs": [
    {
     "data": {
      "text/plain": [
       "<matplotlib.axes._subplots.AxesSubplot at 0x116f0a4a8>"
      ]
     },
     "execution_count": 32,
     "metadata": {},
     "output_type": "execute_result"
    },
    {
     "data": {
      "image/png": "[encoded data removed]",
      "text/plain": [
       "<matplotlib.figure.Figure at 0x11779fb38>"
      ]
     },
     "metadata": {},
     "output_type": "display_data"
    }
   ],
   "source": [
    "Male.Years.hist(bins = 10, range=[3, 8])"
   ]
  },
  {
   "cell_type": "markdown",
   "metadata": {
    "collapsed": true
   },
   "source": [
    "## Test the results"
   ]
  },
  {
   "cell_type": "code",
   "execution_count": 33,
   "metadata": {
    "collapsed": true
   },
   "outputs": [],
   "source": [
    "import scipy.stats as stats\n"
   ]
  },
  {
   "cell_type": "markdown",
   "metadata": {},
   "source": [
    "We want to see if the difference of the average years for female and male are statistically significant with a threshold of 95%\n",
    "\n",
    "We use a Welch's T-Test (which does not assume equal population variance): it measures whether the average  value differs significantly across samples."
   ]
  },
  {
   "cell_type": "code",
   "execution_count": 34,
   "metadata": {
    "collapsed": false
   },
   "outputs": [
    {
     "data": {
      "text/plain": [
       "Ttest_indResult(statistic=-1.3437005678090845, pvalue=0.18785555340784144)"
      ]
     },
     "execution_count": 34,
     "metadata": {},
     "output_type": "execute_result"
    }
   ],
   "source": [
    "stats.ttest_ind(a = Female.Years, b= Male.Years, equal_var=False)"
   ]
  },
  {
   "cell_type": "markdown",
   "metadata": {
    "collapsed": true
   },
   "source": [
    "Since the pvalue is > 0.05, we cannot reject the null hypothesis of identical average scores which means: we cannot say that the difference is in average statistically significant"
   ]
  },
  {
   "cell_type": "code",
   "execution_count": null,
   "metadata": {
    "collapsed": true
   },
   "outputs": [],
   "source": []
  }
 ],
 "metadata": {
  "anaconda-cloud": {},
  "kernelspec": {
   "display_name": "Python [default]",
   "language": "python",
   "name": "python3"
  },
  "language_info": {
   "codemirror_mode": {
    "name": "ipython",
    "version": 3
   },
   "file_extension": ".py",
   "mimetype": "text/x-python",
   "name": "python",
   "nbconvert_exporter": "python",
   "pygments_lexer": "ipython3",
   "version": "3.5.2"
  }
 },
 "nbformat": 4,
 "nbformat_minor": 1
}
