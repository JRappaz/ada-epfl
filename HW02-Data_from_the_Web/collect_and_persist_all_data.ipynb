{
 "cells": [
  {
   "cell_type": "code",
   "execution_count": 1,
   "metadata": {
    "collapsed": true
   },
   "outputs": [],
   "source": [
    "import pandas as pd\n",
    "import numpy as np\n",
    "import glob # to find all files in folder\n",
    "from datetime import datetime\n",
    "from datetime import date, time\n",
    "from dateutil.parser import parse\n",
    "import seaborn as sns\n",
    "import matplotlib.pyplot as plt\n",
    "import itertools\n",
    "%matplotlib inline\n",
    "sns.set_context('notebook')\n",
    "pd.options.mode.chained_assignment = None  # default='warn'\n",
    "\n",
    "import requests\n",
    "from bs4 import BeautifulSoup"
   ]
  },
  {
   "cell_type": "markdown",
   "metadata": {},
   "source": [
    "# Collect the data"
   ]
  },
  {
   "cell_type": "markdown",
   "metadata": {},
   "source": [
    "## Get the select options"
   ]
  },
  {
   "cell_type": "code",
   "execution_count": 2,
   "metadata": {
    "collapsed": true
   },
   "outputs": [],
   "source": [
    "reportModel = 133685247\n",
    "full_form_url = 'http://isa.epfl.ch/imoniteur_ISAP/!GEDPUBLICREPORTS.filter?ww_i_reportModel=133685247'\n",
    "r = requests.get(full_form_url)\n",
    "soup = BeautifulSoup(r.text, 'html.parser')\n"
   ]
  },
  {
   "cell_type": "code",
   "execution_count": 3,
   "metadata": {
    "collapsed": false
   },
   "outputs": [
    {
     "data": {
      "text/plain": [
       "['ww_x_UNITE_ACAD',\n",
       " 'ww_x_PERIODE_ACAD',\n",
       " 'ww_x_PERIODE_PEDAGO',\n",
       " 'ww_x_HIVERETE']"
      ]
     },
     "execution_count": 3,
     "metadata": {},
     "output_type": "execute_result"
    }
   ],
   "source": [
    "# get the name of the dropdown menus\n",
    "select = soup.find_all('select')\n",
    "select_name = [s.attrs['name'] for s in select]\n",
    "select_name"
   ]
  },
  {
   "cell_type": "code",
   "execution_count": 4,
   "metadata": {
    "collapsed": false
   },
   "outputs": [],
   "source": [
    "select_fields = [soup.find('select',{'name': name}) for name in select_name]\n",
    "# the html for each <select> field"
   ]
  },
  {
   "cell_type": "code",
   "execution_count": 5,
   "metadata": {
    "collapsed": false
   },
   "outputs": [],
   "source": [
    "# find the value for the informatique section\n",
    "unite_acad_options = select_fields[0].find_all('option')\n",
    "#unite_acad_options"
   ]
  },
  {
   "cell_type": "code",
   "execution_count": 6,
   "metadata": {
    "collapsed": false
   },
   "outputs": [
    {
     "data": {
      "text/plain": [
       "{'249847': 'Informatique'}"
      ]
     },
     "execution_count": 6,
     "metadata": {},
     "output_type": "execute_result"
    }
   ],
   "source": [
    "unite_acad_informatique ={opt['value']: opt.text for opt in unite_acad_options if opt.text == 'Informatique'}\n",
    "unite_acad_informatique"
   ]
  },
  {
   "cell_type": "code",
   "execution_count": 7,
   "metadata": {
    "collapsed": false
   },
   "outputs": [
    {
     "data": {
      "text/plain": [
       "{'123455150': '2011-2012',\n",
       " '123456101': '2012-2013',\n",
       " '213637754': '2013-2014',\n",
       " '213637922': '2014-2015',\n",
       " '213638028': '2015-2016',\n",
       " '355925344': '2016-2017',\n",
       " '39486325': '2010-2011',\n",
       " '978181': '2007-2008',\n",
       " '978187': '2008-2009',\n",
       " '978195': '2009-2010'}"
      ]
     },
     "execution_count": 7,
     "metadata": {},
     "output_type": "execute_result"
    }
   ],
   "source": [
    "# periode academic\n",
    "#select_fields[1].find_all('option')\n",
    "period_acad = {opt['value']: opt.text for opt in select_fields[1].find_all('option') if opt['value'] != 'null' and int(opt.text.split('-')[0]) >= 2007}\n",
    "period_acad"
   ]
  },
  {
   "cell_type": "code",
   "execution_count": 8,
   "metadata": {
    "collapsed": false
   },
   "outputs": [
    {
     "data": {
      "text/plain": [
       "{'2063602308': 'Mise à niveau',\n",
       " '2226616': 'Stage automne 4ème année',\n",
       " '2226626': 'Stage printemps 4ème année',\n",
       " '2226768': 'Bachelor semestre 5b',\n",
       " '2226785': 'Bachelor semestre 6b',\n",
       " '2227132': 'Stage printemps master',\n",
       " '2230106': 'Master semestre 1',\n",
       " '2230128': 'Master semestre 3',\n",
       " '2230140': 'Master semestre 4',\n",
       " '2335667': 'Mineur semestre 1',\n",
       " '2335676': 'Mineur semestre 2',\n",
       " '249108': 'Bachelor semestre 1',\n",
       " '249114': 'Bachelor semestre 2',\n",
       " '249127': 'Projet Master automne',\n",
       " '2754553': 'Semestre printemps',\n",
       " '3781783': 'Projet Master printemps',\n",
       " '942120': 'Bachelor semestre 5',\n",
       " '942155': 'Bachelor semestre 3',\n",
       " '942163': 'Bachelor semestre 4',\n",
       " '942175': 'Bachelor semestre 6',\n",
       " '942192': 'Master semestre 2',\n",
       " '953137': 'Stage automne 3ème année',\n",
       " '953159': 'Semestre automne',\n",
       " '983606': 'Stage printemps 3ème année'}"
      ]
     },
     "execution_count": 8,
     "metadata": {},
     "output_type": "execute_result"
    }
   ],
   "source": [
    "# get all the pedagogic periods\n",
    "option = select_fields[2].find_all('option')\n",
    "period_pedago = {opt['value']: opt.text for opt in option if opt.text != '' }\n",
    "period_pedago"
   ]
  },
  {
   "cell_type": "code",
   "execution_count": 9,
   "metadata": {
    "collapsed": false
   },
   "outputs": [
    {
     "data": {
      "text/plain": [
       "{'2936286': \"Semestre d'automne\", '2936295': 'Semestre de printemps'}"
      ]
     },
     "execution_count": 9,
     "metadata": {},
     "output_type": "execute_result"
    }
   ],
   "source": [
    "option = select_fields[3].find_all('option')\n",
    "hiverEte = {opt['value']: opt.text for opt in option if opt['value'] != 'null'}\n",
    "hiverEte"
   ]
  },
  {
   "cell_type": "markdown",
   "metadata": {},
   "source": [
    "## Collect"
   ]
  },
  {
   "cell_type": "code",
   "execution_count": 10,
   "metadata": {
    "collapsed": false
   },
   "outputs": [],
   "source": [
    "# arguments are tuples (key, 'description') eg: ('2936286': \"Semestre d'automne\")\n",
    "def collect_dataframe(t_unite_acad, t_periode_acad, t_periode_pedago, t_hiver_ete, final_headers):\n",
    "    print(\"collect_dataframe: input: \"+str(t_unite_acad)+\" & \"+str(t_periode_acad)+\" &\"+str(t_periode_pedago)+\" & \"+str(t_hiver_ete))\n",
    "\n",
    "    #Send request\n",
    "    params = {\n",
    "                'ww_x_GPS': -1, \n",
    "                'ww_i_reportModel': reportModel, \n",
    "                'ww_i_reportModelXsl': 133685270, \n",
    "                'ww_x_UNITE_ACAD': t_unite_acad[0], \n",
    "                'ww_x_PERIODE_ACAD': t_periode_acad[0], \n",
    "                'ww_x_PERIODE_PEDAGO': t_periode_pedago[0], \n",
    "                'ww_x_HIVERETE': t_hiver_ete[0]\n",
    "             }\n",
    "    \n",
    "    url = 'http://isa.epfl.ch/imoniteur_ISAP/!GEDPUBLICREPORTS.html'\n",
    "    \n",
    "    r = requests.get(url, params=params)\n",
    "    soupe = BeautifulSoup(r.text, 'html.parser')\n",
    "    \n",
    "    # get all the tr tags\n",
    "    tr_tags = soupe.find_all('tr')\n",
    "    \n",
    "    #Temporary dictionary that will collect all the entry of the dataframe\n",
    "    data = {}\n",
    "    \n",
    "    # there may be several tables.\n",
    "    current_table = 't1'\n",
    "    \n",
    "    # for each tr tag, determine if it is a table title, a header (ignore those) or a student row\n",
    "    for tr in tr_tags:\n",
    "        th = tr.find_all('th')\n",
    "        if(len(th) == 1): #this is a table title\n",
    "            current_table = th[0].text.split('\\n')[0]\n",
    "            data[current_table] = []\n",
    "            #print('current table: '+str(current_table))\n",
    "        \n",
    "        elif(len(th) > 1): #this is the header row (ignore because is always the same)\n",
    "            #print('headers: '+str([t.text for t in th]))\n",
    "            pass\n",
    "            \n",
    "        else:\n",
    "            # this is a student\n",
    "            td_tags = tr.find_all('td')\n",
    "            student = [td.text.replace('\\xa0', ' ') for td in td_tags[:-1]] #drop last td because it is always empty\n",
    "            # add the desired columns\n",
    "            student.append(current_table)\n",
    "            student.append(t_periode_acad[1])\n",
    "            student.append(t_periode_pedago[1])\n",
    "            #print('student: '+str(student))\n",
    "            data[current_table].append(student)\n",
    "    \n",
    "    # return all different dataframes\n",
    "    dframes = [pd.DataFrame(data[k], columns=final_headers) for k in list(data.keys())]\n",
    "\n",
    "    return dframes\n",
    "    "
   ]
  },
  {
   "cell_type": "markdown",
   "metadata": {},
   "source": [
    "make one request for all permutations of (unite_acad, periode_acad, periode_pedago). We ignore hiverete because it is redundant."
   ]
  },
  {
   "cell_type": "code",
   "execution_count": 11,
   "metadata": {
    "collapsed": false,
    "scrolled": true
   },
   "outputs": [],
   "source": [
    "perm_list = list(itertools.product(list(unite_acad_informatique.items()), list(period_acad.items()), list(period_pedago.items())))\n"
   ]
  },
  {
   "cell_type": "code",
   "execution_count": 12,
   "metadata": {
    "collapsed": false,
    "scrolled": true
   },
   "outputs": [
    {
     "name": "stdout",
     "output_type": "stream",
     "text": [
      "collect_dataframe: input: ('249847', 'Informatique') & ('213637922', '2014-2015') &('2230128', 'Master semestre 3') & ('null', 'null')\n",
      "collect_dataframe: input: ('249847', 'Informatique') & ('213637922', '2014-2015') &('2063602308', 'Mise à niveau') & ('null', 'null')\n",
      "collect_dataframe: input: ('249847', 'Informatique') & ('213637922', '2014-2015') &('2230140', 'Master semestre 4') & ('null', 'null')\n",
      "collect_dataframe: input: ('249847', 'Informatique') & ('213637922', '2014-2015') &('2335676', 'Mineur semestre 2') & ('null', 'null')\n",
      "collect_dataframe: input: ('249847', 'Informatique') & ('213637922', '2014-2015') &('2226616', 'Stage automne 4ème année') & ('null', 'null')\n",
      "collect_dataframe: input: ('249847', 'Informatique') & ('213637922', '2014-2015') &('249114', 'Bachelor semestre 2') & ('null', 'null')\n",
      "collect_dataframe: input: ('249847', 'Informatique') & ('213637922', '2014-2015') &('942120', 'Bachelor semestre 5') & ('null', 'null')\n",
      "collect_dataframe: input: ('249847', 'Informatique') & ('213637922', '2014-2015') &('2227132', 'Stage printemps master') & ('null', 'null')\n",
      "collect_dataframe: input: ('249847', 'Informatique') & ('213637922', '2014-2015') &('2754553', 'Semestre printemps') & ('null', 'null')\n",
      "collect_dataframe: input: ('249847', 'Informatique') & ('213637922', '2014-2015') &('942192', 'Master semestre 2') & ('null', 'null')\n",
      "collect_dataframe: input: ('249847', 'Informatique') & ('213637922', '2014-2015') &('2226626', 'Stage printemps 4ème année') & ('null', 'null')\n",
      "collect_dataframe: input: ('249847', 'Informatique') & ('213637922', '2014-2015') &('2226785', 'Bachelor semestre 6b') & ('null', 'null')\n",
      "collect_dataframe: input: ('249847', 'Informatique') & ('213637922', '2014-2015') &('942155', 'Bachelor semestre 3') & ('null', 'null')\n",
      "collect_dataframe: input: ('249847', 'Informatique') & ('213637922', '2014-2015') &('249108', 'Bachelor semestre 1') & ('null', 'null')\n",
      "collect_dataframe: input: ('249847', 'Informatique') & ('213637922', '2014-2015') &('942175', 'Bachelor semestre 6') & ('null', 'null')\n",
      "collect_dataframe: input: ('249847', 'Informatique') & ('213637922', '2014-2015') &('2226768', 'Bachelor semestre 5b') & ('null', 'null')\n",
      "collect_dataframe: input: ('249847', 'Informatique') & ('213637922', '2014-2015') &('953159', 'Semestre automne') & ('null', 'null')\n",
      "collect_dataframe: input: ('249847', 'Informatique') & ('213637922', '2014-2015') &('2230106', 'Master semestre 1') & ('null', 'null')\n",
      "collect_dataframe: input: ('249847', 'Informatique') & ('213637922', '2014-2015') &('3781783', 'Projet Master printemps') & ('null', 'null')\n",
      "collect_dataframe: input: ('249847', 'Informatique') & ('213637922', '2014-2015') &('983606', 'Stage printemps 3ème année') & ('null', 'null')\n",
      "collect_dataframe: input: ('249847', 'Informatique') & ('213637922', '2014-2015') &('953137', 'Stage automne 3ème année') & ('null', 'null')\n",
      "collect_dataframe: input: ('249847', 'Informatique') & ('213637922', '2014-2015') &('249127', 'Projet Master automne') & ('null', 'null')\n",
      "collect_dataframe: input: ('249847', 'Informatique') & ('213637922', '2014-2015') &('2335667', 'Mineur semestre 1') & ('null', 'null')\n",
      "collect_dataframe: input: ('249847', 'Informatique') & ('213637922', '2014-2015') &('942163', 'Bachelor semestre 4') & ('null', 'null')\n",
      "collect_dataframe: input: ('249847', 'Informatique') & ('123455150', '2011-2012') &('2230128', 'Master semestre 3') & ('null', 'null')\n",
      "collect_dataframe: input: ('249847', 'Informatique') & ('123455150', '2011-2012') &('2063602308', 'Mise à niveau') & ('null', 'null')\n",
      "collect_dataframe: input: ('249847', 'Informatique') & ('123455150', '2011-2012') &('2230140', 'Master semestre 4') & ('null', 'null')\n",
      "collect_dataframe: input: ('249847', 'Informatique') & ('123455150', '2011-2012') &('2335676', 'Mineur semestre 2') & ('null', 'null')\n",
      "collect_dataframe: input: ('249847', 'Informatique') & ('123455150', '2011-2012') &('2226616', 'Stage automne 4ème année') & ('null', 'null')\n",
      "collect_dataframe: input: ('249847', 'Informatique') & ('123455150', '2011-2012') &('249114', 'Bachelor semestre 2') & ('null', 'null')\n",
      "collect_dataframe: input: ('249847', 'Informatique') & ('123455150', '2011-2012') &('942120', 'Bachelor semestre 5') & ('null', 'null')\n",
      "collect_dataframe: input: ('249847', 'Informatique') & ('123455150', '2011-2012') &('2227132', 'Stage printemps master') & ('null', 'null')\n",
      "collect_dataframe: input: ('249847', 'Informatique') & ('123455150', '2011-2012') &('2754553', 'Semestre printemps') & ('null', 'null')\n",
      "collect_dataframe: input: ('249847', 'Informatique') & ('123455150', '2011-2012') &('942192', 'Master semestre 2') & ('null', 'null')\n",
      "collect_dataframe: input: ('249847', 'Informatique') & ('123455150', '2011-2012') &('2226626', 'Stage printemps 4ème année') & ('null', 'null')\n",
      "collect_dataframe: input: ('249847', 'Informatique') & ('123455150', '2011-2012') &('2226785', 'Bachelor semestre 6b') & ('null', 'null')\n",
      "collect_dataframe: input: ('249847', 'Informatique') & ('123455150', '2011-2012') &('942155', 'Bachelor semestre 3') & ('null', 'null')\n",
      "collect_dataframe: input: ('249847', 'Informatique') & ('123455150', '2011-2012') &('249108', 'Bachelor semestre 1') & ('null', 'null')\n",
      "collect_dataframe: input: ('249847', 'Informatique') & ('123455150', '2011-2012') &('942175', 'Bachelor semestre 6') & ('null', 'null')\n",
      "collect_dataframe: input: ('249847', 'Informatique') & ('123455150', '2011-2012') &('2226768', 'Bachelor semestre 5b') & ('null', 'null')\n",
      "collect_dataframe: input: ('249847', 'Informatique') & ('123455150', '2011-2012') &('953159', 'Semestre automne') & ('null', 'null')\n",
      "collect_dataframe: input: ('249847', 'Informatique') & ('123455150', '2011-2012') &('2230106', 'Master semestre 1') & ('null', 'null')\n",
      "collect_dataframe: input: ('249847', 'Informatique') & ('123455150', '2011-2012') &('3781783', 'Projet Master printemps') & ('null', 'null')\n",
      "collect_dataframe: input: ('249847', 'Informatique') & ('123455150', '2011-2012') &('983606', 'Stage printemps 3ème année') & ('null', 'null')\n",
      "collect_dataframe: input: ('249847', 'Informatique') & ('123455150', '2011-2012') &('953137', 'Stage automne 3ème année') & ('null', 'null')\n",
      "collect_dataframe: input: ('249847', 'Informatique') & ('123455150', '2011-2012') &('249127', 'Projet Master automne') & ('null', 'null')\n",
      "collect_dataframe: input: ('249847', 'Informatique') & ('123455150', '2011-2012') &('2335667', 'Mineur semestre 1') & ('null', 'null')\n",
      "collect_dataframe: input: ('249847', 'Informatique') & ('123455150', '2011-2012') &('942163', 'Bachelor semestre 4') & ('null', 'null')\n",
      "collect_dataframe: input: ('249847', 'Informatique') & ('978181', '2007-2008') &('2230128', 'Master semestre 3') & ('null', 'null')\n",
      "collect_dataframe: input: ('249847', 'Informatique') & ('978181', '2007-2008') &('2063602308', 'Mise à niveau') & ('null', 'null')\n",
      "collect_dataframe: input: ('249847', 'Informatique') & ('978181', '2007-2008') &('2230140', 'Master semestre 4') & ('null', 'null')\n",
      "collect_dataframe: input: ('249847', 'Informatique') & ('978181', '2007-2008') &('2335676', 'Mineur semestre 2') & ('null', 'null')\n",
      "collect_dataframe: input: ('249847', 'Informatique') & ('978181', '2007-2008') &('2226616', 'Stage automne 4ème année') & ('null', 'null')\n",
      "collect_dataframe: input: ('249847', 'Informatique') & ('978181', '2007-2008') &('249114', 'Bachelor semestre 2') & ('null', 'null')\n",
      "collect_dataframe: input: ('249847', 'Informatique') & ('978181', '2007-2008') &('942120', 'Bachelor semestre 5') & ('null', 'null')\n",
      "collect_dataframe: input: ('249847', 'Informatique') & ('978181', '2007-2008') &('2227132', 'Stage printemps master') & ('null', 'null')\n",
      "collect_dataframe: input: ('249847', 'Informatique') & ('978181', '2007-2008') &('2754553', 'Semestre printemps') & ('null', 'null')\n",
      "collect_dataframe: input: ('249847', 'Informatique') & ('978181', '2007-2008') &('942192', 'Master semestre 2') & ('null', 'null')\n",
      "collect_dataframe: input: ('249847', 'Informatique') & ('978181', '2007-2008') &('2226626', 'Stage printemps 4ème année') & ('null', 'null')\n",
      "collect_dataframe: input: ('249847', 'Informatique') & ('978181', '2007-2008') &('2226785', 'Bachelor semestre 6b') & ('null', 'null')\n",
      "collect_dataframe: input: ('249847', 'Informatique') & ('978181', '2007-2008') &('942155', 'Bachelor semestre 3') & ('null', 'null')\n",
      "collect_dataframe: input: ('249847', 'Informatique') & ('978181', '2007-2008') &('249108', 'Bachelor semestre 1') & ('null', 'null')\n",
      "collect_dataframe: input: ('249847', 'Informatique') & ('978181', '2007-2008') &('942175', 'Bachelor semestre 6') & ('null', 'null')\n",
      "collect_dataframe: input: ('249847', 'Informatique') & ('978181', '2007-2008') &('2226768', 'Bachelor semestre 5b') & ('null', 'null')\n",
      "collect_dataframe: input: ('249847', 'Informatique') & ('978181', '2007-2008') &('953159', 'Semestre automne') & ('null', 'null')\n",
      "collect_dataframe: input: ('249847', 'Informatique') & ('978181', '2007-2008') &('2230106', 'Master semestre 1') & ('null', 'null')\n",
      "collect_dataframe: input: ('249847', 'Informatique') & ('978181', '2007-2008') &('3781783', 'Projet Master printemps') & ('null', 'null')\n",
      "collect_dataframe: input: ('249847', 'Informatique') & ('978181', '2007-2008') &('983606', 'Stage printemps 3ème année') & ('null', 'null')\n",
      "collect_dataframe: input: ('249847', 'Informatique') & ('978181', '2007-2008') &('953137', 'Stage automne 3ème année') & ('null', 'null')\n",
      "collect_dataframe: input: ('249847', 'Informatique') & ('978181', '2007-2008') &('249127', 'Projet Master automne') & ('null', 'null')\n",
      "collect_dataframe: input: ('249847', 'Informatique') & ('978181', '2007-2008') &('2335667', 'Mineur semestre 1') & ('null', 'null')\n",
      "collect_dataframe: input: ('249847', 'Informatique') & ('978181', '2007-2008') &('942163', 'Bachelor semestre 4') & ('null', 'null')\n",
      "collect_dataframe: input: ('249847', 'Informatique') & ('355925344', '2016-2017') &('2230128', 'Master semestre 3') & ('null', 'null')\n",
      "collect_dataframe: input: ('249847', 'Informatique') & ('355925344', '2016-2017') &('2063602308', 'Mise à niveau') & ('null', 'null')\n",
      "collect_dataframe: input: ('249847', 'Informatique') & ('355925344', '2016-2017') &('2230140', 'Master semestre 4') & ('null', 'null')\n",
      "collect_dataframe: input: ('249847', 'Informatique') & ('355925344', '2016-2017') &('2335676', 'Mineur semestre 2') & ('null', 'null')\n",
      "collect_dataframe: input: ('249847', 'Informatique') & ('355925344', '2016-2017') &('2226616', 'Stage automne 4ème année') & ('null', 'null')\n",
      "collect_dataframe: input: ('249847', 'Informatique') & ('355925344', '2016-2017') &('249114', 'Bachelor semestre 2') & ('null', 'null')\n",
      "collect_dataframe: input: ('249847', 'Informatique') & ('355925344', '2016-2017') &('942120', 'Bachelor semestre 5') & ('null', 'null')\n",
      "collect_dataframe: input: ('249847', 'Informatique') & ('355925344', '2016-2017') &('2227132', 'Stage printemps master') & ('null', 'null')\n",
      "collect_dataframe: input: ('249847', 'Informatique') & ('355925344', '2016-2017') &('2754553', 'Semestre printemps') & ('null', 'null')\n",
      "collect_dataframe: input: ('249847', 'Informatique') & ('355925344', '2016-2017') &('942192', 'Master semestre 2') & ('null', 'null')\n",
      "collect_dataframe: input: ('249847', 'Informatique') & ('355925344', '2016-2017') &('2226626', 'Stage printemps 4ème année') & ('null', 'null')\n",
      "collect_dataframe: input: ('249847', 'Informatique') & ('355925344', '2016-2017') &('2226785', 'Bachelor semestre 6b') & ('null', 'null')\n",
      "collect_dataframe: input: ('249847', 'Informatique') & ('355925344', '2016-2017') &('942155', 'Bachelor semestre 3') & ('null', 'null')\n",
      "collect_dataframe: input: ('249847', 'Informatique') & ('355925344', '2016-2017') &('249108', 'Bachelor semestre 1') & ('null', 'null')\n",
      "collect_dataframe: input: ('249847', 'Informatique') & ('355925344', '2016-2017') &('942175', 'Bachelor semestre 6') & ('null', 'null')\n",
      "collect_dataframe: input: ('249847', 'Informatique') & ('355925344', '2016-2017') &('2226768', 'Bachelor semestre 5b') & ('null', 'null')\n",
      "collect_dataframe: input: ('249847', 'Informatique') & ('355925344', '2016-2017') &('953159', 'Semestre automne') & ('null', 'null')\n",
      "collect_dataframe: input: ('249847', 'Informatique') & ('355925344', '2016-2017') &('2230106', 'Master semestre 1') & ('null', 'null')\n",
      "collect_dataframe: input: ('249847', 'Informatique') & ('355925344', '2016-2017') &('3781783', 'Projet Master printemps') & ('null', 'null')\n",
      "collect_dataframe: input: ('249847', 'Informatique') & ('355925344', '2016-2017') &('983606', 'Stage printemps 3ème année') & ('null', 'null')\n",
      "collect_dataframe: input: ('249847', 'Informatique') & ('355925344', '2016-2017') &('953137', 'Stage automne 3ème année') & ('null', 'null')\n",
      "collect_dataframe: input: ('249847', 'Informatique') & ('355925344', '2016-2017') &('249127', 'Projet Master automne') & ('null', 'null')\n",
      "collect_dataframe: input: ('249847', 'Informatique') & ('355925344', '2016-2017') &('2335667', 'Mineur semestre 1') & ('null', 'null')\n",
      "collect_dataframe: input: ('249847', 'Informatique') & ('355925344', '2016-2017') &('942163', 'Bachelor semestre 4') & ('null', 'null')\n",
      "collect_dataframe: input: ('249847', 'Informatique') & ('213638028', '2015-2016') &('2230128', 'Master semestre 3') & ('null', 'null')\n",
      "collect_dataframe: input: ('249847', 'Informatique') & ('213638028', '2015-2016') &('2063602308', 'Mise à niveau') & ('null', 'null')\n",
      "collect_dataframe: input: ('249847', 'Informatique') & ('213638028', '2015-2016') &('2230140', 'Master semestre 4') & ('null', 'null')\n",
      "collect_dataframe: input: ('249847', 'Informatique') & ('213638028', '2015-2016') &('2335676', 'Mineur semestre 2') & ('null', 'null')\n",
      "collect_dataframe: input: ('249847', 'Informatique') & ('213638028', '2015-2016') &('2226616', 'Stage automne 4ème année') & ('null', 'null')\n",
      "collect_dataframe: input: ('249847', 'Informatique') & ('213638028', '2015-2016') &('249114', 'Bachelor semestre 2') & ('null', 'null')\n",
      "collect_dataframe: input: ('249847', 'Informatique') & ('213638028', '2015-2016') &('942120', 'Bachelor semestre 5') & ('null', 'null')\n",
      "collect_dataframe: input: ('249847', 'Informatique') & ('213638028', '2015-2016') &('2227132', 'Stage printemps master') & ('null', 'null')\n",
      "collect_dataframe: input: ('249847', 'Informatique') & ('213638028', '2015-2016') &('2754553', 'Semestre printemps') & ('null', 'null')\n",
      "collect_dataframe: input: ('249847', 'Informatique') & ('213638028', '2015-2016') &('942192', 'Master semestre 2') & ('null', 'null')\n",
      "collect_dataframe: input: ('249847', 'Informatique') & ('213638028', '2015-2016') &('2226626', 'Stage printemps 4ème année') & ('null', 'null')\n",
      "collect_dataframe: input: ('249847', 'Informatique') & ('213638028', '2015-2016') &('2226785', 'Bachelor semestre 6b') & ('null', 'null')\n",
      "collect_dataframe: input: ('249847', 'Informatique') & ('213638028', '2015-2016') &('942155', 'Bachelor semestre 3') & ('null', 'null')\n",
      "collect_dataframe: input: ('249847', 'Informatique') & ('213638028', '2015-2016') &('249108', 'Bachelor semestre 1') & ('null', 'null')\n",
      "collect_dataframe: input: ('249847', 'Informatique') & ('213638028', '2015-2016') &('942175', 'Bachelor semestre 6') & ('null', 'null')\n",
      "collect_dataframe: input: ('249847', 'Informatique') & ('213638028', '2015-2016') &('2226768', 'Bachelor semestre 5b') & ('null', 'null')\n",
      "collect_dataframe: input: ('249847', 'Informatique') & ('213638028', '2015-2016') &('953159', 'Semestre automne') & ('null', 'null')\n",
      "collect_dataframe: input: ('249847', 'Informatique') & ('213638028', '2015-2016') &('2230106', 'Master semestre 1') & ('null', 'null')\n",
      "collect_dataframe: input: ('249847', 'Informatique') & ('213638028', '2015-2016') &('3781783', 'Projet Master printemps') & ('null', 'null')\n",
      "collect_dataframe: input: ('249847', 'Informatique') & ('213638028', '2015-2016') &('983606', 'Stage printemps 3ème année') & ('null', 'null')\n",
      "collect_dataframe: input: ('249847', 'Informatique') & ('213638028', '2015-2016') &('953137', 'Stage automne 3ème année') & ('null', 'null')\n",
      "collect_dataframe: input: ('249847', 'Informatique') & ('213638028', '2015-2016') &('249127', 'Projet Master automne') & ('null', 'null')\n",
      "collect_dataframe: input: ('249847', 'Informatique') & ('213638028', '2015-2016') &('2335667', 'Mineur semestre 1') & ('null', 'null')\n",
      "collect_dataframe: input: ('249847', 'Informatique') & ('213638028', '2015-2016') &('942163', 'Bachelor semestre 4') & ('null', 'null')\n",
      "collect_dataframe: input: ('249847', 'Informatique') & ('39486325', '2010-2011') &('2230128', 'Master semestre 3') & ('null', 'null')\n",
      "collect_dataframe: input: ('249847', 'Informatique') & ('39486325', '2010-2011') &('2063602308', 'Mise à niveau') & ('null', 'null')\n",
      "collect_dataframe: input: ('249847', 'Informatique') & ('39486325', '2010-2011') &('2230140', 'Master semestre 4') & ('null', 'null')\n",
      "collect_dataframe: input: ('249847', 'Informatique') & ('39486325', '2010-2011') &('2335676', 'Mineur semestre 2') & ('null', 'null')\n",
      "collect_dataframe: input: ('249847', 'Informatique') & ('39486325', '2010-2011') &('2226616', 'Stage automne 4ème année') & ('null', 'null')\n",
      "collect_dataframe: input: ('249847', 'Informatique') & ('39486325', '2010-2011') &('249114', 'Bachelor semestre 2') & ('null', 'null')\n",
      "collect_dataframe: input: ('249847', 'Informatique') & ('39486325', '2010-2011') &('942120', 'Bachelor semestre 5') & ('null', 'null')\n",
      "collect_dataframe: input: ('249847', 'Informatique') & ('39486325', '2010-2011') &('2227132', 'Stage printemps master') & ('null', 'null')\n",
      "collect_dataframe: input: ('249847', 'Informatique') & ('39486325', '2010-2011') &('2754553', 'Semestre printemps') & ('null', 'null')\n",
      "collect_dataframe: input: ('249847', 'Informatique') & ('39486325', '2010-2011') &('942192', 'Master semestre 2') & ('null', 'null')\n",
      "collect_dataframe: input: ('249847', 'Informatique') & ('39486325', '2010-2011') &('2226626', 'Stage printemps 4ème année') & ('null', 'null')\n",
      "collect_dataframe: input: ('249847', 'Informatique') & ('39486325', '2010-2011') &('2226785', 'Bachelor semestre 6b') & ('null', 'null')\n",
      "collect_dataframe: input: ('249847', 'Informatique') & ('39486325', '2010-2011') &('942155', 'Bachelor semestre 3') & ('null', 'null')\n",
      "collect_dataframe: input: ('249847', 'Informatique') & ('39486325', '2010-2011') &('249108', 'Bachelor semestre 1') & ('null', 'null')\n",
      "collect_dataframe: input: ('249847', 'Informatique') & ('39486325', '2010-2011') &('942175', 'Bachelor semestre 6') & ('null', 'null')\n",
      "collect_dataframe: input: ('249847', 'Informatique') & ('39486325', '2010-2011') &('2226768', 'Bachelor semestre 5b') & ('null', 'null')\n",
      "collect_dataframe: input: ('249847', 'Informatique') & ('39486325', '2010-2011') &('953159', 'Semestre automne') & ('null', 'null')\n",
      "collect_dataframe: input: ('249847', 'Informatique') & ('39486325', '2010-2011') &('2230106', 'Master semestre 1') & ('null', 'null')\n",
      "collect_dataframe: input: ('249847', 'Informatique') & ('39486325', '2010-2011') &('3781783', 'Projet Master printemps') & ('null', 'null')\n",
      "collect_dataframe: input: ('249847', 'Informatique') & ('39486325', '2010-2011') &('983606', 'Stage printemps 3ème année') & ('null', 'null')\n",
      "collect_dataframe: input: ('249847', 'Informatique') & ('39486325', '2010-2011') &('953137', 'Stage automne 3ème année') & ('null', 'null')\n",
      "collect_dataframe: input: ('249847', 'Informatique') & ('39486325', '2010-2011') &('249127', 'Projet Master automne') & ('null', 'null')\n",
      "collect_dataframe: input: ('249847', 'Informatique') & ('39486325', '2010-2011') &('2335667', 'Mineur semestre 1') & ('null', 'null')\n",
      "collect_dataframe: input: ('249847', 'Informatique') & ('39486325', '2010-2011') &('942163', 'Bachelor semestre 4') & ('null', 'null')\n",
      "collect_dataframe: input: ('249847', 'Informatique') & ('978187', '2008-2009') &('2230128', 'Master semestre 3') & ('null', 'null')\n",
      "collect_dataframe: input: ('249847', 'Informatique') & ('978187', '2008-2009') &('2063602308', 'Mise à niveau') & ('null', 'null')\n",
      "collect_dataframe: input: ('249847', 'Informatique') & ('978187', '2008-2009') &('2230140', 'Master semestre 4') & ('null', 'null')\n",
      "collect_dataframe: input: ('249847', 'Informatique') & ('978187', '2008-2009') &('2335676', 'Mineur semestre 2') & ('null', 'null')\n",
      "collect_dataframe: input: ('249847', 'Informatique') & ('978187', '2008-2009') &('2226616', 'Stage automne 4ème année') & ('null', 'null')\n",
      "collect_dataframe: input: ('249847', 'Informatique') & ('978187', '2008-2009') &('249114', 'Bachelor semestre 2') & ('null', 'null')\n",
      "collect_dataframe: input: ('249847', 'Informatique') & ('978187', '2008-2009') &('942120', 'Bachelor semestre 5') & ('null', 'null')\n",
      "collect_dataframe: input: ('249847', 'Informatique') & ('978187', '2008-2009') &('2227132', 'Stage printemps master') & ('null', 'null')\n",
      "collect_dataframe: input: ('249847', 'Informatique') & ('978187', '2008-2009') &('2754553', 'Semestre printemps') & ('null', 'null')\n",
      "collect_dataframe: input: ('249847', 'Informatique') & ('978187', '2008-2009') &('942192', 'Master semestre 2') & ('null', 'null')\n",
      "collect_dataframe: input: ('249847', 'Informatique') & ('978187', '2008-2009') &('2226626', 'Stage printemps 4ème année') & ('null', 'null')\n",
      "collect_dataframe: input: ('249847', 'Informatique') & ('978187', '2008-2009') &('2226785', 'Bachelor semestre 6b') & ('null', 'null')\n",
      "collect_dataframe: input: ('249847', 'Informatique') & ('978187', '2008-2009') &('942155', 'Bachelor semestre 3') & ('null', 'null')\n",
      "collect_dataframe: input: ('249847', 'Informatique') & ('978187', '2008-2009') &('249108', 'Bachelor semestre 1') & ('null', 'null')\n",
      "collect_dataframe: input: ('249847', 'Informatique') & ('978187', '2008-2009') &('942175', 'Bachelor semestre 6') & ('null', 'null')\n",
      "collect_dataframe: input: ('249847', 'Informatique') & ('978187', '2008-2009') &('2226768', 'Bachelor semestre 5b') & ('null', 'null')\n",
      "collect_dataframe: input: ('249847', 'Informatique') & ('978187', '2008-2009') &('953159', 'Semestre automne') & ('null', 'null')\n",
      "collect_dataframe: input: ('249847', 'Informatique') & ('978187', '2008-2009') &('2230106', 'Master semestre 1') & ('null', 'null')\n",
      "collect_dataframe: input: ('249847', 'Informatique') & ('978187', '2008-2009') &('3781783', 'Projet Master printemps') & ('null', 'null')\n",
      "collect_dataframe: input: ('249847', 'Informatique') & ('978187', '2008-2009') &('983606', 'Stage printemps 3ème année') & ('null', 'null')\n",
      "collect_dataframe: input: ('249847', 'Informatique') & ('978187', '2008-2009') &('953137', 'Stage automne 3ème année') & ('null', 'null')\n",
      "collect_dataframe: input: ('249847', 'Informatique') & ('978187', '2008-2009') &('249127', 'Projet Master automne') & ('null', 'null')\n",
      "collect_dataframe: input: ('249847', 'Informatique') & ('978187', '2008-2009') &('2335667', 'Mineur semestre 1') & ('null', 'null')\n",
      "collect_dataframe: input: ('249847', 'Informatique') & ('978187', '2008-2009') &('942163', 'Bachelor semestre 4') & ('null', 'null')\n",
      "collect_dataframe: input: ('249847', 'Informatique') & ('213637754', '2013-2014') &('2230128', 'Master semestre 3') & ('null', 'null')\n",
      "collect_dataframe: input: ('249847', 'Informatique') & ('213637754', '2013-2014') &('2063602308', 'Mise à niveau') & ('null', 'null')\n",
      "collect_dataframe: input: ('249847', 'Informatique') & ('213637754', '2013-2014') &('2230140', 'Master semestre 4') & ('null', 'null')\n",
      "collect_dataframe: input: ('249847', 'Informatique') & ('213637754', '2013-2014') &('2335676', 'Mineur semestre 2') & ('null', 'null')\n",
      "collect_dataframe: input: ('249847', 'Informatique') & ('213637754', '2013-2014') &('2226616', 'Stage automne 4ème année') & ('null', 'null')\n",
      "collect_dataframe: input: ('249847', 'Informatique') & ('213637754', '2013-2014') &('249114', 'Bachelor semestre 2') & ('null', 'null')\n",
      "collect_dataframe: input: ('249847', 'Informatique') & ('213637754', '2013-2014') &('942120', 'Bachelor semestre 5') & ('null', 'null')\n",
      "collect_dataframe: input: ('249847', 'Informatique') & ('213637754', '2013-2014') &('2227132', 'Stage printemps master') & ('null', 'null')\n",
      "collect_dataframe: input: ('249847', 'Informatique') & ('213637754', '2013-2014') &('2754553', 'Semestre printemps') & ('null', 'null')\n",
      "collect_dataframe: input: ('249847', 'Informatique') & ('213637754', '2013-2014') &('942192', 'Master semestre 2') & ('null', 'null')\n",
      "collect_dataframe: input: ('249847', 'Informatique') & ('213637754', '2013-2014') &('2226626', 'Stage printemps 4ème année') & ('null', 'null')\n",
      "collect_dataframe: input: ('249847', 'Informatique') & ('213637754', '2013-2014') &('2226785', 'Bachelor semestre 6b') & ('null', 'null')\n",
      "collect_dataframe: input: ('249847', 'Informatique') & ('213637754', '2013-2014') &('942155', 'Bachelor semestre 3') & ('null', 'null')\n",
      "collect_dataframe: input: ('249847', 'Informatique') & ('213637754', '2013-2014') &('249108', 'Bachelor semestre 1') & ('null', 'null')\n",
      "collect_dataframe: input: ('249847', 'Informatique') & ('213637754', '2013-2014') &('942175', 'Bachelor semestre 6') & ('null', 'null')\n",
      "collect_dataframe: input: ('249847', 'Informatique') & ('213637754', '2013-2014') &('2226768', 'Bachelor semestre 5b') & ('null', 'null')\n",
      "collect_dataframe: input: ('249847', 'Informatique') & ('213637754', '2013-2014') &('953159', 'Semestre automne') & ('null', 'null')\n",
      "collect_dataframe: input: ('249847', 'Informatique') & ('213637754', '2013-2014') &('2230106', 'Master semestre 1') & ('null', 'null')\n",
      "collect_dataframe: input: ('249847', 'Informatique') & ('213637754', '2013-2014') &('3781783', 'Projet Master printemps') & ('null', 'null')\n",
      "collect_dataframe: input: ('249847', 'Informatique') & ('213637754', '2013-2014') &('983606', 'Stage printemps 3ème année') & ('null', 'null')\n",
      "collect_dataframe: input: ('249847', 'Informatique') & ('213637754', '2013-2014') &('953137', 'Stage automne 3ème année') & ('null', 'null')\n",
      "collect_dataframe: input: ('249847', 'Informatique') & ('213637754', '2013-2014') &('249127', 'Projet Master automne') & ('null', 'null')\n",
      "collect_dataframe: input: ('249847', 'Informatique') & ('213637754', '2013-2014') &('2335667', 'Mineur semestre 1') & ('null', 'null')\n",
      "collect_dataframe: input: ('249847', 'Informatique') & ('213637754', '2013-2014') &('942163', 'Bachelor semestre 4') & ('null', 'null')\n",
      "collect_dataframe: input: ('249847', 'Informatique') & ('123456101', '2012-2013') &('2230128', 'Master semestre 3') & ('null', 'null')\n",
      "collect_dataframe: input: ('249847', 'Informatique') & ('123456101', '2012-2013') &('2063602308', 'Mise à niveau') & ('null', 'null')\n",
      "collect_dataframe: input: ('249847', 'Informatique') & ('123456101', '2012-2013') &('2230140', 'Master semestre 4') & ('null', 'null')\n",
      "collect_dataframe: input: ('249847', 'Informatique') & ('123456101', '2012-2013') &('2335676', 'Mineur semestre 2') & ('null', 'null')\n",
      "collect_dataframe: input: ('249847', 'Informatique') & ('123456101', '2012-2013') &('2226616', 'Stage automne 4ème année') & ('null', 'null')\n",
      "collect_dataframe: input: ('249847', 'Informatique') & ('123456101', '2012-2013') &('249114', 'Bachelor semestre 2') & ('null', 'null')\n",
      "collect_dataframe: input: ('249847', 'Informatique') & ('123456101', '2012-2013') &('942120', 'Bachelor semestre 5') & ('null', 'null')\n",
      "collect_dataframe: input: ('249847', 'Informatique') & ('123456101', '2012-2013') &('2227132', 'Stage printemps master') & ('null', 'null')\n",
      "collect_dataframe: input: ('249847', 'Informatique') & ('123456101', '2012-2013') &('2754553', 'Semestre printemps') & ('null', 'null')\n",
      "collect_dataframe: input: ('249847', 'Informatique') & ('123456101', '2012-2013') &('942192', 'Master semestre 2') & ('null', 'null')\n",
      "collect_dataframe: input: ('249847', 'Informatique') & ('123456101', '2012-2013') &('2226626', 'Stage printemps 4ème année') & ('null', 'null')\n",
      "collect_dataframe: input: ('249847', 'Informatique') & ('123456101', '2012-2013') &('2226785', 'Bachelor semestre 6b') & ('null', 'null')\n",
      "collect_dataframe: input: ('249847', 'Informatique') & ('123456101', '2012-2013') &('942155', 'Bachelor semestre 3') & ('null', 'null')\n",
      "collect_dataframe: input: ('249847', 'Informatique') & ('123456101', '2012-2013') &('249108', 'Bachelor semestre 1') & ('null', 'null')\n",
      "collect_dataframe: input: ('249847', 'Informatique') & ('123456101', '2012-2013') &('942175', 'Bachelor semestre 6') & ('null', 'null')\n",
      "collect_dataframe: input: ('249847', 'Informatique') & ('123456101', '2012-2013') &('2226768', 'Bachelor semestre 5b') & ('null', 'null')\n",
      "collect_dataframe: input: ('249847', 'Informatique') & ('123456101', '2012-2013') &('953159', 'Semestre automne') & ('null', 'null')\n",
      "collect_dataframe: input: ('249847', 'Informatique') & ('123456101', '2012-2013') &('2230106', 'Master semestre 1') & ('null', 'null')\n",
      "collect_dataframe: input: ('249847', 'Informatique') & ('123456101', '2012-2013') &('3781783', 'Projet Master printemps') & ('null', 'null')\n",
      "collect_dataframe: input: ('249847', 'Informatique') & ('123456101', '2012-2013') &('983606', 'Stage printemps 3ème année') & ('null', 'null')\n",
      "collect_dataframe: input: ('249847', 'Informatique') & ('123456101', '2012-2013') &('953137', 'Stage automne 3ème année') & ('null', 'null')\n",
      "collect_dataframe: input: ('249847', 'Informatique') & ('123456101', '2012-2013') &('249127', 'Projet Master automne') & ('null', 'null')\n",
      "collect_dataframe: input: ('249847', 'Informatique') & ('123456101', '2012-2013') &('2335667', 'Mineur semestre 1') & ('null', 'null')\n",
      "collect_dataframe: input: ('249847', 'Informatique') & ('123456101', '2012-2013') &('942163', 'Bachelor semestre 4') & ('null', 'null')\n",
      "collect_dataframe: input: ('249847', 'Informatique') & ('978195', '2009-2010') &('2230128', 'Master semestre 3') & ('null', 'null')\n",
      "collect_dataframe: input: ('249847', 'Informatique') & ('978195', '2009-2010') &('2063602308', 'Mise à niveau') & ('null', 'null')\n",
      "collect_dataframe: input: ('249847', 'Informatique') & ('978195', '2009-2010') &('2230140', 'Master semestre 4') & ('null', 'null')\n",
      "collect_dataframe: input: ('249847', 'Informatique') & ('978195', '2009-2010') &('2335676', 'Mineur semestre 2') & ('null', 'null')\n",
      "collect_dataframe: input: ('249847', 'Informatique') & ('978195', '2009-2010') &('2226616', 'Stage automne 4ème année') & ('null', 'null')\n",
      "collect_dataframe: input: ('249847', 'Informatique') & ('978195', '2009-2010') &('249114', 'Bachelor semestre 2') & ('null', 'null')\n",
      "collect_dataframe: input: ('249847', 'Informatique') & ('978195', '2009-2010') &('942120', 'Bachelor semestre 5') & ('null', 'null')\n",
      "collect_dataframe: input: ('249847', 'Informatique') & ('978195', '2009-2010') &('2227132', 'Stage printemps master') & ('null', 'null')\n",
      "collect_dataframe: input: ('249847', 'Informatique') & ('978195', '2009-2010') &('2754553', 'Semestre printemps') & ('null', 'null')\n",
      "collect_dataframe: input: ('249847', 'Informatique') & ('978195', '2009-2010') &('942192', 'Master semestre 2') & ('null', 'null')\n",
      "collect_dataframe: input: ('249847', 'Informatique') & ('978195', '2009-2010') &('2226626', 'Stage printemps 4ème année') & ('null', 'null')\n",
      "collect_dataframe: input: ('249847', 'Informatique') & ('978195', '2009-2010') &('2226785', 'Bachelor semestre 6b') & ('null', 'null')\n",
      "collect_dataframe: input: ('249847', 'Informatique') & ('978195', '2009-2010') &('942155', 'Bachelor semestre 3') & ('null', 'null')\n",
      "collect_dataframe: input: ('249847', 'Informatique') & ('978195', '2009-2010') &('249108', 'Bachelor semestre 1') & ('null', 'null')\n",
      "collect_dataframe: input: ('249847', 'Informatique') & ('978195', '2009-2010') &('942175', 'Bachelor semestre 6') & ('null', 'null')\n",
      "collect_dataframe: input: ('249847', 'Informatique') & ('978195', '2009-2010') &('2226768', 'Bachelor semestre 5b') & ('null', 'null')\n",
      "collect_dataframe: input: ('249847', 'Informatique') & ('978195', '2009-2010') &('953159', 'Semestre automne') & ('null', 'null')\n",
      "collect_dataframe: input: ('249847', 'Informatique') & ('978195', '2009-2010') &('2230106', 'Master semestre 1') & ('null', 'null')\n",
      "collect_dataframe: input: ('249847', 'Informatique') & ('978195', '2009-2010') &('3781783', 'Projet Master printemps') & ('null', 'null')\n",
      "collect_dataframe: input: ('249847', 'Informatique') & ('978195', '2009-2010') &('983606', 'Stage printemps 3ème année') & ('null', 'null')\n",
      "collect_dataframe: input: ('249847', 'Informatique') & ('978195', '2009-2010') &('953137', 'Stage automne 3ème année') & ('null', 'null')\n",
      "collect_dataframe: input: ('249847', 'Informatique') & ('978195', '2009-2010') &('249127', 'Projet Master automne') & ('null', 'null')\n",
      "collect_dataframe: input: ('249847', 'Informatique') & ('978195', '2009-2010') &('2335667', 'Mineur semestre 1') & ('null', 'null')\n",
      "collect_dataframe: input: ('249847', 'Informatique') & ('978195', '2009-2010') &('942163', 'Bachelor semestre 4') & ('null', 'null')\n"
     ]
    }
   ],
   "source": [
    "# get the data\n",
    "header = ['Civilité', 'Nom_Prénom', 'Orientation_Bachelor', 'Orientation_Master', 'Spécialisation', 'Filière_opt.', 'Mineur', 'Statut', 'Type_Echange', 'Ecole_Echange', 'No_Sciper', 'title', 'periode_acad', 'periode_pedago']\n",
    "dframes = []\n",
    "for (ua, pa, pp) in perm_list:\n",
    "    res = collect_dataframe(ua, pa, pp,('null', 'null'), header)\n",
    "    [dframes.append(df) for df in res]\n"
   ]
  },
  {
   "cell_type": "code",
   "execution_count": 13,
   "metadata": {
    "collapsed": false
   },
   "outputs": [],
   "source": [
    "#concatenate\n",
    "all_data = pd.concat([df for df in dframes])"
   ]
  },
  {
   "cell_type": "code",
   "execution_count": 14,
   "metadata": {
    "collapsed": false,
    "scrolled": true
   },
   "outputs": [],
   "source": [
    "# write to file\n",
    "#all_data.to_csv('all_data.csv')"
   ]
  },
  {
   "cell_type": "code",
   "execution_count": 15,
   "metadata": {
    "collapsed": false
   },
   "outputs": [
    {
     "data": {
      "text/plain": [
       "8942"
      ]
     },
     "execution_count": 15,
     "metadata": {},
     "output_type": "execute_result"
    }
   ],
   "source": [
    "len(all_data)"
   ]
  },
  {
   "cell_type": "markdown",
   "metadata": {},
   "source": [
    "Note that the Mineur semestre X are always empty. That is why they dont appear here."
   ]
  },
  {
   "cell_type": "code",
   "execution_count": 16,
   "metadata": {
    "collapsed": false
   },
   "outputs": [
    {
     "data": {
      "text/plain": [
       "array(['Master semestre 3', 'Bachelor semestre 2', 'Bachelor semestre 5',\n",
       "       'Semestre printemps', 'Master semestre 2', 'Bachelor semestre 3',\n",
       "       'Bachelor semestre 1', 'Bachelor semestre 6', 'Semestre automne',\n",
       "       'Master semestre 1', 'Projet Master automne', 'Bachelor semestre 4',\n",
       "       'Projet Master printemps'], dtype=object)"
      ]
     },
     "execution_count": 16,
     "metadata": {},
     "output_type": "execute_result"
    }
   ],
   "source": [
    "all_data['periode_pedago'].unique()"
   ]
  },
  {
   "cell_type": "code",
   "execution_count": null,
   "metadata": {
    "collapsed": true
   },
   "outputs": [],
   "source": []
  }
 ],
 "metadata": {
  "anaconda-cloud": {},
  "kernelspec": {
   "display_name": "Python [Root]",
   "language": "python",
   "name": "Python [Root]"
  },
  "language_info": {
   "codemirror_mode": {
    "name": "ipython",
    "version": 3
   },
   "file_extension": ".py",
   "mimetype": "text/x-python",
   "name": "python",
   "nbconvert_exporter": "python",
   "pygments_lexer": "ipython3",
   "version": "3.5.2"
  }
 },
 "nbformat": 4,
 "nbformat_minor": 0
}
