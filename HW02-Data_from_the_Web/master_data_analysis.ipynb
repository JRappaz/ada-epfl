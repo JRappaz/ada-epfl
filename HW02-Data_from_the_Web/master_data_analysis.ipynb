{
 "cells": [
  {
   "cell_type": "code",
   "execution_count": 1,
   "metadata": {
    "collapsed": true
   },
   "outputs": [],
   "source": [
    "# imports (may be more than needed)\n",
    "import pandas as pd\n",
    "import numpy as np\n",
    "import glob # to find all files in folder\n",
    "from datetime import datetime\n",
    "from datetime import date, time\n",
    "from dateutil.parser import parse\n",
    "import seaborn as sns\n",
    "import matplotlib.pyplot as plt\n",
    "from matplotlib.pyplot import show\n",
    "import itertools\n",
    "%matplotlib inline\n",
    "sns.set_context('notebook')\n",
    "pd.options.mode.chained_assignment = None  # default='warn'\n"
   ]
  },
  {
   "cell_type": "markdown",
   "metadata": {},
   "source": [
    "#  Master Data\n",
    "_Obtain all the data for the Bachelor students, starting from 2007. Keep only the students for which you have an entry for both Bachelor semestre 1 and Bachelor semestre 6. Compute how many months it took each student to go from the first to the sixth semester. Partition the data between male and female students, and compute the average -- is the difference in average statistically significant?_\n",
    "\n",
    "\n",
    "2) Perform a similar operation to what described above, this time for Master students. Notice that this data is more tricky, as there are many missing records in the IS-Academia database. Therefore, try to guess how much time a master student spent at EPFL by at least checking the distance in months between Master semestre 1 and Master semestre 2. If the Mineur field is not empty, the student should also appear registered in Master semestre 3. Last but not the least, don't forget to check if the student has an entry also in the Projet Master tables. Once you can handle well this data, compute the \"average stay at EPFL\" for master students. Now extract all the students with a Spécialisation and compute the \"average stay\" per each category of that attribute -- compared to the general average, can you find any specialization for which the difference in average is statistically significant?"
   ]
  },
  {
   "cell_type": "markdown",
   "metadata": {},
   "source": [
    "## Read the data from csv"
   ]
  },
  {
   "cell_type": "code",
   "execution_count": 2,
   "metadata": {
    "collapsed": true
   },
   "outputs": [],
   "source": [
    "all_data = pd.read_csv('all_data.csv', usecols=['Civilité', 'Nom_Prénom', 'title', 'periode_acad', 'periode_pedago','Orientation_Master', 'Spécialisation', 'Filière_opt.', 'Mineur', 'Statut', 'Type_Echange', 'Ecole_Echange', 'No_Sciper'])"
   ]
  },
  {
   "cell_type": "code",
   "execution_count": 3,
   "metadata": {
    "collapsed": false,
    "scrolled": true
   },
   "outputs": [
    {
     "data": {
      "text/html": [
       "<div>\n",
       "<table border=\"1\" class=\"dataframe\">\n",
       "  <thead>\n",
       "    <tr style=\"text-align: right;\">\n",
       "      <th></th>\n",
       "      <th>Civilité</th>\n",
       "      <th>Nom_Prénom</th>\n",
       "      <th>Orientation_Master</th>\n",
       "      <th>Spécialisation</th>\n",
       "      <th>Filière_opt.</th>\n",
       "      <th>Mineur</th>\n",
       "      <th>Statut</th>\n",
       "      <th>Type_Echange</th>\n",
       "      <th>Ecole_Echange</th>\n",
       "      <th>No_Sciper</th>\n",
       "      <th>title</th>\n",
       "      <th>periode_acad</th>\n",
       "      <th>periode_pedago</th>\n",
       "    </tr>\n",
       "  </thead>\n",
       "  <tbody>\n",
       "    <tr>\n",
       "      <th>7567</th>\n",
       "      <td>Monsieur</td>\n",
       "      <td>Martin Damien</td>\n",
       "      <td>NaN</td>\n",
       "      <td>NaN</td>\n",
       "      <td>NaN</td>\n",
       "      <td>NaN</td>\n",
       "      <td>Présent</td>\n",
       "      <td>NaN</td>\n",
       "      <td>NaN</td>\n",
       "      <td>121367</td>\n",
       "      <td>Passerelle HES - IN, 2016-2017, Semestre automne</td>\n",
       "      <td>2016-2017</td>\n",
       "      <td>Semestre automne</td>\n",
       "    </tr>\n",
       "    <tr>\n",
       "      <th>8828</th>\n",
       "      <td>Monsieur</td>\n",
       "      <td>Gulati Asheesh</td>\n",
       "      <td>NaN</td>\n",
       "      <td>Internet computing</td>\n",
       "      <td>NaN</td>\n",
       "      <td>NaN</td>\n",
       "      <td>Présent</td>\n",
       "      <td>NaN</td>\n",
       "      <td>NaN</td>\n",
       "      <td>128911</td>\n",
       "      <td>Informatique, 2007-2008, Master semestre 3</td>\n",
       "      <td>2007-2008</td>\n",
       "      <td>Master semestre 3</td>\n",
       "    </tr>\n",
       "    <tr>\n",
       "      <th>8602</th>\n",
       "      <td>Monsieur</td>\n",
       "      <td>Gulati Asheesh</td>\n",
       "      <td>NaN</td>\n",
       "      <td>Internet computing</td>\n",
       "      <td>NaN</td>\n",
       "      <td>NaN</td>\n",
       "      <td>Présent</td>\n",
       "      <td>NaN</td>\n",
       "      <td>NaN</td>\n",
       "      <td>128911</td>\n",
       "      <td>Informatique, 2007-2008, Master semestre 2</td>\n",
       "      <td>2007-2008</td>\n",
       "      <td>Master semestre 2</td>\n",
       "    </tr>\n",
       "    <tr>\n",
       "      <th>8870</th>\n",
       "      <td>Monsieur</td>\n",
       "      <td>Zhou Maoan</td>\n",
       "      <td>NaN</td>\n",
       "      <td>NaN</td>\n",
       "      <td>NaN</td>\n",
       "      <td>NaN</td>\n",
       "      <td>Stage</td>\n",
       "      <td>NaN</td>\n",
       "      <td>NaN</td>\n",
       "      <td>129093</td>\n",
       "      <td>Informatique, 2007-2008, Master semestre 3</td>\n",
       "      <td>2007-2008</td>\n",
       "      <td>Master semestre 3</td>\n",
       "    </tr>\n",
       "    <tr>\n",
       "      <th>8654</th>\n",
       "      <td>Monsieur</td>\n",
       "      <td>Zhou Maoan</td>\n",
       "      <td>NaN</td>\n",
       "      <td>NaN</td>\n",
       "      <td>NaN</td>\n",
       "      <td>NaN</td>\n",
       "      <td>Présent</td>\n",
       "      <td>NaN</td>\n",
       "      <td>NaN</td>\n",
       "      <td>129093</td>\n",
       "      <td>Informatique, 2007-2008, Master semestre 2</td>\n",
       "      <td>2007-2008</td>\n",
       "      <td>Master semestre 2</td>\n",
       "    </tr>\n",
       "    <tr>\n",
       "      <th>7563</th>\n",
       "      <td>Monsieur</td>\n",
       "      <td>Essellak Radouane</td>\n",
       "      <td>NaN</td>\n",
       "      <td>NaN</td>\n",
       "      <td>NaN</td>\n",
       "      <td>NaN</td>\n",
       "      <td>Présent</td>\n",
       "      <td>NaN</td>\n",
       "      <td>NaN</td>\n",
       "      <td>129094</td>\n",
       "      <td>Passerelle HES - IN, 2016-2017, Semestre automne</td>\n",
       "      <td>2016-2017</td>\n",
       "      <td>Semestre automne</td>\n",
       "    </tr>\n",
       "    <tr>\n",
       "      <th>8848</th>\n",
       "      <td>Monsieur</td>\n",
       "      <td>Ni Zhong Zhong</td>\n",
       "      <td>NaN</td>\n",
       "      <td>NaN</td>\n",
       "      <td>NaN</td>\n",
       "      <td>NaN</td>\n",
       "      <td>Présent</td>\n",
       "      <td>NaN</td>\n",
       "      <td>NaN</td>\n",
       "      <td>129326</td>\n",
       "      <td>Informatique, 2007-2008, Master semestre 3</td>\n",
       "      <td>2007-2008</td>\n",
       "      <td>Master semestre 3</td>\n",
       "    </tr>\n",
       "    <tr>\n",
       "      <th>8631</th>\n",
       "      <td>Monsieur</td>\n",
       "      <td>Ni Zhong Zhong</td>\n",
       "      <td>NaN</td>\n",
       "      <td>NaN</td>\n",
       "      <td>NaN</td>\n",
       "      <td>NaN</td>\n",
       "      <td>Présent</td>\n",
       "      <td>NaN</td>\n",
       "      <td>NaN</td>\n",
       "      <td>129326</td>\n",
       "      <td>Informatique, 2007-2008, Master semestre 2</td>\n",
       "      <td>2007-2008</td>\n",
       "      <td>Master semestre 2</td>\n",
       "    </tr>\n",
       "    <tr>\n",
       "      <th>8407</th>\n",
       "      <td>Monsieur</td>\n",
       "      <td>Droz-dit-Busset Arnault</td>\n",
       "      <td>NaN</td>\n",
       "      <td>NaN</td>\n",
       "      <td>NaN</td>\n",
       "      <td>NaN</td>\n",
       "      <td>Présent</td>\n",
       "      <td>NaN</td>\n",
       "      <td>NaN</td>\n",
       "      <td>138088</td>\n",
       "      <td>Informatique, 2007-2008, Master semestre 1</td>\n",
       "      <td>2007-2008</td>\n",
       "      <td>Master semestre 1</td>\n",
       "    </tr>\n",
       "    <tr>\n",
       "      <th>8813</th>\n",
       "      <td>Monsieur</td>\n",
       "      <td>Clivaz Jean-Philippe</td>\n",
       "      <td>NaN</td>\n",
       "      <td>NaN</td>\n",
       "      <td>NaN</td>\n",
       "      <td>NaN</td>\n",
       "      <td>Présent</td>\n",
       "      <td>NaN</td>\n",
       "      <td>NaN</td>\n",
       "      <td>145546</td>\n",
       "      <td>Informatique, 2007-2008, Master semestre 3</td>\n",
       "      <td>2007-2008</td>\n",
       "      <td>Master semestre 3</td>\n",
       "    </tr>\n",
       "  </tbody>\n",
       "</table>\n",
       "</div>"
      ],
      "text/plain": [
       "      Civilité               Nom_Prénom  Orientation_Master  \\\n",
       "7567  Monsieur            Martin Damien                 NaN   \n",
       "8828  Monsieur           Gulati Asheesh                 NaN   \n",
       "8602  Monsieur           Gulati Asheesh                 NaN   \n",
       "8870  Monsieur               Zhou Maoan                 NaN   \n",
       "8654  Monsieur               Zhou Maoan                 NaN   \n",
       "7563  Monsieur        Essellak Radouane                 NaN   \n",
       "8848  Monsieur           Ni Zhong Zhong                 NaN   \n",
       "8631  Monsieur           Ni Zhong Zhong                 NaN   \n",
       "8407  Monsieur  Droz-dit-Busset Arnault                 NaN   \n",
       "8813  Monsieur     Clivaz Jean-Philippe                 NaN   \n",
       "\n",
       "          Spécialisation Filière_opt. Mineur   Statut Type_Echange  \\\n",
       "7567                 NaN          NaN    NaN  Présent          NaN   \n",
       "8828  Internet computing          NaN    NaN  Présent          NaN   \n",
       "8602  Internet computing          NaN    NaN  Présent          NaN   \n",
       "8870                 NaN          NaN    NaN    Stage          NaN   \n",
       "8654                 NaN          NaN    NaN  Présent          NaN   \n",
       "7563                 NaN          NaN    NaN  Présent          NaN   \n",
       "8848                 NaN          NaN    NaN  Présent          NaN   \n",
       "8631                 NaN          NaN    NaN  Présent          NaN   \n",
       "8407                 NaN          NaN    NaN  Présent          NaN   \n",
       "8813                 NaN          NaN    NaN  Présent          NaN   \n",
       "\n",
       "     Ecole_Echange  No_Sciper  \\\n",
       "7567           NaN     121367   \n",
       "8828           NaN     128911   \n",
       "8602           NaN     128911   \n",
       "8870           NaN     129093   \n",
       "8654           NaN     129093   \n",
       "7563           NaN     129094   \n",
       "8848           NaN     129326   \n",
       "8631           NaN     129326   \n",
       "8407           NaN     138088   \n",
       "8813           NaN     145546   \n",
       "\n",
       "                                                 title periode_acad  \\\n",
       "7567  Passerelle HES - IN, 2016-2017, Semestre automne    2016-2017   \n",
       "8828        Informatique, 2007-2008, Master semestre 3    2007-2008   \n",
       "8602        Informatique, 2007-2008, Master semestre 2    2007-2008   \n",
       "8870        Informatique, 2007-2008, Master semestre 3    2007-2008   \n",
       "8654        Informatique, 2007-2008, Master semestre 2    2007-2008   \n",
       "7563  Passerelle HES - IN, 2016-2017, Semestre automne    2016-2017   \n",
       "8848        Informatique, 2007-2008, Master semestre 3    2007-2008   \n",
       "8631        Informatique, 2007-2008, Master semestre 2    2007-2008   \n",
       "8407        Informatique, 2007-2008, Master semestre 1    2007-2008   \n",
       "8813        Informatique, 2007-2008, Master semestre 3    2007-2008   \n",
       "\n",
       "         periode_pedago  \n",
       "7567   Semestre automne  \n",
       "8828  Master semestre 3  \n",
       "8602  Master semestre 2  \n",
       "8870  Master semestre 3  \n",
       "8654  Master semestre 2  \n",
       "7563   Semestre automne  \n",
       "8848  Master semestre 3  \n",
       "8631  Master semestre 2  \n",
       "8407  Master semestre 1  \n",
       "8813  Master semestre 3  "
      ]
     },
     "execution_count": 3,
     "metadata": {},
     "output_type": "execute_result"
    }
   ],
   "source": [
    "all_data.sort_values(by='No_Sciper', axis=0).head(10)"
   ]
  },
  {
   "cell_type": "code",
   "execution_count": 4,
   "metadata": {
    "collapsed": false
   },
   "outputs": [
    {
     "data": {
      "text/plain": [
       "8942"
      ]
     },
     "execution_count": 4,
     "metadata": {},
     "output_type": "execute_result"
    }
   ],
   "source": [
    "len(all_data)"
   ]
  },
  {
   "cell_type": "markdown",
   "metadata": {},
   "source": [
    "## Clean the data"
   ]
  },
  {
   "cell_type": "code",
   "execution_count": 5,
   "metadata": {
    "collapsed": false
   },
   "outputs": [
    {
     "data": {
      "text/plain": [
       "array(['Bachelor semestre 5', 'Master semestre 1', 'Bachelor semestre 2',\n",
       "       'Bachelor semestre 6', 'Master semestre 2',\n",
       "       'Projet Master printemps', 'Bachelor semestre 3',\n",
       "       'Bachelor semestre 1', 'Master semestre 3', 'Semestre printemps',\n",
       "       'Projet Master automne', 'Semestre automne', 'Bachelor semestre 4'], dtype=object)"
      ]
     },
     "execution_count": 5,
     "metadata": {},
     "output_type": "execute_result"
    }
   ],
   "source": [
    "all_data['periode_pedago'].unique()"
   ]
  },
  {
   "cell_type": "code",
   "execution_count": 6,
   "metadata": {
    "collapsed": false
   },
   "outputs": [
    {
     "data": {
      "text/plain": [
       "array(['Informatique, 2009-2010, Bachelor semestre 5',\n",
       "       'Informatique, 2009-2010, Master semestre 1',\n",
       "       'Informatique, 2009-2010, Bachelor semestre 2',\n",
       "       'Informatique, 2009-2010, Bachelor semestre 6',\n",
       "       'Informatique, 2009-2010, Master semestre 2',\n",
       "       'Informatique, 2009-2010, Projet Master printemps',\n",
       "       'Informatique, 2009-2010, Bachelor semestre 3',\n",
       "       'Informatique, 2009-2010, Bachelor semestre 1',\n",
       "       'Informatique, 2009-2010, Master semestre 3',\n",
       "       'Passerelle HES - IN, 2009-2010, Semestre printemps',\n",
       "       'Informatique, 2009-2010, Projet Master automne',\n",
       "       'Passerelle HES - IN, 2009-2010, Semestre automne',\n",
       "       'Echange IN, 2009-2010, Semestre automne',\n",
       "       'Informatique, 2009-2010, Bachelor semestre 4',\n",
       "       'Informatique, 2014-2015, Bachelor semestre 5',\n",
       "       'Informatique, 2014-2015, Master semestre 1',\n",
       "       'Informatique, 2014-2015, Bachelor semestre 2',\n",
       "       'Informatique, 2014-2015, Bachelor semestre 6',\n",
       "       'Informatique, 2014-2015, Master semestre 2',\n",
       "       'Informatique, 2014-2015, Bachelor semestre 3',\n",
       "       'Informatique, 2014-2015, Bachelor semestre 1',\n",
       "       'Informatique, 2014-2015, Master semestre 3',\n",
       "       'Passerelle HES - IN, 2014-2015, Semestre printemps',\n",
       "       'Echange IN, 2014-2015, Semestre printemps',\n",
       "       'Informatique, 2014-2015, Projet Master automne',\n",
       "       'Passerelle HES - IN, 2014-2015, Semestre automne',\n",
       "       'Echange IN, 2014-2015, Semestre automne',\n",
       "       'Informatique, 2014-2015, Bachelor semestre 4',\n",
       "       'Informatique, 2012-2013, Bachelor semestre 5',\n",
       "       'Informatique, 2012-2013, Master semestre 1',\n",
       "       'Informatique, 2012-2013, Bachelor semestre 2',\n",
       "       'Informatique, 2012-2013, Bachelor semestre 6',\n",
       "       'Informatique, 2012-2013, Master semestre 2',\n",
       "       'Informatique, 2012-2013, Projet Master printemps',\n",
       "       'Informatique, 2012-2013, Bachelor semestre 3',\n",
       "       'Informatique, 2012-2013, Bachelor semestre 1',\n",
       "       'Informatique, 2012-2013, Master semestre 3',\n",
       "       'Passerelle HES - IN, 2012-2013, Semestre printemps',\n",
       "       'Informatique, 2012-2013, Projet Master automne',\n",
       "       'Passerelle HES - IN, 2012-2013, Semestre automne',\n",
       "       'Echange IN, 2012-2013, Semestre automne',\n",
       "       'Informatique, 2012-2013, Bachelor semestre 4',\n",
       "       'Informatique, 2008-2009, Bachelor semestre 5',\n",
       "       'Informatique, 2008-2009, Master semestre 1',\n",
       "       'Informatique, 2008-2009, Bachelor semestre 2',\n",
       "       'Informatique, 2008-2009, Bachelor semestre 6',\n",
       "       'Informatique, 2008-2009, Master semestre 2',\n",
       "       'Informatique, 2008-2009, Projet Master printemps',\n",
       "       'Passerelle HES - IN, 2008-2009, Bachelor semestre 3',\n",
       "       'Informatique, 2008-2009, Bachelor semestre 3',\n",
       "       'Informatique, 2008-2009, Bachelor semestre 1',\n",
       "       'Informatique, 2008-2009, Master semestre 3',\n",
       "       'Echange IN, 2008-2009, Semestre printemps',\n",
       "       'Informatique, 2008-2009, Projet Master automne',\n",
       "       'Echange IN, 2008-2009, Semestre automne',\n",
       "       'Informatique, 2008-2009, Bachelor semestre 4',\n",
       "       'Passerelle HES - IN, 2008-2009, Bachelor semestre 4',\n",
       "       'Informatique, 2015-2016, Bachelor semestre 5',\n",
       "       'Informatique, 2015-2016, Master semestre 1',\n",
       "       'Informatique, 2015-2016, Bachelor semestre 2',\n",
       "       'Informatique, 2015-2016, Bachelor semestre 6',\n",
       "       'Informatique, 2015-2016, Master semestre 2',\n",
       "       'Informatique, 2015-2016, Bachelor semestre 3',\n",
       "       'Informatique, 2015-2016, Bachelor semestre 1',\n",
       "       'Informatique, 2015-2016, Master semestre 3',\n",
       "       'Passerelle HES - IN, 2015-2016, Semestre printemps',\n",
       "       'Echange IN, 2015-2016, Semestre printemps',\n",
       "       'Informatique, 2015-2016, Projet Master automne',\n",
       "       'Echange IN, 2015-2016, Semestre automne',\n",
       "       'Passerelle HES - IN, 2015-2016, Semestre automne',\n",
       "       'Informatique, 2015-2016, Bachelor semestre 4',\n",
       "       'Informatique, 2011-2012, Bachelor semestre 5',\n",
       "       'Informatique, 2011-2012, Master semestre 1',\n",
       "       'Informatique, 2011-2012, Bachelor semestre 2',\n",
       "       'Informatique, 2011-2012, Bachelor semestre 6',\n",
       "       'Informatique, 2011-2012, Master semestre 2',\n",
       "       'Informatique, 2011-2012, Projet Master printemps',\n",
       "       'Informatique, 2011-2012, Bachelor semestre 3',\n",
       "       'Informatique, 2011-2012, Bachelor semestre 1',\n",
       "       'Informatique, 2011-2012, Master semestre 3',\n",
       "       'Passerelle HES - IN, 2011-2012, Semestre printemps',\n",
       "       'Echange IN, 2011-2012, Semestre printemps',\n",
       "       'Informatique, 2011-2012, Projet Master automne',\n",
       "       'Passerelle HES - IN, 2011-2012, Semestre automne',\n",
       "       'Echange IN, 2011-2012, Semestre automne',\n",
       "       'Informatique, 2011-2012, Bachelor semestre 4',\n",
       "       'Informatique, 2013-2014, Bachelor semestre 5',\n",
       "       'Informatique, 2013-2014, Master semestre 1',\n",
       "       'Informatique, 2013-2014, Bachelor semestre 2',\n",
       "       'Informatique, 2013-2014, Bachelor semestre 6',\n",
       "       'Informatique, 2013-2014, Master semestre 2',\n",
       "       'Informatique, 2013-2014, Projet Master printemps',\n",
       "       'Informatique, 2013-2014, Bachelor semestre 3',\n",
       "       'Informatique, 2013-2014, Bachelor semestre 1',\n",
       "       'Informatique, 2013-2014, Master semestre 3',\n",
       "       'Passerelle HES - IN, 2013-2014, Semestre printemps',\n",
       "       'Echange IN, 2013-2014, Semestre printemps',\n",
       "       'Informatique, 2013-2014, Projet Master automne',\n",
       "       'Echange IN, 2013-2014, Semestre automne',\n",
       "       'Passerelle HES - IN, 2013-2014, Semestre automne',\n",
       "       'Informatique, 2013-2014, Bachelor semestre 4',\n",
       "       'Informatique, 2016-2017, Bachelor semestre 5',\n",
       "       'Informatique, 2016-2017, Master semestre 1',\n",
       "       'Informatique, 2016-2017, Bachelor semestre 2',\n",
       "       'Informatique, 2016-2017, Bachelor semestre 6',\n",
       "       'Informatique, 2016-2017, Master semestre 2',\n",
       "       'Informatique, 2016-2017, Bachelor semestre 3',\n",
       "       'Informatique, 2016-2017, Bachelor semestre 1',\n",
       "       'Informatique, 2016-2017, Master semestre 3',\n",
       "       'Echange IN, 2016-2017, Semestre printemps',\n",
       "       'Informatique, 2016-2017, Projet Master automne',\n",
       "       'Echange IN, 2016-2017, Semestre automne',\n",
       "       'Passerelle HES - IN, 2016-2017, Semestre automne',\n",
       "       'Informatique, 2016-2017, Bachelor semestre 4',\n",
       "       'Informatique, 2010-2011, Bachelor semestre 5',\n",
       "       'Informatique, 2010-2011, Master semestre 1',\n",
       "       'Informatique, 2010-2011, Bachelor semestre 2',\n",
       "       'Informatique, 2010-2011, Bachelor semestre 6',\n",
       "       'Informatique, 2010-2011, Master semestre 2',\n",
       "       'Informatique, 2010-2011, Projet Master printemps',\n",
       "       'Informatique, 2010-2011, Bachelor semestre 3',\n",
       "       'Informatique, 2010-2011, Bachelor semestre 1',\n",
       "       'Informatique, 2010-2011, Master semestre 3',\n",
       "       'Echange IN, 2010-2011, Semestre printemps',\n",
       "       'Informatique, 2010-2011, Projet Master automne',\n",
       "       'Echange IN, 2010-2011, Semestre automne',\n",
       "       'Passerelle HES - IN, 2010-2011, Semestre automne',\n",
       "       'Informatique, 2010-2011, Bachelor semestre 4',\n",
       "       'Informatique, 2007-2008, Bachelor semestre 5',\n",
       "       'Informatique, 2007-2008, Master semestre 1',\n",
       "       'Informatique, 2007-2008, Bachelor semestre 2',\n",
       "       'Informatique, 2007-2008, Bachelor semestre 6',\n",
       "       'Informatique, 2007-2008, Master semestre 2',\n",
       "       'Informatique, 2007-2008, Projet Master printemps',\n",
       "       'Informatique, 2007-2008, Bachelor semestre 3',\n",
       "       'Passerelle HES - IN, 2007-2008, Bachelor semestre 3',\n",
       "       'Informatique, 2007-2008, Bachelor semestre 1',\n",
       "       'Informatique, 2007-2008, Master semestre 3',\n",
       "       'Echange IN, 2007-2008, Semestre printemps',\n",
       "       'Informatique, 2007-2008, Projet Master automne',\n",
       "       'Echange IN, 2007-2008, Semestre automne',\n",
       "       'Passerelle HES - IN, 2007-2008, Bachelor semestre 4',\n",
       "       'Informatique, 2007-2008, Bachelor semestre 4'], dtype=object)"
      ]
     },
     "execution_count": 6,
     "metadata": {},
     "output_type": "execute_result"
    }
   ],
   "source": [
    "all_data['title'].unique()"
   ]
  },
  {
   "cell_type": "markdown",
   "metadata": {},
   "source": [
    "checkout what the Semester printemps and automne are"
   ]
  },
  {
   "cell_type": "code",
   "execution_count": 7,
   "metadata": {
    "collapsed": false,
    "scrolled": true
   },
   "outputs": [
    {
     "data": {
      "text/plain": [
       "array(['Passerelle HES - IN, 2009-2010, Semestre printemps',\n",
       "       'Passerelle HES - IN, 2009-2010, Semestre automne',\n",
       "       'Echange IN, 2009-2010, Semestre automne',\n",
       "       'Passerelle HES - IN, 2014-2015, Semestre printemps',\n",
       "       'Echange IN, 2014-2015, Semestre printemps',\n",
       "       'Passerelle HES - IN, 2014-2015, Semestre automne',\n",
       "       'Echange IN, 2014-2015, Semestre automne',\n",
       "       'Passerelle HES - IN, 2012-2013, Semestre printemps',\n",
       "       'Passerelle HES - IN, 2012-2013, Semestre automne',\n",
       "       'Echange IN, 2012-2013, Semestre automne',\n",
       "       'Echange IN, 2008-2009, Semestre printemps',\n",
       "       'Echange IN, 2008-2009, Semestre automne',\n",
       "       'Passerelle HES - IN, 2015-2016, Semestre printemps',\n",
       "       'Echange IN, 2015-2016, Semestre printemps',\n",
       "       'Echange IN, 2015-2016, Semestre automne',\n",
       "       'Passerelle HES - IN, 2015-2016, Semestre automne',\n",
       "       'Passerelle HES - IN, 2011-2012, Semestre printemps',\n",
       "       'Echange IN, 2011-2012, Semestre printemps',\n",
       "       'Passerelle HES - IN, 2011-2012, Semestre automne',\n",
       "       'Echange IN, 2011-2012, Semestre automne',\n",
       "       'Passerelle HES - IN, 2013-2014, Semestre printemps',\n",
       "       'Echange IN, 2013-2014, Semestre printemps',\n",
       "       'Echange IN, 2013-2014, Semestre automne',\n",
       "       'Passerelle HES - IN, 2013-2014, Semestre automne',\n",
       "       'Echange IN, 2016-2017, Semestre printemps',\n",
       "       'Echange IN, 2016-2017, Semestre automne',\n",
       "       'Passerelle HES - IN, 2016-2017, Semestre automne',\n",
       "       'Echange IN, 2010-2011, Semestre printemps',\n",
       "       'Echange IN, 2010-2011, Semestre automne',\n",
       "       'Passerelle HES - IN, 2010-2011, Semestre automne',\n",
       "       'Echange IN, 2007-2008, Semestre printemps',\n",
       "       'Echange IN, 2007-2008, Semestre automne'], dtype=object)"
      ]
     },
     "execution_count": 7,
     "metadata": {},
     "output_type": "execute_result"
    }
   ],
   "source": [
    "all_data[all_data['periode_pedago'].isin(['Semestre printemps', 'Semestre automne'])]['title'].unique()"
   ]
  },
  {
   "cell_type": "markdown",
   "metadata": {},
   "source": [
    "This are the students exchange (students from other universities in exchange at EPFL) and students doing the Passerelle HES. Since the exchange students don't do a full master at EPFL we ignore them. Also we won't count students in Passerelle HES as beeing in the Master just yet because they have to succeed the passerelle to optain a master. So if they do a master they are inscribed in Master anyways."
   ]
  },
  {
   "cell_type": "code",
   "execution_count": 8,
   "metadata": {
    "collapsed": false
   },
   "outputs": [],
   "source": [
    "master_periode_pedago = ['Master semestre 1', 'Master semestre 2', 'Projet Master printemps', 'Master semestre 3', 'Projet Master automne']\n",
    "master_data = all_data[all_data['periode_pedago'].isin(master_periode_pedago)]"
   ]
  },
  {
   "cell_type": "markdown",
   "metadata": {},
   "source": [
    "remove the columns with only NaN (in case there is one)"
   ]
  },
  {
   "cell_type": "code",
   "execution_count": 9,
   "metadata": {
    "collapsed": false,
    "scrolled": true
   },
   "outputs": [],
   "source": [
    "master_data.dropna(axis=1, how='all', inplace=True)"
   ]
  },
  {
   "cell_type": "markdown",
   "metadata": {},
   "source": [
    "Rename the columns (remove the é and give shorter names)"
   ]
  },
  {
   "cell_type": "code",
   "execution_count": 10,
   "metadata": {
    "collapsed": false
   },
   "outputs": [],
   "source": [
    "master_data.rename(columns={'Civilité': 'Sex', 'Nom_Prénom': 'Name', 'Spécialisation': 'Specialisation'}, inplace=True)"
   ]
  },
  {
   "cell_type": "code",
   "execution_count": 11,
   "metadata": {
    "collapsed": false,
    "scrolled": true
   },
   "outputs": [
    {
     "data": {
      "text/plain": [
       "array(['Master semestre 1', 'Master semestre 2', 'Projet Master printemps',\n",
       "       'Master semestre 3', 'Projet Master automne'], dtype=object)"
      ]
     },
     "execution_count": 11,
     "metadata": {},
     "output_type": "execute_result"
    }
   ],
   "source": [
    "master_data['periode_pedago'].unique()"
   ]
  },
  {
   "cell_type": "markdown",
   "metadata": {
    "collapsed": false
   },
   "source": [
    "add some columns that make the use of the data easier later\n",
    "- store the start and end year of each entry ('2008-2009' -> 2008) and '2008-2009' -> 2009\n",
    "- make a column for master1, master2, master3 and and project master and indicate if done it (true and false)"
   ]
  },
  {
   "cell_type": "code",
   "execution_count": 12,
   "metadata": {
    "collapsed": false
   },
   "outputs": [
    {
     "data": {
      "text/plain": [
       "array(['2009-2010', '2014-2015', '2012-2013', '2008-2009', '2015-2016',\n",
       "       '2011-2012', '2013-2014', '2016-2017', '2010-2011', '2007-2008'], dtype=object)"
      ]
     },
     "execution_count": 12,
     "metadata": {},
     "output_type": "execute_result"
    }
   ],
   "source": [
    "master_data['periode_acad'].unique()"
   ]
  },
  {
   "cell_type": "code",
   "execution_count": 13,
   "metadata": {
    "collapsed": false
   },
   "outputs": [],
   "source": [
    "# store the year of the entry\n",
    "def start_year(student):\n",
    "    return int (student['periode_acad'].split('-')[0])\n",
    "master_data['start_year'] = master_data.apply(start_year, axis=1)\n",
    "master_data['end_year'] = master_data.apply(lambda st: start_year(st)+1, axis=1)"
   ]
  },
  {
   "cell_type": "code",
   "execution_count": 14,
   "metadata": {
    "collapsed": false
   },
   "outputs": [],
   "source": [
    "# make the indicator columns\n",
    "new_cols_map = {\n",
    "    'Master1': ['Master semestre 1'],\n",
    "    'Master2': ['Master semestre 2'],\n",
    "    'Master3': ['Master semestre 3'],\n",
    "    'Project_Master' : ['Projet Master printemps', 'Projet Master automne']\n",
    "}\n",
    "for (new_col_name, match_list) in new_cols_map.items():\n",
    "    master_data[new_col_name] = master_data.apply(lambda student: student['periode_pedago'] in match_list, axis=1)\n"
   ]
  },
  {
   "cell_type": "code",
   "execution_count": 15,
   "metadata": {
    "collapsed": false,
    "scrolled": true
   },
   "outputs": [
    {
     "data": {
      "text/html": [
       "<div>\n",
       "<table border=\"1\" class=\"dataframe\">\n",
       "  <thead>\n",
       "    <tr style=\"text-align: right;\">\n",
       "      <th></th>\n",
       "      <th>Sex</th>\n",
       "      <th>Name</th>\n",
       "      <th>Specialisation</th>\n",
       "      <th>Mineur</th>\n",
       "      <th>Statut</th>\n",
       "      <th>Type_Echange</th>\n",
       "      <th>Ecole_Echange</th>\n",
       "      <th>No_Sciper</th>\n",
       "      <th>title</th>\n",
       "      <th>periode_acad</th>\n",
       "      <th>periode_pedago</th>\n",
       "      <th>start_year</th>\n",
       "      <th>end_year</th>\n",
       "      <th>Master3</th>\n",
       "      <th>Master2</th>\n",
       "      <th>Project_Master</th>\n",
       "      <th>Master1</th>\n",
       "    </tr>\n",
       "  </thead>\n",
       "  <tbody>\n",
       "    <tr>\n",
       "      <th>3095</th>\n",
       "      <td>Madame</td>\n",
       "      <td>Benabdallah Zeineb</td>\n",
       "      <td>Biocomputing</td>\n",
       "      <td>NaN</td>\n",
       "      <td>Présent</td>\n",
       "      <td>NaN</td>\n",
       "      <td>NaN</td>\n",
       "      <td>154573</td>\n",
       "      <td>Informatique, 2008-2009, Master semestre 2</td>\n",
       "      <td>2008-2009</td>\n",
       "      <td>Master semestre 2</td>\n",
       "      <td>2008</td>\n",
       "      <td>2009</td>\n",
       "      <td>False</td>\n",
       "      <td>True</td>\n",
       "      <td>False</td>\n",
       "      <td>False</td>\n",
       "    </tr>\n",
       "    <tr>\n",
       "      <th>3337</th>\n",
       "      <td>Monsieur</td>\n",
       "      <td>Hottelier Thibaud</td>\n",
       "      <td>Foundations of Software</td>\n",
       "      <td>NaN</td>\n",
       "      <td>Présent</td>\n",
       "      <td>NaN</td>\n",
       "      <td>NaN</td>\n",
       "      <td>166229</td>\n",
       "      <td>Informatique, 2008-2009, Master semestre 3</td>\n",
       "      <td>2008-2009</td>\n",
       "      <td>Master semestre 3</td>\n",
       "      <td>2008</td>\n",
       "      <td>2009</td>\n",
       "      <td>True</td>\n",
       "      <td>False</td>\n",
       "      <td>False</td>\n",
       "      <td>False</td>\n",
       "    </tr>\n",
       "    <tr>\n",
       "      <th>4575</th>\n",
       "      <td>Monsieur</td>\n",
       "      <td>Hahling Robin Philippe</td>\n",
       "      <td>NaN</td>\n",
       "      <td>NaN</td>\n",
       "      <td>Présent</td>\n",
       "      <td>NaN</td>\n",
       "      <td>NaN</td>\n",
       "      <td>233184</td>\n",
       "      <td>Informatique, 2015-2016, Projet Master automne</td>\n",
       "      <td>2015-2016</td>\n",
       "      <td>Projet Master automne</td>\n",
       "      <td>2015</td>\n",
       "      <td>2016</td>\n",
       "      <td>False</td>\n",
       "      <td>False</td>\n",
       "      <td>True</td>\n",
       "      <td>False</td>\n",
       "    </tr>\n",
       "    <tr>\n",
       "      <th>5750</th>\n",
       "      <td>Monsieur</td>\n",
       "      <td>Martres Guillaume André Fradji</td>\n",
       "      <td>NaN</td>\n",
       "      <td>NaN</td>\n",
       "      <td>Stage</td>\n",
       "      <td>NaN</td>\n",
       "      <td>NaN</td>\n",
       "      <td>203085</td>\n",
       "      <td>Informatique, 2013-2014, Master semestre 1</td>\n",
       "      <td>2013-2014</td>\n",
       "      <td>Master semestre 1</td>\n",
       "      <td>2013</td>\n",
       "      <td>2014</td>\n",
       "      <td>False</td>\n",
       "      <td>False</td>\n",
       "      <td>False</td>\n",
       "      <td>True</td>\n",
       "    </tr>\n",
       "    <tr>\n",
       "      <th>2948</th>\n",
       "      <td>Monsieur</td>\n",
       "      <td>Popovic Miroslav</td>\n",
       "      <td>NaN</td>\n",
       "      <td>NaN</td>\n",
       "      <td>Présent</td>\n",
       "      <td>NaN</td>\n",
       "      <td>NaN</td>\n",
       "      <td>183055</td>\n",
       "      <td>Informatique, 2008-2009, Master semestre 1</td>\n",
       "      <td>2008-2009</td>\n",
       "      <td>Master semestre 1</td>\n",
       "      <td>2008</td>\n",
       "      <td>2009</td>\n",
       "      <td>False</td>\n",
       "      <td>False</td>\n",
       "      <td>False</td>\n",
       "      <td>True</td>\n",
       "    </tr>\n",
       "    <tr>\n",
       "      <th>329</th>\n",
       "      <td>Monsieur</td>\n",
       "      <td>Önal Cagri</td>\n",
       "      <td>Computer Engineering - SP</td>\n",
       "      <td>NaN</td>\n",
       "      <td>Présent</td>\n",
       "      <td>NaN</td>\n",
       "      <td>NaN</td>\n",
       "      <td>191354</td>\n",
       "      <td>Informatique, 2009-2010, Master semestre 2</td>\n",
       "      <td>2009-2010</td>\n",
       "      <td>Master semestre 2</td>\n",
       "      <td>2009</td>\n",
       "      <td>2010</td>\n",
       "      <td>False</td>\n",
       "      <td>True</td>\n",
       "      <td>False</td>\n",
       "      <td>False</td>\n",
       "    </tr>\n",
       "    <tr>\n",
       "      <th>4790</th>\n",
       "      <td>Monsieur</td>\n",
       "      <td>Hardy Diggory Benjamin</td>\n",
       "      <td>NaN</td>\n",
       "      <td>NaN</td>\n",
       "      <td>Présent</td>\n",
       "      <td>NaN</td>\n",
       "      <td>NaN</td>\n",
       "      <td>210637</td>\n",
       "      <td>Informatique, 2011-2012, Master semestre 1</td>\n",
       "      <td>2011-2012</td>\n",
       "      <td>Master semestre 1</td>\n",
       "      <td>2011</td>\n",
       "      <td>2012</td>\n",
       "      <td>False</td>\n",
       "      <td>False</td>\n",
       "      <td>False</td>\n",
       "      <td>True</td>\n",
       "    </tr>\n",
       "    <tr>\n",
       "      <th>3124</th>\n",
       "      <td>Monsieur</td>\n",
       "      <td>Koller Yannick</td>\n",
       "      <td>Biocomputing</td>\n",
       "      <td>NaN</td>\n",
       "      <td>Présent</td>\n",
       "      <td>NaN</td>\n",
       "      <td>NaN</td>\n",
       "      <td>169734</td>\n",
       "      <td>Informatique, 2008-2009, Master semestre 2</td>\n",
       "      <td>2008-2009</td>\n",
       "      <td>Master semestre 2</td>\n",
       "      <td>2008</td>\n",
       "      <td>2009</td>\n",
       "      <td>False</td>\n",
       "      <td>True</td>\n",
       "      <td>False</td>\n",
       "      <td>False</td>\n",
       "    </tr>\n",
       "    <tr>\n",
       "      <th>6884</th>\n",
       "      <td>Monsieur</td>\n",
       "      <td>Lazarev Nikita</td>\n",
       "      <td>NaN</td>\n",
       "      <td>NaN</td>\n",
       "      <td>Présent</td>\n",
       "      <td>NaN</td>\n",
       "      <td>NaN</td>\n",
       "      <td>268769</td>\n",
       "      <td>Informatique, 2016-2017, Master semestre 1</td>\n",
       "      <td>2016-2017</td>\n",
       "      <td>Master semestre 1</td>\n",
       "      <td>2016</td>\n",
       "      <td>2017</td>\n",
       "      <td>False</td>\n",
       "      <td>False</td>\n",
       "      <td>False</td>\n",
       "      <td>True</td>\n",
       "    </tr>\n",
       "    <tr>\n",
       "      <th>8869</th>\n",
       "      <td>Monsieur</td>\n",
       "      <td>Zheng Da</td>\n",
       "      <td>NaN</td>\n",
       "      <td>NaN</td>\n",
       "      <td>Stage</td>\n",
       "      <td>NaN</td>\n",
       "      <td>NaN</td>\n",
       "      <td>172221</td>\n",
       "      <td>Informatique, 2007-2008, Master semestre 3</td>\n",
       "      <td>2007-2008</td>\n",
       "      <td>Master semestre 3</td>\n",
       "      <td>2007</td>\n",
       "      <td>2008</td>\n",
       "      <td>True</td>\n",
       "      <td>False</td>\n",
       "      <td>False</td>\n",
       "      <td>False</td>\n",
       "    </tr>\n",
       "  </tbody>\n",
       "</table>\n",
       "</div>"
      ],
      "text/plain": [
       "           Sex                            Name             Specialisation  \\\n",
       "3095    Madame              Benabdallah Zeineb               Biocomputing   \n",
       "3337  Monsieur               Hottelier Thibaud    Foundations of Software   \n",
       "4575  Monsieur          Hahling Robin Philippe                        NaN   \n",
       "5750  Monsieur  Martres Guillaume André Fradji                        NaN   \n",
       "2948  Monsieur                Popovic Miroslav                        NaN   \n",
       "329   Monsieur                      Önal Cagri  Computer Engineering - SP   \n",
       "4790  Monsieur          Hardy Diggory Benjamin                        NaN   \n",
       "3124  Monsieur                  Koller Yannick               Biocomputing   \n",
       "6884  Monsieur                  Lazarev Nikita                        NaN   \n",
       "8869  Monsieur                        Zheng Da                        NaN   \n",
       "\n",
       "     Mineur   Statut Type_Echange Ecole_Echange  No_Sciper  \\\n",
       "3095    NaN  Présent          NaN           NaN     154573   \n",
       "3337    NaN  Présent          NaN           NaN     166229   \n",
       "4575    NaN  Présent          NaN           NaN     233184   \n",
       "5750    NaN    Stage          NaN           NaN     203085   \n",
       "2948    NaN  Présent          NaN           NaN     183055   \n",
       "329     NaN  Présent          NaN           NaN     191354   \n",
       "4790    NaN  Présent          NaN           NaN     210637   \n",
       "3124    NaN  Présent          NaN           NaN     169734   \n",
       "6884    NaN  Présent          NaN           NaN     268769   \n",
       "8869    NaN    Stage          NaN           NaN     172221   \n",
       "\n",
       "                                               title periode_acad  \\\n",
       "3095      Informatique, 2008-2009, Master semestre 2    2008-2009   \n",
       "3337      Informatique, 2008-2009, Master semestre 3    2008-2009   \n",
       "4575  Informatique, 2015-2016, Projet Master automne    2015-2016   \n",
       "5750      Informatique, 2013-2014, Master semestre 1    2013-2014   \n",
       "2948      Informatique, 2008-2009, Master semestre 1    2008-2009   \n",
       "329       Informatique, 2009-2010, Master semestre 2    2009-2010   \n",
       "4790      Informatique, 2011-2012, Master semestre 1    2011-2012   \n",
       "3124      Informatique, 2008-2009, Master semestre 2    2008-2009   \n",
       "6884      Informatique, 2016-2017, Master semestre 1    2016-2017   \n",
       "8869      Informatique, 2007-2008, Master semestre 3    2007-2008   \n",
       "\n",
       "             periode_pedago  start_year  end_year Master3 Master2  \\\n",
       "3095      Master semestre 2        2008      2009   False    True   \n",
       "3337      Master semestre 3        2008      2009    True   False   \n",
       "4575  Projet Master automne        2015      2016   False   False   \n",
       "5750      Master semestre 1        2013      2014   False   False   \n",
       "2948      Master semestre 1        2008      2009   False   False   \n",
       "329       Master semestre 2        2009      2010   False    True   \n",
       "4790      Master semestre 1        2011      2012   False   False   \n",
       "3124      Master semestre 2        2008      2009   False    True   \n",
       "6884      Master semestre 1        2016      2017   False   False   \n",
       "8869      Master semestre 3        2007      2008    True   False   \n",
       "\n",
       "     Project_Master Master1  \n",
       "3095          False   False  \n",
       "3337          False   False  \n",
       "4575           True   False  \n",
       "5750          False    True  \n",
       "2948          False    True  \n",
       "329           False   False  \n",
       "4790          False    True  \n",
       "3124          False   False  \n",
       "6884          False    True  \n",
       "8869          False   False  "
      ]
     },
     "execution_count": 15,
     "metadata": {},
     "output_type": "execute_result"
    }
   ],
   "source": [
    "# show the new master_data (sample randomly to keep it managable but still informative)\n",
    "master_data.sample(n = 10, axis=0, replace=False)"
   ]
  },
  {
   "cell_type": "markdown",
   "metadata": {},
   "source": [
    "We will remove all students that did certainly not finish the master. That is, we remove students that:\n",
    "- Have not done the Master 1 semestre. (There are not a lot of them (see later) and it is too cumbersome to track them and check if they eventually passed or not)\n",
    "- Did only 1 semester. (They did not pass)\n",
    "- Have a mineur or spec and did less than 3 semesters. (They also did not pass)\n",
    "- Are registered in the current semester (have not passed (yet))\n",
    "\n",
    "We also remove students that already have been studing in 2007 (the start of our data) because we can not tell how long they already have studied before.\n",
    "\n",
    "\n"
   ]
  },
  {
   "cell_type": "code",
   "execution_count": 16,
   "metadata": {
    "collapsed": false
   },
   "outputs": [
    {
     "data": {
      "text/plain": [
       "76"
      ]
     },
     "execution_count": 16,
     "metadata": {},
     "output_type": "execute_result"
    }
   ],
   "source": [
    "# find all students that have not done the 'master 1' semester -> have not studied enough to finish the master.\n",
    "grouped = master_data.groupby(by='No_Sciper')\n",
    "no_master_1 = pd.DataFrame(columns=['Civilité', 'Nom_Prénom', 'Orientation_Bachelor', 'Orientation_Master',\n",
    "      'Spécialisation', 'Filière_opt.', 'Mineur', 'Statut', 'Type_Echange',\n",
    "      'Ecole_Echange', 'No_Sciper', 'title', 'periode_acad',\n",
    "      'periode_pedago']) \n",
    "for scip, group in grouped:\n",
    "    if (group.periode_pedago != 'Master semestre 1').all():\n",
    "        no_master_1 = pd.concat([no_master_1, group])\n",
    "len(no_master_1.No_Sciper.unique())"
   ]
  },
  {
   "cell_type": "code",
   "execution_count": 17,
   "metadata": {
    "collapsed": false
   },
   "outputs": [
    {
     "data": {
      "text/plain": [
       "66"
      ]
     },
     "execution_count": 17,
     "metadata": {},
     "output_type": "execute_result"
    }
   ],
   "source": [
    "# all the students that already studied in the '2007-2008' year:\n",
    "df_2006 = no_master_1[no_master_1.periode_acad == '2007-2008']\n",
    "len(df_2006.No_Sciper.unique())"
   ]
  },
  {
   "cell_type": "markdown",
   "metadata": {},
   "source": [
    "remove the found students. The others will be removed later."
   ]
  },
  {
   "cell_type": "code",
   "execution_count": 18,
   "metadata": {
    "collapsed": false
   },
   "outputs": [],
   "source": [
    "sciper_to_remove = no_master_1['No_Sciper'].unique()\n",
    "master_data = master_data[~master_data['No_Sciper'].isin(sciper_to_remove)]"
   ]
  },
  {
   "cell_type": "markdown",
   "metadata": {},
   "source": [
    "Find all the students that are registered in the current semester and filter them."
   ]
  },
  {
   "cell_type": "code",
   "execution_count": 19,
   "metadata": {
    "collapsed": false
   },
   "outputs": [
    {
     "data": {
      "text/plain": [
       "315"
      ]
     },
     "execution_count": 19,
     "metadata": {},
     "output_type": "execute_result"
    }
   ],
   "source": [
    "study_now = pd.DataFrame(columns=['Civilité', 'Nom_Prénom', 'Orientation_Bachelor', 'Orientation_Master',\n",
    "      'Spécialisation', 'Filière_opt.', 'Mineur', 'Statut', 'Type_Echange',\n",
    "      'Ecole_Echange', 'No_Sciper', 'title', 'periode_acad',\n",
    "      'periode_pedago']) \n",
    "for scip, group in grouped:\n",
    "    if (group.periode_acad == '2016-2017').any():\n",
    "        study_now = pd.concat([study_now, group])\n",
    "len(study_now.No_Sciper.unique())"
   ]
  },
  {
   "cell_type": "markdown",
   "metadata": {},
   "source": [
    "... and remove them to"
   ]
  },
  {
   "cell_type": "code",
   "execution_count": 20,
   "metadata": {
    "collapsed": false
   },
   "outputs": [],
   "source": [
    "sciper_to_remove = study_now['No_Sciper'].unique()\n",
    "master_data = master_data[~master_data['No_Sciper'].isin(sciper_to_remove)]\n"
   ]
  },
  {
   "cell_type": "markdown",
   "metadata": {},
   "source": [
    "#### Groupby and aggregate by student"
   ]
  },
  {
   "cell_type": "code",
   "execution_count": 21,
   "metadata": {
    "collapsed": false,
    "scrolled": false
   },
   "outputs": [
    {
     "data": {
      "text/html": [
       "<div>\n",
       "<table border=\"1\" class=\"dataframe\">\n",
       "  <thead>\n",
       "    <tr style=\"text-align: right;\">\n",
       "      <th></th>\n",
       "      <th></th>\n",
       "      <th>Mineur</th>\n",
       "      <th>Name</th>\n",
       "      <th>No_Sciper</th>\n",
       "      <th>Sex</th>\n",
       "      <th>Specialisation</th>\n",
       "      <th>first_semestre</th>\n",
       "      <th>first_year</th>\n",
       "      <th>last_semestre</th>\n",
       "      <th>last_year</th>\n",
       "      <th>mineur_or_spe</th>\n",
       "      <th>nombre_semestres</th>\n",
       "      <th>project_master</th>\n",
       "      <th>semesters_done</th>\n",
       "      <th>to_remove</th>\n",
       "    </tr>\n",
       "  </thead>\n",
       "  <tbody>\n",
       "    <tr>\n",
       "      <th>0</th>\n",
       "      <th>0</th>\n",
       "      <td>NaN</td>\n",
       "      <td>Droz-dit-Busset Arnault</td>\n",
       "      <td>138088</td>\n",
       "      <td>Monsieur</td>\n",
       "      <td>NaN</td>\n",
       "      <td>Master semestre 1</td>\n",
       "      <td>2007</td>\n",
       "      <td>Master semestre 1</td>\n",
       "      <td>2008</td>\n",
       "      <td>False</td>\n",
       "      <td>1</td>\n",
       "      <td>False</td>\n",
       "      <td>[Master semestre 1]</td>\n",
       "      <td>True</td>\n",
       "    </tr>\n",
       "    <tr>\n",
       "      <th>1</th>\n",
       "      <th>0</th>\n",
       "      <td>NaN</td>\n",
       "      <td>Cardinaux Damien</td>\n",
       "      <td>146330</td>\n",
       "      <td>Monsieur</td>\n",
       "      <td>NaN</td>\n",
       "      <td>Master semestre 1</td>\n",
       "      <td>2007</td>\n",
       "      <td>Master semestre 3</td>\n",
       "      <td>2009</td>\n",
       "      <td>False</td>\n",
       "      <td>3</td>\n",
       "      <td>False</td>\n",
       "      <td>[Master semestre 1, Master semestre 2, Master ...</td>\n",
       "      <td>False</td>\n",
       "    </tr>\n",
       "    <tr>\n",
       "      <th>2</th>\n",
       "      <th>0</th>\n",
       "      <td>NaN</td>\n",
       "      <td>Marx Clément</td>\n",
       "      <td>146742</td>\n",
       "      <td>Monsieur</td>\n",
       "      <td>Signals, Images and Interfaces</td>\n",
       "      <td>Master semestre 1</td>\n",
       "      <td>2008</td>\n",
       "      <td>Master semestre 3</td>\n",
       "      <td>2013</td>\n",
       "      <td>True</td>\n",
       "      <td>7</td>\n",
       "      <td>True</td>\n",
       "      <td>[Master semestre 1, Master semestre 2, Master ...</td>\n",
       "      <td>False</td>\n",
       "    </tr>\n",
       "    <tr>\n",
       "      <th>3</th>\n",
       "      <th>0</th>\n",
       "      <td>NaN</td>\n",
       "      <td>Junod Antoine</td>\n",
       "      <td>146929</td>\n",
       "      <td>Monsieur</td>\n",
       "      <td>NaN</td>\n",
       "      <td>Master semestre 1</td>\n",
       "      <td>2007</td>\n",
       "      <td>Master semestre 2</td>\n",
       "      <td>2008</td>\n",
       "      <td>False</td>\n",
       "      <td>2</td>\n",
       "      <td>False</td>\n",
       "      <td>[Master semestre 1, Master semestre 2]</td>\n",
       "      <td>True</td>\n",
       "    </tr>\n",
       "    <tr>\n",
       "      <th>4</th>\n",
       "      <th>0</th>\n",
       "      <td>NaN</td>\n",
       "      <td>Good Xavier</td>\n",
       "      <td>147008</td>\n",
       "      <td>Monsieur</td>\n",
       "      <td>Signals, Images and Interfaces</td>\n",
       "      <td>Master semestre 1</td>\n",
       "      <td>2011</td>\n",
       "      <td>Master semestre 3</td>\n",
       "      <td>2013</td>\n",
       "      <td>True</td>\n",
       "      <td>4</td>\n",
       "      <td>False</td>\n",
       "      <td>[Master semestre 1, Master semestre 2, Master ...</td>\n",
       "      <td>False</td>\n",
       "    </tr>\n",
       "  </tbody>\n",
       "</table>\n",
       "</div>"
      ],
      "text/plain": [
       "    Mineur                     Name  No_Sciper       Sex  \\\n",
       "0 0    NaN  Droz-dit-Busset Arnault     138088  Monsieur   \n",
       "1 0    NaN         Cardinaux Damien     146330  Monsieur   \n",
       "2 0    NaN             Marx Clément     146742  Monsieur   \n",
       "3 0    NaN            Junod Antoine     146929  Monsieur   \n",
       "4 0    NaN              Good Xavier     147008  Monsieur   \n",
       "\n",
       "                     Specialisation     first_semestre  first_year  \\\n",
       "0 0                             NaN  Master semestre 1        2007   \n",
       "1 0                             NaN  Master semestre 1        2007   \n",
       "2 0  Signals, Images and Interfaces  Master semestre 1        2008   \n",
       "3 0                             NaN  Master semestre 1        2007   \n",
       "4 0  Signals, Images and Interfaces  Master semestre 1        2011   \n",
       "\n",
       "         last_semestre  last_year mineur_or_spe  nombre_semestres  \\\n",
       "0 0  Master semestre 1       2008         False                 1   \n",
       "1 0  Master semestre 3       2009         False                 3   \n",
       "2 0  Master semestre 3       2013          True                 7   \n",
       "3 0  Master semestre 2       2008         False                 2   \n",
       "4 0  Master semestre 3       2013          True                 4   \n",
       "\n",
       "    project_master                                     semesters_done  \\\n",
       "0 0          False                                [Master semestre 1]   \n",
       "1 0          False  [Master semestre 1, Master semestre 2, Master ...   \n",
       "2 0           True  [Master semestre 1, Master semestre 2, Master ...   \n",
       "3 0          False             [Master semestre 1, Master semestre 2]   \n",
       "4 0          False  [Master semestre 1, Master semestre 2, Master ...   \n",
       "\n",
       "    to_remove  \n",
       "0 0      True  \n",
       "1 0     False  \n",
       "2 0     False  \n",
       "3 0      True  \n",
       "4 0     False  "
      ]
     },
     "execution_count": 21,
     "metadata": {},
     "output_type": "execute_result"
    }
   ],
   "source": [
    "def group_master_data(grouped_entries):\n",
    "    # check that there are no two students with the same sciper number and different names or sex.\n",
    "    must_be_unique_list = ['Sex', 'Name'] #No_Scyper also but we group by it -> unique by construction\n",
    "    for unique_col in must_be_unique_list:\n",
    "        if(len(grouped_entries[unique_col].unique()) > 1): raise ValueError('Two students of different '+unique_col+' with same No_Sciper') \n",
    "    \n",
    "    #aggregate the cols\n",
    "    first_entry = grouped_entries.head(1)\n",
    "    df_map = {\n",
    "        'No_Sciper' : first_entry['No_Sciper'].values[0],\n",
    "        'Name' : first_entry['Name'].values[0],\n",
    "        'Sex' : first_entry['Sex'].values[0],\n",
    "        'Specialisation' : grouped_entries['Specialisation'].dropna().unique(), # all the spcs the student was inscribed to\n",
    "        'Mineur' : grouped_entries['Mineur'].dropna().unique(),# all the minors the student was inscribed to\n",
    "        'first_year': grouped_entries['start_year'].min(), # smallest start year entry\n",
    "        'last_year' : grouped_entries['end_year'].max(), # highest year a studend appears\n",
    "        #some brainfuck lines ;)\n",
    "        'first_semestre' : grouped_entries.sort_values(by=['start_year', 'periode_pedago'], axis=0, ascending=True)['periode_pedago'].values[0], # eg master1\n",
    "        'last_semestre' : grouped_entries.sort_values(by=['end_year', 'periode_pedago'], axis=0, ascending=False)['periode_pedago'].values[0], # the name of the last semester (eg. master 3)\n",
    "        'semesters_done' : grouped_entries.sort_values(by=['end_year'])['periode_pedago'].values,\n",
    "        'nombre_semestres' : len(grouped_entries), # how many different semesters the student did at epfl\n",
    "        'project_master' : grouped_entries['Project_Master'].sum() > 0 # if student did the master project\n",
    "    } \n",
    "    # if the student did any minor or spec\n",
    "    df_map['mineur_or_spe'] = len(df_map['Specialisation']) + len(df_map['Mineur']) > 0\n",
    "    # True if the student has not (yet) finished the master\n",
    "    df_map['to_remove'] = df_map['nombre_semestres'] <= 1 or (not df_map['mineur_or_spe'] and df_map['nombre_semestres'] <= 2)\n",
    "    \n",
    "    # if there are two spe, take the latest one\n",
    "    if len(df_map['Specialisation']) > 1:\n",
    "        df_map['Specialisation'] = grouped_entries[grouped_entries['end_year'] == df_map['last_year']]['Specialisation'].values[0]\n",
    "    elif len(df_map['Specialisation']) == 1:\n",
    "        df_map['Specialisation'] = df_map['Specialisation'][0] # take the spe out of the array\n",
    "        \n",
    "    # set correct NaNs\n",
    "    if len(df_map['Mineur']) == 0:\n",
    "        df_map['Mineur'] = np.nan\n",
    "    if len(df_map['Specialisation']) == 0:\n",
    "        df_map['Specialisation'] = np.nan\n",
    "    \n",
    "    # make Dataframe\n",
    "    for (k, v) in df_map.items():\n",
    "        df_map[k] = [v]\n",
    "    return pd.DataFrame.from_dict(df_map)\n",
    "    \n",
    "    \n",
    "grouped_master = master_data.groupby(by='No_Sciper', as_index=False, sort=True).apply(group_master_data)\n",
    "grouped_master.head()"
   ]
  },
  {
   "cell_type": "markdown",
   "metadata": {},
   "source": [
    "remove the students that have not finished their master (described above)"
   ]
  },
  {
   "cell_type": "code",
   "execution_count": 22,
   "metadata": {
    "collapsed": false
   },
   "outputs": [
    {
     "data": {
      "text/plain": [
       "127"
      ]
     },
     "execution_count": 22,
     "metadata": {},
     "output_type": "execute_result"
    }
   ],
   "source": [
    "students_to_remove = grouped_master[grouped_master['to_remove']]\n",
    "len(students_to_remove)"
   ]
  },
  {
   "cell_type": "code",
   "execution_count": 23,
   "metadata": {
    "collapsed": true
   },
   "outputs": [],
   "source": [
    "grouped_master = grouped_master[~grouped_master['to_remove']]"
   ]
  },
  {
   "cell_type": "markdown",
   "metadata": {},
   "source": [
    "Set the Sciper number as index"
   ]
  },
  {
   "cell_type": "code",
   "execution_count": 24,
   "metadata": {
    "collapsed": false
   },
   "outputs": [
    {
     "data": {
      "text/plain": [
       "461"
      ]
     },
     "execution_count": 24,
     "metadata": {},
     "output_type": "execute_result"
    }
   ],
   "source": [
    "grouped_master.set_index('No_Sciper', inplace=True)\n",
    "len(grouped_master)"
   ]
  },
  {
   "cell_type": "markdown",
   "metadata": {},
   "source": [
    "## How many month did it take each student"
   ]
  },
  {
   "cell_type": "markdown",
   "metadata": {},
   "source": [
    "First without any further cleaning and thinking"
   ]
  },
  {
   "cell_type": "code",
   "execution_count": 25,
   "metadata": {
    "collapsed": false
   },
   "outputs": [],
   "source": [
    "master_epfl = grouped_master.copy()"
   ]
  },
  {
   "cell_type": "code",
   "execution_count": 26,
   "metadata": {
    "collapsed": false,
    "scrolled": false
   },
   "outputs": [
    {
     "data": {
      "text/plain": [
       "(array([   0.,    4.,  252.,  142.,   48.,   12.,    2.,    1.]),\n",
       " array([ 1.,  2.,  3.,  4.,  5.,  6.,  7.,  8.,  9.]),\n",
       " <a list of 8 Patch objects>)"
      ]
     },
     "execution_count": 26,
     "metadata": {},
     "output_type": "execute_result"
    },
    {
     "data": {
      "image/png": "[encoded data removed]",
      "text/plain": [
       "<matplotlib.figure.Figure at 0x7fbdc8bd8208>"
      ]
     },
     "metadata": {},
     "output_type": "display_data"
    }
   ],
   "source": [
    "plt.hist(master_epfl['nombre_semestres'], bins=8, range=[1, 9])"
   ]
  },
  {
   "cell_type": "code",
   "execution_count": 27,
   "metadata": {
    "collapsed": false
   },
   "outputs": [
    {
     "data": {
      "text/html": [
       "<div>\n",
       "<table border=\"1\" class=\"dataframe\">\n",
       "  <thead>\n",
       "    <tr style=\"text-align: right;\">\n",
       "      <th></th>\n",
       "      <th>first_year</th>\n",
       "      <th>last_year</th>\n",
       "      <th>nombre_semestres</th>\n",
       "    </tr>\n",
       "  </thead>\n",
       "  <tbody>\n",
       "    <tr>\n",
       "      <th>count</th>\n",
       "      <td>461.000000</td>\n",
       "      <td>461.000000</td>\n",
       "      <td>461.000000</td>\n",
       "    </tr>\n",
       "    <tr>\n",
       "      <th>mean</th>\n",
       "      <td>2010.644252</td>\n",
       "      <td>2012.800434</td>\n",
       "      <td>3.613883</td>\n",
       "    </tr>\n",
       "    <tr>\n",
       "      <th>std</th>\n",
       "      <td>2.073464</td>\n",
       "      <td>2.083913</td>\n",
       "      <td>0.846054</td>\n",
       "    </tr>\n",
       "    <tr>\n",
       "      <th>min</th>\n",
       "      <td>2007.000000</td>\n",
       "      <td>2009.000000</td>\n",
       "      <td>2.000000</td>\n",
       "    </tr>\n",
       "    <tr>\n",
       "      <th>25%</th>\n",
       "      <td>2009.000000</td>\n",
       "      <td>2011.000000</td>\n",
       "      <td>3.000000</td>\n",
       "    </tr>\n",
       "    <tr>\n",
       "      <th>50%</th>\n",
       "      <td>2011.000000</td>\n",
       "      <td>2013.000000</td>\n",
       "      <td>3.000000</td>\n",
       "    </tr>\n",
       "    <tr>\n",
       "      <th>75%</th>\n",
       "      <td>2012.000000</td>\n",
       "      <td>2015.000000</td>\n",
       "      <td>4.000000</td>\n",
       "    </tr>\n",
       "    <tr>\n",
       "      <th>max</th>\n",
       "      <td>2014.000000</td>\n",
       "      <td>2016.000000</td>\n",
       "      <td>8.000000</td>\n",
       "    </tr>\n",
       "  </tbody>\n",
       "</table>\n",
       "</div>"
      ],
      "text/plain": [
       "        first_year    last_year  nombre_semestres\n",
       "count   461.000000   461.000000        461.000000\n",
       "mean   2010.644252  2012.800434          3.613883\n",
       "std       2.073464     2.083913          0.846054\n",
       "min    2007.000000  2009.000000          2.000000\n",
       "25%    2009.000000  2011.000000          3.000000\n",
       "50%    2011.000000  2013.000000          3.000000\n",
       "75%    2012.000000  2015.000000          4.000000\n",
       "max    2014.000000  2016.000000          8.000000"
      ]
     },
     "execution_count": 27,
     "metadata": {},
     "output_type": "execute_result"
    }
   ],
   "source": [
    "master_epfl.describe()"
   ]
  },
  {
   "cell_type": "markdown",
   "metadata": {},
   "source": [
    "The mean of the number of semesters is around 3.6 semesters.\n",
    "However not all students are registered in the the Master Project (missing data?), but in the plot above we assume everyone finished their master. \n",
    "So we add to all students that are not inscribed in a Master Project one semester:"
   ]
  },
  {
   "cell_type": "code",
   "execution_count": 28,
   "metadata": {
    "collapsed": false
   },
   "outputs": [],
   "source": [
    "def add_semester_if_no_PM(row):\n",
    "    t = row.nombre_semestres\n",
    "    if(not row.project_master):\n",
    "        return t + 1\n",
    "    else:\n",
    "        return t\n",
    "        \n",
    "master_added_sem = master_epfl.copy()\n",
    "master_added_sem['nombre_semestres'] = master_epfl.apply(add_semester_if_no_PM, axis=1)\n"
   ]
  },
  {
   "cell_type": "code",
   "execution_count": 29,
   "metadata": {
    "collapsed": false,
    "scrolled": true
   },
   "outputs": [
    {
     "data": {
      "text/html": [
       "<div>\n",
       "<table border=\"1\" class=\"dataframe\">\n",
       "  <thead>\n",
       "    <tr style=\"text-align: right;\">\n",
       "      <th></th>\n",
       "      <th>first_year</th>\n",
       "      <th>last_year</th>\n",
       "      <th>nombre_semestres</th>\n",
       "    </tr>\n",
       "  </thead>\n",
       "  <tbody>\n",
       "    <tr>\n",
       "      <th>count</th>\n",
       "      <td>461.000000</td>\n",
       "      <td>461.000000</td>\n",
       "      <td>461.000000</td>\n",
       "    </tr>\n",
       "    <tr>\n",
       "      <th>mean</th>\n",
       "      <td>2010.644252</td>\n",
       "      <td>2012.800434</td>\n",
       "      <td>4.492408</td>\n",
       "    </tr>\n",
       "    <tr>\n",
       "      <th>std</th>\n",
       "      <td>2.073464</td>\n",
       "      <td>2.083913</td>\n",
       "      <td>0.843419</td>\n",
       "    </tr>\n",
       "    <tr>\n",
       "      <th>min</th>\n",
       "      <td>2007.000000</td>\n",
       "      <td>2009.000000</td>\n",
       "      <td>3.000000</td>\n",
       "    </tr>\n",
       "    <tr>\n",
       "      <th>25%</th>\n",
       "      <td>2009.000000</td>\n",
       "      <td>2011.000000</td>\n",
       "      <td>4.000000</td>\n",
       "    </tr>\n",
       "    <tr>\n",
       "      <th>50%</th>\n",
       "      <td>2011.000000</td>\n",
       "      <td>2013.000000</td>\n",
       "      <td>4.000000</td>\n",
       "    </tr>\n",
       "    <tr>\n",
       "      <th>75%</th>\n",
       "      <td>2012.000000</td>\n",
       "      <td>2015.000000</td>\n",
       "      <td>5.000000</td>\n",
       "    </tr>\n",
       "    <tr>\n",
       "      <th>max</th>\n",
       "      <td>2014.000000</td>\n",
       "      <td>2016.000000</td>\n",
       "      <td>8.000000</td>\n",
       "    </tr>\n",
       "  </tbody>\n",
       "</table>\n",
       "</div>"
      ],
      "text/plain": [
       "        first_year    last_year  nombre_semestres\n",
       "count   461.000000   461.000000        461.000000\n",
       "mean   2010.644252  2012.800434          4.492408\n",
       "std       2.073464     2.083913          0.843419\n",
       "min    2007.000000  2009.000000          3.000000\n",
       "25%    2009.000000  2011.000000          4.000000\n",
       "50%    2011.000000  2013.000000          4.000000\n",
       "75%    2012.000000  2015.000000          5.000000\n",
       "max    2014.000000  2016.000000          8.000000"
      ]
     },
     "execution_count": 29,
     "metadata": {},
     "output_type": "execute_result"
    }
   ],
   "source": [
    "master_added_sem.describe()"
   ]
  },
  {
   "cell_type": "markdown",
   "metadata": {},
   "source": [
    "It made a big difference. But that seems reasonable since most students do a Mineur/Spe which makes already (at least) 4 semesters (MP included)"
   ]
  },
  {
   "cell_type": "code",
   "execution_count": 30,
   "metadata": {
    "collapsed": false
   },
   "outputs": [
    {
     "data": {
      "text/plain": [
       "(array([   0.,    0.,   19.,  267.,  118.,   45.,   10.,    2.]),\n",
       " array([ 1.,  2.,  3.,  4.,  5.,  6.,  7.,  8.,  9.]),\n",
       " <a list of 8 Patch objects>)"
      ]
     },
     "execution_count": 30,
     "metadata": {},
     "output_type": "execute_result"
    },
    {
     "data": {
      "image/png": "[encoded data removed]",
      "text/plain": [
       "<matplotlib.figure.Figure at 0x7fbdc89a7898>"
      ]
     },
     "metadata": {},
     "output_type": "display_data"
    }
   ],
   "source": [
    "plt.hist(master_added_sem['nombre_semestres'], bins=8, range=[1, 9])"
   ]
  },
  {
   "cell_type": "markdown",
   "metadata": {},
   "source": [
    "## And per specialisation\n",
    "We will take the 'added_semester' data since we think it is more accurate.\n",
    "Note that the average number of semesters is only 0.3 higher than the one of all students."
   ]
  },
  {
   "cell_type": "code",
   "execution_count": 31,
   "metadata": {
    "collapsed": false,
    "scrolled": true
   },
   "outputs": [
    {
     "data": {
      "text/html": [
       "<div>\n",
       "<table border=\"1\" class=\"dataframe\">\n",
       "  <thead>\n",
       "    <tr style=\"text-align: right;\">\n",
       "      <th></th>\n",
       "      <th>first_year</th>\n",
       "      <th>last_year</th>\n",
       "      <th>nombre_semestres</th>\n",
       "    </tr>\n",
       "  </thead>\n",
       "  <tbody>\n",
       "    <tr>\n",
       "      <th>count</th>\n",
       "      <td>174.000000</td>\n",
       "      <td>174.000000</td>\n",
       "      <td>174.000000</td>\n",
       "    </tr>\n",
       "    <tr>\n",
       "      <th>mean</th>\n",
       "      <td>2010.022989</td>\n",
       "      <td>2012.241379</td>\n",
       "      <td>4.729885</td>\n",
       "    </tr>\n",
       "    <tr>\n",
       "      <th>std</th>\n",
       "      <td>2.070866</td>\n",
       "      <td>2.147538</td>\n",
       "      <td>0.900561</td>\n",
       "    </tr>\n",
       "    <tr>\n",
       "      <th>min</th>\n",
       "      <td>2007.000000</td>\n",
       "      <td>2009.000000</td>\n",
       "      <td>3.000000</td>\n",
       "    </tr>\n",
       "    <tr>\n",
       "      <th>25%</th>\n",
       "      <td>2008.000000</td>\n",
       "      <td>2010.000000</td>\n",
       "      <td>4.000000</td>\n",
       "    </tr>\n",
       "    <tr>\n",
       "      <th>50%</th>\n",
       "      <td>2010.000000</td>\n",
       "      <td>2012.000000</td>\n",
       "      <td>5.000000</td>\n",
       "    </tr>\n",
       "    <tr>\n",
       "      <th>75%</th>\n",
       "      <td>2012.000000</td>\n",
       "      <td>2014.000000</td>\n",
       "      <td>5.000000</td>\n",
       "    </tr>\n",
       "    <tr>\n",
       "      <th>max</th>\n",
       "      <td>2014.000000</td>\n",
       "      <td>2016.000000</td>\n",
       "      <td>7.000000</td>\n",
       "    </tr>\n",
       "  </tbody>\n",
       "</table>\n",
       "</div>"
      ],
      "text/plain": [
       "        first_year    last_year  nombre_semestres\n",
       "count   174.000000   174.000000        174.000000\n",
       "mean   2010.022989  2012.241379          4.729885\n",
       "std       2.070866     2.147538          0.900561\n",
       "min    2007.000000  2009.000000          3.000000\n",
       "25%    2008.000000  2010.000000          4.000000\n",
       "50%    2010.000000  2012.000000          5.000000\n",
       "75%    2012.000000  2014.000000          5.000000\n",
       "max    2014.000000  2016.000000          7.000000"
      ]
     },
     "execution_count": 31,
     "metadata": {},
     "output_type": "execute_result"
    }
   ],
   "source": [
    "master_with_spe = master_added_sem[~pd.isnull(master_added_sem['Specialisation'])]\n",
    "master_with_spe.describe()"
   ]
  },
  {
   "cell_type": "markdown",
   "metadata": {},
   "source": [
    "almost 50% of all students do a minor or a specialisation:"
   ]
  },
  {
   "cell_type": "code",
   "execution_count": 32,
   "metadata": {
    "collapsed": false
   },
   "outputs": [
    {
     "data": {
      "text/plain": [
       "37.74403470715835"
      ]
     },
     "execution_count": 32,
     "metadata": {},
     "output_type": "execute_result"
    }
   ],
   "source": [
    "# how many percent of students do a specialisation\n",
    "100/len(master_added_sem) * len(master_with_spe)"
   ]
  },
  {
   "cell_type": "code",
   "execution_count": 33,
   "metadata": {
    "collapsed": false
   },
   "outputs": [
    {
     "data": {
      "text/plain": [
       "12.79826464208243"
      ]
     },
     "execution_count": 33,
     "metadata": {},
     "output_type": "execute_result"
    }
   ],
   "source": [
    "# how many percent of students do a minor\n",
    "100/len(master_added_sem) * len(master_added_sem[~pd.isnull(master_added_sem['Mineur'])])"
   ]
  },
  {
   "cell_type": "markdown",
   "metadata": {},
   "source": [
    "What are the different specialisations and how popular are they?"
   ]
  },
  {
   "cell_type": "code",
   "execution_count": 34,
   "metadata": {
    "collapsed": false
   },
   "outputs": [
    {
     "data": {
      "text/plain": [
       "array(['Signals, Images and Interfaces', 'Internet computing',\n",
       "       'Biocomputing', 'Foundations of Software',\n",
       "       'Computer Engineering - SP', 'Service science', 'Software Systems'], dtype=object)"
      ]
     },
     "execution_count": 34,
     "metadata": {},
     "output_type": "execute_result"
    }
   ],
   "source": [
    "# The different specialisations\n",
    "master_with_spe['Specialisation'].unique()"
   ]
  },
  {
   "cell_type": "markdown",
   "metadata": {},
   "source": [
    "A nice plot showing that there is a huge difference in the number of people taking the different Specialisations"
   ]
  },
  {
   "cell_type": "code",
   "execution_count": 35,
   "metadata": {
    "collapsed": false
   },
   "outputs": [
    {
     "data": {
      "image/png": "[encoded data removed]",
      "text/plain": [
       "<matplotlib.figure.Figure at 0x7fbdc8b83b70>"
      ]
     },
     "metadata": {},
     "output_type": "display_data"
    }
   ],
   "source": [
    "sns.countplot(y=\"Specialisation\", data=master_with_spe);"
   ]
  },
  {
   "cell_type": "markdown",
   "metadata": {},
   "source": [
    "In the time taken to colmplete their studies they don't differ a lot.\n",
    "(The red dotted line is the averarge of all students, the blue line the average of the students with specialisations, the black bar is the confidence interval)"
   ]
  },
  {
   "cell_type": "code",
   "execution_count": 36,
   "metadata": {
    "collapsed": false,
    "scrolled": false
   },
   "outputs": [
    {
     "data": {
      "text/plain": [
       "<matplotlib.lines.Line2D at 0x7fbdc846a198>"
      ]
     },
     "execution_count": 36,
     "metadata": {},
     "output_type": "execute_result"
    },
    {
     "data": {
      "image/png": "[encoded data removed]",
      "text/plain": [
       "<matplotlib.figure.Figure at 0x7fbdc846a2b0>"
      ]
     },
     "metadata": {},
     "output_type": "display_data"
    }
   ],
   "source": [
    "ax = sns.barplot(x='nombre_semestres', y='Specialisation', data=master_with_spe);\n",
    "plt.axvline(master_with_spe['nombre_semestres'].mean(), color='b', linestyle='dashed', linewidth=2)\n",
    "plt.axvline(master_added_sem['nombre_semestres'].mean(), color='r', linestyle='dashed', linewidth=2)"
   ]
  },
  {
   "cell_type": "markdown",
   "metadata": {},
   "source": [
    "Compared to all master students, it seems that only the first two specs actually inply a longer stay at EPFL (their confidence interval just barely don't touch the general mean)"
   ]
  },
  {
   "cell_type": "code",
   "execution_count": 37,
   "metadata": {
    "collapsed": false
   },
   "outputs": [],
   "source": [
    "def calc_diff_from_average(col, average):\n",
    "    return (lambda row: row[col] - average)\n",
    "master_with_spe['diff_from_average'] = master_with_spe.apply(calc_diff_from_average('nombre_semestres', master_added_sem['nombre_semestres'].mean()), axis=1)"
   ]
  },
  {
   "cell_type": "code",
   "execution_count": 38,
   "metadata": {
    "collapsed": false,
    "scrolled": true
   },
   "outputs": [
    {
     "data": {
      "image/png": "[encoded data removed]",
      "text/plain": [
       "<matplotlib.figure.Figure at 0x7fbdc83d5b38>"
      ]
     },
     "metadata": {},
     "output_type": "display_data"
    }
   ],
   "source": [
    "sns.barplot(x='diff_from_average', y='Specialisation', data=master_with_spe);"
   ]
  },
  {
   "cell_type": "markdown",
   "metadata": {},
   "source": [
    "### Test if the difference in average is statistically significant for each spec"
   ]
  },
  {
   "cell_type": "code",
   "execution_count": 39,
   "metadata": {
    "collapsed": true
   },
   "outputs": [],
   "source": [
    "import scipy.stats as stats"
   ]
  },
  {
   "cell_type": "markdown",
   "metadata": {},
   "source": [
    "We want to see if the difference of the average number of semesters for a particular specialisation and for all the master students in informatique are statistically significant with a threshold of 95%\n",
    "\n",
    "We use a Welch's T-Test (which does not assume equal population variance): it measures whether the average  value differs significantly across samples."
   ]
  },
  {
   "cell_type": "code",
   "execution_count": 40,
   "metadata": {
    "collapsed": false
   },
   "outputs": [
    {
     "name": "stdout",
     "output_type": "stream",
     "text": [
      "Signals, Images and Interfaces\n",
      "Ttest_indResult(statistic=2.1283292284075954, pvalue=0.044125577358993986)\n",
      "\n",
      "\n",
      "Internet computing\n",
      "Ttest_indResult(statistic=2.220772029835635, pvalue=0.028748167488286149)\n",
      "\n",
      "\n",
      "Biocomputing\n",
      "Ttest_indResult(statistic=0.87714755819307277, pvalue=0.44443863031319558)\n",
      "\n",
      "\n",
      "Foundations of Software\n",
      "Ttest_indResult(statistic=1.7541617707686779, pvalue=0.084619810630796433)\n",
      "\n",
      "\n",
      "Computer Engineering - SP\n",
      "Ttest_indResult(statistic=-1.0787477274177004, pvalue=0.3006969215079382)\n",
      "\n",
      "\n",
      "Service science\n",
      "Ttest_indResult(statistic=-0.47394379657037139, pvalue=0.6811170614366413)\n",
      "\n",
      "\n",
      "Software Systems\n",
      "Ttest_indResult(statistic=0.039333365228377604, pvalue=0.9696357967944409)\n",
      "\n",
      "\n"
     ]
    }
   ],
   "source": [
    "specialisation = master_with_spe.Specialisation.unique()\n",
    "\n",
    "for spec in specialisation:\n",
    "    print(spec)\n",
    "    data_spec = master_with_spe[master_with_spe.Specialisation == spec]\n",
    "    print (stats.ttest_ind(a = data_spec.nombre_semestres, b= master_added_sem.nombre_semestres, equal_var=False))\n",
    "    print('\\n')"
   ]
  },
  {
   "cell_type": "markdown",
   "metadata": {},
   "source": [
    "\n",
    "Only _Signals, Images and Interfaces_ and _Internet computing_ have a pvalue < 0.05 (pvalue = 0.044 and 0.028 resp.) thus we can reject the null hypothesis and tell that the difference is significant.\n",
    "\n",
    "For all other specialisation we cannot reject the null hypothesis of identical average scores (pvalue > 0.05), which means: for those specialisation we cannot say that the difference is in average statistically significant"
   ]
  },
  {
   "cell_type": "markdown",
   "metadata": {},
   "source": [
    "## Female vs Male (Optional)"
   ]
  },
  {
   "cell_type": "markdown",
   "metadata": {},
   "source": [
    "Except for the number of students, male and females are quite similar"
   ]
  },
  {
   "cell_type": "code",
   "execution_count": 41,
   "metadata": {
    "collapsed": false,
    "scrolled": true
   },
   "outputs": [
    {
     "data": {
      "text/html": [
       "<div>\n",
       "<table border=\"1\" class=\"dataframe\">\n",
       "  <thead>\n",
       "    <tr style=\"text-align: right;\">\n",
       "      <th></th>\n",
       "      <th>first_year</th>\n",
       "      <th>last_year</th>\n",
       "      <th>nombre_semestres</th>\n",
       "    </tr>\n",
       "  </thead>\n",
       "  <tbody>\n",
       "    <tr>\n",
       "      <th>count</th>\n",
       "      <td>64.000000</td>\n",
       "      <td>64.000000</td>\n",
       "      <td>64.000000</td>\n",
       "    </tr>\n",
       "    <tr>\n",
       "      <th>mean</th>\n",
       "      <td>2010.828125</td>\n",
       "      <td>2012.968750</td>\n",
       "      <td>4.484375</td>\n",
       "    </tr>\n",
       "    <tr>\n",
       "      <th>std</th>\n",
       "      <td>1.830558</td>\n",
       "      <td>1.868441</td>\n",
       "      <td>0.959368</td>\n",
       "    </tr>\n",
       "    <tr>\n",
       "      <th>min</th>\n",
       "      <td>2007.000000</td>\n",
       "      <td>2009.000000</td>\n",
       "      <td>3.000000</td>\n",
       "    </tr>\n",
       "    <tr>\n",
       "      <th>25%</th>\n",
       "      <td>2010.000000</td>\n",
       "      <td>2012.000000</td>\n",
       "      <td>4.000000</td>\n",
       "    </tr>\n",
       "    <tr>\n",
       "      <th>50%</th>\n",
       "      <td>2011.000000</td>\n",
       "      <td>2013.000000</td>\n",
       "      <td>4.000000</td>\n",
       "    </tr>\n",
       "    <tr>\n",
       "      <th>75%</th>\n",
       "      <td>2012.000000</td>\n",
       "      <td>2014.250000</td>\n",
       "      <td>5.000000</td>\n",
       "    </tr>\n",
       "    <tr>\n",
       "      <th>max</th>\n",
       "      <td>2014.000000</td>\n",
       "      <td>2016.000000</td>\n",
       "      <td>8.000000</td>\n",
       "    </tr>\n",
       "  </tbody>\n",
       "</table>\n",
       "</div>"
      ],
      "text/plain": [
       "        first_year    last_year  nombre_semestres\n",
       "count    64.000000    64.000000         64.000000\n",
       "mean   2010.828125  2012.968750          4.484375\n",
       "std       1.830558     1.868441          0.959368\n",
       "min    2007.000000  2009.000000          3.000000\n",
       "25%    2010.000000  2012.000000          4.000000\n",
       "50%    2011.000000  2013.000000          4.000000\n",
       "75%    2012.000000  2014.250000          5.000000\n",
       "max    2014.000000  2016.000000          8.000000"
      ]
     },
     "execution_count": 41,
     "metadata": {},
     "output_type": "execute_result"
    }
   ],
   "source": [
    "Female = master_added_sem[master_added_sem.Sex == 'Madame']\n",
    "Female.describe()"
   ]
  },
  {
   "cell_type": "code",
   "execution_count": 42,
   "metadata": {
    "collapsed": false
   },
   "outputs": [
    {
     "data": {
      "text/html": [
       "<div>\n",
       "<table border=\"1\" class=\"dataframe\">\n",
       "  <thead>\n",
       "    <tr style=\"text-align: right;\">\n",
       "      <th></th>\n",
       "      <th>first_year</th>\n",
       "      <th>last_year</th>\n",
       "      <th>nombre_semestres</th>\n",
       "    </tr>\n",
       "  </thead>\n",
       "  <tbody>\n",
       "    <tr>\n",
       "      <th>count</th>\n",
       "      <td>397.000000</td>\n",
       "      <td>397.000000</td>\n",
       "      <td>397.000000</td>\n",
       "    </tr>\n",
       "    <tr>\n",
       "      <th>mean</th>\n",
       "      <td>2010.614610</td>\n",
       "      <td>2012.773300</td>\n",
       "      <td>4.493703</td>\n",
       "    </tr>\n",
       "    <tr>\n",
       "      <th>std</th>\n",
       "      <td>2.110601</td>\n",
       "      <td>2.117506</td>\n",
       "      <td>0.824551</td>\n",
       "    </tr>\n",
       "    <tr>\n",
       "      <th>min</th>\n",
       "      <td>2007.000000</td>\n",
       "      <td>2009.000000</td>\n",
       "      <td>3.000000</td>\n",
       "    </tr>\n",
       "    <tr>\n",
       "      <th>25%</th>\n",
       "      <td>2009.000000</td>\n",
       "      <td>2011.000000</td>\n",
       "      <td>4.000000</td>\n",
       "    </tr>\n",
       "    <tr>\n",
       "      <th>50%</th>\n",
       "      <td>2011.000000</td>\n",
       "      <td>2013.000000</td>\n",
       "      <td>4.000000</td>\n",
       "    </tr>\n",
       "    <tr>\n",
       "      <th>75%</th>\n",
       "      <td>2012.000000</td>\n",
       "      <td>2015.000000</td>\n",
       "      <td>5.000000</td>\n",
       "    </tr>\n",
       "    <tr>\n",
       "      <th>max</th>\n",
       "      <td>2014.000000</td>\n",
       "      <td>2016.000000</td>\n",
       "      <td>8.000000</td>\n",
       "    </tr>\n",
       "  </tbody>\n",
       "</table>\n",
       "</div>"
      ],
      "text/plain": [
       "        first_year    last_year  nombre_semestres\n",
       "count   397.000000   397.000000        397.000000\n",
       "mean   2010.614610  2012.773300          4.493703\n",
       "std       2.110601     2.117506          0.824551\n",
       "min    2007.000000  2009.000000          3.000000\n",
       "25%    2009.000000  2011.000000          4.000000\n",
       "50%    2011.000000  2013.000000          4.000000\n",
       "75%    2012.000000  2015.000000          5.000000\n",
       "max    2014.000000  2016.000000          8.000000"
      ]
     },
     "execution_count": 42,
     "metadata": {},
     "output_type": "execute_result"
    }
   ],
   "source": [
    "Male = master_added_sem[master_added_sem.Sex == 'Monsieur']\n",
    "Male.describe()"
   ]
  },
  {
   "cell_type": "markdown",
   "metadata": {},
   "source": [
    "We want to see if the difference of the average years for female and male are statistically significant with a threshold of 95%\n",
    "\n",
    "We use a Welch's T-Test (which does not assume equal population variance): it measures whether the average  value differs significantly across samples."
   ]
  },
  {
   "cell_type": "code",
   "execution_count": 43,
   "metadata": {
    "collapsed": false
   },
   "outputs": [
    {
     "data": {
      "text/plain": [
       "Ttest_indResult(statistic=-0.073527746097899985, pvalue=0.94157267816404788)"
      ]
     },
     "execution_count": 43,
     "metadata": {},
     "output_type": "execute_result"
    }
   ],
   "source": [
    "stats.ttest_ind(a = Female.nombre_semestres, b= Male.nombre_semestres, equal_var=False)"
   ]
  },
  {
   "cell_type": "markdown",
   "metadata": {},
   "source": [
    "Since the pvalue is > 0.05, we cannot reject the null hypothesis of identical average scores which means: we cannot say that the difference is in average statistically significant, in fact it is quite similar (p value close to 1)"
   ]
  },
  {
   "cell_type": "markdown",
   "metadata": {},
   "source": [
    "Also over time nothing much changed. The females might have a small upwards trend, but the confidence intervall is quite big."
   ]
  },
  {
   "cell_type": "code",
   "execution_count": 44,
   "metadata": {
    "collapsed": false
   },
   "outputs": [
    {
     "data": {
      "text/plain": [
       "<matplotlib.legend.Legend at 0x7fbdc83b4048>"
      ]
     },
     "execution_count": 44,
     "metadata": {},
     "output_type": "execute_result"
    },
    {
     "data": {
      "image/png": "[encoded data removed]",
      "text/plain": [
       "<matplotlib.figure.Figure at 0x7fbdc83b4160>"
      ]
     },
     "metadata": {},
     "output_type": "display_data"
    }
   ],
   "source": [
    "sns.regplot(x=Male.last_year, y=Male.nombre_semestres, marker=\"o\",ci=95, label='Male', scatter_kws={'s':100})\n",
    "ax =sns.regplot(x=Female.last_year, y=Female.nombre_semestres, marker=\"d\", ci= 95, label='Female', color='r')\n",
    "ax.legend(loc=\"best\")"
   ]
  },
  {
   "cell_type": "code",
   "execution_count": null,
   "metadata": {
    "collapsed": true
   },
   "outputs": [],
   "source": []
  }
 ],
 "metadata": {
  "anaconda-cloud": {},
  "kernelspec": {
   "display_name": "Python [Root]",
   "language": "python",
   "name": "Python [Root]"
  },
  "language_info": {
   "codemirror_mode": {
    "name": "ipython",
    "version": 3
   },
   "file_extension": ".py",
   "mimetype": "text/x-python",
   "name": "python",
   "nbconvert_exporter": "python",
   "pygments_lexer": "ipython3",
   "version": "3.5.2"
  }
 },
 "nbformat": 4,
 "nbformat_minor": 0
}
