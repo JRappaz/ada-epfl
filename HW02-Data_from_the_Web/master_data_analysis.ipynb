{
 "cells": [
  {
   "cell_type": "code",
   "execution_count": 116,
   "metadata": {
    "collapsed": true
   },
   "outputs": [],
   "source": [
    "# imports (may be more than needed)\n",
    "import pandas as pd\n",
    "import numpy as np\n",
    "import glob # to find all files in folder\n",
    "from datetime import datetime\n",
    "from datetime import date, time\n",
    "from dateutil.parser import parse\n",
    "import seaborn as sns\n",
    "import matplotlib.pyplot as plt\n",
    "from matplotlib.pyplot import show\n",
    "import itertools\n",
    "%matplotlib inline\n",
    "sns.set_context('notebook')\n",
    "pd.options.mode.chained_assignment = None  # default='warn'\n"
   ]
  },
  {
   "cell_type": "markdown",
   "metadata": {},
   "source": [
    "#  Master Data\n",
    "_Obtain all the data for the Bachelor students, starting from 2007. Keep only the students for which you have an entry for both Bachelor semestre 1 and Bachelor semestre 6. Compute how many months it took each student to go from the first to the sixth semester. Partition the data between male and female students, and compute the average -- is the difference in average statistically significant?_\n",
    "\n",
    "\n",
    "2) Perform a similar operation to what described above, this time for Master students. Notice that this data is more tricky, as there are many missing records in the IS-Academia database. Therefore, try to guess how much time a master student spent at EPFL by at least checking the distance in months between Master semestre 1 and Master semestre 2. If the Mineur field is not empty, the student should also appear registered in Master semestre 3. Last but not the least, don't forget to check if the student has an entry also in the Projet Master tables. Once you can handle well this data, compute the \"average stay at EPFL\" for master students. Now extract all the students with a Spécialisation and compute the \"average stay\" per each category of that attribute -- compared to the general average, can you find any specialization for which the difference in average is statistically significant?"
   ]
  },
  {
   "cell_type": "markdown",
   "metadata": {},
   "source": [
    "## Read the data from csv"
   ]
  },
  {
   "cell_type": "code",
   "execution_count": 117,
   "metadata": {
    "collapsed": true
   },
   "outputs": [],
   "source": [
    "all_data = pd.read_csv('all_data.csv', usecols=['Civilité', 'Nom_Prénom', 'title', 'periode_acad', 'periode_pedago','Orientation_Master', 'Spécialisation', 'Filière_opt.', 'Mineur', 'Statut', 'Type_Echange', 'Ecole_Echange', 'No_Sciper'])"
   ]
  },
  {
   "cell_type": "code",
   "execution_count": 118,
   "metadata": {
    "collapsed": false,
    "scrolled": true
   },
   "outputs": [
    {
     "data": {
      "text/html": [
       "<div>\n",
       "<table border=\"1\" class=\"dataframe\">\n",
       "  <thead>\n",
       "    <tr style=\"text-align: right;\">\n",
       "      <th></th>\n",
       "      <th>Civilité</th>\n",
       "      <th>Nom_Prénom</th>\n",
       "      <th>Orientation_Master</th>\n",
       "      <th>Spécialisation</th>\n",
       "      <th>Filière_opt.</th>\n",
       "      <th>Mineur</th>\n",
       "      <th>Statut</th>\n",
       "      <th>Type_Echange</th>\n",
       "      <th>Ecole_Echange</th>\n",
       "      <th>No_Sciper</th>\n",
       "      <th>title</th>\n",
       "      <th>periode_acad</th>\n",
       "      <th>periode_pedago</th>\n",
       "    </tr>\n",
       "  </thead>\n",
       "  <tbody>\n",
       "    <tr>\n",
       "      <th>7567</th>\n",
       "      <td>Monsieur</td>\n",
       "      <td>Martin Damien</td>\n",
       "      <td>NaN</td>\n",
       "      <td>NaN</td>\n",
       "      <td>NaN</td>\n",
       "      <td>NaN</td>\n",
       "      <td>Présent</td>\n",
       "      <td>NaN</td>\n",
       "      <td>NaN</td>\n",
       "      <td>121367</td>\n",
       "      <td>Passerelle HES - IN, 2016-2017, Semestre automne</td>\n",
       "      <td>2016-2017</td>\n",
       "      <td>Semestre automne</td>\n",
       "    </tr>\n",
       "    <tr>\n",
       "      <th>8828</th>\n",
       "      <td>Monsieur</td>\n",
       "      <td>Gulati Asheesh</td>\n",
       "      <td>NaN</td>\n",
       "      <td>Internet computing</td>\n",
       "      <td>NaN</td>\n",
       "      <td>NaN</td>\n",
       "      <td>Présent</td>\n",
       "      <td>NaN</td>\n",
       "      <td>NaN</td>\n",
       "      <td>128911</td>\n",
       "      <td>Informatique, 2007-2008, Master semestre 3</td>\n",
       "      <td>2007-2008</td>\n",
       "      <td>Master semestre 3</td>\n",
       "    </tr>\n",
       "    <tr>\n",
       "      <th>8602</th>\n",
       "      <td>Monsieur</td>\n",
       "      <td>Gulati Asheesh</td>\n",
       "      <td>NaN</td>\n",
       "      <td>Internet computing</td>\n",
       "      <td>NaN</td>\n",
       "      <td>NaN</td>\n",
       "      <td>Présent</td>\n",
       "      <td>NaN</td>\n",
       "      <td>NaN</td>\n",
       "      <td>128911</td>\n",
       "      <td>Informatique, 2007-2008, Master semestre 2</td>\n",
       "      <td>2007-2008</td>\n",
       "      <td>Master semestre 2</td>\n",
       "    </tr>\n",
       "    <tr>\n",
       "      <th>8870</th>\n",
       "      <td>Monsieur</td>\n",
       "      <td>Zhou Maoan</td>\n",
       "      <td>NaN</td>\n",
       "      <td>NaN</td>\n",
       "      <td>NaN</td>\n",
       "      <td>NaN</td>\n",
       "      <td>Stage</td>\n",
       "      <td>NaN</td>\n",
       "      <td>NaN</td>\n",
       "      <td>129093</td>\n",
       "      <td>Informatique, 2007-2008, Master semestre 3</td>\n",
       "      <td>2007-2008</td>\n",
       "      <td>Master semestre 3</td>\n",
       "    </tr>\n",
       "    <tr>\n",
       "      <th>8654</th>\n",
       "      <td>Monsieur</td>\n",
       "      <td>Zhou Maoan</td>\n",
       "      <td>NaN</td>\n",
       "      <td>NaN</td>\n",
       "      <td>NaN</td>\n",
       "      <td>NaN</td>\n",
       "      <td>Présent</td>\n",
       "      <td>NaN</td>\n",
       "      <td>NaN</td>\n",
       "      <td>129093</td>\n",
       "      <td>Informatique, 2007-2008, Master semestre 2</td>\n",
       "      <td>2007-2008</td>\n",
       "      <td>Master semestre 2</td>\n",
       "    </tr>\n",
       "    <tr>\n",
       "      <th>7563</th>\n",
       "      <td>Monsieur</td>\n",
       "      <td>Essellak Radouane</td>\n",
       "      <td>NaN</td>\n",
       "      <td>NaN</td>\n",
       "      <td>NaN</td>\n",
       "      <td>NaN</td>\n",
       "      <td>Présent</td>\n",
       "      <td>NaN</td>\n",
       "      <td>NaN</td>\n",
       "      <td>129094</td>\n",
       "      <td>Passerelle HES - IN, 2016-2017, Semestre automne</td>\n",
       "      <td>2016-2017</td>\n",
       "      <td>Semestre automne</td>\n",
       "    </tr>\n",
       "    <tr>\n",
       "      <th>8848</th>\n",
       "      <td>Monsieur</td>\n",
       "      <td>Ni Zhong Zhong</td>\n",
       "      <td>NaN</td>\n",
       "      <td>NaN</td>\n",
       "      <td>NaN</td>\n",
       "      <td>NaN</td>\n",
       "      <td>Présent</td>\n",
       "      <td>NaN</td>\n",
       "      <td>NaN</td>\n",
       "      <td>129326</td>\n",
       "      <td>Informatique, 2007-2008, Master semestre 3</td>\n",
       "      <td>2007-2008</td>\n",
       "      <td>Master semestre 3</td>\n",
       "    </tr>\n",
       "    <tr>\n",
       "      <th>8631</th>\n",
       "      <td>Monsieur</td>\n",
       "      <td>Ni Zhong Zhong</td>\n",
       "      <td>NaN</td>\n",
       "      <td>NaN</td>\n",
       "      <td>NaN</td>\n",
       "      <td>NaN</td>\n",
       "      <td>Présent</td>\n",
       "      <td>NaN</td>\n",
       "      <td>NaN</td>\n",
       "      <td>129326</td>\n",
       "      <td>Informatique, 2007-2008, Master semestre 2</td>\n",
       "      <td>2007-2008</td>\n",
       "      <td>Master semestre 2</td>\n",
       "    </tr>\n",
       "    <tr>\n",
       "      <th>8407</th>\n",
       "      <td>Monsieur</td>\n",
       "      <td>Droz-dit-Busset Arnault</td>\n",
       "      <td>NaN</td>\n",
       "      <td>NaN</td>\n",
       "      <td>NaN</td>\n",
       "      <td>NaN</td>\n",
       "      <td>Présent</td>\n",
       "      <td>NaN</td>\n",
       "      <td>NaN</td>\n",
       "      <td>138088</td>\n",
       "      <td>Informatique, 2007-2008, Master semestre 1</td>\n",
       "      <td>2007-2008</td>\n",
       "      <td>Master semestre 1</td>\n",
       "    </tr>\n",
       "    <tr>\n",
       "      <th>8813</th>\n",
       "      <td>Monsieur</td>\n",
       "      <td>Clivaz Jean-Philippe</td>\n",
       "      <td>NaN</td>\n",
       "      <td>NaN</td>\n",
       "      <td>NaN</td>\n",
       "      <td>NaN</td>\n",
       "      <td>Présent</td>\n",
       "      <td>NaN</td>\n",
       "      <td>NaN</td>\n",
       "      <td>145546</td>\n",
       "      <td>Informatique, 2007-2008, Master semestre 3</td>\n",
       "      <td>2007-2008</td>\n",
       "      <td>Master semestre 3</td>\n",
       "    </tr>\n",
       "  </tbody>\n",
       "</table>\n",
       "</div>"
      ],
      "text/plain": [
       "      Civilité               Nom_Prénom  Orientation_Master  \\\n",
       "7567  Monsieur            Martin Damien                 NaN   \n",
       "8828  Monsieur           Gulati Asheesh                 NaN   \n",
       "8602  Monsieur           Gulati Asheesh                 NaN   \n",
       "8870  Monsieur               Zhou Maoan                 NaN   \n",
       "8654  Monsieur               Zhou Maoan                 NaN   \n",
       "7563  Monsieur        Essellak Radouane                 NaN   \n",
       "8848  Monsieur           Ni Zhong Zhong                 NaN   \n",
       "8631  Monsieur           Ni Zhong Zhong                 NaN   \n",
       "8407  Monsieur  Droz-dit-Busset Arnault                 NaN   \n",
       "8813  Monsieur     Clivaz Jean-Philippe                 NaN   \n",
       "\n",
       "          Spécialisation Filière_opt. Mineur   Statut Type_Echange  \\\n",
       "7567                 NaN          NaN    NaN  Présent          NaN   \n",
       "8828  Internet computing          NaN    NaN  Présent          NaN   \n",
       "8602  Internet computing          NaN    NaN  Présent          NaN   \n",
       "8870                 NaN          NaN    NaN    Stage          NaN   \n",
       "8654                 NaN          NaN    NaN  Présent          NaN   \n",
       "7563                 NaN          NaN    NaN  Présent          NaN   \n",
       "8848                 NaN          NaN    NaN  Présent          NaN   \n",
       "8631                 NaN          NaN    NaN  Présent          NaN   \n",
       "8407                 NaN          NaN    NaN  Présent          NaN   \n",
       "8813                 NaN          NaN    NaN  Présent          NaN   \n",
       "\n",
       "     Ecole_Echange  No_Sciper  \\\n",
       "7567           NaN     121367   \n",
       "8828           NaN     128911   \n",
       "8602           NaN     128911   \n",
       "8870           NaN     129093   \n",
       "8654           NaN     129093   \n",
       "7563           NaN     129094   \n",
       "8848           NaN     129326   \n",
       "8631           NaN     129326   \n",
       "8407           NaN     138088   \n",
       "8813           NaN     145546   \n",
       "\n",
       "                                                 title periode_acad  \\\n",
       "7567  Passerelle HES - IN, 2016-2017, Semestre automne    2016-2017   \n",
       "8828        Informatique, 2007-2008, Master semestre 3    2007-2008   \n",
       "8602        Informatique, 2007-2008, Master semestre 2    2007-2008   \n",
       "8870        Informatique, 2007-2008, Master semestre 3    2007-2008   \n",
       "8654        Informatique, 2007-2008, Master semestre 2    2007-2008   \n",
       "7563  Passerelle HES - IN, 2016-2017, Semestre automne    2016-2017   \n",
       "8848        Informatique, 2007-2008, Master semestre 3    2007-2008   \n",
       "8631        Informatique, 2007-2008, Master semestre 2    2007-2008   \n",
       "8407        Informatique, 2007-2008, Master semestre 1    2007-2008   \n",
       "8813        Informatique, 2007-2008, Master semestre 3    2007-2008   \n",
       "\n",
       "         periode_pedago  \n",
       "7567   Semestre automne  \n",
       "8828  Master semestre 3  \n",
       "8602  Master semestre 2  \n",
       "8870  Master semestre 3  \n",
       "8654  Master semestre 2  \n",
       "7563   Semestre automne  \n",
       "8848  Master semestre 3  \n",
       "8631  Master semestre 2  \n",
       "8407  Master semestre 1  \n",
       "8813  Master semestre 3  "
      ]
     },
     "execution_count": 118,
     "metadata": {},
     "output_type": "execute_result"
    }
   ],
   "source": [
    "all_data.sort_values(by='No_Sciper', axis=0).head(10)"
   ]
  },
  {
   "cell_type": "code",
   "execution_count": 119,
   "metadata": {
    "collapsed": false
   },
   "outputs": [
    {
     "data": {
      "text/plain": [
       "8942"
      ]
     },
     "execution_count": 119,
     "metadata": {},
     "output_type": "execute_result"
    }
   ],
   "source": [
    "len(all_data)"
   ]
  },
  {
   "cell_type": "markdown",
   "metadata": {},
   "source": [
    "## Clean the data"
   ]
  },
  {
   "cell_type": "code",
   "execution_count": 120,
   "metadata": {
    "collapsed": false
   },
   "outputs": [
    {
     "data": {
      "text/plain": [
       "array(['Bachelor semestre 5', 'Master semestre 1', 'Bachelor semestre 2',\n",
       "       'Bachelor semestre 6', 'Master semestre 2',\n",
       "       'Projet Master printemps', 'Bachelor semestre 3',\n",
       "       'Bachelor semestre 1', 'Master semestre 3', 'Semestre printemps',\n",
       "       'Projet Master automne', 'Semestre automne', 'Bachelor semestre 4'], dtype=object)"
      ]
     },
     "execution_count": 120,
     "metadata": {},
     "output_type": "execute_result"
    }
   ],
   "source": [
    "all_data['periode_pedago'].unique()"
   ]
  },
  {
   "cell_type": "code",
   "execution_count": 121,
   "metadata": {
    "collapsed": false
   },
   "outputs": [
    {
     "data": {
      "text/plain": [
       "array(['Informatique, 2009-2010, Bachelor semestre 5',\n",
       "       'Informatique, 2009-2010, Master semestre 1',\n",
       "       'Informatique, 2009-2010, Bachelor semestre 2',\n",
       "       'Informatique, 2009-2010, Bachelor semestre 6',\n",
       "       'Informatique, 2009-2010, Master semestre 2',\n",
       "       'Informatique, 2009-2010, Projet Master printemps',\n",
       "       'Informatique, 2009-2010, Bachelor semestre 3',\n",
       "       'Informatique, 2009-2010, Bachelor semestre 1',\n",
       "       'Informatique, 2009-2010, Master semestre 3',\n",
       "       'Passerelle HES - IN, 2009-2010, Semestre printemps',\n",
       "       'Informatique, 2009-2010, Projet Master automne',\n",
       "       'Passerelle HES - IN, 2009-2010, Semestre automne',\n",
       "       'Echange IN, 2009-2010, Semestre automne',\n",
       "       'Informatique, 2009-2010, Bachelor semestre 4',\n",
       "       'Informatique, 2014-2015, Bachelor semestre 5',\n",
       "       'Informatique, 2014-2015, Master semestre 1',\n",
       "       'Informatique, 2014-2015, Bachelor semestre 2',\n",
       "       'Informatique, 2014-2015, Bachelor semestre 6',\n",
       "       'Informatique, 2014-2015, Master semestre 2',\n",
       "       'Informatique, 2014-2015, Bachelor semestre 3',\n",
       "       'Informatique, 2014-2015, Bachelor semestre 1',\n",
       "       'Informatique, 2014-2015, Master semestre 3',\n",
       "       'Passerelle HES - IN, 2014-2015, Semestre printemps',\n",
       "       'Echange IN, 2014-2015, Semestre printemps',\n",
       "       'Informatique, 2014-2015, Projet Master automne',\n",
       "       'Passerelle HES - IN, 2014-2015, Semestre automne',\n",
       "       'Echange IN, 2014-2015, Semestre automne',\n",
       "       'Informatique, 2014-2015, Bachelor semestre 4',\n",
       "       'Informatique, 2012-2013, Bachelor semestre 5',\n",
       "       'Informatique, 2012-2013, Master semestre 1',\n",
       "       'Informatique, 2012-2013, Bachelor semestre 2',\n",
       "       'Informatique, 2012-2013, Bachelor semestre 6',\n",
       "       'Informatique, 2012-2013, Master semestre 2',\n",
       "       'Informatique, 2012-2013, Projet Master printemps',\n",
       "       'Informatique, 2012-2013, Bachelor semestre 3',\n",
       "       'Informatique, 2012-2013, Bachelor semestre 1',\n",
       "       'Informatique, 2012-2013, Master semestre 3',\n",
       "       'Passerelle HES - IN, 2012-2013, Semestre printemps',\n",
       "       'Informatique, 2012-2013, Projet Master automne',\n",
       "       'Passerelle HES - IN, 2012-2013, Semestre automne',\n",
       "       'Echange IN, 2012-2013, Semestre automne',\n",
       "       'Informatique, 2012-2013, Bachelor semestre 4',\n",
       "       'Informatique, 2008-2009, Bachelor semestre 5',\n",
       "       'Informatique, 2008-2009, Master semestre 1',\n",
       "       'Informatique, 2008-2009, Bachelor semestre 2',\n",
       "       'Informatique, 2008-2009, Bachelor semestre 6',\n",
       "       'Informatique, 2008-2009, Master semestre 2',\n",
       "       'Informatique, 2008-2009, Projet Master printemps',\n",
       "       'Passerelle HES - IN, 2008-2009, Bachelor semestre 3',\n",
       "       'Informatique, 2008-2009, Bachelor semestre 3',\n",
       "       'Informatique, 2008-2009, Bachelor semestre 1',\n",
       "       'Informatique, 2008-2009, Master semestre 3',\n",
       "       'Echange IN, 2008-2009, Semestre printemps',\n",
       "       'Informatique, 2008-2009, Projet Master automne',\n",
       "       'Echange IN, 2008-2009, Semestre automne',\n",
       "       'Informatique, 2008-2009, Bachelor semestre 4',\n",
       "       'Passerelle HES - IN, 2008-2009, Bachelor semestre 4',\n",
       "       'Informatique, 2015-2016, Bachelor semestre 5',\n",
       "       'Informatique, 2015-2016, Master semestre 1',\n",
       "       'Informatique, 2015-2016, Bachelor semestre 2',\n",
       "       'Informatique, 2015-2016, Bachelor semestre 6',\n",
       "       'Informatique, 2015-2016, Master semestre 2',\n",
       "       'Informatique, 2015-2016, Bachelor semestre 3',\n",
       "       'Informatique, 2015-2016, Bachelor semestre 1',\n",
       "       'Informatique, 2015-2016, Master semestre 3',\n",
       "       'Passerelle HES - IN, 2015-2016, Semestre printemps',\n",
       "       'Echange IN, 2015-2016, Semestre printemps',\n",
       "       'Informatique, 2015-2016, Projet Master automne',\n",
       "       'Echange IN, 2015-2016, Semestre automne',\n",
       "       'Passerelle HES - IN, 2015-2016, Semestre automne',\n",
       "       'Informatique, 2015-2016, Bachelor semestre 4',\n",
       "       'Informatique, 2011-2012, Bachelor semestre 5',\n",
       "       'Informatique, 2011-2012, Master semestre 1',\n",
       "       'Informatique, 2011-2012, Bachelor semestre 2',\n",
       "       'Informatique, 2011-2012, Bachelor semestre 6',\n",
       "       'Informatique, 2011-2012, Master semestre 2',\n",
       "       'Informatique, 2011-2012, Projet Master printemps',\n",
       "       'Informatique, 2011-2012, Bachelor semestre 3',\n",
       "       'Informatique, 2011-2012, Bachelor semestre 1',\n",
       "       'Informatique, 2011-2012, Master semestre 3',\n",
       "       'Passerelle HES - IN, 2011-2012, Semestre printemps',\n",
       "       'Echange IN, 2011-2012, Semestre printemps',\n",
       "       'Informatique, 2011-2012, Projet Master automne',\n",
       "       'Passerelle HES - IN, 2011-2012, Semestre automne',\n",
       "       'Echange IN, 2011-2012, Semestre automne',\n",
       "       'Informatique, 2011-2012, Bachelor semestre 4',\n",
       "       'Informatique, 2013-2014, Bachelor semestre 5',\n",
       "       'Informatique, 2013-2014, Master semestre 1',\n",
       "       'Informatique, 2013-2014, Bachelor semestre 2',\n",
       "       'Informatique, 2013-2014, Bachelor semestre 6',\n",
       "       'Informatique, 2013-2014, Master semestre 2',\n",
       "       'Informatique, 2013-2014, Projet Master printemps',\n",
       "       'Informatique, 2013-2014, Bachelor semestre 3',\n",
       "       'Informatique, 2013-2014, Bachelor semestre 1',\n",
       "       'Informatique, 2013-2014, Master semestre 3',\n",
       "       'Passerelle HES - IN, 2013-2014, Semestre printemps',\n",
       "       'Echange IN, 2013-2014, Semestre printemps',\n",
       "       'Informatique, 2013-2014, Projet Master automne',\n",
       "       'Echange IN, 2013-2014, Semestre automne',\n",
       "       'Passerelle HES - IN, 2013-2014, Semestre automne',\n",
       "       'Informatique, 2013-2014, Bachelor semestre 4',\n",
       "       'Informatique, 2016-2017, Bachelor semestre 5',\n",
       "       'Informatique, 2016-2017, Master semestre 1',\n",
       "       'Informatique, 2016-2017, Bachelor semestre 2',\n",
       "       'Informatique, 2016-2017, Bachelor semestre 6',\n",
       "       'Informatique, 2016-2017, Master semestre 2',\n",
       "       'Informatique, 2016-2017, Bachelor semestre 3',\n",
       "       'Informatique, 2016-2017, Bachelor semestre 1',\n",
       "       'Informatique, 2016-2017, Master semestre 3',\n",
       "       'Echange IN, 2016-2017, Semestre printemps',\n",
       "       'Informatique, 2016-2017, Projet Master automne',\n",
       "       'Echange IN, 2016-2017, Semestre automne',\n",
       "       'Passerelle HES - IN, 2016-2017, Semestre automne',\n",
       "       'Informatique, 2016-2017, Bachelor semestre 4',\n",
       "       'Informatique, 2010-2011, Bachelor semestre 5',\n",
       "       'Informatique, 2010-2011, Master semestre 1',\n",
       "       'Informatique, 2010-2011, Bachelor semestre 2',\n",
       "       'Informatique, 2010-2011, Bachelor semestre 6',\n",
       "       'Informatique, 2010-2011, Master semestre 2',\n",
       "       'Informatique, 2010-2011, Projet Master printemps',\n",
       "       'Informatique, 2010-2011, Bachelor semestre 3',\n",
       "       'Informatique, 2010-2011, Bachelor semestre 1',\n",
       "       'Informatique, 2010-2011, Master semestre 3',\n",
       "       'Echange IN, 2010-2011, Semestre printemps',\n",
       "       'Informatique, 2010-2011, Projet Master automne',\n",
       "       'Echange IN, 2010-2011, Semestre automne',\n",
       "       'Passerelle HES - IN, 2010-2011, Semestre automne',\n",
       "       'Informatique, 2010-2011, Bachelor semestre 4',\n",
       "       'Informatique, 2007-2008, Bachelor semestre 5',\n",
       "       'Informatique, 2007-2008, Master semestre 1',\n",
       "       'Informatique, 2007-2008, Bachelor semestre 2',\n",
       "       'Informatique, 2007-2008, Bachelor semestre 6',\n",
       "       'Informatique, 2007-2008, Master semestre 2',\n",
       "       'Informatique, 2007-2008, Projet Master printemps',\n",
       "       'Informatique, 2007-2008, Bachelor semestre 3',\n",
       "       'Passerelle HES - IN, 2007-2008, Bachelor semestre 3',\n",
       "       'Informatique, 2007-2008, Bachelor semestre 1',\n",
       "       'Informatique, 2007-2008, Master semestre 3',\n",
       "       'Echange IN, 2007-2008, Semestre printemps',\n",
       "       'Informatique, 2007-2008, Projet Master automne',\n",
       "       'Echange IN, 2007-2008, Semestre automne',\n",
       "       'Passerelle HES - IN, 2007-2008, Bachelor semestre 4',\n",
       "       'Informatique, 2007-2008, Bachelor semestre 4'], dtype=object)"
      ]
     },
     "execution_count": 121,
     "metadata": {},
     "output_type": "execute_result"
    }
   ],
   "source": [
    "all_data['title'].unique()"
   ]
  },
  {
   "cell_type": "markdown",
   "metadata": {},
   "source": [
    "checkout what the Semester printemps and automne are"
   ]
  },
  {
   "cell_type": "code",
   "execution_count": 122,
   "metadata": {
    "collapsed": false,
    "scrolled": true
   },
   "outputs": [
    {
     "data": {
      "text/plain": [
       "array(['Passerelle HES - IN, 2009-2010, Semestre printemps',\n",
       "       'Passerelle HES - IN, 2009-2010, Semestre automne',\n",
       "       'Echange IN, 2009-2010, Semestre automne',\n",
       "       'Passerelle HES - IN, 2014-2015, Semestre printemps',\n",
       "       'Echange IN, 2014-2015, Semestre printemps',\n",
       "       'Passerelle HES - IN, 2014-2015, Semestre automne',\n",
       "       'Echange IN, 2014-2015, Semestre automne',\n",
       "       'Passerelle HES - IN, 2012-2013, Semestre printemps',\n",
       "       'Passerelle HES - IN, 2012-2013, Semestre automne',\n",
       "       'Echange IN, 2012-2013, Semestre automne',\n",
       "       'Echange IN, 2008-2009, Semestre printemps',\n",
       "       'Echange IN, 2008-2009, Semestre automne',\n",
       "       'Passerelle HES - IN, 2015-2016, Semestre printemps',\n",
       "       'Echange IN, 2015-2016, Semestre printemps',\n",
       "       'Echange IN, 2015-2016, Semestre automne',\n",
       "       'Passerelle HES - IN, 2015-2016, Semestre automne',\n",
       "       'Passerelle HES - IN, 2011-2012, Semestre printemps',\n",
       "       'Echange IN, 2011-2012, Semestre printemps',\n",
       "       'Passerelle HES - IN, 2011-2012, Semestre automne',\n",
       "       'Echange IN, 2011-2012, Semestre automne',\n",
       "       'Passerelle HES - IN, 2013-2014, Semestre printemps',\n",
       "       'Echange IN, 2013-2014, Semestre printemps',\n",
       "       'Echange IN, 2013-2014, Semestre automne',\n",
       "       'Passerelle HES - IN, 2013-2014, Semestre automne',\n",
       "       'Echange IN, 2016-2017, Semestre printemps',\n",
       "       'Echange IN, 2016-2017, Semestre automne',\n",
       "       'Passerelle HES - IN, 2016-2017, Semestre automne',\n",
       "       'Echange IN, 2010-2011, Semestre printemps',\n",
       "       'Echange IN, 2010-2011, Semestre automne',\n",
       "       'Passerelle HES - IN, 2010-2011, Semestre automne',\n",
       "       'Echange IN, 2007-2008, Semestre printemps',\n",
       "       'Echange IN, 2007-2008, Semestre automne'], dtype=object)"
      ]
     },
     "execution_count": 122,
     "metadata": {},
     "output_type": "execute_result"
    }
   ],
   "source": [
    "all_data[all_data['periode_pedago'].isin(['Semestre printemps', 'Semestre automne'])]['title'].unique()"
   ]
  },
  {
   "cell_type": "markdown",
   "metadata": {},
   "source": [
    "This are the students exchange (students from other universities in exchange at EPFL) and students doing the Passerelle HES. Since the exchange students don't do a full master at EPFL we ignore them. Also we won't count students in Passerelle HES as beeing in the Master just yet because they have to succeed the passerelle to optain a master. So if they do a master they are inscribed in Master anyways."
   ]
  },
  {
   "cell_type": "code",
   "execution_count": 123,
   "metadata": {
    "collapsed": false
   },
   "outputs": [],
   "source": [
    "master_periode_pedago = ['Master semestre 1', 'Master semestre 2', 'Projet Master printemps', 'Master semestre 3', 'Projet Master automne']\n",
    "master_data = all_data[all_data['periode_pedago'].isin(master_periode_pedago)]"
   ]
  },
  {
   "cell_type": "markdown",
   "metadata": {},
   "source": [
    "remove the columns with only NaN (in case there is one)"
   ]
  },
  {
   "cell_type": "code",
   "execution_count": 124,
   "metadata": {
    "collapsed": false,
    "scrolled": true
   },
   "outputs": [],
   "source": [
    "master_data.dropna(axis=1, how='all', inplace=True)"
   ]
  },
  {
   "cell_type": "markdown",
   "metadata": {},
   "source": [
    "Rename the columns (remove the é and give shorter names)"
   ]
  },
  {
   "cell_type": "code",
   "execution_count": 125,
   "metadata": {
    "collapsed": false
   },
   "outputs": [],
   "source": [
    "master_data.rename(columns={'Civilité': 'Sex', 'Nom_Prénom': 'Name', 'Spécialisation': 'Specialisation'}, inplace=True)"
   ]
  },
  {
   "cell_type": "code",
   "execution_count": 126,
   "metadata": {
    "collapsed": false,
    "scrolled": true
   },
   "outputs": [
    {
     "data": {
      "text/plain": [
       "array(['Master semestre 1', 'Master semestre 2', 'Projet Master printemps',\n",
       "       'Master semestre 3', 'Projet Master automne'], dtype=object)"
      ]
     },
     "execution_count": 126,
     "metadata": {},
     "output_type": "execute_result"
    }
   ],
   "source": [
    "master_data['periode_pedago'].unique()"
   ]
  },
  {
   "cell_type": "markdown",
   "metadata": {
    "collapsed": false
   },
   "source": [
    "add some columns that make the use of the data easier later\n",
    "- store the start and end year of each entry ('2008-2009' -> 2008) and '2008-2009' -> 2009\n",
    "- make a column for master1, master2, master3 and and project master and indicate if done it (true and false)"
   ]
  },
  {
   "cell_type": "code",
   "execution_count": 127,
   "metadata": {
    "collapsed": false
   },
   "outputs": [
    {
     "data": {
      "text/plain": [
       "array(['2009-2010', '2014-2015', '2012-2013', '2008-2009', '2015-2016',\n",
       "       '2011-2012', '2013-2014', '2016-2017', '2010-2011', '2007-2008'], dtype=object)"
      ]
     },
     "execution_count": 127,
     "metadata": {},
     "output_type": "execute_result"
    }
   ],
   "source": [
    "master_data['periode_acad'].unique()"
   ]
  },
  {
   "cell_type": "code",
   "execution_count": 128,
   "metadata": {
    "collapsed": false
   },
   "outputs": [],
   "source": [
    "# store the year of the entry\n",
    "def start_year(student):\n",
    "    return int (student['periode_acad'].split('-')[0])\n",
    "master_data['start_year'] = master_data.apply(start_year, axis=1)\n",
    "master_data['end_year'] = master_data.apply(lambda st: start_year(st)+1, axis=1)"
   ]
  },
  {
   "cell_type": "code",
   "execution_count": 129,
   "metadata": {
    "collapsed": false
   },
   "outputs": [],
   "source": [
    "# make the indicator columns\n",
    "new_cols_map = {\n",
    "    'Master1': ['Master semestre 1'],\n",
    "    'Master2': ['Master semestre 2'],\n",
    "    'Master3': ['Master semestre 3'],\n",
    "    'Project_Master' : ['Projet Master printemps', 'Projet Master automne']\n",
    "}\n",
    "for (new_col_name, match_list) in new_cols_map.items():\n",
    "    master_data[new_col_name] = master_data.apply(lambda student: student['periode_pedago'] in match_list, axis=1)\n"
   ]
  },
  {
   "cell_type": "code",
   "execution_count": 130,
   "metadata": {
    "collapsed": false,
    "scrolled": true
   },
   "outputs": [
    {
     "data": {
      "text/html": [
       "<div>\n",
       "<table border=\"1\" class=\"dataframe\">\n",
       "  <thead>\n",
       "    <tr style=\"text-align: right;\">\n",
       "      <th></th>\n",
       "      <th>Sex</th>\n",
       "      <th>Name</th>\n",
       "      <th>Specialisation</th>\n",
       "      <th>Mineur</th>\n",
       "      <th>Statut</th>\n",
       "      <th>Type_Echange</th>\n",
       "      <th>Ecole_Echange</th>\n",
       "      <th>No_Sciper</th>\n",
       "      <th>title</th>\n",
       "      <th>periode_acad</th>\n",
       "      <th>periode_pedago</th>\n",
       "      <th>start_year</th>\n",
       "      <th>end_year</th>\n",
       "      <th>Project_Master</th>\n",
       "      <th>Master1</th>\n",
       "      <th>Master2</th>\n",
       "      <th>Master3</th>\n",
       "    </tr>\n",
       "  </thead>\n",
       "  <tbody>\n",
       "    <tr>\n",
       "      <th>5069</th>\n",
       "      <td>Madame</td>\n",
       "      <td>Grosan Flavia Adelina</td>\n",
       "      <td>NaN</td>\n",
       "      <td>Mineur en Management, technologie et entrepren...</td>\n",
       "      <td>Présent</td>\n",
       "      <td>NaN</td>\n",
       "      <td>NaN</td>\n",
       "      <td>213553</td>\n",
       "      <td>Informatique, 2011-2012, Master semestre 2</td>\n",
       "      <td>2011-2012</td>\n",
       "      <td>Master semestre 2</td>\n",
       "      <td>2011</td>\n",
       "      <td>2012</td>\n",
       "      <td>False</td>\n",
       "      <td>False</td>\n",
       "      <td>True</td>\n",
       "      <td>False</td>\n",
       "    </tr>\n",
       "    <tr>\n",
       "      <th>5063</th>\n",
       "      <td>Monsieur</td>\n",
       "      <td>Gasimov Huseyn</td>\n",
       "      <td>NaN</td>\n",
       "      <td>NaN</td>\n",
       "      <td>Présent</td>\n",
       "      <td>NaN</td>\n",
       "      <td>NaN</td>\n",
       "      <td>215137</td>\n",
       "      <td>Informatique, 2011-2012, Master semestre 2</td>\n",
       "      <td>2011-2012</td>\n",
       "      <td>Master semestre 2</td>\n",
       "      <td>2011</td>\n",
       "      <td>2012</td>\n",
       "      <td>False</td>\n",
       "      <td>False</td>\n",
       "      <td>True</td>\n",
       "      <td>False</td>\n",
       "    </tr>\n",
       "    <tr>\n",
       "      <th>3618</th>\n",
       "      <td>Monsieur</td>\n",
       "      <td>Heer Philippe</td>\n",
       "      <td>NaN</td>\n",
       "      <td>NaN</td>\n",
       "      <td>Présent</td>\n",
       "      <td>NaN</td>\n",
       "      <td>NaN</td>\n",
       "      <td>192685</td>\n",
       "      <td>Informatique, 2015-2016, Master semestre 1</td>\n",
       "      <td>2015-2016</td>\n",
       "      <td>Master semestre 1</td>\n",
       "      <td>2015</td>\n",
       "      <td>2016</td>\n",
       "      <td>False</td>\n",
       "      <td>True</td>\n",
       "      <td>False</td>\n",
       "      <td>False</td>\n",
       "    </tr>\n",
       "    <tr>\n",
       "      <th>106</th>\n",
       "      <td>Monsieur</td>\n",
       "      <td>Martin Steven-Anthony</td>\n",
       "      <td>NaN</td>\n",
       "      <td>NaN</td>\n",
       "      <td>Congé</td>\n",
       "      <td>NaN</td>\n",
       "      <td>NaN</td>\n",
       "      <td>182377</td>\n",
       "      <td>Informatique, 2009-2010, Master semestre 1</td>\n",
       "      <td>2009-2010</td>\n",
       "      <td>Master semestre 1</td>\n",
       "      <td>2009</td>\n",
       "      <td>2010</td>\n",
       "      <td>False</td>\n",
       "      <td>True</td>\n",
       "      <td>False</td>\n",
       "      <td>False</td>\n",
       "    </tr>\n",
       "    <tr>\n",
       "      <th>2377</th>\n",
       "      <td>Monsieur</td>\n",
       "      <td>Vasta Rivo</td>\n",
       "      <td>Internet computing</td>\n",
       "      <td>NaN</td>\n",
       "      <td>Présent</td>\n",
       "      <td>NaN</td>\n",
       "      <td>NaN</td>\n",
       "      <td>186067</td>\n",
       "      <td>Informatique, 2012-2013, Master semestre 2</td>\n",
       "      <td>2012-2013</td>\n",
       "      <td>Master semestre 2</td>\n",
       "      <td>2012</td>\n",
       "      <td>2013</td>\n",
       "      <td>False</td>\n",
       "      <td>False</td>\n",
       "      <td>True</td>\n",
       "      <td>False</td>\n",
       "    </tr>\n",
       "    <tr>\n",
       "      <th>4074</th>\n",
       "      <td>Monsieur</td>\n",
       "      <td>Leclerc Guillaume Paul Olivier</td>\n",
       "      <td>Software Systems</td>\n",
       "      <td>NaN</td>\n",
       "      <td>Présent</td>\n",
       "      <td>NaN</td>\n",
       "      <td>NaN</td>\n",
       "      <td>224338</td>\n",
       "      <td>Informatique, 2015-2016, Master semestre 2</td>\n",
       "      <td>2015-2016</td>\n",
       "      <td>Master semestre 2</td>\n",
       "      <td>2015</td>\n",
       "      <td>2016</td>\n",
       "      <td>False</td>\n",
       "      <td>False</td>\n",
       "      <td>True</td>\n",
       "      <td>False</td>\n",
       "    </tr>\n",
       "    <tr>\n",
       "      <th>3621</th>\n",
       "      <td>Monsieur</td>\n",
       "      <td>Ilievski Vladimir</td>\n",
       "      <td>NaN</td>\n",
       "      <td>NaN</td>\n",
       "      <td>Présent</td>\n",
       "      <td>NaN</td>\n",
       "      <td>NaN</td>\n",
       "      <td>256710</td>\n",
       "      <td>Informatique, 2015-2016, Master semestre 1</td>\n",
       "      <td>2015-2016</td>\n",
       "      <td>Master semestre 1</td>\n",
       "      <td>2015</td>\n",
       "      <td>2016</td>\n",
       "      <td>False</td>\n",
       "      <td>True</td>\n",
       "      <td>False</td>\n",
       "      <td>False</td>\n",
       "    </tr>\n",
       "    <tr>\n",
       "      <th>8455</th>\n",
       "      <td>Madame</td>\n",
       "      <td>Tomar Anmol</td>\n",
       "      <td>NaN</td>\n",
       "      <td>NaN</td>\n",
       "      <td>Présent</td>\n",
       "      <td>NaN</td>\n",
       "      <td>NaN</td>\n",
       "      <td>178057</td>\n",
       "      <td>Informatique, 2007-2008, Master semestre 1</td>\n",
       "      <td>2007-2008</td>\n",
       "      <td>Master semestre 1</td>\n",
       "      <td>2007</td>\n",
       "      <td>2008</td>\n",
       "      <td>False</td>\n",
       "      <td>True</td>\n",
       "      <td>False</td>\n",
       "      <td>False</td>\n",
       "    </tr>\n",
       "    <tr>\n",
       "      <th>1251</th>\n",
       "      <td>Monsieur</td>\n",
       "      <td>La Spada Luca</td>\n",
       "      <td>NaN</td>\n",
       "      <td>NaN</td>\n",
       "      <td>Stage</td>\n",
       "      <td>NaN</td>\n",
       "      <td>NaN</td>\n",
       "      <td>193276</td>\n",
       "      <td>Informatique, 2014-2015, Master semestre 2</td>\n",
       "      <td>2014-2015</td>\n",
       "      <td>Master semestre 2</td>\n",
       "      <td>2014</td>\n",
       "      <td>2015</td>\n",
       "      <td>False</td>\n",
       "      <td>False</td>\n",
       "      <td>True</td>\n",
       "      <td>False</td>\n",
       "    </tr>\n",
       "    <tr>\n",
       "      <th>2007</th>\n",
       "      <td>Monsieur</td>\n",
       "      <td>Zablotchi Mihail Igor</td>\n",
       "      <td>NaN</td>\n",
       "      <td>NaN</td>\n",
       "      <td>Présent</td>\n",
       "      <td>NaN</td>\n",
       "      <td>NaN</td>\n",
       "      <td>192870</td>\n",
       "      <td>Informatique, 2012-2013, Master semestre 1</td>\n",
       "      <td>2012-2013</td>\n",
       "      <td>Master semestre 1</td>\n",
       "      <td>2012</td>\n",
       "      <td>2013</td>\n",
       "      <td>False</td>\n",
       "      <td>True</td>\n",
       "      <td>False</td>\n",
       "      <td>False</td>\n",
       "    </tr>\n",
       "  </tbody>\n",
       "</table>\n",
       "</div>"
      ],
      "text/plain": [
       "           Sex                            Name      Specialisation  \\\n",
       "5069    Madame           Grosan Flavia Adelina                 NaN   \n",
       "5063  Monsieur                  Gasimov Huseyn                 NaN   \n",
       "3618  Monsieur                   Heer Philippe                 NaN   \n",
       "106   Monsieur           Martin Steven-Anthony                 NaN   \n",
       "2377  Monsieur                      Vasta Rivo  Internet computing   \n",
       "4074  Monsieur  Leclerc Guillaume Paul Olivier    Software Systems   \n",
       "3621  Monsieur               Ilievski Vladimir                 NaN   \n",
       "8455    Madame                     Tomar Anmol                 NaN   \n",
       "1251  Monsieur                   La Spada Luca                 NaN   \n",
       "2007  Monsieur           Zablotchi Mihail Igor                 NaN   \n",
       "\n",
       "                                                 Mineur   Statut Type_Echange  \\\n",
       "5069  Mineur en Management, technologie et entrepren...  Présent          NaN   \n",
       "5063                                                NaN  Présent          NaN   \n",
       "3618                                                NaN  Présent          NaN   \n",
       "106                                                 NaN    Congé          NaN   \n",
       "2377                                                NaN  Présent          NaN   \n",
       "4074                                                NaN  Présent          NaN   \n",
       "3621                                                NaN  Présent          NaN   \n",
       "8455                                                NaN  Présent          NaN   \n",
       "1251                                                NaN    Stage          NaN   \n",
       "2007                                                NaN  Présent          NaN   \n",
       "\n",
       "     Ecole_Echange  No_Sciper                                       title  \\\n",
       "5069           NaN     213553  Informatique, 2011-2012, Master semestre 2   \n",
       "5063           NaN     215137  Informatique, 2011-2012, Master semestre 2   \n",
       "3618           NaN     192685  Informatique, 2015-2016, Master semestre 1   \n",
       "106            NaN     182377  Informatique, 2009-2010, Master semestre 1   \n",
       "2377           NaN     186067  Informatique, 2012-2013, Master semestre 2   \n",
       "4074           NaN     224338  Informatique, 2015-2016, Master semestre 2   \n",
       "3621           NaN     256710  Informatique, 2015-2016, Master semestre 1   \n",
       "8455           NaN     178057  Informatique, 2007-2008, Master semestre 1   \n",
       "1251           NaN     193276  Informatique, 2014-2015, Master semestre 2   \n",
       "2007           NaN     192870  Informatique, 2012-2013, Master semestre 1   \n",
       "\n",
       "     periode_acad     periode_pedago  start_year  end_year Project_Master  \\\n",
       "5069    2011-2012  Master semestre 2        2011      2012          False   \n",
       "5063    2011-2012  Master semestre 2        2011      2012          False   \n",
       "3618    2015-2016  Master semestre 1        2015      2016          False   \n",
       "106     2009-2010  Master semestre 1        2009      2010          False   \n",
       "2377    2012-2013  Master semestre 2        2012      2013          False   \n",
       "4074    2015-2016  Master semestre 2        2015      2016          False   \n",
       "3621    2015-2016  Master semestre 1        2015      2016          False   \n",
       "8455    2007-2008  Master semestre 1        2007      2008          False   \n",
       "1251    2014-2015  Master semestre 2        2014      2015          False   \n",
       "2007    2012-2013  Master semestre 1        2012      2013          False   \n",
       "\n",
       "     Master1 Master2 Master3  \n",
       "5069   False    True   False  \n",
       "5063   False    True   False  \n",
       "3618    True   False   False  \n",
       "106     True   False   False  \n",
       "2377   False    True   False  \n",
       "4074   False    True   False  \n",
       "3621    True   False   False  \n",
       "8455    True   False   False  \n",
       "1251   False    True   False  \n",
       "2007    True   False   False  "
      ]
     },
     "execution_count": 130,
     "metadata": {},
     "output_type": "execute_result"
    }
   ],
   "source": [
    "# show the new master_data (sample randomly to keep it managable but still informative)\n",
    "master_data.sample(n = 10, axis=0, replace=False)"
   ]
  },
  {
   "cell_type": "markdown",
   "metadata": {},
   "source": [
    "We will remove all students that did certainly not finish the master. That is we remove students that:\n",
    "- Have not done the Master 1 semestre. (There are not a lot of them (see later) and it is too cumbersome to track them and check if they eventually passed or not)\n",
    "- Did only 1 semester. (They did not pass)\n",
    "- Have a mineur or spe and did less than 3 semesters. (They also did not pass)\n",
    "- Are registered in the current semester \n",
    "\n",
    "We also remove students that already have been studing in 2007 (the start of our data) because we can not tell how long they already have studied before.\n",
    "\n",
    "\n"
   ]
  },
  {
   "cell_type": "code",
   "execution_count": 131,
   "metadata": {
    "collapsed": false
   },
   "outputs": [
    {
     "data": {
      "text/plain": [
       "76"
      ]
     },
     "execution_count": 131,
     "metadata": {},
     "output_type": "execute_result"
    }
   ],
   "source": [
    "# find all students that have not done the 'master 1' semester -> have not studied enough to finish the master.\n",
    "grouped = master_data.groupby(by='No_Sciper')\n",
    "no_master_1 = pd.DataFrame(columns=['Civilité', 'Nom_Prénom', 'Orientation_Bachelor', 'Orientation_Master',\n",
    "      'Spécialisation', 'Filière_opt.', 'Mineur', 'Statut', 'Type_Echange',\n",
    "      'Ecole_Echange', 'No_Sciper', 'title', 'periode_acad',\n",
    "      'periode_pedago']) \n",
    "for scip, group in grouped:\n",
    "    if (group.periode_pedago != 'Master semestre 1').all():\n",
    "        no_master_1 = pd.concat([no_master_1, group])\n",
    "len(no_master_1.No_Sciper.unique())"
   ]
  },
  {
   "cell_type": "code",
   "execution_count": 132,
   "metadata": {
    "collapsed": false
   },
   "outputs": [
    {
     "data": {
      "text/plain": [
       "66"
      ]
     },
     "execution_count": 132,
     "metadata": {},
     "output_type": "execute_result"
    }
   ],
   "source": [
    "# all the students that already studied in the '2007-2008' year:\n",
    "df_2006 = no_master_1[no_master_1.periode_acad == '2007-2008']\n",
    "len(df_2006.No_Sciper.unique())"
   ]
  },
  {
   "cell_type": "markdown",
   "metadata": {},
   "source": [
    "remove the found students (that did not do the master 1 semester). The others will be removed later."
   ]
  },
  {
   "cell_type": "code",
   "execution_count": 133,
   "metadata": {
    "collapsed": false
   },
   "outputs": [],
   "source": [
    "sciper_to_remove = no_master_1['No_Sciper'].unique()\n",
    "master_data = master_data[~master_data['No_Sciper'].isin(sciper_to_remove)]"
   ]
  },
  {
   "cell_type": "markdown",
   "metadata": {},
   "source": [
    "Find all the students that are registered in the current semester and filter them."
   ]
  },
  {
   "cell_type": "code",
   "execution_count": 134,
   "metadata": {
    "collapsed": false
   },
   "outputs": [
    {
     "data": {
      "text/plain": [
       "315"
      ]
     },
     "execution_count": 134,
     "metadata": {},
     "output_type": "execute_result"
    }
   ],
   "source": [
    "study_now = pd.DataFrame(columns=['Civilité', 'Nom_Prénom', 'Orientation_Bachelor', 'Orientation_Master',\n",
    "      'Spécialisation', 'Filière_opt.', 'Mineur', 'Statut', 'Type_Echange',\n",
    "      'Ecole_Echange', 'No_Sciper', 'title', 'periode_acad',\n",
    "      'periode_pedago']) \n",
    "for scip, group in grouped:\n",
    "    if (group.periode_acad == '2016-2017').any():\n",
    "        study_now = pd.concat([study_now, group])\n",
    "len(study_now.No_Sciper.unique())"
   ]
  },
  {
   "cell_type": "code",
   "execution_count": 135,
   "metadata": {
    "collapsed": false
   },
   "outputs": [],
   "source": [
    "sciper_to_remove = study_now['No_Sciper'].unique()\n",
    "master_data = master_data[~master_data['No_Sciper'].isin(sciper_to_remove)]\n"
   ]
  },
  {
   "cell_type": "markdown",
   "metadata": {},
   "source": [
    "#### Groupby and aggregate by student"
   ]
  },
  {
   "cell_type": "code",
   "execution_count": 136,
   "metadata": {
    "collapsed": false,
    "scrolled": false
   },
   "outputs": [
    {
     "name": "stdout",
     "output_type": "stream",
     "text": [
      "175703\n",
      "180570\n",
      "184264\n"
     ]
    },
    {
     "data": {
      "text/html": [
       "<div>\n",
       "<table border=\"1\" class=\"dataframe\">\n",
       "  <thead>\n",
       "    <tr style=\"text-align: right;\">\n",
       "      <th></th>\n",
       "      <th></th>\n",
       "      <th>Mineur</th>\n",
       "      <th>Name</th>\n",
       "      <th>No_Sciper</th>\n",
       "      <th>Sex</th>\n",
       "      <th>Specialisation</th>\n",
       "      <th>first_semestre</th>\n",
       "      <th>first_year</th>\n",
       "      <th>last_semestre</th>\n",
       "      <th>last_year</th>\n",
       "      <th>mineur_or_spe</th>\n",
       "      <th>nombre_semestres</th>\n",
       "      <th>project_master</th>\n",
       "      <th>semesters_done</th>\n",
       "      <th>to_remove</th>\n",
       "    </tr>\n",
       "  </thead>\n",
       "  <tbody>\n",
       "    <tr>\n",
       "      <th>0</th>\n",
       "      <th>0</th>\n",
       "      <td>NaN</td>\n",
       "      <td>Droz-dit-Busset Arnault</td>\n",
       "      <td>138088</td>\n",
       "      <td>Monsieur</td>\n",
       "      <td>NaN</td>\n",
       "      <td>Master semestre 1</td>\n",
       "      <td>2007</td>\n",
       "      <td>Master semestre 1</td>\n",
       "      <td>2008</td>\n",
       "      <td>False</td>\n",
       "      <td>1</td>\n",
       "      <td>False</td>\n",
       "      <td>[Master semestre 1]</td>\n",
       "      <td>True</td>\n",
       "    </tr>\n",
       "    <tr>\n",
       "      <th>1</th>\n",
       "      <th>0</th>\n",
       "      <td>NaN</td>\n",
       "      <td>Cardinaux Damien</td>\n",
       "      <td>146330</td>\n",
       "      <td>Monsieur</td>\n",
       "      <td>NaN</td>\n",
       "      <td>Master semestre 1</td>\n",
       "      <td>2007</td>\n",
       "      <td>Master semestre 3</td>\n",
       "      <td>2009</td>\n",
       "      <td>False</td>\n",
       "      <td>3</td>\n",
       "      <td>False</td>\n",
       "      <td>[Master semestre 1, Master semestre 2, Master ...</td>\n",
       "      <td>False</td>\n",
       "    </tr>\n",
       "    <tr>\n",
       "      <th>2</th>\n",
       "      <th>0</th>\n",
       "      <td>NaN</td>\n",
       "      <td>Marx Clément</td>\n",
       "      <td>146742</td>\n",
       "      <td>Monsieur</td>\n",
       "      <td>Signals, Images and Interfaces</td>\n",
       "      <td>Master semestre 1</td>\n",
       "      <td>2008</td>\n",
       "      <td>Master semestre 3</td>\n",
       "      <td>2013</td>\n",
       "      <td>True</td>\n",
       "      <td>7</td>\n",
       "      <td>True</td>\n",
       "      <td>[Master semestre 1, Master semestre 2, Master ...</td>\n",
       "      <td>False</td>\n",
       "    </tr>\n",
       "    <tr>\n",
       "      <th>3</th>\n",
       "      <th>0</th>\n",
       "      <td>NaN</td>\n",
       "      <td>Junod Antoine</td>\n",
       "      <td>146929</td>\n",
       "      <td>Monsieur</td>\n",
       "      <td>NaN</td>\n",
       "      <td>Master semestre 1</td>\n",
       "      <td>2007</td>\n",
       "      <td>Master semestre 2</td>\n",
       "      <td>2008</td>\n",
       "      <td>False</td>\n",
       "      <td>2</td>\n",
       "      <td>False</td>\n",
       "      <td>[Master semestre 1, Master semestre 2]</td>\n",
       "      <td>True</td>\n",
       "    </tr>\n",
       "    <tr>\n",
       "      <th>4</th>\n",
       "      <th>0</th>\n",
       "      <td>NaN</td>\n",
       "      <td>Good Xavier</td>\n",
       "      <td>147008</td>\n",
       "      <td>Monsieur</td>\n",
       "      <td>Signals, Images and Interfaces</td>\n",
       "      <td>Master semestre 1</td>\n",
       "      <td>2011</td>\n",
       "      <td>Master semestre 3</td>\n",
       "      <td>2013</td>\n",
       "      <td>True</td>\n",
       "      <td>4</td>\n",
       "      <td>False</td>\n",
       "      <td>[Master semestre 1, Master semestre 2, Master ...</td>\n",
       "      <td>False</td>\n",
       "    </tr>\n",
       "  </tbody>\n",
       "</table>\n",
       "</div>"
      ],
      "text/plain": [
       "    Mineur                     Name  No_Sciper       Sex  \\\n",
       "0 0    NaN  Droz-dit-Busset Arnault     138088  Monsieur   \n",
       "1 0    NaN         Cardinaux Damien     146330  Monsieur   \n",
       "2 0    NaN             Marx Clément     146742  Monsieur   \n",
       "3 0    NaN            Junod Antoine     146929  Monsieur   \n",
       "4 0    NaN              Good Xavier     147008  Monsieur   \n",
       "\n",
       "                     Specialisation     first_semestre  first_year  \\\n",
       "0 0                             NaN  Master semestre 1        2007   \n",
       "1 0                             NaN  Master semestre 1        2007   \n",
       "2 0  Signals, Images and Interfaces  Master semestre 1        2008   \n",
       "3 0                             NaN  Master semestre 1        2007   \n",
       "4 0  Signals, Images and Interfaces  Master semestre 1        2011   \n",
       "\n",
       "         last_semestre  last_year mineur_or_spe  nombre_semestres  \\\n",
       "0 0  Master semestre 1       2008         False                 1   \n",
       "1 0  Master semestre 3       2009         False                 3   \n",
       "2 0  Master semestre 3       2013          True                 7   \n",
       "3 0  Master semestre 2       2008         False                 2   \n",
       "4 0  Master semestre 3       2013          True                 4   \n",
       "\n",
       "    project_master                                     semesters_done  \\\n",
       "0 0          False                                [Master semestre 1]   \n",
       "1 0          False  [Master semestre 1, Master semestre 2, Master ...   \n",
       "2 0           True  [Master semestre 1, Master semestre 2, Master ...   \n",
       "3 0          False             [Master semestre 1, Master semestre 2]   \n",
       "4 0          False  [Master semestre 1, Master semestre 2, Master ...   \n",
       "\n",
       "    to_remove  \n",
       "0 0      True  \n",
       "1 0     False  \n",
       "2 0     False  \n",
       "3 0      True  \n",
       "4 0     False  "
      ]
     },
     "execution_count": 136,
     "metadata": {},
     "output_type": "execute_result"
    }
   ],
   "source": [
    "def group_master_data(grouped_entries):\n",
    "    # check that there are no two students with the same sciper number\n",
    "    must_be_unique_list = ['Sex', 'Name'] #No_Scyper also but we group by it -> unique by definition\n",
    "    #if(len(grouped_entries[unique_col].unique()) > 1): raise ValueError('Two students of different '+unique_col+' with same No_Sciper') for unique_col in must_be_unique_list]\n",
    "    \n",
    "    #aggregate the cols\n",
    "    first_entry = grouped_entries.head(1)\n",
    "    df_map = {\n",
    "        'No_Sciper' : first_entry['No_Sciper'].values[0],\n",
    "        'Name' : first_entry['Name'].values[0],\n",
    "        'Sex' : first_entry['Sex'].values[0],\n",
    "        'Specialisation' : grouped_entries['Specialisation'].dropna().unique(),\n",
    "        'Mineur' : grouped_entries['Mineur'].dropna().unique(),\n",
    "        'first_year': grouped_entries['start_year'].min(), # smallest start year entry\n",
    "        'last_year' : grouped_entries['end_year'].max(), # highest year a studend appears (eg 2010)\n",
    "        'first_semestre' : grouped_entries.sort_values(by=['start_year', 'periode_pedago'], axis=0, ascending=True)['periode_pedago'].values[0], # eg master1\n",
    "        'last_semestre' : grouped_entries.sort_values(by=['end_year', 'periode_pedago'], axis=0, ascending=False)['periode_pedago'].values[0], # the name of the last semester (eg. master 3)\n",
    "        'semesters_done' : grouped_entries.sort_values(by=['end_year'])['periode_pedago'].values,\n",
    "        'nombre_semestres' : len(grouped_entries), # how many different semesters the student did at epfl\n",
    "        'project_master' : grouped_entries['Project_Master'].sum() > 0\n",
    "    } \n",
    "    df_map['mineur_or_spe'] = len(df_map['Specialisation']) + len(df_map['Mineur']) > 0\n",
    "    df_map['to_remove'] = df_map['nombre_semestres'] <= 1 or (not df_map['mineur_or_spe'] and df_map['nombre_semestres'] <= 2)\n",
    "    \n",
    "    # if there are two spe, take the latest one\n",
    "    if len(df_map['Specialisation']) > 1:\n",
    "        print(df_map['No_Sciper'])\n",
    "        df_map['Specialisation'] = grouped_entries[grouped_entries['end_year'] == df_map['last_year']]['Specialisation'].values[0]\n",
    "    elif len(df_map['Specialisation']) == 1:\n",
    "        df_map['Specialisation'] = df_map['Specialisation'][0]\n",
    "        \n",
    "    # set correct NaNs\n",
    "    if len(df_map['Mineur']) == 0:\n",
    "        df_map['Mineur'] = np.nan\n",
    "    if len(df_map['Specialisation']) == 0:\n",
    "        df_map['Specialisation'] = np.nan\n",
    "    \n",
    "    # make Dataframe\n",
    "    for (k, v) in df_map.items():\n",
    "        df_map[k] = [v]\n",
    "    return pd.DataFrame.from_dict(df_map)\n",
    "    \n",
    "    \n",
    "grouped_master = master_data.groupby(by='No_Sciper', as_index=False, sort=True).apply(group_master_data)\n",
    "grouped_master.head()"
   ]
  },
  {
   "cell_type": "markdown",
   "metadata": {},
   "source": [
    "remove the students that have not finished their master (described above)"
   ]
  },
  {
   "cell_type": "code",
   "execution_count": 137,
   "metadata": {
    "collapsed": false
   },
   "outputs": [
    {
     "data": {
      "text/plain": [
       "127"
      ]
     },
     "execution_count": 137,
     "metadata": {},
     "output_type": "execute_result"
    }
   ],
   "source": [
    "students_to_remove = grouped_master[grouped_master['to_remove']]\n",
    "len(students_to_remove)"
   ]
  },
  {
   "cell_type": "code",
   "execution_count": 138,
   "metadata": {
    "collapsed": true
   },
   "outputs": [],
   "source": [
    "grouped_master = grouped_master[~grouped_master['to_remove']]"
   ]
  },
  {
   "cell_type": "code",
   "execution_count": 139,
   "metadata": {
    "collapsed": false
   },
   "outputs": [
    {
     "data": {
      "text/plain": [
       "461"
      ]
     },
     "execution_count": 139,
     "metadata": {},
     "output_type": "execute_result"
    }
   ],
   "source": [
    "grouped_master.set_index('No_Sciper', inplace=True)\n",
    "len(grouped_master)"
   ]
  },
  {
   "cell_type": "markdown",
   "metadata": {},
   "source": [
    "## How many month did it take each student"
   ]
  },
  {
   "cell_type": "markdown",
   "metadata": {},
   "source": [
    "First without any further cleaning and thinking"
   ]
  },
  {
   "cell_type": "code",
   "execution_count": 140,
   "metadata": {
    "collapsed": false
   },
   "outputs": [],
   "source": [
    "master_epfl = grouped_master.copy()\n"
   ]
  },
  {
   "cell_type": "code",
   "execution_count": 141,
   "metadata": {
    "collapsed": false,
    "scrolled": false
   },
   "outputs": [
    {
     "data": {
      "text/plain": [
       "(array([   0.,    4.,  252.,  142.,   48.,   12.,    2.,    1.]),\n",
       " array([ 1.,  2.,  3.,  4.,  5.,  6.,  7.,  8.,  9.]),\n",
       " <a list of 8 Patch objects>)"
      ]
     },
     "execution_count": 141,
     "metadata": {},
     "output_type": "execute_result"
    },
    {
     "data": {
      "image/png": "[encoded data removed]",
      "text/plain": [
       "<matplotlib.figure.Figure at 0x7f3a62993dd8>"
      ]
     },
     "metadata": {},
     "output_type": "display_data"
    }
   ],
   "source": [
    "plt.hist(master_epfl['nombre_semestres'], bins=8, range=[1, 9])"
   ]
  },
  {
   "cell_type": "code",
   "execution_count": 142,
   "metadata": {
    "collapsed": false
   },
   "outputs": [
    {
     "data": {
      "text/html": [
       "<div>\n",
       "<table border=\"1\" class=\"dataframe\">\n",
       "  <thead>\n",
       "    <tr style=\"text-align: right;\">\n",
       "      <th></th>\n",
       "      <th>first_year</th>\n",
       "      <th>last_year</th>\n",
       "      <th>nombre_semestres</th>\n",
       "    </tr>\n",
       "  </thead>\n",
       "  <tbody>\n",
       "    <tr>\n",
       "      <th>count</th>\n",
       "      <td>461.000000</td>\n",
       "      <td>461.000000</td>\n",
       "      <td>461.000000</td>\n",
       "    </tr>\n",
       "    <tr>\n",
       "      <th>mean</th>\n",
       "      <td>2010.644252</td>\n",
       "      <td>2012.800434</td>\n",
       "      <td>3.613883</td>\n",
       "    </tr>\n",
       "    <tr>\n",
       "      <th>std</th>\n",
       "      <td>2.073464</td>\n",
       "      <td>2.083913</td>\n",
       "      <td>0.846054</td>\n",
       "    </tr>\n",
       "    <tr>\n",
       "      <th>min</th>\n",
       "      <td>2007.000000</td>\n",
       "      <td>2009.000000</td>\n",
       "      <td>2.000000</td>\n",
       "    </tr>\n",
       "    <tr>\n",
       "      <th>25%</th>\n",
       "      <td>2009.000000</td>\n",
       "      <td>2011.000000</td>\n",
       "      <td>3.000000</td>\n",
       "    </tr>\n",
       "    <tr>\n",
       "      <th>50%</th>\n",
       "      <td>2011.000000</td>\n",
       "      <td>2013.000000</td>\n",
       "      <td>3.000000</td>\n",
       "    </tr>\n",
       "    <tr>\n",
       "      <th>75%</th>\n",
       "      <td>2012.000000</td>\n",
       "      <td>2015.000000</td>\n",
       "      <td>4.000000</td>\n",
       "    </tr>\n",
       "    <tr>\n",
       "      <th>max</th>\n",
       "      <td>2014.000000</td>\n",
       "      <td>2016.000000</td>\n",
       "      <td>8.000000</td>\n",
       "    </tr>\n",
       "  </tbody>\n",
       "</table>\n",
       "</div>"
      ],
      "text/plain": [
       "        first_year    last_year  nombre_semestres\n",
       "count   461.000000   461.000000        461.000000\n",
       "mean   2010.644252  2012.800434          3.613883\n",
       "std       2.073464     2.083913          0.846054\n",
       "min    2007.000000  2009.000000          2.000000\n",
       "25%    2009.000000  2011.000000          3.000000\n",
       "50%    2011.000000  2013.000000          3.000000\n",
       "75%    2012.000000  2015.000000          4.000000\n",
       "max    2014.000000  2016.000000          8.000000"
      ]
     },
     "execution_count": 142,
     "metadata": {},
     "output_type": "execute_result"
    }
   ],
   "source": [
    "master_epfl.describe()"
   ]
  },
  {
   "cell_type": "markdown",
   "metadata": {},
   "source": [
    "The mean of the number of semesters is around 3.6 semesters.\n",
    "However not all students are registered in the the Master Project (missing data?), but in the plot above we assume everyone finished their master. \n",
    "So we add to all students that are not inscribed in a Master Project one semester:"
   ]
  },
  {
   "cell_type": "code",
   "execution_count": 143,
   "metadata": {
    "collapsed": false
   },
   "outputs": [],
   "source": [
    "def add_semester_if_no_PM(row):\n",
    "    t = row.nombre_semestres\n",
    "    if(not row.project_master):\n",
    "        return t + 1\n",
    "    else:\n",
    "        return t\n",
    "        \n",
    "master_added_sem = master_epfl.copy()\n",
    "master_added_sem['nombre_semestres'] = master_epfl.apply(add_semester_if_no_PM, axis=1)\n"
   ]
  },
  {
   "cell_type": "code",
   "execution_count": 144,
   "metadata": {
    "collapsed": false,
    "scrolled": true
   },
   "outputs": [
    {
     "data": {
      "text/html": [
       "<div>\n",
       "<table border=\"1\" class=\"dataframe\">\n",
       "  <thead>\n",
       "    <tr style=\"text-align: right;\">\n",
       "      <th></th>\n",
       "      <th>first_year</th>\n",
       "      <th>last_year</th>\n",
       "      <th>nombre_semestres</th>\n",
       "    </tr>\n",
       "  </thead>\n",
       "  <tbody>\n",
       "    <tr>\n",
       "      <th>count</th>\n",
       "      <td>461.000000</td>\n",
       "      <td>461.000000</td>\n",
       "      <td>461.000000</td>\n",
       "    </tr>\n",
       "    <tr>\n",
       "      <th>mean</th>\n",
       "      <td>2010.644252</td>\n",
       "      <td>2012.800434</td>\n",
       "      <td>4.492408</td>\n",
       "    </tr>\n",
       "    <tr>\n",
       "      <th>std</th>\n",
       "      <td>2.073464</td>\n",
       "      <td>2.083913</td>\n",
       "      <td>0.843419</td>\n",
       "    </tr>\n",
       "    <tr>\n",
       "      <th>min</th>\n",
       "      <td>2007.000000</td>\n",
       "      <td>2009.000000</td>\n",
       "      <td>3.000000</td>\n",
       "    </tr>\n",
       "    <tr>\n",
       "      <th>25%</th>\n",
       "      <td>2009.000000</td>\n",
       "      <td>2011.000000</td>\n",
       "      <td>4.000000</td>\n",
       "    </tr>\n",
       "    <tr>\n",
       "      <th>50%</th>\n",
       "      <td>2011.000000</td>\n",
       "      <td>2013.000000</td>\n",
       "      <td>4.000000</td>\n",
       "    </tr>\n",
       "    <tr>\n",
       "      <th>75%</th>\n",
       "      <td>2012.000000</td>\n",
       "      <td>2015.000000</td>\n",
       "      <td>5.000000</td>\n",
       "    </tr>\n",
       "    <tr>\n",
       "      <th>max</th>\n",
       "      <td>2014.000000</td>\n",
       "      <td>2016.000000</td>\n",
       "      <td>8.000000</td>\n",
       "    </tr>\n",
       "  </tbody>\n",
       "</table>\n",
       "</div>"
      ],
      "text/plain": [
       "        first_year    last_year  nombre_semestres\n",
       "count   461.000000   461.000000        461.000000\n",
       "mean   2010.644252  2012.800434          4.492408\n",
       "std       2.073464     2.083913          0.843419\n",
       "min    2007.000000  2009.000000          3.000000\n",
       "25%    2009.000000  2011.000000          4.000000\n",
       "50%    2011.000000  2013.000000          4.000000\n",
       "75%    2012.000000  2015.000000          5.000000\n",
       "max    2014.000000  2016.000000          8.000000"
      ]
     },
     "execution_count": 144,
     "metadata": {},
     "output_type": "execute_result"
    }
   ],
   "source": [
    "master_added_sem.describe()"
   ]
  },
  {
   "cell_type": "markdown",
   "metadata": {},
   "source": [
    "It made a big difference. But that seems reasonable since most students do a Mineur/Spe which makes already 4 semesters (MP included)"
   ]
  },
  {
   "cell_type": "code",
   "execution_count": 145,
   "metadata": {
    "collapsed": false
   },
   "outputs": [
    {
     "data": {
      "text/plain": [
       "(array([   0.,    0.,   19.,  267.,  118.,   45.,   10.,    2.]),\n",
       " array([ 1.,  2.,  3.,  4.,  5.,  6.,  7.,  8.,  9.]),\n",
       " <a list of 8 Patch objects>)"
      ]
     },
     "execution_count": 145,
     "metadata": {},
     "output_type": "execute_result"
    },
    {
     "data": {
      "image/png": "[encoded data removed]",
      "text/plain": [
       "<matplotlib.figure.Figure at 0x7f3a6298c668>"
      ]
     },
     "metadata": {},
     "output_type": "display_data"
    }
   ],
   "source": [
    "plt.hist(master_added_sem['nombre_semestres'], bins=8, range=[1, 9])"
   ]
  },
  {
   "cell_type": "markdown",
   "metadata": {},
   "source": [
    "## And per specialisation\n",
    "We will take tha 'added_semester' data since we think it is more accurate.\n",
    "Note that the average number of semesters is only 0.3 higher than the one of all students."
   ]
  },
  {
   "cell_type": "code",
   "execution_count": 146,
   "metadata": {
    "collapsed": false,
    "scrolled": true
   },
   "outputs": [
    {
     "data": {
      "text/html": [
       "<div>\n",
       "<table border=\"1\" class=\"dataframe\">\n",
       "  <thead>\n",
       "    <tr style=\"text-align: right;\">\n",
       "      <th></th>\n",
       "      <th>first_year</th>\n",
       "      <th>last_year</th>\n",
       "      <th>nombre_semestres</th>\n",
       "    </tr>\n",
       "  </thead>\n",
       "  <tbody>\n",
       "    <tr>\n",
       "      <th>count</th>\n",
       "      <td>174.000000</td>\n",
       "      <td>174.000000</td>\n",
       "      <td>174.000000</td>\n",
       "    </tr>\n",
       "    <tr>\n",
       "      <th>mean</th>\n",
       "      <td>2010.022989</td>\n",
       "      <td>2012.241379</td>\n",
       "      <td>4.729885</td>\n",
       "    </tr>\n",
       "    <tr>\n",
       "      <th>std</th>\n",
       "      <td>2.070866</td>\n",
       "      <td>2.147538</td>\n",
       "      <td>0.900561</td>\n",
       "    </tr>\n",
       "    <tr>\n",
       "      <th>min</th>\n",
       "      <td>2007.000000</td>\n",
       "      <td>2009.000000</td>\n",
       "      <td>3.000000</td>\n",
       "    </tr>\n",
       "    <tr>\n",
       "      <th>25%</th>\n",
       "      <td>2008.000000</td>\n",
       "      <td>2010.000000</td>\n",
       "      <td>4.000000</td>\n",
       "    </tr>\n",
       "    <tr>\n",
       "      <th>50%</th>\n",
       "      <td>2010.000000</td>\n",
       "      <td>2012.000000</td>\n",
       "      <td>5.000000</td>\n",
       "    </tr>\n",
       "    <tr>\n",
       "      <th>75%</th>\n",
       "      <td>2012.000000</td>\n",
       "      <td>2014.000000</td>\n",
       "      <td>5.000000</td>\n",
       "    </tr>\n",
       "    <tr>\n",
       "      <th>max</th>\n",
       "      <td>2014.000000</td>\n",
       "      <td>2016.000000</td>\n",
       "      <td>7.000000</td>\n",
       "    </tr>\n",
       "  </tbody>\n",
       "</table>\n",
       "</div>"
      ],
      "text/plain": [
       "        first_year    last_year  nombre_semestres\n",
       "count   174.000000   174.000000        174.000000\n",
       "mean   2010.022989  2012.241379          4.729885\n",
       "std       2.070866     2.147538          0.900561\n",
       "min    2007.000000  2009.000000          3.000000\n",
       "25%    2008.000000  2010.000000          4.000000\n",
       "50%    2010.000000  2012.000000          5.000000\n",
       "75%    2012.000000  2014.000000          5.000000\n",
       "max    2014.000000  2016.000000          7.000000"
      ]
     },
     "execution_count": 146,
     "metadata": {},
     "output_type": "execute_result"
    }
   ],
   "source": [
    "master_with_spe = master_added_sem[~pd.isnull(master_added_sem['Specialisation'])]\n",
    "master_with_spe.describe()"
   ]
  },
  {
   "cell_type": "markdown",
   "metadata": {},
   "source": [
    "almost 50% of all students do a minor or a specialisation:"
   ]
  },
  {
   "cell_type": "code",
   "execution_count": 147,
   "metadata": {
    "collapsed": false
   },
   "outputs": [
    {
     "data": {
      "text/plain": [
       "37.74403470715835"
      ]
     },
     "execution_count": 147,
     "metadata": {},
     "output_type": "execute_result"
    }
   ],
   "source": [
    "# how many percent of students do a specialisation\n",
    "100/len(master_added_sem) * len(master_with_spe)"
   ]
  },
  {
   "cell_type": "code",
   "execution_count": 148,
   "metadata": {
    "collapsed": false
   },
   "outputs": [
    {
     "data": {
      "text/plain": [
       "12.79826464208243"
      ]
     },
     "execution_count": 148,
     "metadata": {},
     "output_type": "execute_result"
    }
   ],
   "source": [
    "# how many percent of students do a minor\n",
    "100/len(master_added_sem) * len(master_added_sem[~pd.isnull(master_added_sem['Mineur'])])"
   ]
  },
  {
   "cell_type": "markdown",
   "metadata": {},
   "source": [
    "What are the different specialisations and how popular are they?"
   ]
  },
  {
   "cell_type": "code",
   "execution_count": 149,
   "metadata": {
    "collapsed": false
   },
   "outputs": [
    {
     "data": {
      "text/plain": [
       "array(['Signals, Images and Interfaces', 'Internet computing',\n",
       "       'Biocomputing', 'Foundations of Software',\n",
       "       'Computer Engineering - SP', 'Service science', 'Software Systems'], dtype=object)"
      ]
     },
     "execution_count": 149,
     "metadata": {},
     "output_type": "execute_result"
    }
   ],
   "source": [
    "# The different specialisations\n",
    "master_with_spe['Specialisation'].unique()"
   ]
  },
  {
   "cell_type": "markdown",
   "metadata": {},
   "source": [
    "A nice plot showing that there is a huge difference in the number of people taking the different Specialisations"
   ]
  },
  {
   "cell_type": "code",
   "execution_count": 150,
   "metadata": {
    "collapsed": false
   },
   "outputs": [
    {
     "data": {
      "image/png": "[encoded data removed]",
      "text/plain": [
       "<matplotlib.figure.Figure at 0x7f3a62b70be0>"
      ]
     },
     "metadata": {},
     "output_type": "display_data"
    }
   ],
   "source": [
    "sns.countplot(y=\"Specialisation\", data=master_with_spe);"
   ]
  },
  {
   "cell_type": "markdown",
   "metadata": {},
   "source": [
    "In the time taken to colmplete their studies they don't differ a lot.\n",
    "(The red dotted line is the averarge of all students, the blue line the average of the students with specialisations)"
   ]
  },
  {
   "cell_type": "code",
   "execution_count": 151,
   "metadata": {
    "collapsed": false,
    "scrolled": false
   },
   "outputs": [
    {
     "data": {
      "text/plain": [
       "<matplotlib.lines.Line2D at 0x7f3a62a76fd0>"
      ]
     },
     "execution_count": 151,
     "metadata": {},
     "output_type": "execute_result"
    },
    {
     "data": {
      "image/png": "[encoded data removed]",
      "text/plain": [
       "<matplotlib.figure.Figure at 0x7f3a6299b630>"
      ]
     },
     "metadata": {},
     "output_type": "display_data"
    }
   ],
   "source": [
    "ax = sns.barplot(x='nombre_semestres', y='Specialisation', data=master_with_spe);\n",
    "plt.axvline(master_with_spe['nombre_semestres'].mean(), color='b', linestyle='dashed', linewidth=2)\n",
    "plt.axvline(master_added_sem['nombre_semestres'].mean(), color='r', linestyle='dashed', linewidth=2)"
   ]
  },
  {
   "cell_type": "code",
   "execution_count": 152,
   "metadata": {
    "collapsed": false
   },
   "outputs": [],
   "source": [
    "def calc_diff_from_average(col, average):\n",
    "    return (lambda row: row[col] - average)\n",
    "master_with_spe['diff_from_average'] = master_with_spe.apply(calc_diff_from_average('nombre_semestres', master_with_spe['nombre_semestres'].mean()), axis=1)"
   ]
  },
  {
   "cell_type": "markdown",
   "metadata": {},
   "source": [
    "Only the last 5 specialisations seem to diverge substantially from the average (their confidence intervall does not include the mean)\n",
    "This are also not taken by a lot of students. In fact they were introduced this semester, which also explains the lower average time. The students taking this specialisations have not yet finished their studies which leads to the lower time."
   ]
  },
  {
   "cell_type": "code",
   "execution_count": 153,
   "metadata": {
    "collapsed": false,
    "scrolled": true
   },
   "outputs": [
    {
     "data": {
      "image/png": "[encoded data removed]",
      "text/plain": [
       "<matplotlib.figure.Figure at 0x7f3a6016dd68>"
      ]
     },
     "metadata": {},
     "output_type": "display_data"
    }
   ],
   "source": [
    "sns.barplot(x='diff_from_average', y='Specialisation', data=master_with_spe);"
   ]
  },
  {
   "cell_type": "markdown",
   "metadata": {},
   "source": [
    "## Female vs Male (Optional)"
   ]
  },
  {
   "cell_type": "code",
   "execution_count": null,
   "metadata": {
    "collapsed": true
   },
   "outputs": [],
   "source": []
  },
  {
   "cell_type": "code",
   "execution_count": null,
   "metadata": {
    "collapsed": true
   },
   "outputs": [],
   "source": []
  }
 ],
 "metadata": {
  "anaconda-cloud": {},
  "kernelspec": {
   "display_name": "Python [Root]",
   "language": "python",
   "name": "Python [Root]"
  },
  "language_info": {
   "codemirror_mode": {
    "name": "ipython",
    "version": 3
   },
   "file_extension": ".py",
   "mimetype": "text/x-python",
   "name": "python",
   "nbconvert_exporter": "python",
   "pygments_lexer": "ipython3",
   "version": "3.5.2"
  }
 },
 "nbformat": 4,
 "nbformat_minor": 0
}
