{
 "cells": [
  {
   "cell_type": "code",
   "execution_count": 285,
   "metadata": {
    "collapsed": true
   },
   "outputs": [],
   "source": [
    "import pandas as pd\n",
    "import numpy as np\n",
    "import glob # to find all files in folder\n",
    "from datetime import datetime\n",
    "from datetime import date, time\n",
    "from dateutil.parser import parse\n",
    "pd.options.mode.chained_assignment = None  # default='warn'"
   ]
  },
  {
   "cell_type": "markdown",
   "metadata": {},
   "source": [
    "# Advanced Exo from 'Intro to Pandas'"
   ]
  },
  {
   "cell_type": "code",
   "execution_count": 286,
   "metadata": {
    "collapsed": false
   },
   "outputs": [],
   "source": [
    "# load all data and parse the 'date' column\n",
    "def load_data():\n",
    "    sl_files=glob.glob('Data/ebola/sl_data/*.csv')\n",
    "    guinea_files=glob.glob('Data/ebola/guinea_data/*.csv')\n",
    "    liberia_files=glob.glob('Data/ebola/liberia_data/*.csv')\n",
    "    sl = pd.concat((pd.read_csv(file,  parse_dates=['date']) for file in sl_files), ignore_index=True)\n",
    "    guinea = pd.concat((pd.read_csv(file , parse_dates=['Date']) for file in guinea_files), ignore_index=True)\n",
    "    liberia = pd.concat((pd.read_csv(file , parse_dates=['Date']) for file in liberia_files), ignore_index=True)\n",
    "    return (sl, guinea, liberia)\n",
    "\n",
    "#test github baptiste\n",
    "    "
   ]
  },
  {
   "cell_type": "code",
   "execution_count": 287,
   "metadata": {
    "collapsed": false
   },
   "outputs": [],
   "source": [
    "(sl, guinea, liberia) = load_data()"
   ]
  },
  {
   "cell_type": "code",
   "execution_count": 288,
   "metadata": {
    "collapsed": false
   },
   "outputs": [
    {
     "data": {
      "text/plain": [
       "Index(['34 Military Hospital', 'Bo', 'Bo EMC', 'Bombali', 'Bonthe',\n",
       "       'Hastings-F/Town', 'Kailahun', 'Kambia', 'Kenema', 'Kenema (IFRC)',\n",
       "       'Kenema (KGH)', 'Koinadugu', 'Kono', 'Moyamba', 'National',\n",
       "       'Police training School', 'Police traning School', 'Port Loko',\n",
       "       'Pujehun', 'Tonkolili', 'Unnamed: 18', 'Western area',\n",
       "       'Western area combined', 'Western area rural', 'Western area urban',\n",
       "       'date', 'variable'],\n",
       "      dtype='object')"
      ]
     },
     "execution_count": 288,
     "metadata": {},
     "output_type": "execute_result"
    }
   ],
   "source": [
    "# look at the sl data\n",
    "sl.columns"
   ]
  },
  {
   "cell_type": "code",
   "execution_count": 289,
   "metadata": {
    "collapsed": false
   },
   "outputs": [
    {
     "data": {
      "text/plain": [
       "array(['population', 'new_noncase', 'new_suspected', 'new_probable',\n",
       "       'new_confirmed', 'cum_noncase', 'cum_suspected', 'cum_probable',\n",
       "       'cum_confirmed', 'death_suspected', 'death_probable',\n",
       "       'death_confirmed', 'cfr', 'etc_new_admission',\n",
       "       'etc_currently_admitted', 'etc_cum_admission', 'etc_new_deaths',\n",
       "       'etc_cum_deaths', 'etc_new_discharges', 'etc_cum_discharges',\n",
       "       'cum_contacts', 'cum_completed_contacts', 'contacts_followed',\n",
       "       'new_contacts', 'contacts_healthy', 'contacts_ill',\n",
       "       'contacts_not_seen', 'new_completed_contacts', 'percent_seen',\n",
       "       'total_lab_samples', 'repeat_samples', 'new_samples',\n",
       "       'new_positive', 'new_negative', 'pending', 'positive_corpse',\n",
       "       'negative_corpse'], dtype=object)"
      ]
     },
     "execution_count": 289,
     "metadata": {},
     "output_type": "execute_result"
    }
   ],
   "source": [
    "sl['variable'].unique()"
   ]
  },
  {
   "cell_type": "markdown",
   "metadata": {},
   "source": [
    "we decide to only take the 'confirmed' cases and not the suspected or probable ones since 'suspected' and 'probable' are very subjective terms and may not be the same over the 3 countries."
   ]
  },
  {
   "cell_type": "code",
   "execution_count": 290,
   "metadata": {
    "collapsed": true
   },
   "outputs": [],
   "source": [
    "sl_variables_to_use = ['new_confirmed', 'death_confirmed']"
   ]
  },
  {
   "cell_type": "code",
   "execution_count": 291,
   "metadata": {
    "collapsed": false
   },
   "outputs": [
    {
     "data": {
      "text/plain": [
       "Index(['Beyla', 'Boffa', 'Conakry', 'Coyah', 'Dabola', 'Dalaba', 'Date',\n",
       "       'Description', 'Dinguiraye', 'Dubreka', 'Forecariah', 'Gueckedou',\n",
       "       'Kerouane', 'Kindia', 'Kissidougou', 'Kouroussa', 'Lola', 'Macenta',\n",
       "       'Mzerekore', 'Nzerekore', 'Pita', 'Siguiri', 'Telimele', 'Totals',\n",
       "       'Yomou'],\n",
       "      dtype='object')"
      ]
     },
     "execution_count": 291,
     "metadata": {},
     "output_type": "execute_result"
    }
   ],
   "source": [
    "# look at the guinea data\n",
    "guinea.columns"
   ]
  },
  {
   "cell_type": "code",
   "execution_count": 292,
   "metadata": {
    "collapsed": false,
    "scrolled": true
   },
   "outputs": [
    {
     "data": {
      "text/plain": [
       "array(['New cases of suspects', 'New cases of probables',\n",
       "       'New cases of confirmed', 'Total new cases registered so far',\n",
       "       'Total cases of suspects', 'Total cases of probables',\n",
       "       'Total cases of confirmed',\n",
       "       'Cumulative (confirmed + probable + suspects)',\n",
       "       'New deaths registered today',\n",
       "       'New deaths registered today (confirmed)',\n",
       "       'New deaths registered today (probables)',\n",
       "       'New deaths registered today (suspects)',\n",
       "       'Total deaths of suspects', 'Total deaths of probables',\n",
       "       'Total deaths of confirmed',\n",
       "       'Total deaths (confirmed + probables + suspects)',\n",
       "       'Total PEC center today', 'Total PEC center today (confirmed)',\n",
       "       'Total PEC center today (probables)',\n",
       "       'Total PEC center today (suspects)',\n",
       "       'Total of deaths in confirmed cases in CTE',\n",
       "       'Total of cured in confirmed cases in CTE',\n",
       "       'Number of male confirmed cases',\n",
       "       'Number of female confirmed cases',\n",
       "       'Number of male probables cases',\n",
       "       'Number of female probables cases', 'Number of male suspects cases',\n",
       "       'Number of female suspects cases', 'Total number of male cases',\n",
       "       'Total number of female cases',\n",
       "       'Number of confirmed cases among health workers',\n",
       "       'Number of deaths of confirmed cases among health workers',\n",
       "       'Number of probables cases among health workers',\n",
       "       'Number of deaths of probables cases among health workers',\n",
       "       'Number of suspects cases among health workers',\n",
       "       'Number of death of confirmed cases among health workers',\n",
       "       'Total contacts registered from start date',\n",
       "       'Number of contacts to follow today',\n",
       "       'Number of contacts out of track',\n",
       "       'Number of contacts followed yesterday',\n",
       "       'Number of patients tested', 'Number of samples collected',\n",
       "       'Total suspected non-class cases', 'New deaths registered',\n",
       "       'Fatality rate for confirmed and probables',\n",
       "       'New cases of confirmed among health workers',\n",
       "       'Total case of confirmed among health workers',\n",
       "       'New deaths registered among health workers',\n",
       "       'Total deaths registered among health workers',\n",
       "       'New admits to CTE so far',\n",
       "       'Total number of hospitalized cases in CTE',\n",
       "       'Total number of exits from CTE',\n",
       "       'Total number of admissions to CTE',\n",
       "       'New contacts registered so far',\n",
       "       'Number of contacts followed today',\n",
       "       'Number of contacts out of the track 21 days',\n",
       "       'Number of contacts lost to follow up',\n",
       "       'Number of samples collected today', 'Number of samples under test',\n",
       "       'Total samples tested'], dtype=object)"
      ]
     },
     "execution_count": 292,
     "metadata": {},
     "output_type": "execute_result"
    }
   ],
   "source": [
    "guinea['Description'].unique()"
   ]
  },
  {
   "cell_type": "code",
   "execution_count": 293,
   "metadata": {
    "collapsed": true
   },
   "outputs": [],
   "source": [
    "guinea_variables_to_use = ['New cases of confirmed', 'New deaths registered today (confirmed)']"
   ]
  },
  {
   "cell_type": "code",
   "execution_count": 294,
   "metadata": {
    "collapsed": false
   },
   "outputs": [
    {
     "data": {
      "text/plain": [
       "Index(['Bomi County', 'Bong County', 'Date', 'Gbarpolu County', 'Grand Bassa',\n",
       "       'Grand Cape Mount', 'Grand Gedeh', 'Grand Kru', 'Lofa County',\n",
       "       'Margibi County', 'Maryland County', 'Montserrado County', 'National',\n",
       "       'Nimba County', 'River Gee County', 'RiverCess County', 'Sinoe County',\n",
       "       'Unnamed: 18', 'Variable'],\n",
       "      dtype='object')"
      ]
     },
     "execution_count": 294,
     "metadata": {},
     "output_type": "execute_result"
    }
   ],
   "source": [
    "# look at the liberia data\n",
    "liberia.columns"
   ]
  },
  {
   "cell_type": "code",
   "execution_count": 295,
   "metadata": {
    "collapsed": false
   },
   "outputs": [
    {
     "data": {
      "text/plain": [
       "array(['Specimens collected', 'Specimens pending for testing',\n",
       "       'Total specimens tested', 'Newly reported deaths',\n",
       "       'Total death/s in confirmed cases',\n",
       "       'Total death/s in probable cases',\n",
       "       'Total death/s in suspected cases',\n",
       "       'Total death/s in confirmed, probable, suspected cases',\n",
       "       'Case Fatality Rate (CFR) - Confirmed & Probable Cases',\n",
       "       'Newly reported contacts', 'Total contacts listed',\n",
       "       'Currently under follow-up', 'Contacts seen',\n",
       "       'Contacts who completed 21 day follow-up',\n",
       "       'Contacts lost to follow-up', 'New admissions',\n",
       "       'Total no. currently in Treatment Units', 'Total discharges',\n",
       "       'Cumulative admission/isolation', 'Newly Reported Cases in HCW',\n",
       "       'Cumulative cases among HCW', 'Newly Reported deaths in HCW',\n",
       "       'Cumulative deaths among HCW', 'New Case/s (Suspected)',\n",
       "       'New Case/s (Probable)', 'New case/s (confirmed)',\n",
       "       'Total suspected cases', 'Total probable cases',\n",
       "       'Total confirmed cases',\n",
       "       'Total Number of Confirmed Cases of Sierra Leonean Nationality',\n",
       "       'Total Number of Confirmed Cases of Guinean Nationality',\n",
       "       'Cumulative (confirmed + probable + suspected)',\n",
       "       'Total Case/s (Suspected)', 'Total Case/s (Probable)',\n",
       "       'Total case/s (confirmed)', 'Cumulative CFR',\n",
       "       'Cumulative (confirmed + probable + suspects)',\n",
       "       'Total death/s in confirmed,  probable, suspected cases',\n",
       "       'Cumulative confirmed, probable and suspected cases',\n",
       "       'Total death/s in confirmed, \\n probable, suspected cases',\n",
       "       'Case Fatality Rate (CFR) - \\n Confirmed & Probable Cases',\n",
       "       'Contacts who completed 21 day \\n follow-up',\n",
       "       'Total no. currently in Treatment \\n Units',\n",
       "       'Total Number of Confirmed Cases \\n of Sierra Leonean Nationality',\n",
       "       'Total Number of Confirmed Cases \\n of Guinean Nationality'], dtype=object)"
      ]
     },
     "execution_count": 295,
     "metadata": {},
     "output_type": "execute_result"
    }
   ],
   "source": [
    "liberia['Variable'].unique()"
   ]
  },
  {
   "cell_type": "code",
   "execution_count": 296,
   "metadata": {
    "collapsed": true
   },
   "outputs": [],
   "source": [
    "liberia_variables_to_use = ['New case/s (confirmed)', 'Total death/s in confirmed cases']"
   ]
  },
  {
   "cell_type": "code",
   "execution_count": null,
   "metadata": {
    "collapsed": true
   },
   "outputs": [],
   "source": []
  },
  {
   "cell_type": "code",
   "execution_count": 297,
   "metadata": {
    "collapsed": false
   },
   "outputs": [],
   "source": [
    "def select_features(data, var_name, features):\n",
    "    return data[data[var_name].isin(features)]"
   ]
  },
  {
   "cell_type": "code",
   "execution_count": 298,
   "metadata": {
    "collapsed": false
   },
   "outputs": [],
   "source": [
    "# take the relevant variables\n",
    "sl_relevant = select_features(sl, 'variable', sl_variables_to_use)\n",
    "guinea_relevant = select_features(guinea, 'Description', guinea_variables_to_use)\n",
    "liberia_relevant = select_features(liberia, 'Variable', liberia_variables_to_use)"
   ]
  },
  {
   "cell_type": "code",
   "execution_count": 299,
   "metadata": {
    "collapsed": false
   },
   "outputs": [],
   "source": [
    "# rename the columns\n",
    "var_name = 'vars'\n",
    "sl_relevant.rename(columns={'variable': var_name}, inplace=True)\n",
    "guinea_relevant.rename(columns={'Description': var_name, 'Date': 'date'}, inplace=True)\n",
    "liberia_relevant.rename(columns={'Variable': var_name, 'Date': 'date'}, inplace=True)\n",
    "\n",
    "#rename the variables \n",
    "new_infected = 'new_infected'\n",
    "new_death= 'new_death'\n",
    "sl_relevant[var_name][sl_relevant[var_name] == sl_variables_to_use[0]] = new_infected\n",
    "sl_relevant[var_name][sl_relevant[var_name] == sl_variables_to_use[1]] = new_death\n",
    "\n",
    "guinea_relevant[var_name][guinea_relevant[var_name] == guinea_variables_to_use[0]] = new_infected\n",
    "guinea_relevant[var_name][guinea_relevant[var_name] == guinea_variables_to_use[1]] = new_death\n",
    "\n",
    "liberia_relevant[var_name][liberia_relevant[var_name] == liberia_variables_to_use[0]] = new_infected\n",
    "liberia_relevant[var_name][liberia_relevant[var_name] == liberia_variables_to_use[1]] = new_death\n",
    "\n"
   ]
  },
  {
   "cell_type": "code",
   "execution_count": null,
   "metadata": {
    "collapsed": false
   },
   "outputs": [],
   "source": []
  },
  {
   "cell_type": "code",
   "execution_count": 300,
   "metadata": {
    "collapsed": false
   },
   "outputs": [],
   "source": [
    "# rename the data\n",
    "sl_clean = sl_relevant.copy()\n",
    "guinea_clean = guinea_relevant.copy()\n",
    "liberia_clean = liberia_relevant.copy()"
   ]
  },
  {
   "cell_type": "code",
   "execution_count": 301,
   "metadata": {
    "collapsed": false
   },
   "outputs": [],
   "source": [
    "#remove al rows and columns that consist only of NaNs\n",
    "def remove_rows_and_cols_with_only_nan(data):\n",
    "    return data.dropna(axis=1, how='all').dropna(axis=0, thresh=3)\n",
    "sl_clean = remove_rows_and_cols_with_only_nan(sl_clean)\n",
    "guinea_clean = remove_rows_and_cols_with_only_nan(guinea_clean)\n",
    "liberia_clean = remove_rows_and_cols_with_only_nan(liberia_clean)"
   ]
  },
  {
   "cell_type": "markdown",
   "metadata": {},
   "source": [
    "Then we can replace all NaN values with 0. We don't know anything about that data to put something else, and removing is no option since there would not be much left if we removed all rows/cols that contain at least one NaN"
   ]
  },
  {
   "cell_type": "code",
   "execution_count": 302,
   "metadata": {
    "collapsed": true
   },
   "outputs": [],
   "source": [
    "# replace all NaNs with 0 (inplace)\n",
    "sl_clean.fillna(value=0, inplace=True)\n",
    "guinea_clean.fillna(value=0, inplace=True)\n",
    "liberia_clean.fillna(value=0, inplace=True)"
   ]
  },
  {
   "cell_type": "markdown",
   "metadata": {},
   "source": [
    "not all values are numerical (most are objects)"
   ]
  },
  {
   "cell_type": "code",
   "execution_count": 303,
   "metadata": {
    "collapsed": false
   },
   "outputs": [
    {
     "data": {
      "text/plain": [
       "Bo                            object\n",
       "Bombali                       object\n",
       "Bonthe                        object\n",
       "Kailahun                      object\n",
       "Kambia                        object\n",
       "Kenema                        object\n",
       "Koinadugu                     object\n",
       "Kono                          object\n",
       "Moyamba                       object\n",
       "National                      object\n",
       "Port Loko                     object\n",
       "Pujehun                       object\n",
       "Tonkolili                     object\n",
       "Western area                 float64\n",
       "Western area rural            object\n",
       "Western area urban            object\n",
       "date                  datetime64[ns]\n",
       "vars                          object\n",
       "dtype: object"
      ]
     },
     "execution_count": 303,
     "metadata": {},
     "output_type": "execute_result"
    }
   ],
   "source": [
    "sl_clean.dtypes"
   ]
  },
  {
   "cell_type": "code",
   "execution_count": 304,
   "metadata": {
    "collapsed": false
   },
   "outputs": [],
   "source": [
    "# -> make all types numerical (excluding the date and variable columns)\n",
    "def change_to_numeric(data):\n",
    "    col_list = list(data.columns)\n",
    "    col_list.remove('date')\n",
    "    col_list.remove(var_name)\n",
    "    data[col_list] = data[col_list].apply(pd.to_numeric)\n",
    "    \n",
    "change_to_numeric(sl_clean)\n",
    "change_to_numeric(guinea_clean)\n",
    "change_to_numeric(liberia_clean)"
   ]
  },
  {
   "cell_type": "markdown",
   "metadata": {},
   "source": [
    "Now we can summ over all cities and store it in a 'total' column.\n",
    "Note that all countries have a 'National' or 'total' column, but they are inconsistent with the sumed values in each city, so we ignore it."
   ]
  },
  {
   "cell_type": "code",
   "execution_count": 305,
   "metadata": {
    "collapsed": false
   },
   "outputs": [],
   "source": [
    "#  create a total colon\n",
    "def add_and_fill_total_col(data, ignore_cols_list):\n",
    "    col_list = list(data.columns)\n",
    "    for c in ignore_cols_list:\n",
    "        col_list.remove(c) \n",
    "    data['total'] = data[col_list].sum(axis=1)\n",
    "add_and_fill_total_col(sl_clean, ['date', var_name, 'National'])\n",
    "add_and_fill_total_col(guinea_clean, ['date', var_name, 'Totals'])\n",
    "add_and_fill_total_col(liberia_clean, ['date', var_name, 'National'])"
   ]
  },
  {
   "cell_type": "code",
   "execution_count": 306,
   "metadata": {
    "collapsed": false
   },
   "outputs": [],
   "source": [
    "# remove unused cols:\n",
    "sl_clean = sl_clean[['date', var_name, 'total']]\n",
    "guinea_clean = guinea_clean[['date', var_name, 'total']]\n",
    "liberia_clean = liberia_clean[['date', var_name, 'total']]"
   ]
  },
  {
   "cell_type": "code",
   "execution_count": 307,
   "metadata": {
    "collapsed": false
   },
   "outputs": [],
   "source": [
    "#rename data again\n",
    "sl_final = sl_clean.copy()\n",
    "liberia_final = liberia_clean.copy()\n",
    "guinea_final = guinea_clean.copy()"
   ]
  },
  {
   "cell_type": "code",
   "execution_count": 308,
   "metadata": {
    "collapsed": false
   },
   "outputs": [
    {
     "data": {
      "text/html": [
       "<div>\n",
       "<table border=\"1\" class=\"dataframe\">\n",
       "  <thead>\n",
       "    <tr style=\"text-align: right;\">\n",
       "      <th></th>\n",
       "      <th>date</th>\n",
       "      <th>vars</th>\n",
       "      <th>total</th>\n",
       "    </tr>\n",
       "  </thead>\n",
       "  <tbody>\n",
       "    <tr>\n",
       "      <th>4</th>\n",
       "      <td>2014-06-16</td>\n",
       "      <td>new_death</td>\n",
       "      <td>4.0</td>\n",
       "    </tr>\n",
       "    <tr>\n",
       "      <th>25</th>\n",
       "      <td>2014-06-16</td>\n",
       "      <td>new_infected</td>\n",
       "      <td>1.0</td>\n",
       "    </tr>\n",
       "    <tr>\n",
       "      <th>35</th>\n",
       "      <td>2014-06-17</td>\n",
       "      <td>new_death</td>\n",
       "      <td>8.0</td>\n",
       "    </tr>\n",
       "    <tr>\n",
       "      <th>56</th>\n",
       "      <td>2014-06-17</td>\n",
       "      <td>new_infected</td>\n",
       "      <td>0.0</td>\n",
       "    </tr>\n",
       "    <tr>\n",
       "      <th>66</th>\n",
       "      <td>2014-06-22</td>\n",
       "      <td>new_death</td>\n",
       "      <td>16.0</td>\n",
       "    </tr>\n",
       "  </tbody>\n",
       "</table>\n",
       "</div>"
      ],
      "text/plain": [
       "         date          vars  total\n",
       "4  2014-06-16     new_death    4.0\n",
       "25 2014-06-16  new_infected    1.0\n",
       "35 2014-06-17     new_death    8.0\n",
       "56 2014-06-17  new_infected    0.0\n",
       "66 2014-06-22     new_death   16.0"
      ]
     },
     "execution_count": 308,
     "metadata": {},
     "output_type": "execute_result"
    }
   ],
   "source": [
    "liberia_final.head()"
   ]
  },
  {
   "cell_type": "code",
   "execution_count": 309,
   "metadata": {
    "collapsed": false
   },
   "outputs": [
    {
     "data": {
      "text/html": [
       "<div>\n",
       "<table border=\"1\" class=\"dataframe\">\n",
       "  <thead>\n",
       "    <tr style=\"text-align: right;\">\n",
       "      <th></th>\n",
       "      <th>date</th>\n",
       "      <th>vars</th>\n",
       "      <th>total</th>\n",
       "    </tr>\n",
       "  </thead>\n",
       "  <tbody>\n",
       "    <tr>\n",
       "      <th>2</th>\n",
       "      <td>2014-08-04</td>\n",
       "      <td>new_infected</td>\n",
       "      <td>4.0</td>\n",
       "    </tr>\n",
       "    <tr>\n",
       "      <th>9</th>\n",
       "      <td>2014-08-04</td>\n",
       "      <td>new_death</td>\n",
       "      <td>2.0</td>\n",
       "    </tr>\n",
       "    <tr>\n",
       "      <th>44</th>\n",
       "      <td>2014-08-26</td>\n",
       "      <td>new_infected</td>\n",
       "      <td>10.0</td>\n",
       "    </tr>\n",
       "    <tr>\n",
       "      <th>76</th>\n",
       "      <td>2014-08-27</td>\n",
       "      <td>new_infected</td>\n",
       "      <td>10.0</td>\n",
       "    </tr>\n",
       "    <tr>\n",
       "      <th>108</th>\n",
       "      <td>2014-08-30</td>\n",
       "      <td>new_infected</td>\n",
       "      <td>9.0</td>\n",
       "    </tr>\n",
       "  </tbody>\n",
       "</table>\n",
       "</div>"
      ],
      "text/plain": [
       "          date          vars  total\n",
       "2   2014-08-04  new_infected    4.0\n",
       "9   2014-08-04     new_death    2.0\n",
       "44  2014-08-26  new_infected   10.0\n",
       "76  2014-08-27  new_infected   10.0\n",
       "108 2014-08-30  new_infected    9.0"
      ]
     },
     "execution_count": 309,
     "metadata": {},
     "output_type": "execute_result"
    }
   ],
   "source": [
    "guinea_final.head()\n"
   ]
  },
  {
   "cell_type": "code",
   "execution_count": 310,
   "metadata": {
    "collapsed": false
   },
   "outputs": [
    {
     "data": {
      "text/html": [
       "<div>\n",
       "<table border=\"1\" class=\"dataframe\">\n",
       "  <thead>\n",
       "    <tr style=\"text-align: right;\">\n",
       "      <th></th>\n",
       "      <th>date</th>\n",
       "      <th>vars</th>\n",
       "      <th>total</th>\n",
       "    </tr>\n",
       "  </thead>\n",
       "  <tbody>\n",
       "    <tr>\n",
       "      <th>4</th>\n",
       "      <td>2014-08-12</td>\n",
       "      <td>new_infected</td>\n",
       "      <td>11.0</td>\n",
       "    </tr>\n",
       "    <tr>\n",
       "      <th>11</th>\n",
       "      <td>2014-08-12</td>\n",
       "      <td>new_death</td>\n",
       "      <td>264.0</td>\n",
       "    </tr>\n",
       "    <tr>\n",
       "      <th>33</th>\n",
       "      <td>2014-08-13</td>\n",
       "      <td>new_infected</td>\n",
       "      <td>15.0</td>\n",
       "    </tr>\n",
       "    <tr>\n",
       "      <th>40</th>\n",
       "      <td>2014-08-13</td>\n",
       "      <td>new_death</td>\n",
       "      <td>273.0</td>\n",
       "    </tr>\n",
       "    <tr>\n",
       "      <th>62</th>\n",
       "      <td>2014-08-14</td>\n",
       "      <td>new_infected</td>\n",
       "      <td>13.0</td>\n",
       "    </tr>\n",
       "  </tbody>\n",
       "</table>\n",
       "</div>"
      ],
      "text/plain": [
       "         date          vars  total\n",
       "4  2014-08-12  new_infected   11.0\n",
       "11 2014-08-12     new_death  264.0\n",
       "33 2014-08-13  new_infected   15.0\n",
       "40 2014-08-13     new_death  273.0\n",
       "62 2014-08-14  new_infected   13.0"
      ]
     },
     "execution_count": 310,
     "metadata": {},
     "output_type": "execute_result"
    }
   ],
   "source": [
    "sl_final.head()"
   ]
  },
  {
   "cell_type": "code",
   "execution_count": 311,
   "metadata": {
    "collapsed": false
   },
   "outputs": [],
   "source": [
    "# create infected and death cols\n",
    "def create_inf_death_cols(data):\n",
    "    inf = data[data['vars'] == new_infected]\n",
    "    inf[new_infected] = inf['total']\n",
    "    death = data[data['vars'] == new_death]\n",
    "    death[new_death] = death['total']\n",
    "    res = data.join(inf[new_infected], how='outer')\n",
    "    return res.join(death[new_death], how='outer')\n",
    "\n",
    "sl_final = create_inf_death_cols(sl_final)\n",
    "liberia_final = create_inf_death_cols(liberia_final)\n",
    "guinea_final = create_inf_death_cols(guinea_final)"
   ]
  },
  {
   "cell_type": "code",
   "execution_count": 312,
   "metadata": {
    "collapsed": false
   },
   "outputs": [
    {
     "data": {
      "text/html": [
       "<div>\n",
       "<table border=\"1\" class=\"dataframe\">\n",
       "  <thead>\n",
       "    <tr style=\"text-align: right;\">\n",
       "      <th></th>\n",
       "      <th>date</th>\n",
       "      <th>vars</th>\n",
       "      <th>total</th>\n",
       "      <th>new_infected</th>\n",
       "      <th>new_death</th>\n",
       "    </tr>\n",
       "  </thead>\n",
       "  <tbody>\n",
       "    <tr>\n",
       "      <th>4</th>\n",
       "      <td>2014-08-12</td>\n",
       "      <td>new_infected</td>\n",
       "      <td>11.0</td>\n",
       "      <td>11.0</td>\n",
       "      <td>NaN</td>\n",
       "    </tr>\n",
       "    <tr>\n",
       "      <th>11</th>\n",
       "      <td>2014-08-12</td>\n",
       "      <td>new_death</td>\n",
       "      <td>264.0</td>\n",
       "      <td>NaN</td>\n",
       "      <td>264.0</td>\n",
       "    </tr>\n",
       "    <tr>\n",
       "      <th>33</th>\n",
       "      <td>2014-08-13</td>\n",
       "      <td>new_infected</td>\n",
       "      <td>15.0</td>\n",
       "      <td>15.0</td>\n",
       "      <td>NaN</td>\n",
       "    </tr>\n",
       "    <tr>\n",
       "      <th>40</th>\n",
       "      <td>2014-08-13</td>\n",
       "      <td>new_death</td>\n",
       "      <td>273.0</td>\n",
       "      <td>NaN</td>\n",
       "      <td>273.0</td>\n",
       "    </tr>\n",
       "    <tr>\n",
       "      <th>62</th>\n",
       "      <td>2014-08-14</td>\n",
       "      <td>new_infected</td>\n",
       "      <td>13.0</td>\n",
       "      <td>13.0</td>\n",
       "      <td>NaN</td>\n",
       "    </tr>\n",
       "  </tbody>\n",
       "</table>\n",
       "</div>"
      ],
      "text/plain": [
       "         date          vars  total  new_infected  new_death\n",
       "4  2014-08-12  new_infected   11.0          11.0        NaN\n",
       "11 2014-08-12     new_death  264.0           NaN      264.0\n",
       "33 2014-08-13  new_infected   15.0          15.0        NaN\n",
       "40 2014-08-13     new_death  273.0           NaN      273.0\n",
       "62 2014-08-14  new_infected   13.0          13.0        NaN"
      ]
     },
     "execution_count": 312,
     "metadata": {},
     "output_type": "execute_result"
    }
   ],
   "source": [
    "sl_final.head()"
   ]
  },
  {
   "cell_type": "code",
   "execution_count": 313,
   "metadata": {
    "collapsed": false
   },
   "outputs": [],
   "source": [
    "# remove vars & total col\n",
    "sl_final = sl_final.drop(var_name, 1).drop('total', 1)\n",
    "liberia_final = liberia_final.drop(var_name, 1).drop('total', 1)\n",
    "guinea_final = guinea_final.drop(var_name, 1).drop('total', 1)"
   ]
  },
  {
   "cell_type": "code",
   "execution_count": 314,
   "metadata": {
    "collapsed": false
   },
   "outputs": [
    {
     "data": {
      "text/html": [
       "<div>\n",
       "<table border=\"1\" class=\"dataframe\">\n",
       "  <thead>\n",
       "    <tr style=\"text-align: right;\">\n",
       "      <th></th>\n",
       "      <th>date</th>\n",
       "      <th>new_infected</th>\n",
       "      <th>new_death</th>\n",
       "    </tr>\n",
       "  </thead>\n",
       "  <tbody>\n",
       "    <tr>\n",
       "      <th>4</th>\n",
       "      <td>2014-08-12</td>\n",
       "      <td>11.0</td>\n",
       "      <td>NaN</td>\n",
       "    </tr>\n",
       "    <tr>\n",
       "      <th>11</th>\n",
       "      <td>2014-08-12</td>\n",
       "      <td>NaN</td>\n",
       "      <td>264.0</td>\n",
       "    </tr>\n",
       "    <tr>\n",
       "      <th>33</th>\n",
       "      <td>2014-08-13</td>\n",
       "      <td>15.0</td>\n",
       "      <td>NaN</td>\n",
       "    </tr>\n",
       "    <tr>\n",
       "      <th>40</th>\n",
       "      <td>2014-08-13</td>\n",
       "      <td>NaN</td>\n",
       "      <td>273.0</td>\n",
       "    </tr>\n",
       "    <tr>\n",
       "      <th>62</th>\n",
       "      <td>2014-08-14</td>\n",
       "      <td>13.0</td>\n",
       "      <td>NaN</td>\n",
       "    </tr>\n",
       "  </tbody>\n",
       "</table>\n",
       "</div>"
      ],
      "text/plain": [
       "         date  new_infected  new_death\n",
       "4  2014-08-12          11.0        NaN\n",
       "11 2014-08-12           NaN      264.0\n",
       "33 2014-08-13          15.0        NaN\n",
       "40 2014-08-13           NaN      273.0\n",
       "62 2014-08-14          13.0        NaN"
      ]
     },
     "execution_count": 314,
     "metadata": {},
     "output_type": "execute_result"
    }
   ],
   "source": [
    "sl_final.head()"
   ]
  },
  {
   "cell_type": "code",
   "execution_count": 315,
   "metadata": {
    "collapsed": true
   },
   "outputs": [],
   "source": [
    "# group by date to merge the cols\n",
    "liberia_final = liberia_final.groupby('date', as_index=False).sum()\n",
    "sl_final = sl_final.groupby('date', as_index=False).sum()\n",
    "guinea_final = guinea_final.groupby('date', as_index=False).sum()"
   ]
  },
  {
   "cell_type": "code",
   "execution_count": 316,
   "metadata": {
    "collapsed": true
   },
   "outputs": [],
   "source": [
    "# add 'country' col to distinguish the dataframes when they are put together\n",
    "sl_final['country'] = 'sl'\n",
    "guinea_final['country'] = 'guinea'\n",
    "liberia_final['country'] = 'liberia'"
   ]
  },
  {
   "cell_type": "code",
   "execution_count": 317,
   "metadata": {
    "collapsed": false
   },
   "outputs": [
    {
     "data": {
      "text/html": [
       "<div>\n",
       "<table border=\"1\" class=\"dataframe\">\n",
       "  <thead>\n",
       "    <tr style=\"text-align: right;\">\n",
       "      <th></th>\n",
       "      <th>date</th>\n",
       "      <th>new_infected</th>\n",
       "      <th>new_death</th>\n",
       "      <th>country</th>\n",
       "    </tr>\n",
       "  </thead>\n",
       "  <tbody>\n",
       "    <tr>\n",
       "      <th>0</th>\n",
       "      <td>2014-08-04</td>\n",
       "      <td>4.0</td>\n",
       "      <td>2.0</td>\n",
       "      <td>guinea</td>\n",
       "    </tr>\n",
       "    <tr>\n",
       "      <th>1</th>\n",
       "      <td>2014-08-26</td>\n",
       "      <td>10.0</td>\n",
       "      <td>NaN</td>\n",
       "      <td>guinea</td>\n",
       "    </tr>\n",
       "    <tr>\n",
       "      <th>2</th>\n",
       "      <td>2014-08-27</td>\n",
       "      <td>10.0</td>\n",
       "      <td>NaN</td>\n",
       "      <td>guinea</td>\n",
       "    </tr>\n",
       "    <tr>\n",
       "      <th>3</th>\n",
       "      <td>2014-08-30</td>\n",
       "      <td>9.0</td>\n",
       "      <td>NaN</td>\n",
       "      <td>guinea</td>\n",
       "    </tr>\n",
       "    <tr>\n",
       "      <th>4</th>\n",
       "      <td>2014-08-31</td>\n",
       "      <td>29.0</td>\n",
       "      <td>NaN</td>\n",
       "      <td>guinea</td>\n",
       "    </tr>\n",
       "  </tbody>\n",
       "</table>\n",
       "</div>"
      ],
      "text/plain": [
       "        date  new_infected  new_death country\n",
       "0 2014-08-04           4.0        2.0  guinea\n",
       "1 2014-08-26          10.0        NaN  guinea\n",
       "2 2014-08-27          10.0        NaN  guinea\n",
       "3 2014-08-30           9.0        NaN  guinea\n",
       "4 2014-08-31          29.0        NaN  guinea"
      ]
     },
     "execution_count": 317,
     "metadata": {},
     "output_type": "execute_result"
    }
   ],
   "source": [
    "guinea_final.head()"
   ]
  },
  {
   "cell_type": "code",
   "execution_count": 318,
   "metadata": {
    "collapsed": false
   },
   "outputs": [
    {
     "data": {
      "text/html": [
       "<div>\n",
       "<table border=\"1\" class=\"dataframe\">\n",
       "  <thead>\n",
       "    <tr style=\"text-align: right;\">\n",
       "      <th></th>\n",
       "      <th>date</th>\n",
       "      <th>new_infected</th>\n",
       "      <th>new_death</th>\n",
       "      <th>country</th>\n",
       "    </tr>\n",
       "  </thead>\n",
       "  <tbody>\n",
       "    <tr>\n",
       "      <th>0</th>\n",
       "      <td>2014-06-16</td>\n",
       "      <td>1.0</td>\n",
       "      <td>4.0</td>\n",
       "      <td>liberia</td>\n",
       "    </tr>\n",
       "    <tr>\n",
       "      <th>1</th>\n",
       "      <td>2014-06-17</td>\n",
       "      <td>0.0</td>\n",
       "      <td>8.0</td>\n",
       "      <td>liberia</td>\n",
       "    </tr>\n",
       "    <tr>\n",
       "      <th>2</th>\n",
       "      <td>2014-06-22</td>\n",
       "      <td>5.0</td>\n",
       "      <td>16.0</td>\n",
       "      <td>liberia</td>\n",
       "    </tr>\n",
       "    <tr>\n",
       "      <th>3</th>\n",
       "      <td>2014-06-24</td>\n",
       "      <td>4.0</td>\n",
       "      <td>18.0</td>\n",
       "      <td>liberia</td>\n",
       "    </tr>\n",
       "    <tr>\n",
       "      <th>4</th>\n",
       "      <td>2014-06-25</td>\n",
       "      <td>2.0</td>\n",
       "      <td>20.0</td>\n",
       "      <td>liberia</td>\n",
       "    </tr>\n",
       "  </tbody>\n",
       "</table>\n",
       "</div>"
      ],
      "text/plain": [
       "        date  new_infected  new_death  country\n",
       "0 2014-06-16           1.0        4.0  liberia\n",
       "1 2014-06-17           0.0        8.0  liberia\n",
       "2 2014-06-22           5.0       16.0  liberia\n",
       "3 2014-06-24           4.0       18.0  liberia\n",
       "4 2014-06-25           2.0       20.0  liberia"
      ]
     },
     "execution_count": 318,
     "metadata": {},
     "output_type": "execute_result"
    }
   ],
   "source": [
    "liberia_final.head()"
   ]
  },
  {
   "cell_type": "code",
   "execution_count": 319,
   "metadata": {
    "collapsed": false
   },
   "outputs": [
    {
     "data": {
      "text/html": [
       "<div>\n",
       "<table border=\"1\" class=\"dataframe\">\n",
       "  <thead>\n",
       "    <tr style=\"text-align: right;\">\n",
       "      <th></th>\n",
       "      <th>date</th>\n",
       "      <th>new_infected</th>\n",
       "      <th>new_death</th>\n",
       "      <th>country</th>\n",
       "    </tr>\n",
       "  </thead>\n",
       "  <tbody>\n",
       "    <tr>\n",
       "      <th>0</th>\n",
       "      <td>2014-08-12</td>\n",
       "      <td>11.0</td>\n",
       "      <td>264.0</td>\n",
       "      <td>sl</td>\n",
       "    </tr>\n",
       "    <tr>\n",
       "      <th>1</th>\n",
       "      <td>2014-08-13</td>\n",
       "      <td>15.0</td>\n",
       "      <td>273.0</td>\n",
       "      <td>sl</td>\n",
       "    </tr>\n",
       "    <tr>\n",
       "      <th>2</th>\n",
       "      <td>2014-08-14</td>\n",
       "      <td>13.0</td>\n",
       "      <td>280.0</td>\n",
       "      <td>sl</td>\n",
       "    </tr>\n",
       "    <tr>\n",
       "      <th>3</th>\n",
       "      <td>2014-08-15</td>\n",
       "      <td>10.0</td>\n",
       "      <td>287.0</td>\n",
       "      <td>sl</td>\n",
       "    </tr>\n",
       "    <tr>\n",
       "      <th>4</th>\n",
       "      <td>2014-08-16</td>\n",
       "      <td>18.0</td>\n",
       "      <td>297.0</td>\n",
       "      <td>sl</td>\n",
       "    </tr>\n",
       "  </tbody>\n",
       "</table>\n",
       "</div>"
      ],
      "text/plain": [
       "        date  new_infected  new_death country\n",
       "0 2014-08-12          11.0      264.0      sl\n",
       "1 2014-08-13          15.0      273.0      sl\n",
       "2 2014-08-14          13.0      280.0      sl\n",
       "3 2014-08-15          10.0      287.0      sl\n",
       "4 2014-08-16          18.0      297.0      sl"
      ]
     },
     "execution_count": 319,
     "metadata": {},
     "output_type": "execute_result"
    }
   ],
   "source": [
    "sl_final.head()"
   ]
  },
  {
   "cell_type": "code",
   "execution_count": 328,
   "metadata": {
    "collapsed": false
   },
   "outputs": [],
   "source": [
    "#concat the dataframes\n",
    "final_data = pd.concat([sl_final, guinea_final, liberia_final], ignore_index=True)"
   ]
  },
  {
   "cell_type": "code",
   "execution_count": 327,
   "metadata": {
    "collapsed": false
   },
   "outputs": [
    {
     "data": {
      "text/html": [
       "<div>\n",
       "<table border=\"1\" class=\"dataframe\">\n",
       "  <thead>\n",
       "    <tr style=\"text-align: right;\">\n",
       "      <th></th>\n",
       "      <th></th>\n",
       "      <th>new_infected</th>\n",
       "      <th>new_death</th>\n",
       "    </tr>\n",
       "    <tr>\n",
       "      <th>date</th>\n",
       "      <th>country</th>\n",
       "      <th></th>\n",
       "      <th></th>\n",
       "    </tr>\n",
       "  </thead>\n",
       "  <tbody>\n",
       "    <tr>\n",
       "      <th>2014-06-16</th>\n",
       "      <th>liberia</th>\n",
       "      <td>1.0</td>\n",
       "      <td>4.0</td>\n",
       "    </tr>\n",
       "    <tr>\n",
       "      <th>2014-06-17</th>\n",
       "      <th>liberia</th>\n",
       "      <td>0.0</td>\n",
       "      <td>8.0</td>\n",
       "    </tr>\n",
       "    <tr>\n",
       "      <th>2014-06-22</th>\n",
       "      <th>liberia</th>\n",
       "      <td>5.0</td>\n",
       "      <td>16.0</td>\n",
       "    </tr>\n",
       "    <tr>\n",
       "      <th>2014-06-24</th>\n",
       "      <th>liberia</th>\n",
       "      <td>4.0</td>\n",
       "      <td>18.0</td>\n",
       "    </tr>\n",
       "    <tr>\n",
       "      <th>2014-06-25</th>\n",
       "      <th>liberia</th>\n",
       "      <td>2.0</td>\n",
       "      <td>20.0</td>\n",
       "    </tr>\n",
       "    <tr>\n",
       "      <th>2014-06-28</th>\n",
       "      <th>liberia</th>\n",
       "      <td>1.0</td>\n",
       "      <td>26.0</td>\n",
       "    </tr>\n",
       "    <tr>\n",
       "      <th>2014-06-29</th>\n",
       "      <th>liberia</th>\n",
       "      <td>2.0</td>\n",
       "      <td>26.0</td>\n",
       "    </tr>\n",
       "    <tr>\n",
       "      <th>2014-07-01</th>\n",
       "      <th>liberia</th>\n",
       "      <td>2.0</td>\n",
       "      <td>30.0</td>\n",
       "    </tr>\n",
       "    <tr>\n",
       "      <th>2014-07-02</th>\n",
       "      <th>liberia</th>\n",
       "      <td>0.0</td>\n",
       "      <td>32.0</td>\n",
       "    </tr>\n",
       "    <tr>\n",
       "      <th>2014-07-03</th>\n",
       "      <th>liberia</th>\n",
       "      <td>1.0</td>\n",
       "      <td>33.0</td>\n",
       "    </tr>\n",
       "    <tr>\n",
       "      <th>2014-07-07</th>\n",
       "      <th>liberia</th>\n",
       "      <td>5.0</td>\n",
       "      <td>37.0</td>\n",
       "    </tr>\n",
       "    <tr>\n",
       "      <th>2014-07-08</th>\n",
       "      <th>liberia</th>\n",
       "      <td>0.0</td>\n",
       "      <td>38.0</td>\n",
       "    </tr>\n",
       "    <tr>\n",
       "      <th>2014-07-10</th>\n",
       "      <th>liberia</th>\n",
       "      <td>0.0</td>\n",
       "      <td>40.0</td>\n",
       "    </tr>\n",
       "    <tr>\n",
       "      <th>2014-07-13</th>\n",
       "      <th>liberia</th>\n",
       "      <td>0.0</td>\n",
       "      <td>42.0</td>\n",
       "    </tr>\n",
       "    <tr>\n",
       "      <th>2014-07-17</th>\n",
       "      <th>liberia</th>\n",
       "      <td>0.0</td>\n",
       "      <td>48.0</td>\n",
       "    </tr>\n",
       "    <tr>\n",
       "      <th>2014-07-20</th>\n",
       "      <th>liberia</th>\n",
       "      <td>1.0</td>\n",
       "      <td>50.0</td>\n",
       "    </tr>\n",
       "    <tr>\n",
       "      <th>2014-07-24</th>\n",
       "      <th>liberia</th>\n",
       "      <td>5.0</td>\n",
       "      <td>60.0</td>\n",
       "    </tr>\n",
       "    <tr>\n",
       "      <th>2014-07-26</th>\n",
       "      <th>liberia</th>\n",
       "      <td>6.0</td>\n",
       "      <td>66.0</td>\n",
       "    </tr>\n",
       "    <tr>\n",
       "      <th>2014-08-02</th>\n",
       "      <th>liberia</th>\n",
       "      <td>0.0</td>\n",
       "      <td>118.0</td>\n",
       "    </tr>\n",
       "    <tr>\n",
       "      <th rowspan=\"2\" valign=\"top\">2014-08-04</th>\n",
       "      <th>guinea</th>\n",
       "      <td>4.0</td>\n",
       "      <td>2.0</td>\n",
       "    </tr>\n",
       "    <tr>\n",
       "      <th>liberia</th>\n",
       "      <td>1.0</td>\n",
       "      <td>122.0</td>\n",
       "    </tr>\n",
       "    <tr>\n",
       "      <th rowspan=\"2\" valign=\"top\">2014-08-12</th>\n",
       "      <th>liberia</th>\n",
       "      <td>2.0</td>\n",
       "      <td>147.0</td>\n",
       "    </tr>\n",
       "    <tr>\n",
       "      <th>sl</th>\n",
       "      <td>11.0</td>\n",
       "      <td>264.0</td>\n",
       "    </tr>\n",
       "    <tr>\n",
       "      <th>2014-08-13</th>\n",
       "      <th>sl</th>\n",
       "      <td>15.0</td>\n",
       "      <td>273.0</td>\n",
       "    </tr>\n",
       "    <tr>\n",
       "      <th>2014-08-14</th>\n",
       "      <th>sl</th>\n",
       "      <td>13.0</td>\n",
       "      <td>280.0</td>\n",
       "    </tr>\n",
       "    <tr>\n",
       "      <th rowspan=\"2\" valign=\"top\">2014-08-15</th>\n",
       "      <th>liberia</th>\n",
       "      <td>4.0</td>\n",
       "      <td>172.0</td>\n",
       "    </tr>\n",
       "    <tr>\n",
       "      <th>sl</th>\n",
       "      <td>10.0</td>\n",
       "      <td>287.0</td>\n",
       "    </tr>\n",
       "    <tr>\n",
       "      <th>2014-08-16</th>\n",
       "      <th>sl</th>\n",
       "      <td>18.0</td>\n",
       "      <td>297.0</td>\n",
       "    </tr>\n",
       "    <tr>\n",
       "      <th rowspan=\"2\" valign=\"top\">2014-08-17</th>\n",
       "      <th>sl</th>\n",
       "      <td>2.0</td>\n",
       "      <td>305.0</td>\n",
       "    </tr>\n",
       "    <tr>\n",
       "      <th>liberia</th>\n",
       "      <td>0.0</td>\n",
       "      <td>180.0</td>\n",
       "    </tr>\n",
       "    <tr>\n",
       "      <th>...</th>\n",
       "      <th>...</th>\n",
       "      <td>...</td>\n",
       "      <td>...</td>\n",
       "    </tr>\n",
       "    <tr>\n",
       "      <th>2014-11-12</th>\n",
       "      <th>sl</th>\n",
       "      <td>61.0</td>\n",
       "      <td>1169.0</td>\n",
       "    </tr>\n",
       "    <tr>\n",
       "      <th>2014-11-13</th>\n",
       "      <th>sl</th>\n",
       "      <td>84.0</td>\n",
       "      <td>0.0</td>\n",
       "    </tr>\n",
       "    <tr>\n",
       "      <th>2014-11-14</th>\n",
       "      <th>liberia</th>\n",
       "      <td>0.0</td>\n",
       "      <td>0.0</td>\n",
       "    </tr>\n",
       "    <tr>\n",
       "      <th>2014-11-15</th>\n",
       "      <th>sl</th>\n",
       "      <td>54.0</td>\n",
       "      <td>0.0</td>\n",
       "    </tr>\n",
       "    <tr>\n",
       "      <th>2014-11-16</th>\n",
       "      <th>sl</th>\n",
       "      <td>89.0</td>\n",
       "      <td>0.0</td>\n",
       "    </tr>\n",
       "    <tr>\n",
       "      <th>2014-11-17</th>\n",
       "      <th>sl</th>\n",
       "      <td>53.0</td>\n",
       "      <td>0.0</td>\n",
       "    </tr>\n",
       "    <tr>\n",
       "      <th>2014-11-18</th>\n",
       "      <th>sl</th>\n",
       "      <td>43.0</td>\n",
       "      <td>0.0</td>\n",
       "    </tr>\n",
       "    <tr>\n",
       "      <th>2014-11-20</th>\n",
       "      <th>sl</th>\n",
       "      <td>94.0</td>\n",
       "      <td>1282.0</td>\n",
       "    </tr>\n",
       "    <tr>\n",
       "      <th>2014-11-21</th>\n",
       "      <th>sl</th>\n",
       "      <td>51.0</td>\n",
       "      <td>1303.0</td>\n",
       "    </tr>\n",
       "    <tr>\n",
       "      <th>2014-11-22</th>\n",
       "      <th>sl</th>\n",
       "      <td>47.0</td>\n",
       "      <td>1333.0</td>\n",
       "    </tr>\n",
       "    <tr>\n",
       "      <th>2014-11-23</th>\n",
       "      <th>sl</th>\n",
       "      <td>39.0</td>\n",
       "      <td>1364.0</td>\n",
       "    </tr>\n",
       "    <tr>\n",
       "      <th>2014-11-24</th>\n",
       "      <th>sl</th>\n",
       "      <td>83.0</td>\n",
       "      <td>1397.0</td>\n",
       "    </tr>\n",
       "    <tr>\n",
       "      <th>2014-11-27</th>\n",
       "      <th>liberia</th>\n",
       "      <td>12.0</td>\n",
       "      <td>NaN</td>\n",
       "    </tr>\n",
       "    <tr>\n",
       "      <th rowspan=\"2\" valign=\"top\">2014-11-28</th>\n",
       "      <th>sl</th>\n",
       "      <td>84.0</td>\n",
       "      <td>2962.0</td>\n",
       "    </tr>\n",
       "    <tr>\n",
       "      <th>liberia</th>\n",
       "      <td>7.0</td>\n",
       "      <td>NaN</td>\n",
       "    </tr>\n",
       "    <tr>\n",
       "      <th rowspan=\"2\" valign=\"top\">2014-11-29</th>\n",
       "      <th>sl</th>\n",
       "      <td>134.0</td>\n",
       "      <td>1496.0</td>\n",
       "    </tr>\n",
       "    <tr>\n",
       "      <th>liberia</th>\n",
       "      <td>9.0</td>\n",
       "      <td>NaN</td>\n",
       "    </tr>\n",
       "    <tr>\n",
       "      <th>2014-11-30</th>\n",
       "      <th>liberia</th>\n",
       "      <td>10.0</td>\n",
       "      <td>NaN</td>\n",
       "    </tr>\n",
       "    <tr>\n",
       "      <th rowspan=\"2\" valign=\"top\">2014-12-01</th>\n",
       "      <th>sl</th>\n",
       "      <td>72.0</td>\n",
       "      <td>1549.0</td>\n",
       "    </tr>\n",
       "    <tr>\n",
       "      <th>liberia</th>\n",
       "      <td>1.0</td>\n",
       "      <td>NaN</td>\n",
       "    </tr>\n",
       "    <tr>\n",
       "      <th>2014-12-02</th>\n",
       "      <th>liberia</th>\n",
       "      <td>9.0</td>\n",
       "      <td>NaN</td>\n",
       "    </tr>\n",
       "    <tr>\n",
       "      <th rowspan=\"2\" valign=\"top\">2014-12-04</th>\n",
       "      <th>sl</th>\n",
       "      <td>37.0</td>\n",
       "      <td>1648.0</td>\n",
       "    </tr>\n",
       "    <tr>\n",
       "      <th>liberia</th>\n",
       "      <td>2867.0</td>\n",
       "      <td>NaN</td>\n",
       "    </tr>\n",
       "    <tr>\n",
       "      <th rowspan=\"2\" valign=\"top\">2014-12-05</th>\n",
       "      <th>liberia</th>\n",
       "      <td>2867.0</td>\n",
       "      <td>NaN</td>\n",
       "    </tr>\n",
       "    <tr>\n",
       "      <th>sl</th>\n",
       "      <td>54.0</td>\n",
       "      <td>1669.0</td>\n",
       "    </tr>\n",
       "    <tr>\n",
       "      <th rowspan=\"2\" valign=\"top\">2014-12-06</th>\n",
       "      <th>liberia</th>\n",
       "      <td>2888.0</td>\n",
       "      <td>NaN</td>\n",
       "    </tr>\n",
       "    <tr>\n",
       "      <th>sl</th>\n",
       "      <td>NaN</td>\n",
       "      <td>1708.0</td>\n",
       "    </tr>\n",
       "    <tr>\n",
       "      <th>2014-12-07</th>\n",
       "      <th>liberia</th>\n",
       "      <td>2888.0</td>\n",
       "      <td>NaN</td>\n",
       "    </tr>\n",
       "    <tr>\n",
       "      <th>2014-12-08</th>\n",
       "      <th>liberia</th>\n",
       "      <td>2926.0</td>\n",
       "      <td>NaN</td>\n",
       "    </tr>\n",
       "    <tr>\n",
       "      <th>2014-12-09</th>\n",
       "      <th>liberia</th>\n",
       "      <td>2945.0</td>\n",
       "      <td>NaN</td>\n",
       "    </tr>\n",
       "  </tbody>\n",
       "</table>\n",
       "<p>207 rows × 2 columns</p>\n",
       "</div>"
      ],
      "text/plain": [
       "                    new_infected  new_death\n",
       "date       country                         \n",
       "2014-06-16 liberia           1.0        4.0\n",
       "2014-06-17 liberia           0.0        8.0\n",
       "2014-06-22 liberia           5.0       16.0\n",
       "2014-06-24 liberia           4.0       18.0\n",
       "2014-06-25 liberia           2.0       20.0\n",
       "2014-06-28 liberia           1.0       26.0\n",
       "2014-06-29 liberia           2.0       26.0\n",
       "2014-07-01 liberia           2.0       30.0\n",
       "2014-07-02 liberia           0.0       32.0\n",
       "2014-07-03 liberia           1.0       33.0\n",
       "2014-07-07 liberia           5.0       37.0\n",
       "2014-07-08 liberia           0.0       38.0\n",
       "2014-07-10 liberia           0.0       40.0\n",
       "2014-07-13 liberia           0.0       42.0\n",
       "2014-07-17 liberia           0.0       48.0\n",
       "2014-07-20 liberia           1.0       50.0\n",
       "2014-07-24 liberia           5.0       60.0\n",
       "2014-07-26 liberia           6.0       66.0\n",
       "2014-08-02 liberia           0.0      118.0\n",
       "2014-08-04 guinea            4.0        2.0\n",
       "           liberia           1.0      122.0\n",
       "2014-08-12 liberia           2.0      147.0\n",
       "           sl               11.0      264.0\n",
       "2014-08-13 sl               15.0      273.0\n",
       "2014-08-14 sl               13.0      280.0\n",
       "2014-08-15 liberia           4.0      172.0\n",
       "           sl               10.0      287.0\n",
       "2014-08-16 sl               18.0      297.0\n",
       "2014-08-17 sl                2.0      305.0\n",
       "           liberia           0.0      180.0\n",
       "...                          ...        ...\n",
       "2014-11-12 sl               61.0     1169.0\n",
       "2014-11-13 sl               84.0        0.0\n",
       "2014-11-14 liberia           0.0        0.0\n",
       "2014-11-15 sl               54.0        0.0\n",
       "2014-11-16 sl               89.0        0.0\n",
       "2014-11-17 sl               53.0        0.0\n",
       "2014-11-18 sl               43.0        0.0\n",
       "2014-11-20 sl               94.0     1282.0\n",
       "2014-11-21 sl               51.0     1303.0\n",
       "2014-11-22 sl               47.0     1333.0\n",
       "2014-11-23 sl               39.0     1364.0\n",
       "2014-11-24 sl               83.0     1397.0\n",
       "2014-11-27 liberia          12.0        NaN\n",
       "2014-11-28 sl               84.0     2962.0\n",
       "           liberia           7.0        NaN\n",
       "2014-11-29 sl              134.0     1496.0\n",
       "           liberia           9.0        NaN\n",
       "2014-11-30 liberia          10.0        NaN\n",
       "2014-12-01 sl               72.0     1549.0\n",
       "           liberia           1.0        NaN\n",
       "2014-12-02 liberia           9.0        NaN\n",
       "2014-12-04 sl               37.0     1648.0\n",
       "           liberia        2867.0        NaN\n",
       "2014-12-05 liberia        2867.0        NaN\n",
       "           sl               54.0     1669.0\n",
       "2014-12-06 liberia        2888.0        NaN\n",
       "           sl                NaN     1708.0\n",
       "2014-12-07 liberia        2888.0        NaN\n",
       "2014-12-08 liberia        2926.0        NaN\n",
       "2014-12-09 liberia        2945.0        NaN\n",
       "\n",
       "[207 rows x 2 columns]"
      ]
     },
     "execution_count": 327,
     "metadata": {},
     "output_type": "execute_result"
    }
   ],
   "source": [
    "final_data.sort_values(by='date').set_index(['date', 'country'])"
   ]
  }
 ],
 "metadata": {
  "anaconda-cloud": {},
  "kernelspec": {
   "display_name": "Python [Root]",
   "language": "python",
   "name": "Python [Root]"
  },
  "language_info": {
   "codemirror_mode": {
    "name": "ipython",
    "version": 3
   },
   "file_extension": ".py",
   "mimetype": "text/x-python",
   "name": "python",
   "nbconvert_exporter": "python",
   "pygments_lexer": "ipython3",
   "version": "3.5.2"
  }
 },
 "nbformat": 4,
 "nbformat_minor": 0
}
