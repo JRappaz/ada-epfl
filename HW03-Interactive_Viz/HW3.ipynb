{
 "cells": [
  {
   "cell_type": "code",
   "execution_count": 18,
   "metadata": {
    "collapsed": true
   },
   "outputs": [],
   "source": [
    "# imports (may be more than needed)\n",
    "import pandas as pd\n",
    "import numpy as np\n",
    "import glob # to find all files in folder\n",
    "from datetime import datetime\n",
    "from datetime import date, time\n",
    "from dateutil.parser import parse\n",
    "import seaborn as sns\n",
    "import matplotlib.pyplot as plt\n",
    "from matplotlib.pyplot import show\n",
    "import itertools\n",
    "%matplotlib inline\n",
    "sns.set_context('notebook')\n",
    "pd.options.mode.chained_assignment = None  # default='warn'\n"
   ]
  },
  {
   "cell_type": "code",
   "execution_count": 39,
   "metadata": {
    "collapsed": false,
    "scrolled": true
   },
   "outputs": [
    {
     "data": {
      "text/plain": [
       "Project Title                   object\n",
       "Project Title English           object\n",
       "Responsible Applicant           object\n",
       "Funding Instrument              object\n",
       "Funding Instrument Hierarchy    object\n",
       "Institution                     object\n",
       "University                      object\n",
       "Discipline Number                int64\n",
       "Discipline Name                 object\n",
       "Discipline Name Hierarchy       object\n",
       "Start Date                      object\n",
       "End Date                        object\n",
       "Approved Amount                 object\n",
       "Keywords                        object\n",
       "dtype: object"
      ]
     },
     "execution_count": 39,
     "metadata": {},
     "output_type": "execute_result"
    }
   ],
   "source": [
    "data = pd.read_csv('data/GrantExport.csv', delimiter=';', index_col=0)\n",
    "data.dtypes\n"
   ]
  },
  {
   "cell_type": "code",
   "execution_count": 38,
   "metadata": {
    "collapsed": false,
    "scrolled": true
   },
   "outputs": [
    {
     "data": {
      "text/plain": [
       "﻿\"Project Number\"\n",
       "1          11619.00\n",
       "4          41022.00\n",
       "5          79732.00\n",
       "6          52627.00\n",
       "7         120042.00\n",
       "8          53009.00\n",
       "9          25403.00\n",
       "10         47100.00\n",
       "11         25814.00\n",
       "13        360000.00\n",
       "14        153886.00\n",
       "17        862200.00\n",
       "18        116991.00\n",
       "19        112664.00\n",
       "20          5000.00\n",
       "21        204018.00\n",
       "23        149485.00\n",
       "25         83983.00\n",
       "26         38152.00\n",
       "27         14138.00\n",
       "28        164602.00\n",
       "30        147795.00\n",
       "32         24552.00\n",
       "33         44802.00\n",
       "34         56000.00\n",
       "35        152535.00\n",
       "36        225000.00\n",
       "37        179124.00\n",
       "38         20000.00\n",
       "39        445198.00\n",
       "            ...    \n",
       "170414      1898.00\n",
       "170473      9300.00\n",
       "170478      9500.00\n",
       "170510      4000.00\n",
       "170707     11000.00\n",
       "170714      7500.00\n",
       "170715      8000.00\n",
       "170716      9300.00\n",
       "170718      7000.00\n",
       "170762      6000.00\n",
       "170806      4500.00\n",
       "170812      2800.00\n",
       "170813     99952.00\n",
       "170814     98040.00\n",
       "170815    100000.00\n",
       "170817     10500.00\n",
       "170883     10030.00\n",
       "170893      7870.00\n",
       "170894      3150.00\n",
       "170953     10600.00\n",
       "171009      2515.00\n",
       "171100      3500.00\n",
       "171106      4000.00\n",
       "171112      3550.00\n",
       "171113      3000.00\n",
       "171114      1000.00\n",
       "171126      2000.00\n",
       "171130     10500.00\n",
       "171131      9500.00\n",
       "171414      7000.00\n",
       "Name: Approved Amount, dtype: object"
      ]
     },
     "execution_count": 38,
     "metadata": {},
     "output_type": "execute_result"
    }
   ],
   "source": [
    "data['Approved Amount']"
   ]
  },
  {
   "cell_type": "code",
   "execution_count": null,
   "metadata": {
    "collapsed": true
   },
   "outputs": [],
   "source": []
  }
 ],
 "metadata": {
  "anaconda-cloud": {},
  "kernelspec": {
   "display_name": "Python [Root]",
   "language": "python",
   "name": "Python [Root]"
  },
  "language_info": {
   "codemirror_mode": {
    "name": "ipython",
    "version": 3
   },
   "file_extension": ".py",
   "mimetype": "text/x-python",
   "name": "python",
   "nbconvert_exporter": "python",
   "pygments_lexer": "ipython3",
   "version": "3.5.2"
  }
 },
 "nbformat": 4,
 "nbformat_minor": 0
}
