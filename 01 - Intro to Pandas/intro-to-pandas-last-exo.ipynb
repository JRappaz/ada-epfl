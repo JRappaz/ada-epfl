{
 "cells": [
  {
   "cell_type": "code",
   "execution_count": null,
   "metadata": {
    "collapsed": true
   },
   "outputs": [],
   "source": [
    "import pandas as pd\n",
    "import numpy as np\n",
    "import glob # to find all files in folder\n",
    "from datetime import datetime\n",
    "from datetime import date, time\n",
    "from dateutil.parser import parse\n",
    "pd.options.mode.chained_assignment = None  # default='warn'"
   ]
  },
  {
   "cell_type": "markdown",
   "metadata": {},
   "source": [
    "# Advanced Exo from 'Intro to Pandas'"
   ]
  },
  {
   "cell_type": "code",
   "execution_count": null,
   "metadata": {
    "collapsed": false
   },
   "outputs": [],
   "source": [
    "# load all data and parse the 'date' column\n",
    "def load_data():\n",
    "    sl_files=glob.glob('Data/ebola/sl_data/*.csv')\n",
    "    guinea_files=glob.glob('Data/ebola/guinea_data/*.csv')\n",
    "    liberia_files=glob.glob('Data/ebola/liberia_data/*.csv')\n",
    "    sl = pd.concat((pd.read_csv(file,  parse_dates=['date']) for file in sl_files), ignore_index=True)\n",
    "    guinea = pd.concat((pd.read_csv(file , parse_dates=['Date']) for file in guinea_files), ignore_index=True)\n",
    "    liberia = pd.concat((pd.read_csv(file , parse_dates=['Date']) for file in liberia_files), ignore_index=True)\n",
    "    return (sl, guinea, liberia)    "
   ]
  },
  {
   "cell_type": "code",
   "execution_count": null,
   "metadata": {
    "collapsed": false
   },
   "outputs": [],
   "source": [
    "(sl, guinea, liberia) = load_data()"
   ]
  },
  {
   "cell_type": "code",
   "execution_count": null,
   "metadata": {
    "collapsed": false
   },
   "outputs": [],
   "source": [
    "# look at the sl data\n",
    "sl.columns"
   ]
  },
  {
   "cell_type": "code",
   "execution_count": null,
   "metadata": {
    "collapsed": false
   },
   "outputs": [],
   "source": [
    "sl['variable'].unique()"
   ]
  },
  {
   "cell_type": "markdown",
   "metadata": {},
   "source": [
    "we decide to only take the 'confirmed' cases and not the suspected or probable ones since 'suspected' and 'probable' are very subjective terms and may not be the same over the 3 countries."
   ]
  },
  {
   "cell_type": "code",
   "execution_count": null,
   "metadata": {
    "collapsed": true
   },
   "outputs": [],
   "source": [
    "sl_variables_to_use = ['new_confirmed', 'death_confirmed']"
   ]
  },
  {
   "cell_type": "code",
   "execution_count": null,
   "metadata": {
    "collapsed": false
   },
   "outputs": [],
   "source": [
    "# look at the guinea data\n",
    "guinea.columns"
   ]
  },
  {
   "cell_type": "code",
   "execution_count": null,
   "metadata": {
    "collapsed": false,
    "scrolled": true
   },
   "outputs": [],
   "source": [
    "guinea['Description'].unique()"
   ]
  },
  {
   "cell_type": "code",
   "execution_count": null,
   "metadata": {
    "collapsed": true
   },
   "outputs": [],
   "source": [
    "guinea_variables_to_use = ['New cases of confirmed', 'New deaths registered today (confirmed)']"
   ]
  },
  {
   "cell_type": "code",
   "execution_count": null,
   "metadata": {
    "collapsed": false
   },
   "outputs": [],
   "source": [
    "# look at the liberia data\n",
    "liberia.columns"
   ]
  },
  {
   "cell_type": "code",
   "execution_count": null,
   "metadata": {
    "collapsed": false
   },
   "outputs": [],
   "source": [
    "liberia['Variable'].unique()"
   ]
  },
  {
   "cell_type": "code",
   "execution_count": null,
   "metadata": {
    "collapsed": true
   },
   "outputs": [],
   "source": [
    "liberia_variables_to_use = ['New case/s (confirmed)', 'Total death/s in confirmed cases']"
   ]
  },
  {
   "cell_type": "code",
   "execution_count": null,
   "metadata": {
    "collapsed": false
   },
   "outputs": [],
   "source": [
    "def select_features(data, var_name, features):\n",
    "    return data[data[var_name].isin(features)]"
   ]
  },
  {
   "cell_type": "code",
   "execution_count": null,
   "metadata": {
    "collapsed": false
   },
   "outputs": [],
   "source": [
    "# take the relevant variables\n",
    "sl_relevant = select_features(sl, 'variable', sl_variables_to_use)\n",
    "guinea_relevant = select_features(guinea, 'Description', guinea_variables_to_use)\n",
    "liberia_relevant = select_features(liberia, 'Variable', liberia_variables_to_use)"
   ]
  },
  {
   "cell_type": "markdown",
   "metadata": {},
   "source": [
    "A problem is that the columnames and the variables are not the same over the 3 countries. So we harmonize it somewhat."
   ]
  },
  {
   "cell_type": "code",
   "execution_count": null,
   "metadata": {
    "collapsed": false
   },
   "outputs": [],
   "source": [
    "# rename the columns\n",
    "var_name = 'vars'\n",
    "sl_relevant.rename(columns={'variable': var_name}, inplace=True)\n",
    "guinea_relevant.rename(columns={'Description': var_name, 'Date': 'date'}, inplace=True)\n",
    "liberia_relevant.rename(columns={'Variable': var_name, 'Date': 'date'}, inplace=True)\n",
    "\n",
    "#rename the variables \n",
    "new_infected = 'new_infected'\n",
    "new_death= 'new_death'\n",
    "sl_relevant[var_name][sl_relevant[var_name] == sl_variables_to_use[0]] = new_infected\n",
    "sl_relevant[var_name][sl_relevant[var_name] == sl_variables_to_use[1]] = new_death\n",
    "\n",
    "guinea_relevant[var_name][guinea_relevant[var_name] == guinea_variables_to_use[0]] = new_infected\n",
    "guinea_relevant[var_name][guinea_relevant[var_name] == guinea_variables_to_use[1]] = new_death\n",
    "\n",
    "liberia_relevant[var_name][liberia_relevant[var_name] == liberia_variables_to_use[0]] = new_infected\n",
    "liberia_relevant[var_name][liberia_relevant[var_name] == liberia_variables_to_use[1]] = new_death\n",
    "\n"
   ]
  },
  {
   "cell_type": "code",
   "execution_count": null,
   "metadata": {
    "collapsed": false
   },
   "outputs": [],
   "source": [
    "# rename the data\n",
    "sl_clean = sl_relevant.copy()\n",
    "guinea_clean = guinea_relevant.copy()\n",
    "liberia_clean = liberia_relevant.copy()"
   ]
  },
  {
   "cell_type": "markdown",
   "metadata": {},
   "source": [
    "#### Handle missing data"
   ]
  },
  {
   "cell_type": "code",
   "execution_count": null,
   "metadata": {
    "collapsed": false
   },
   "outputs": [],
   "source": [
    "#remove al rows and columns that consist only of NaNs\n",
    "def remove_rows_and_cols_with_only_nan(data):\n",
    "    return data.dropna(axis=1, how='all').dropna(axis=0, thresh=3)\n",
    "sl_clean = remove_rows_and_cols_with_only_nan(sl_clean)\n",
    "guinea_clean = remove_rows_and_cols_with_only_nan(guinea_clean)\n",
    "liberia_clean = remove_rows_and_cols_with_only_nan(liberia_clean)"
   ]
  },
  {
   "cell_type": "markdown",
   "metadata": {},
   "source": [
    "Then we can replace all NaN values with 0. We don't know anything about that data to put something else, and removing is no option since there would not be much left if we removed all rows/cols that contain at least one NaN"
   ]
  },
  {
   "cell_type": "code",
   "execution_count": null,
   "metadata": {
    "collapsed": true
   },
   "outputs": [],
   "source": [
    "# replace all NaNs with 0 (inplace)\n",
    "sl_clean.fillna(value=0, inplace=True)\n",
    "guinea_clean.fillna(value=0, inplace=True)\n",
    "liberia_clean.fillna(value=0, inplace=True)"
   ]
  },
  {
   "cell_type": "markdown",
   "metadata": {},
   "source": [
    "not all values are numerical (most are objects)"
   ]
  },
  {
   "cell_type": "code",
   "execution_count": null,
   "metadata": {
    "collapsed": false
   },
   "outputs": [],
   "source": [
    "sl_clean.dtypes"
   ]
  },
  {
   "cell_type": "markdown",
   "metadata": {},
   "source": [
    "make all types numerical (excluding the date and variable columns)"
   ]
  },
  {
   "cell_type": "code",
   "execution_count": null,
   "metadata": {
    "collapsed": false
   },
   "outputs": [],
   "source": [
    "def change_to_numeric(data):\n",
    "    col_list = list(data.columns)\n",
    "    col_list.remove('date')\n",
    "    col_list.remove(var_name)\n",
    "    data[col_list] = data[col_list].apply(pd.to_numeric)\n",
    "    \n",
    "change_to_numeric(sl_clean)\n",
    "change_to_numeric(guinea_clean)\n",
    "change_to_numeric(liberia_clean)"
   ]
  },
  {
   "cell_type": "markdown",
   "metadata": {},
   "source": [
    "Now we can summ over all cities and store it in a 'Total' column.\n",
    "Note that all countries have a 'National' or 'total' column, but they are inconsistent with the sumed values in each city, so we ignore it."
   ]
  },
  {
   "cell_type": "code",
   "execution_count": null,
   "metadata": {
    "collapsed": false
   },
   "outputs": [],
   "source": [
    "#  create a total colon\n",
    "def add_and_fill_total_col(data, ignore_cols_list):\n",
    "    col_list = list(data.columns)\n",
    "    for c in ignore_cols_list:\n",
    "        col_list.remove(c) \n",
    "    data['total'] = data[col_list].sum(axis=1)\n",
    "add_and_fill_total_col(sl_clean, ['date', var_name, 'National'])\n",
    "add_and_fill_total_col(guinea_clean, ['date', var_name, 'Totals'])\n",
    "add_and_fill_total_col(liberia_clean, ['date', var_name, 'National'])"
   ]
  },
  {
   "cell_type": "code",
   "execution_count": null,
   "metadata": {
    "collapsed": false
   },
   "outputs": [],
   "source": [
    "# remove unused cols:\n",
    "sl_clean = sl_clean[['date', var_name, 'total']]\n",
    "guinea_clean = guinea_clean[['date', var_name, 'total']]\n",
    "liberia_clean = liberia_clean[['date', var_name, 'total']]"
   ]
  },
  {
   "cell_type": "code",
   "execution_count": null,
   "metadata": {
    "collapsed": false
   },
   "outputs": [],
   "source": [
    "#rename data again\n",
    "sl_final = sl_clean.copy()\n",
    "liberia_final = liberia_clean.copy()\n",
    "guinea_final = guinea_clean.copy()"
   ]
  },
  {
   "cell_type": "markdown",
   "metadata": {},
   "source": [
    "Show the data"
   ]
  },
  {
   "cell_type": "code",
   "execution_count": null,
   "metadata": {
    "collapsed": false
   },
   "outputs": [],
   "source": [
    "liberia_final.head()"
   ]
  },
  {
   "cell_type": "code",
   "execution_count": null,
   "metadata": {
    "collapsed": false
   },
   "outputs": [],
   "source": [
    "guinea_final.head()\n"
   ]
  },
  {
   "cell_type": "code",
   "execution_count": null,
   "metadata": {
    "collapsed": false
   },
   "outputs": [],
   "source": [
    "sl_final.head()"
   ]
  },
  {
   "cell_type": "markdown",
   "metadata": {},
   "source": [
    "Move the variables into the columns"
   ]
  },
  {
   "cell_type": "code",
   "execution_count": null,
   "metadata": {
    "collapsed": false
   },
   "outputs": [],
   "source": [
    "# create infected and death cols\n",
    "def create_inf_death_cols(data):\n",
    "    inf = data[data['vars'] == new_infected]\n",
    "    inf[new_infected] = inf['total']\n",
    "    death = data[data['vars'] == new_death]\n",
    "    death[new_death] = death['total']\n",
    "    res = data.join(inf[new_infected], how='outer')\n",
    "    return res.join(death[new_death], how='outer')\n",
    "\n",
    "sl_final = create_inf_death_cols(sl_final)\n",
    "liberia_final = create_inf_death_cols(liberia_final)\n",
    "guinea_final = create_inf_death_cols(guinea_final)"
   ]
  },
  {
   "cell_type": "code",
   "execution_count": null,
   "metadata": {
    "collapsed": false
   },
   "outputs": [],
   "source": [
    "sl_final.head()"
   ]
  },
  {
   "cell_type": "code",
   "execution_count": null,
   "metadata": {
    "collapsed": false
   },
   "outputs": [],
   "source": [
    "# remove vars & total col\n",
    "sl_final = sl_final.drop(var_name, 1).drop('total', 1)\n",
    "liberia_final = liberia_final.drop(var_name, 1).drop('total', 1)\n",
    "guinea_final = guinea_final.drop(var_name, 1).drop('total', 1)"
   ]
  },
  {
   "cell_type": "code",
   "execution_count": null,
   "metadata": {
    "collapsed": false
   },
   "outputs": [],
   "source": [
    "sl_final.head()"
   ]
  },
  {
   "cell_type": "markdown",
   "metadata": {},
   "source": [
    "Then we need to merge the data"
   ]
  },
  {
   "cell_type": "code",
   "execution_count": null,
   "metadata": {
    "collapsed": true
   },
   "outputs": [],
   "source": [
    "# group by date to merge the cols\n",
    "liberia_final = liberia_final.groupby('date', as_index=False).sum()\n",
    "sl_final = sl_final.groupby('date', as_index=False).sum()\n",
    "guinea_final = guinea_final.groupby('date', as_index=False).sum()"
   ]
  },
  {
   "cell_type": "markdown",
   "metadata": {},
   "source": [
    "add 'country' col to distinguish the dataframes when they are put together"
   ]
  },
  {
   "cell_type": "code",
   "execution_count": null,
   "metadata": {
    "collapsed": true
   },
   "outputs": [],
   "source": [
    "sl_final['country'] = 'sl'\n",
    "guinea_final['country'] = 'guinea'\n",
    "liberia_final['country'] = 'liberia'"
   ]
  },
  {
   "cell_type": "code",
   "execution_count": null,
   "metadata": {
    "collapsed": false
   },
   "outputs": [],
   "source": [
    "guinea_final.head()"
   ]
  },
  {
   "cell_type": "code",
   "execution_count": null,
   "metadata": {
    "collapsed": false
   },
   "outputs": [],
   "source": [
    "liberia_final.head()"
   ]
  },
  {
   "cell_type": "code",
   "execution_count": null,
   "metadata": {
    "collapsed": false
   },
   "outputs": [],
   "source": [
    "sl_final.head()"
   ]
  },
  {
   "cell_type": "markdown",
   "metadata": {},
   "source": [
    "#### Concat the dataframes"
   ]
  },
  {
   "cell_type": "code",
   "execution_count": null,
   "metadata": {
    "collapsed": false
   },
   "outputs": [],
   "source": [
    "final_data = pd.concat([sl_final, guinea_final, liberia_final], ignore_index=True)"
   ]
  },
  {
   "cell_type": "markdown",
   "metadata": {},
   "source": [
    "#### And sort the data:"
   ]
  },
  {
   "cell_type": "code",
   "execution_count": null,
   "metadata": {
    "collapsed": false,
    "scrolled": true
   },
   "outputs": [],
   "source": [
    "final_data.sort_values(by='date').set_index(['date', 'country'])"
   ]
  }
 ],
 "metadata": {
  "anaconda-cloud": {},
  "kernelspec": {
   "display_name": "Python [Root]",
   "language": "python",
   "name": "Python [Root]"
  },
  "language_info": {
   "codemirror_mode": {
    "name": "ipython",
    "version": 3
   },
   "file_extension": ".py",
   "mimetype": "text/x-python",
   "name": "python",
   "nbconvert_exporter": "python",
   "pygments_lexer": "ipython3",
   "version": "3.5.2"
  }
 },
 "nbformat": 4,
 "nbformat_minor": 0
}
