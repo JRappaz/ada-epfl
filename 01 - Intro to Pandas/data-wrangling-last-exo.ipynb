{
 "cells": [
  {
   "cell_type": "markdown",
   "metadata": {},
   "source": [
    "# Titanic data exercise"
   ]
  },
  {
   "cell_type": "code",
   "execution_count": 1,
   "metadata": {
    "collapsed": true
   },
   "outputs": [],
   "source": [
    "import pandas as pd\n",
    "import numpy as np\n",
    "import glob # to find all files in folder\n",
    "from datetime import datetime\n",
    "from datetime import date, time\n",
    "from dateutil.parser import parse\n",
    "import seaborn as sns\n",
    "import matplotlib.pyplot as plt\n",
    "%matplotlib inline\n",
    "sns.set_context('notebook')\n",
    "pd.options.mode.chained_assignment = None  # default='warn'"
   ]
  },
  {
   "cell_type": "code",
   "execution_count": 2,
   "metadata": {
    "collapsed": false,
    "scrolled": true
   },
   "outputs": [
    {
     "data": {
      "text/html": [
       "<hr><h2>Data frame:titanic3</h2>1309 observations and 14 variables, maximum # NAs:1188<hr>\n",
       "<TABLE BORDER>\n",
       "<tr><td>Name</td><td>Labels</td><td>Units</td><td>Levels</td><td>Storage</td><td>NAs</td></tr>\n",
       "<tr><td>pclass</td><td></td><td></td><td><a href=\"#pclass\"><div align=right>  3</div></a></td><td>integer</td><td><div align=right>   0</div></td></tr>\n",
       "<tr><td>survived</td><td>Survived</td><td></td><td><div align=right></div></td><td>double</td><td><div align=right>   0</div></td></tr>\n",
       "<tr><td>name</td><td>Name</td><td></td><td><div align=right></div></td><td>character</td><td><div align=right>   0</div></td></tr>\n",
       "<tr><td>sex</td><td></td><td></td><td><a href=\"#sex\"><div align=right>  2</div></a></td><td>integer</td><td><div align=right>   0</div></td></tr>\n",
       "<tr><td>age</td><td>Age</td><td>Year</td><td><div align=right></div></td><td>double</td><td><div align=right> 263</div></td></tr>\n",
       "<tr><td>sibsp</td><td>Number of Siblings/Spouses Aboard</td><td></td><td><div align=right></div></td><td>double</td><td><div align=right>   0</div></td></tr>\n",
       "<tr><td>parch</td><td>Number of Parents/Children Aboard</td><td></td><td><div align=right></div></td><td>double</td><td><div align=right>   0</div></td></tr>\n",
       "<tr><td>ticket</td><td>Ticket Number</td><td></td><td><div align=right></div></td><td>character</td><td><div align=right>   0</div></td></tr>\n",
       "<tr><td>fare</td><td>Passenger Fare</td><td>British Pound (\\243)</td><td><div align=right></div></td><td>double</td><td><div align=right>   1</div></td></tr>\n",
       "<tr><td>cabin</td><td></td><td></td><td><a href=\"#cabin\"><div align=right>187</div></a></td><td>integer</td><td><div align=right>   0</div></td></tr>\n",
       "<tr><td>embarked</td><td></td><td></td><td><a href=\"#embarked\"><div align=right>  3</div></a></td><td>integer</td><td><div align=right>   2</div></td></tr>\n",
       "<tr><td>boat</td><td></td><td></td><td><a href=\"#boat\"><div align=right> 28</div></a></td><td>integer</td><td><div align=right>   0</div></td></tr>\n",
       "<tr><td>body</td><td>Body Identification Number</td><td></td><td><div align=right></div></td><td>double</td><td><div align=right>1188</div></td></tr>\n",
       "<tr><td>home.dest</td><td>Home/Destination</td><td></td><td><div align=right></div></td><td>character</td><td><div align=right>   0</div></td></tr>\n",
       "</TABLE>\n",
       "<hr>\n",
       "<TABLE BORDER>\n",
       "<tr><td>Variable</td><td>Levels</td></tr>\n",
       "<tr><td><a name=\"pclass\">pclass</a></td><td>1st</td></tr>\n",
       "<tr><td></td><td>2nd</td></tr>\n",
       "<tr><td></td><td>3rd</td></tr>\n",
       "<tr><td><a name=\"sex\">sex</a></td><td>female</td></tr>\n",
       "<tr><td></td><td>male</td></tr>\n",
       "<tr><td><a name=\"cabin\">cabin</a></td><td></td></tr>\n",
       "<tr><td></td><td>A10</td></tr>\n",
       "<tr><td></td><td>A11</td></tr>\n",
       "<tr><td></td><td>A14</td></tr>\n",
       "<tr><td></td><td>A16</td></tr>\n",
       "<tr><td></td><td>A18</td></tr>\n",
       "<tr><td></td><td>A19</td></tr>\n",
       "<tr><td></td><td>A20</td></tr>\n",
       "<tr><td></td><td>A21</td></tr>\n",
       "<tr><td></td><td>A23</td></tr>\n",
       "<tr><td></td><td>A24</td></tr>\n",
       "<tr><td></td><td>A26</td></tr>\n",
       "<tr><td></td><td>A29</td></tr>\n",
       "<tr><td></td><td>A31</td></tr>\n",
       "<tr><td></td><td>A32</td></tr>\n",
       "<tr><td></td><td>A34</td></tr>\n",
       "<tr><td></td><td>A36</td></tr>\n",
       "<tr><td></td><td>A5</td></tr>\n",
       "<tr><td></td><td>A6</td></tr>\n",
       "<tr><td></td><td>A7</td></tr>\n",
       "<tr><td></td><td>A9</td></tr>\n",
       "<tr><td></td><td>B10</td></tr>\n",
       "<tr><td></td><td>B101</td></tr>\n",
       "<tr><td></td><td>B102</td></tr>\n",
       "<tr><td></td><td>B11</td></tr>\n",
       "<tr><td></td><td>B18</td></tr>\n",
       "<tr><td></td><td>B19</td></tr>\n",
       "<tr><td></td><td>B20</td></tr>\n",
       "<tr><td></td><td>B22</td></tr>\n",
       "<tr><td></td><td>B24</td></tr>\n",
       "<tr><td></td><td>B26</td></tr>\n",
       "<tr><td></td><td>B28</td></tr>\n",
       "<tr><td></td><td>B3</td></tr>\n",
       "<tr><td></td><td>B30</td></tr>\n",
       "<tr><td></td><td>B35</td></tr>\n",
       "<tr><td></td><td>B36</td></tr>\n",
       "<tr><td></td><td>B37</td></tr>\n",
       "<tr><td></td><td>B38</td></tr>\n",
       "<tr><td></td><td>B39</td></tr>\n",
       "<tr><td></td><td>B4</td></tr>\n",
       "<tr><td></td><td>B41</td></tr>\n",
       "<tr><td></td><td>B42</td></tr>\n",
       "<tr><td></td><td>B45</td></tr>\n",
       "<tr><td></td><td>B49</td></tr>\n",
       "<tr><td></td><td>B5</td></tr>\n",
       "<tr><td></td><td>B50</td></tr>\n",
       "<tr><td></td><td>B51 B53 B55</td></tr>\n",
       "<tr><td></td><td>B52 B54 B56</td></tr>\n",
       "<tr><td></td><td>B57 B59 B63 B66</td></tr>\n",
       "<tr><td></td><td>B58 B60</td></tr>\n",
       "<tr><td></td><td>B61</td></tr>\n",
       "<tr><td></td><td>B69</td></tr>\n",
       "<tr><td></td><td>B71</td></tr>\n",
       "<tr><td></td><td>B73</td></tr>\n",
       "<tr><td></td><td>B77</td></tr>\n",
       "<tr><td></td><td>B78</td></tr>\n",
       "<tr><td></td><td>B79</td></tr>\n",
       "<tr><td></td><td>B80</td></tr>\n",
       "<tr><td></td><td>B82 B84</td></tr>\n",
       "<tr><td></td><td>B86</td></tr>\n",
       "<tr><td></td><td>B94</td></tr>\n",
       "<tr><td></td><td>B96 B98</td></tr>\n",
       "<tr><td></td><td>C101</td></tr>\n",
       "<tr><td></td><td>C103</td></tr>\n",
       "<tr><td></td><td>C104</td></tr>\n",
       "<tr><td></td><td>C105</td></tr>\n",
       "<tr><td></td><td>C106</td></tr>\n",
       "<tr><td></td><td>C110</td></tr>\n",
       "<tr><td></td><td>C111</td></tr>\n",
       "<tr><td></td><td>C116</td></tr>\n",
       "<tr><td></td><td>C118</td></tr>\n",
       "<tr><td></td><td>C123</td></tr>\n",
       "<tr><td></td><td>C124</td></tr>\n",
       "<tr><td></td><td>C125</td></tr>\n",
       "<tr><td></td><td>C126</td></tr>\n",
       "<tr><td></td><td>C128</td></tr>\n",
       "<tr><td></td><td>C130</td></tr>\n",
       "<tr><td></td><td>C132</td></tr>\n",
       "<tr><td></td><td>C148</td></tr>\n",
       "<tr><td></td><td>C2</td></tr>\n",
       "<tr><td></td><td>C22 C26</td></tr>\n",
       "<tr><td></td><td>C23 C25 C27</td></tr>\n",
       "<tr><td></td><td>C28</td></tr>\n",
       "<tr><td></td><td>C30</td></tr>\n",
       "<tr><td></td><td>C31</td></tr>\n",
       "<tr><td></td><td>C32</td></tr>\n",
       "<tr><td></td><td>C39</td></tr>\n",
       "<tr><td></td><td>C45</td></tr>\n",
       "<tr><td></td><td>C46</td></tr>\n",
       "<tr><td></td><td>C47</td></tr>\n",
       "<tr><td></td><td>C49</td></tr>\n",
       "<tr><td></td><td>C50</td></tr>\n",
       "<tr><td></td><td>C51</td></tr>\n",
       "<tr><td></td><td>C52</td></tr>\n",
       "<tr><td></td><td>C53</td></tr>\n",
       "<tr><td></td><td>C54</td></tr>\n",
       "<tr><td></td><td>C55 C57</td></tr>\n",
       "<tr><td></td><td>C6</td></tr>\n",
       "<tr><td></td><td>C62 C64</td></tr>\n",
       "<tr><td></td><td>C65</td></tr>\n",
       "<tr><td></td><td>C68</td></tr>\n",
       "<tr><td></td><td>C7</td></tr>\n",
       "<tr><td></td><td>C70</td></tr>\n",
       "<tr><td></td><td>C78</td></tr>\n",
       "<tr><td></td><td>C80</td></tr>\n",
       "<tr><td></td><td>C82</td></tr>\n",
       "<tr><td></td><td>C83</td></tr>\n",
       "<tr><td></td><td>C85</td></tr>\n",
       "<tr><td></td><td>C86</td></tr>\n",
       "<tr><td></td><td>C87</td></tr>\n",
       "<tr><td></td><td>C89</td></tr>\n",
       "<tr><td></td><td>C90</td></tr>\n",
       "<tr><td></td><td>C91</td></tr>\n",
       "<tr><td></td><td>C92</td></tr>\n",
       "<tr><td></td><td>C93</td></tr>\n",
       "<tr><td></td><td>C95</td></tr>\n",
       "<tr><td></td><td>C97</td></tr>\n",
       "<tr><td></td><td>C99</td></tr>\n",
       "<tr><td></td><td>D</td></tr>\n",
       "<tr><td></td><td>D10 D12</td></tr>\n",
       "<tr><td></td><td>D11</td></tr>\n",
       "<tr><td></td><td>D15</td></tr>\n",
       "<tr><td></td><td>D17</td></tr>\n",
       "<tr><td></td><td>D19</td></tr>\n",
       "<tr><td></td><td>D20</td></tr>\n",
       "<tr><td></td><td>D21</td></tr>\n",
       "<tr><td></td><td>D22</td></tr>\n",
       "<tr><td></td><td>D26</td></tr>\n",
       "<tr><td></td><td>D28</td></tr>\n",
       "<tr><td></td><td>D30</td></tr>\n",
       "<tr><td></td><td>D33</td></tr>\n",
       "<tr><td></td><td>D34</td></tr>\n",
       "<tr><td></td><td>D35</td></tr>\n",
       "<tr><td></td><td>D36</td></tr>\n",
       "<tr><td></td><td>D37</td></tr>\n",
       "<tr><td></td><td>D38</td></tr>\n",
       "<tr><td></td><td>D40</td></tr>\n",
       "<tr><td></td><td>D43</td></tr>\n",
       "<tr><td></td><td>D45</td></tr>\n",
       "<tr><td></td><td>D46</td></tr>\n",
       "<tr><td></td><td>D47</td></tr>\n",
       "<tr><td></td><td>D48</td></tr>\n",
       "<tr><td></td><td>D49</td></tr>\n",
       "<tr><td></td><td>D50</td></tr>\n",
       "<tr><td></td><td>D56</td></tr>\n",
       "<tr><td></td><td>D6</td></tr>\n",
       "<tr><td></td><td>D7</td></tr>\n",
       "<tr><td></td><td>D9</td></tr>\n",
       "<tr><td></td><td>E10</td></tr>\n",
       "<tr><td></td><td>E101</td></tr>\n",
       "<tr><td></td><td>E12</td></tr>\n",
       "<tr><td></td><td>E121</td></tr>\n",
       "<tr><td></td><td>E17</td></tr>\n",
       "<tr><td></td><td>E24</td></tr>\n",
       "<tr><td></td><td>E25</td></tr>\n",
       "<tr><td></td><td>E31</td></tr>\n",
       "<tr><td></td><td>E33</td></tr>\n",
       "<tr><td></td><td>E34</td></tr>\n",
       "<tr><td></td><td>E36</td></tr>\n",
       "<tr><td></td><td>E38</td></tr>\n",
       "<tr><td></td><td>E39 E41</td></tr>\n",
       "<tr><td></td><td>E40</td></tr>\n",
       "<tr><td></td><td>E44</td></tr>\n",
       "<tr><td></td><td>E45</td></tr>\n",
       "<tr><td></td><td>E46</td></tr>\n",
       "<tr><td></td><td>E49</td></tr>\n",
       "<tr><td></td><td>E50</td></tr>\n",
       "<tr><td></td><td>E52</td></tr>\n",
       "<tr><td></td><td>E58</td></tr>\n",
       "<tr><td></td><td>E60</td></tr>\n",
       "<tr><td></td><td>E63</td></tr>\n",
       "<tr><td></td><td>E67</td></tr>\n",
       "<tr><td></td><td>E68</td></tr>\n",
       "<tr><td></td><td>E77</td></tr>\n",
       "<tr><td></td><td>E8</td></tr>\n",
       "<tr><td></td><td>F</td></tr>\n",
       "<tr><td></td><td>F E46</td></tr>\n",
       "<tr><td></td><td>F E57</td></tr>\n",
       "<tr><td></td><td>F E69</td></tr>\n",
       "<tr><td></td><td>F G63</td></tr>\n",
       "<tr><td></td><td>F G73</td></tr>\n",
       "<tr><td></td><td>F2</td></tr>\n",
       "<tr><td></td><td>F33</td></tr>\n",
       "<tr><td></td><td>F38</td></tr>\n",
       "<tr><td></td><td>F4</td></tr>\n",
       "<tr><td></td><td>G6</td></tr>\n",
       "<tr><td></td><td>T</td></tr>\n",
       "<tr><td><a name=\"embarked\">embarked</a></td><td>Cherbourg</td></tr>\n",
       "<tr><td></td><td>Queenstown</td></tr>\n",
       "<tr><td></td><td>Southampton</td></tr>\n",
       "<tr><td><a name=\"boat\">boat</a></td><td></td></tr>\n",
       "<tr><td></td><td>1</td></tr>\n",
       "<tr><td></td><td>10</td></tr>\n",
       "<tr><td></td><td>11</td></tr>\n",
       "<tr><td></td><td>12</td></tr>\n",
       "<tr><td></td><td>13</td></tr>\n",
       "<tr><td></td><td>13 15</td></tr>\n",
       "<tr><td></td><td>13 15 B</td></tr>\n",
       "<tr><td></td><td>14</td></tr>\n",
       "<tr><td></td><td>15</td></tr>\n",
       "<tr><td></td><td>15 16</td></tr>\n",
       "<tr><td></td><td>16</td></tr>\n",
       "<tr><td></td><td>2</td></tr>\n",
       "<tr><td></td><td>3</td></tr>\n",
       "<tr><td></td><td>4</td></tr>\n",
       "<tr><td></td><td>5</td></tr>\n",
       "<tr><td></td><td>5 7</td></tr>\n",
       "<tr><td></td><td>5 9</td></tr>\n",
       "<tr><td></td><td>6</td></tr>\n",
       "<tr><td></td><td>7</td></tr>\n",
       "<tr><td></td><td>8</td></tr>\n",
       "<tr><td></td><td>8 10</td></tr>\n",
       "<tr><td></td><td>9</td></tr>\n",
       "<tr><td></td><td>A</td></tr>\n",
       "<tr><td></td><td>B</td></tr>\n",
       "<tr><td></td><td>C</td></tr>\n",
       "<tr><td></td><td>C D</td></tr>\n",
       "<tr><td></td><td>D</td></tr>\n",
       "</TABLE>\n",
       "<hr>\n"
      ],
      "text/plain": [
       "<IPython.core.display.HTML object>"
      ]
     },
     "execution_count": 2,
     "metadata": {},
     "output_type": "execute_result"
    }
   ],
   "source": [
    "from IPython.core.display import HTML\n",
    "HTML(filename='Data/titanic.html')"
   ]
  },
  {
   "cell_type": "code",
   "execution_count": 3,
   "metadata": {
    "collapsed": false
   },
   "outputs": [
    {
     "data": {
      "text/html": [
       "<div>\n",
       "<table border=\"1\" class=\"dataframe\">\n",
       "  <thead>\n",
       "    <tr style=\"text-align: right;\">\n",
       "      <th></th>\n",
       "      <th>pclass</th>\n",
       "      <th>survived</th>\n",
       "      <th>name</th>\n",
       "      <th>sex</th>\n",
       "      <th>age</th>\n",
       "      <th>sibsp</th>\n",
       "      <th>parch</th>\n",
       "      <th>ticket</th>\n",
       "      <th>fare</th>\n",
       "      <th>cabin</th>\n",
       "      <th>embarked</th>\n",
       "      <th>boat</th>\n",
       "      <th>body</th>\n",
       "      <th>home.dest</th>\n",
       "      <th>total</th>\n",
       "    </tr>\n",
       "  </thead>\n",
       "  <tbody>\n",
       "    <tr>\n",
       "      <th>0</th>\n",
       "      <td>1</td>\n",
       "      <td>1</td>\n",
       "      <td>Allen, Miss. Elisabeth Walton</td>\n",
       "      <td>female</td>\n",
       "      <td>29.0000</td>\n",
       "      <td>0</td>\n",
       "      <td>0</td>\n",
       "      <td>24160</td>\n",
       "      <td>211.3375</td>\n",
       "      <td>B5</td>\n",
       "      <td>S</td>\n",
       "      <td>2</td>\n",
       "      <td>NaN</td>\n",
       "      <td>St Louis, MO</td>\n",
       "      <td>1</td>\n",
       "    </tr>\n",
       "    <tr>\n",
       "      <th>1</th>\n",
       "      <td>1</td>\n",
       "      <td>1</td>\n",
       "      <td>Allison, Master. Hudson Trevor</td>\n",
       "      <td>male</td>\n",
       "      <td>0.9167</td>\n",
       "      <td>1</td>\n",
       "      <td>2</td>\n",
       "      <td>113781</td>\n",
       "      <td>151.5500</td>\n",
       "      <td>C22 C26</td>\n",
       "      <td>S</td>\n",
       "      <td>11</td>\n",
       "      <td>NaN</td>\n",
       "      <td>Montreal, PQ / Chesterville, ON</td>\n",
       "      <td>1</td>\n",
       "    </tr>\n",
       "  </tbody>\n",
       "</table>\n",
       "</div>"
      ],
      "text/plain": [
       "   pclass  survived                            name     sex      age  sibsp  \\\n",
       "0       1         1   Allen, Miss. Elisabeth Walton  female  29.0000      0   \n",
       "1       1         1  Allison, Master. Hudson Trevor    male   0.9167      1   \n",
       "\n",
       "   parch  ticket      fare    cabin embarked boat  body  \\\n",
       "0      0   24160  211.3375       B5        S    2   NaN   \n",
       "1      2  113781  151.5500  C22 C26        S   11   NaN   \n",
       "\n",
       "                         home.dest  total  \n",
       "0                     St Louis, MO      1  \n",
       "1  Montreal, PQ / Chesterville, ON      1  "
      ]
     },
     "execution_count": 3,
     "metadata": {},
     "output_type": "execute_result"
    }
   ],
   "source": [
    "original_data = pd.read_excel('Data/titanic.xls')\n",
    "original_data['total'] = 1 # add a colon only consisting of 1s to make couting easier\n",
    "original_data.head(2)"
   ]
  },
  {
   "cell_type": "markdown",
   "metadata": {},
   "source": [
    "## 1. Describe each attribute, both with basic statistics and plots. State clearly your assumptions and discuss your findings."
   ]
  },
  {
   "cell_type": "markdown",
   "metadata": {},
   "source": [
    "### pclass\n",
    "the class a person belongs to"
   ]
  },
  {
   "cell_type": "code",
   "execution_count": 4,
   "metadata": {
    "collapsed": false
   },
   "outputs": [
    {
     "data": {
      "text/plain": [
       "array([1, 2, 3])"
      ]
     },
     "execution_count": 4,
     "metadata": {},
     "output_type": "execute_result"
    }
   ],
   "source": [
    "pclass = original_data['pclass']\n",
    "pclass.unique()"
   ]
  },
  {
   "cell_type": "markdown",
   "metadata": {},
   "source": [
    "there are 3 different classes"
   ]
  },
  {
   "cell_type": "code",
   "execution_count": 5,
   "metadata": {
    "collapsed": false
   },
   "outputs": [
    {
     "name": "stdout",
     "output_type": "stream",
     "text": [
      "nbr in class 1: 323\n",
      "nbr in class 2: 277\n",
      "nbr in class 3: 709\n"
     ]
    }
   ],
   "source": [
    "for c in pclass.unique():\n",
    "    print('nbr in class '+str(c)+': '+str(len(pclass[pclass == c])))"
   ]
  },
  {
   "cell_type": "markdown",
   "metadata": {},
   "source": [
    "most are in class 3, but surprisingly class 1 has more passagengers than class 2"
   ]
  },
  {
   "cell_type": "code",
   "execution_count": 13,
   "metadata": {
    "collapsed": false
   },
   "outputs": [
    {
     "data": {
      "text/plain": [
       "(array([ 323.,    0.,    0.,    0.,    0.,  277.,    0.,    0.,    0.,  709.]),\n",
       " array([ 1. ,  1.2,  1.4,  1.6,  1.8,  2. ,  2.2,  2.4,  2.6,  2.8,  3. ]),\n",
       " <a list of 10 Patch objects>)"
      ]
     },
     "execution_count": 13,
     "metadata": {},
     "output_type": "execute_result"
    },
    {
     "data": {
      "image/png": "[encoded data removed]",
      "text/plain": [
       "<matplotlib.figure.Figure at 0x119704dd8>"
      ]
     },
     "metadata": {},
     "output_type": "display_data"
    }
   ],
   "source": [
    "plt.hist(pclass.values)\n"
   ]
  },
  {
   "cell_type": "markdown",
   "metadata": {},
   "source": [
    "### survived\n",
    "States if the passenger survived the titanic sinking"
   ]
  },
  {
   "cell_type": "code",
   "execution_count": null,
   "metadata": {
    "collapsed": false
   },
   "outputs": [],
   "source": [
    "surv = original_data['survived']\n",
    "surv.unique() # to make sure there are only 1 and 0"
   ]
  },
  {
   "cell_type": "code",
   "execution_count": null,
   "metadata": {
    "collapsed": false
   },
   "outputs": [],
   "source": [
    "#how many survived?\n",
    "surv.sum()"
   ]
  },
  {
   "cell_type": "code",
   "execution_count": null,
   "metadata": {
    "collapsed": false
   },
   "outputs": [],
   "source": [
    "#how many died?\n",
    "len(surv[surv == 0])"
   ]
  },
  {
   "cell_type": "markdown",
   "metadata": {},
   "source": [
    "most died :( "
   ]
  },
  {
   "cell_type": "code",
   "execution_count": null,
   "metadata": {
    "collapsed": false
   },
   "outputs": [],
   "source": [
    "100/len(surv.values) * surv.sum()"
   ]
  },
  {
   "cell_type": "markdown",
   "metadata": {},
   "source": [
    "only 38% survived"
   ]
  },
  {
   "cell_type": "markdown",
   "metadata": {},
   "source": [
    "### name\n",
    "the name of the passanger"
   ]
  },
  {
   "cell_type": "code",
   "execution_count": null,
   "metadata": {
    "collapsed": false
   },
   "outputs": [],
   "source": [
    "name = original_data['name']\n",
    "len(name.unique()) == len(name.values) "
   ]
  },
  {
   "cell_type": "markdown",
   "metadata": {},
   "source": [
    "apparently there are some with the same name"
   ]
  },
  {
   "cell_type": "code",
   "execution_count": null,
   "metadata": {
    "collapsed": false
   },
   "outputs": [],
   "source": [
    "len(name.values) - len(name.unique())"
   ]
  },
  {
   "cell_type": "code",
   "execution_count": null,
   "metadata": {
    "collapsed": false
   },
   "outputs": [],
   "source": [
    "#lets find them\n",
    "original_data[name.isin(name[name.duplicated()].values)]"
   ]
  },
  {
   "cell_type": "markdown",
   "metadata": {},
   "source": [
    "### sex\n",
    "the sex of the passenger"
   ]
  },
  {
   "cell_type": "code",
   "execution_count": null,
   "metadata": {
    "collapsed": false
   },
   "outputs": [],
   "source": [
    "sex = original_data['sex']\n",
    "sex.unique()"
   ]
  },
  {
   "cell_type": "code",
   "execution_count": null,
   "metadata": {
    "collapsed": false
   },
   "outputs": [],
   "source": [
    "nbr_males = len(sex[sex == 'male'])"
   ]
  },
  {
   "cell_type": "code",
   "execution_count": null,
   "metadata": {
    "collapsed": false
   },
   "outputs": [],
   "source": [
    "nbr_females= len(sex[sex == 'female'])"
   ]
  },
  {
   "cell_type": "code",
   "execution_count": null,
   "metadata": {
    "collapsed": false
   },
   "outputs": [],
   "source": [
    "100/len(sex) * nbr_males"
   ]
  },
  {
   "cell_type": "markdown",
   "metadata": {},
   "source": [
    "64.4% are male"
   ]
  },
  {
   "cell_type": "markdown",
   "metadata": {},
   "source": [
    "### age\n",
    "How old the passenger is"
   ]
  },
  {
   "cell_type": "code",
   "execution_count": null,
   "metadata": {
    "collapsed": false
   },
   "outputs": [],
   "source": [
    "age = original_data['age']\n",
    "age.unique()"
   ]
  },
  {
   "cell_type": "markdown",
   "metadata": {},
   "source": [
    "There are NaN values! But also floating point values, which is somewhat unusual but not a problem per se."
   ]
  },
  {
   "cell_type": "code",
   "execution_count": null,
   "metadata": {
    "collapsed": false
   },
   "outputs": [],
   "source": [
    "age.min() # a baby?"
   ]
  },
  {
   "cell_type": "code",
   "execution_count": null,
   "metadata": {
    "collapsed": false
   },
   "outputs": [],
   "source": [
    "age.max()"
   ]
  },
  {
   "cell_type": "code",
   "execution_count": null,
   "metadata": {
    "collapsed": false
   },
   "outputs": [],
   "source": [
    "age.mean()"
   ]
  },
  {
   "cell_type": "markdown",
   "metadata": {},
   "source": [
    "Age distribution in a boxplot:"
   ]
  },
  {
   "cell_type": "code",
   "execution_count": null,
   "metadata": {
    "collapsed": false
   },
   "outputs": [],
   "source": [
    "sns.boxplot(age.dropna().values)"
   ]
  },
  {
   "cell_type": "markdown",
   "metadata": {},
   "source": [
    "And the distribution of age plotted:"
   ]
  },
  {
   "cell_type": "code",
   "execution_count": null,
   "metadata": {
    "collapsed": false
   },
   "outputs": [],
   "source": [
    "plt.hist(age.values)"
   ]
  },
  {
   "cell_type": "markdown",
   "metadata": {},
   "source": [
    "### sibsp\n",
    "The number of siblings or spouses on the ship"
   ]
  },
  {
   "cell_type": "code",
   "execution_count": null,
   "metadata": {
    "collapsed": false
   },
   "outputs": [],
   "source": [
    "sipsp = original_data['sibsp']\n",
    "sipsp.unique()"
   ]
  },
  {
   "cell_type": "code",
   "execution_count": null,
   "metadata": {
    "collapsed": false
   },
   "outputs": [],
   "source": [
    "sipsp.mean()"
   ]
  },
  {
   "cell_type": "markdown",
   "metadata": {},
   "source": [
    "Plot histogram: Almost all traveled without siblings or spouses. there is apparently one family that traveled together (8 siblings are on board)"
   ]
  },
  {
   "cell_type": "code",
   "execution_count": null,
   "metadata": {
    "collapsed": false
   },
   "outputs": [],
   "source": [
    "plt.hist(sipsp)"
   ]
  },
  {
   "cell_type": "markdown",
   "metadata": {},
   "source": [
    "### parch\n",
    "The number of parents or children on the ship"
   ]
  },
  {
   "cell_type": "code",
   "execution_count": null,
   "metadata": {
    "collapsed": false
   },
   "outputs": [],
   "source": [
    "parch = original_data['parch']\n",
    "parch.unique()"
   ]
  },
  {
   "cell_type": "code",
   "execution_count": null,
   "metadata": {
    "collapsed": false
   },
   "outputs": [],
   "source": [
    "parch.mean()"
   ]
  },
  {
   "cell_type": "markdown",
   "metadata": {},
   "source": [
    "Histogram: Again almost noone traveled with their kids. The one big family is again seen here."
   ]
  },
  {
   "cell_type": "code",
   "execution_count": null,
   "metadata": {
    "collapsed": false
   },
   "outputs": [],
   "source": [
    "plt.hist(parch)"
   ]
  },
  {
   "cell_type": "markdown",
   "metadata": {},
   "source": [
    "Let's find the family"
   ]
  },
  {
   "cell_type": "code",
   "execution_count": null,
   "metadata": {
    "collapsed": false
   },
   "outputs": [],
   "source": [
    "# the kids\n",
    "original_data[original_data['sibsp'] == 8]"
   ]
  },
  {
   "cell_type": "code",
   "execution_count": null,
   "metadata": {
    "collapsed": false
   },
   "outputs": [],
   "source": [
    "#  the parents\n",
    "original_data[original_data['parch'] == 9]"
   ]
  },
  {
   "cell_type": "markdown",
   "metadata": {},
   "source": [
    "This are the children and the parents of the 'big' familly. Sadly all died :("
   ]
  },
  {
   "cell_type": "markdown",
   "metadata": {},
   "source": [
    "### ticket\n",
    "the ticketnbr the passanger had"
   ]
  },
  {
   "cell_type": "code",
   "execution_count": null,
   "metadata": {
    "collapsed": false
   },
   "outputs": [],
   "source": [
    "ticket = original_data['ticket']\n",
    "len(ticket.unique())"
   ]
  },
  {
   "cell_type": "code",
   "execution_count": null,
   "metadata": {
    "collapsed": false
   },
   "outputs": [],
   "source": [
    "ticket.dtype"
   ]
  },
  {
   "cell_type": "code",
   "execution_count": null,
   "metadata": {
    "collapsed": false
   },
   "outputs": [],
   "source": [
    "len(ticket[ticket.isnull()])"
   ]
  },
  {
   "cell_type": "markdown",
   "metadata": {},
   "source": [
    "All (registered) passengers had a ticket ;)"
   ]
  },
  {
   "cell_type": "markdown",
   "metadata": {},
   "source": [
    "### fare\n",
    "How many they paid"
   ]
  },
  {
   "cell_type": "code",
   "execution_count": null,
   "metadata": {
    "collapsed": false
   },
   "outputs": [],
   "source": [
    "fare = original_data['fare']\n",
    "fare.mean()"
   ]
  },
  {
   "cell_type": "code",
   "execution_count": null,
   "metadata": {
    "collapsed": false
   },
   "outputs": [],
   "source": [
    "fare.max()"
   ]
  },
  {
   "cell_type": "code",
   "execution_count": null,
   "metadata": {
    "collapsed": false
   },
   "outputs": [],
   "source": [
    "fare.min()"
   ]
  },
  {
   "cell_type": "markdown",
   "metadata": {},
   "source": [
    "There are people that did not pay anything"
   ]
  },
  {
   "cell_type": "code",
   "execution_count": null,
   "metadata": {
    "collapsed": false,
    "scrolled": false
   },
   "outputs": [],
   "source": [
    "original_data[fare == 0]"
   ]
  },
  {
   "cell_type": "code",
   "execution_count": null,
   "metadata": {
    "collapsed": false
   },
   "outputs": [],
   "source": [
    "fare.dtypes"
   ]
  },
  {
   "cell_type": "code",
   "execution_count": null,
   "metadata": {
    "collapsed": false
   },
   "outputs": [],
   "source": [
    "original_data[fare.isnull()]"
   ]
  },
  {
   "cell_type": "markdown",
   "metadata": {},
   "source": [
    "there is one NaN value"
   ]
  },
  {
   "cell_type": "code",
   "execution_count": null,
   "metadata": {
    "collapsed": false,
    "scrolled": false
   },
   "outputs": [],
   "source": [
    "plt.hist(fare.dropna())"
   ]
  },
  {
   "cell_type": "markdown",
   "metadata": {},
   "source": [
    "Someone got ripped of, or got the best room."
   ]
  },
  {
   "cell_type": "markdown",
   "metadata": {},
   "source": [
    "### cabin\n",
    "What cabin they are in"
   ]
  },
  {
   "cell_type": "code",
   "execution_count": null,
   "metadata": {
    "collapsed": false
   },
   "outputs": [],
   "source": [
    "cabin = original_data['cabin']\n",
    "cabin.isnull().sum()"
   ]
  },
  {
   "cell_type": "markdown",
   "metadata": {},
   "source": [
    "1014 people have no cabin (all class 3?)"
   ]
  },
  {
   "cell_type": "code",
   "execution_count": null,
   "metadata": {
    "collapsed": false
   },
   "outputs": [],
   "source": [
    "plt.hist(original_data[cabin.isnull()]['pclass'])"
   ]
  },
  {
   "cell_type": "markdown",
   "metadata": {},
   "source": [
    "Even people in class 1 have no cabin (or it is unknown)"
   ]
  },
  {
   "cell_type": "markdown",
   "metadata": {},
   "source": [
    "Some people have several cabines, but they are also occupied by several peoples, probablement families.\n",
    "It would be quite complicated to take those 'multiple cabin' entries appart. With more time we could have done it."
   ]
  },
  {
   "cell_type": "code",
   "execution_count": null,
   "metadata": {
    "collapsed": false
   },
   "outputs": [],
   "source": [
    "cabin.head()"
   ]
  },
  {
   "cell_type": "markdown",
   "metadata": {},
   "source": [
    "### embarked\n"
   ]
  },
  {
   "cell_type": "code",
   "execution_count": null,
   "metadata": {
    "collapsed": false
   },
   "outputs": [],
   "source": [
    "embarked = original_data['embarked']\n",
    "embarked.unique()"
   ]
  },
  {
   "cell_type": "code",
   "execution_count": null,
   "metadata": {
    "collapsed": false
   },
   "outputs": [],
   "source": [
    "len(embarked[embarked.isnull()])"
   ]
  },
  {
   "cell_type": "markdown",
   "metadata": {},
   "source": [
    "two people have NaN in 'embarked'"
   ]
  },
  {
   "cell_type": "code",
   "execution_count": null,
   "metadata": {
    "collapsed": false
   },
   "outputs": [],
   "source": [
    "sns.countplot(y=\"embarked\", data=original_data, color=\"c\");"
   ]
  },
  {
   "cell_type": "markdown",
   "metadata": {},
   "source": [
    "### boat\n",
    "On what rescue-boat they were rescued"
   ]
  },
  {
   "cell_type": "code",
   "execution_count": null,
   "metadata": {
    "collapsed": false
   },
   "outputs": [],
   "source": [
    "boat = original_data['boat']\n",
    "boat.unique()"
   ]
  },
  {
   "cell_type": "markdown",
   "metadata": {},
   "source": [
    "some have several boats."
   ]
  },
  {
   "cell_type": "markdown",
   "metadata": {},
   "source": [
    "### body\n",
    "the identification number of a body"
   ]
  },
  {
   "cell_type": "code",
   "execution_count": null,
   "metadata": {
    "collapsed": false
   },
   "outputs": [],
   "source": [
    "body = original_data['body']\n",
    "body.count()"
   ]
  },
  {
   "cell_type": "markdown",
   "metadata": {},
   "source": [
    "121 bodys got an number"
   ]
  },
  {
   "cell_type": "markdown",
   "metadata": {},
   "source": [
    "### home dest"
   ]
  },
  {
   "cell_type": "code",
   "execution_count": null,
   "metadata": {
    "collapsed": false
   },
   "outputs": [],
   "source": [
    "homedest = original_data['home.dest']\n",
    "len(homedest.dropna().unique())"
   ]
  },
  {
   "cell_type": "markdown",
   "metadata": {},
   "source": [
    "369 different home destinations\n",
    "Lets find the most common one"
   ]
  },
  {
   "cell_type": "code",
   "execution_count": null,
   "metadata": {
    "collapsed": false,
    "scrolled": true
   },
   "outputs": [],
   "source": [
    "original_data[['home.dest', 'total']].groupby(by='home.dest').sum().sort_values(by='total', ascending=False)"
   ]
  },
  {
   "cell_type": "markdown",
   "metadata": {},
   "source": [
    "Most come from New York"
   ]
  },
  {
   "cell_type": "markdown",
   "metadata": {},
   "source": [
    "\n",
    "\n",
    "## 2. Use the `groupby` method to calculate the proportion of passengers that survived by sex:"
   ]
  },
  {
   "cell_type": "markdown",
   "metadata": {},
   "source": [
    "First gather the numbers"
   ]
  },
  {
   "cell_type": "code",
   "execution_count": null,
   "metadata": {
    "collapsed": false
   },
   "outputs": [],
   "source": [
    "survived_by_sex = original_data[['survived', 'sex']].groupby('sex').sum()\n",
    "nbr_males = len(original_data[original_data['sex'] == 'male'])\n",
    "nbr_females = len(original_data[original_data['sex'] == 'female'])\n",
    "nbr_total = len(original_data['sex'])\n",
    "survived_by_sex"
   ]
  },
  {
   "cell_type": "code",
   "execution_count": null,
   "metadata": {
    "collapsed": false
   },
   "outputs": [],
   "source": [
    "print(nbr_total == nbr_females + nbr_males) # to check if consistent"
   ]
  },
  {
   "cell_type": "markdown",
   "metadata": {},
   "source": [
    "Then calcultate the percentages"
   ]
  },
  {
   "cell_type": "code",
   "execution_count": null,
   "metadata": {
    "collapsed": false
   },
   "outputs": [],
   "source": [
    "female_survived_percentage = (100/nbr_females) * survived_by_sex.at['female', 'survived']\n",
    "male_survived_percentage = (100/nbr_males) * survived_by_sex.at['male', 'survived']\n",
    "print('female surv: '+str(round(female_survived_percentage, 3))+'%')\n",
    "print('male surv: '+str(round(male_survived_percentage, 3))+'%')"
   ]
  },
  {
   "cell_type": "markdown",
   "metadata": {},
   "source": [
    "## 3. Calculate the same proportion, but by class and sex."
   ]
  },
  {
   "cell_type": "code",
   "execution_count": null,
   "metadata": {
    "collapsed": false
   },
   "outputs": [],
   "source": [
    "# make use of the 'total' column (which is all 1's in the original_data)\n",
    "survived_by_class = original_data[['pclass', 'sex', 'survived', 'total']].groupby(['pclass', 'sex']).sum()\n",
    "survived_by_class\n"
   ]
  },
  {
   "cell_type": "code",
   "execution_count": null,
   "metadata": {
    "collapsed": false
   },
   "outputs": [],
   "source": [
    "def combine_surv_total(row):\n",
    "    #print(row)\n",
    "    return 100.0/row.total * row.survived"
   ]
  },
  {
   "cell_type": "markdown",
   "metadata": {},
   "source": [
    "create a new column with the apply method"
   ]
  },
  {
   "cell_type": "code",
   "execution_count": null,
   "metadata": {
    "collapsed": false
   },
   "outputs": [],
   "source": [
    "survived_by_class['survived in %'] = survived_by_class.apply(combine_surv_total, axis=1)\n",
    "survived_by_class"
   ]
  },
  {
   "cell_type": "markdown",
   "metadata": {},
   "source": [
    "Here is a plot showing the survive rates. Note that the plot is not based on the data calculated above"
   ]
  },
  {
   "cell_type": "code",
   "execution_count": null,
   "metadata": {
    "collapsed": false
   },
   "outputs": [],
   "source": [
    "sns.barplot(x='sex', y='survived', hue='pclass', data=original_data);"
   ]
  },
  {
   "cell_type": "markdown",
   "metadata": {},
   "source": [
    "We can see that 'women first' is true, but also 'class 1 first'"
   ]
  },
  {
   "cell_type": "markdown",
   "metadata": {},
   "source": [
    "## 4. Create age categories: children (under 14 years), adolescents (14-20), adult (21-64), and senior(65+), and calculate survival proportions by age category, class and sex."
   ]
  },
  {
   "cell_type": "markdown",
   "metadata": {},
   "source": [
    "Create the categories. We use the value -1 to show that the person has a NaN value as age (and put them in the category 'No age'."
   ]
  },
  {
   "cell_type": "code",
   "execution_count": null,
   "metadata": {
    "collapsed": false
   },
   "outputs": [],
   "source": [
    "original_data.age.fillna(-1, inplace=True)\n",
    "age_cats = pd.cut(original_data.age, [-2, 0+1e-6,14+1e-6,20+1e-6,64+1e-6,120], labels=['No age', 'child','adolescent','adult','senior'], include_lowest=True)"
   ]
  },
  {
   "cell_type": "code",
   "execution_count": null,
   "metadata": {
    "collapsed": false
   },
   "outputs": [],
   "source": [
    "original_data['age-category'] = age_cats"
   ]
  },
  {
   "cell_type": "code",
   "execution_count": null,
   "metadata": {
    "collapsed": false
   },
   "outputs": [],
   "source": [
    "catsdata = original_data[['sex', 'age-category', 'pclass', 'survived', 'total']]"
   ]
  },
  {
   "cell_type": "markdown",
   "metadata": {},
   "source": [
    "Then group the data in a sensible way to get the nice Table below."
   ]
  },
  {
   "cell_type": "code",
   "execution_count": null,
   "metadata": {
    "collapsed": false
   },
   "outputs": [],
   "source": [
    "grouped = catsdata.groupby(['sex', 'age-category', 'pclass']).sum().fillna(0)\n",
    "grouped"
   ]
  },
  {
   "cell_type": "markdown",
   "metadata": {},
   "source": [
    "And finally calculate the survive portion for all cases"
   ]
  },
  {
   "cell_type": "code",
   "execution_count": null,
   "metadata": {
    "collapsed": false
   },
   "outputs": [],
   "source": [
    "def surv_proportions(row):\n",
    "    if row.total == 0:\n",
    "        return np.nan\n",
    "    return round(100.0/row.total * row.survived, 2)\n",
    "\n",
    "grouped['survive-portion (%)'] = grouped.apply(surv_proportions, axis=1)"
   ]
  },
  {
   "cell_type": "code",
   "execution_count": null,
   "metadata": {
    "collapsed": false,
    "scrolled": false
   },
   "outputs": [],
   "source": [
    "grouped"
   ]
  },
  {
   "cell_type": "markdown",
   "metadata": {},
   "source": [
    "#### Plots"
   ]
  },
  {
   "cell_type": "markdown",
   "metadata": {},
   "source": [
    "Two plots showing this. The first showing the female and the second shows the male passengers"
   ]
  },
  {
   "cell_type": "code",
   "execution_count": null,
   "metadata": {
    "collapsed": false,
    "scrolled": true
   },
   "outputs": [],
   "source": [
    "sns.barplot(x=\"pclass\", y=\"survived\", hue=\"age-category\", data=original_data[original_data['sex'] == 'female'])"
   ]
  },
  {
   "cell_type": "markdown",
   "metadata": {},
   "source": [
    "Almost all women from class 1 and 2 survived, in class 3 about 50% survived "
   ]
  },
  {
   "cell_type": "code",
   "execution_count": null,
   "metadata": {
    "collapsed": false
   },
   "outputs": [],
   "source": [
    "sns.barplot(x=\"pclass\", y=\"survived\", hue=\"age-category\", data=original_data[original_data['sex'] == 'male'])"
   ]
  },
  {
   "cell_type": "markdown",
   "metadata": {},
   "source": [
    "It is interesting to see that almost no men survived, exept children. So 'children before adults' was certainly a thing."
   ]
  },
  {
   "cell_type": "code",
   "execution_count": null,
   "metadata": {
    "collapsed": true
   },
   "outputs": [],
   "source": []
  }
 ],
 "metadata": {
  "anaconda-cloud": {},
  "kernelspec": {
   "display_name": "Python [default]",
   "language": "python",
   "name": "python3"
  },
  "language_info": {
   "codemirror_mode": {
    "name": "ipython",
    "version": 3
   },
   "file_extension": ".py",
   "mimetype": "text/x-python",
   "name": "python",
   "nbconvert_exporter": "python",
   "pygments_lexer": "ipython3",
   "version": "3.5.2"
  }
 },
 "nbformat": 4,
 "nbformat_minor": 0
}
