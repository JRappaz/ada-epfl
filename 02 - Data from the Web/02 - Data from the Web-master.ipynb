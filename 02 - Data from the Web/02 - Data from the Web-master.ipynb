{
 "cells": [
  {
   "cell_type": "code",
   "execution_count": 1,
   "metadata": {
    "collapsed": false
   },
   "outputs": [],
   "source": [
    "import pandas as pd\n",
    "import numpy as np\n",
    "import requests as requests\n",
    "from bs4 import BeautifulSoup\n",
    "import re\n",
    "import matplotlib.pyplot as plt\n",
    "%matplotlib inline\n",
    "\n",
    "import pickle\n",
    "\n",
    "pd.options.mode.chained_assignment = None  # default='warn'"
   ]
  },
  {
   "cell_type": "code",
   "execution_count": 5,
   "metadata": {
    "collapsed": false
   },
   "outputs": [],
   "source": [
    "r = requests.get('http://isa.epfl.ch/imoniteur_ISAP/!GEDPUBLICREPORTS.filter?ww_i_reportModel=133685247')\n",
    "soupe = BeautifulSoup(r.text, 'html.parser')\n",
    "\n"
   ]
  },
  {
   "cell_type": "markdown",
   "metadata": {},
   "source": [
    "# Collect the data\n"
   ]
  },
  {
   "cell_type": "code",
   "execution_count": 59,
   "metadata": {
    "collapsed": true
   },
   "outputs": [],
   "source": [
    "all_data = pd.read_csv('all_data.csv', index_col=0)"
   ]
  },
  {
   "cell_type": "code",
   "execution_count": 60,
   "metadata": {
    "collapsed": false
   },
   "outputs": [
    {
     "data": {
      "text/plain": [
       "Index(['Civilité', 'Nom_Prénom', 'Orientation_Bachelor', 'Orientation_Master',\n",
       "       'Spécialisation', 'Filière_opt.', 'Mineur', 'Statut', 'Type_Echange',\n",
       "       'Ecole_Echange', 'No_Sciper', 'title', 'periode_acad',\n",
       "       'periode_pedago'],\n",
       "      dtype='object')"
      ]
     },
     "execution_count": 60,
     "metadata": {},
     "output_type": "execute_result"
    }
   ],
   "source": [
    "all_data.columns"
   ]
  },
  {
   "cell_type": "code",
   "execution_count": 4,
   "metadata": {
    "collapsed": false
   },
   "outputs": [
    {
     "data": {
      "text/html": [
       "<div>\n",
       "<table border=\"1\" class=\"dataframe\">\n",
       "  <thead>\n",
       "    <tr style=\"text-align: right;\">\n",
       "      <th></th>\n",
       "      <th>Civilité</th>\n",
       "      <th>Nom_Prénom</th>\n",
       "      <th>Orientation_Bachelor</th>\n",
       "      <th>Orientation_Master</th>\n",
       "      <th>Spécialisation</th>\n",
       "      <th>Filière_opt.</th>\n",
       "      <th>Mineur</th>\n",
       "      <th>Statut</th>\n",
       "      <th>Type_Echange</th>\n",
       "      <th>Ecole_Echange</th>\n",
       "      <th>No_Sciper</th>\n",
       "      <th>title</th>\n",
       "      <th>periode_acad</th>\n",
       "      <th>periode_pedago</th>\n",
       "    </tr>\n",
       "  </thead>\n",
       "  <tbody>\n",
       "    <tr>\n",
       "      <th>0</th>\n",
       "      <td>Monsieur</td>\n",
       "      <td>Arévalo Christian</td>\n",
       "      <td>NaN</td>\n",
       "      <td>NaN</td>\n",
       "      <td>NaN</td>\n",
       "      <td>NaN</td>\n",
       "      <td>NaN</td>\n",
       "      <td>Présent</td>\n",
       "      <td>NaN</td>\n",
       "      <td>NaN</td>\n",
       "      <td>169569</td>\n",
       "      <td>Informatique, 2009-2010, Bachelor semestre 5</td>\n",
       "      <td>2009-2010</td>\n",
       "      <td>Bachelor semestre 5</td>\n",
       "    </tr>\n",
       "    <tr>\n",
       "      <th>1</th>\n",
       "      <td>Monsieur</td>\n",
       "      <td>Badoud Morgan</td>\n",
       "      <td>NaN</td>\n",
       "      <td>NaN</td>\n",
       "      <td>NaN</td>\n",
       "      <td>NaN</td>\n",
       "      <td>NaN</td>\n",
       "      <td>Présent</td>\n",
       "      <td>NaN</td>\n",
       "      <td>NaN</td>\n",
       "      <td>173922</td>\n",
       "      <td>Informatique, 2009-2010, Bachelor semestre 5</td>\n",
       "      <td>2009-2010</td>\n",
       "      <td>Bachelor semestre 5</td>\n",
       "    </tr>\n",
       "    <tr>\n",
       "      <th>2</th>\n",
       "      <td>Monsieur</td>\n",
       "      <td>Baeriswyl Jonathan</td>\n",
       "      <td>NaN</td>\n",
       "      <td>NaN</td>\n",
       "      <td>NaN</td>\n",
       "      <td>NaN</td>\n",
       "      <td>NaN</td>\n",
       "      <td>Présent</td>\n",
       "      <td>NaN</td>\n",
       "      <td>NaN</td>\n",
       "      <td>179406</td>\n",
       "      <td>Informatique, 2009-2010, Bachelor semestre 5</td>\n",
       "      <td>2009-2010</td>\n",
       "      <td>Bachelor semestre 5</td>\n",
       "    </tr>\n",
       "    <tr>\n",
       "      <th>3</th>\n",
       "      <td>Monsieur</td>\n",
       "      <td>Balas Martin</td>\n",
       "      <td>NaN</td>\n",
       "      <td>NaN</td>\n",
       "      <td>NaN</td>\n",
       "      <td>NaN</td>\n",
       "      <td>NaN</td>\n",
       "      <td>Présent</td>\n",
       "      <td>NaN</td>\n",
       "      <td>NaN</td>\n",
       "      <td>174774</td>\n",
       "      <td>Informatique, 2009-2010, Bachelor semestre 5</td>\n",
       "      <td>2009-2010</td>\n",
       "      <td>Bachelor semestre 5</td>\n",
       "    </tr>\n",
       "    <tr>\n",
       "      <th>4</th>\n",
       "      <td>Monsieur</td>\n",
       "      <td>Barroco Michael</td>\n",
       "      <td>NaN</td>\n",
       "      <td>NaN</td>\n",
       "      <td>NaN</td>\n",
       "      <td>NaN</td>\n",
       "      <td>NaN</td>\n",
       "      <td>Présent</td>\n",
       "      <td>NaN</td>\n",
       "      <td>NaN</td>\n",
       "      <td>179428</td>\n",
       "      <td>Informatique, 2009-2010, Bachelor semestre 5</td>\n",
       "      <td>2009-2010</td>\n",
       "      <td>Bachelor semestre 5</td>\n",
       "    </tr>\n",
       "  </tbody>\n",
       "</table>\n",
       "</div>"
      ],
      "text/plain": [
       "   Civilité          Nom_Prénom  Orientation_Bachelor  Orientation_Master  \\\n",
       "0  Monsieur   Arévalo Christian                   NaN                 NaN   \n",
       "1  Monsieur       Badoud Morgan                   NaN                 NaN   \n",
       "2  Monsieur  Baeriswyl Jonathan                   NaN                 NaN   \n",
       "3  Monsieur        Balas Martin                   NaN                 NaN   \n",
       "4  Monsieur     Barroco Michael                   NaN                 NaN   \n",
       "\n",
       "  Spécialisation Filière_opt. Mineur   Statut Type_Echange Ecole_Echange  \\\n",
       "0            NaN          NaN    NaN  Présent          NaN           NaN   \n",
       "1            NaN          NaN    NaN  Présent          NaN           NaN   \n",
       "2            NaN          NaN    NaN  Présent          NaN           NaN   \n",
       "3            NaN          NaN    NaN  Présent          NaN           NaN   \n",
       "4            NaN          NaN    NaN  Présent          NaN           NaN   \n",
       "\n",
       "   No_Sciper                                         title periode_acad  \\\n",
       "0     169569  Informatique, 2009-2010, Bachelor semestre 5    2009-2010   \n",
       "1     173922  Informatique, 2009-2010, Bachelor semestre 5    2009-2010   \n",
       "2     179406  Informatique, 2009-2010, Bachelor semestre 5    2009-2010   \n",
       "3     174774  Informatique, 2009-2010, Bachelor semestre 5    2009-2010   \n",
       "4     179428  Informatique, 2009-2010, Bachelor semestre 5    2009-2010   \n",
       "\n",
       "        periode_pedago  \n",
       "0  Bachelor semestre 5  \n",
       "1  Bachelor semestre 5  \n",
       "2  Bachelor semestre 5  \n",
       "3  Bachelor semestre 5  \n",
       "4  Bachelor semestre 5  "
      ]
     },
     "execution_count": 4,
     "metadata": {},
     "output_type": "execute_result"
    }
   ],
   "source": [
    "all_data.head()\n"
   ]
  },
  {
   "cell_type": "code",
   "execution_count": 13,
   "metadata": {
    "collapsed": false
   },
   "outputs": [],
   "source": [
    "first_master = all_data[all_data.periode_pedago == 'Master semestre 1']"
   ]
  },
  {
   "cell_type": "code",
   "execution_count": 15,
   "metadata": {
    "collapsed": false
   },
   "outputs": [
    {
     "data": {
      "text/plain": [
       "False"
      ]
     },
     "execution_count": 15,
     "metadata": {},
     "output_type": "execute_result"
    }
   ],
   "source": [
    "first_master.No_Sciper.is_unique"
   ]
  },
  {
   "cell_type": "code",
   "execution_count": 16,
   "metadata": {
    "collapsed": false,
    "scrolled": true
   },
   "outputs": [
    {
     "data": {
      "text/plain": [
       "248447    3\n",
       "170530    3\n",
       "200932    3\n",
       "166491    3\n",
       "201568    2\n",
       "153746    2\n",
       "166701    2\n",
       "193362    2\n",
       "204393    2\n",
       "170451    2\n",
       "213552    2\n",
       "259745    2\n",
       "207028    2\n",
       "200095    2\n",
       "205617    2\n",
       "194182    2\n",
       "196118    2\n",
       "203521    2\n",
       "161127    2\n",
       "202508    2\n",
       "221295    2\n",
       "185975    2\n",
       "184366    2\n",
       "193051    2\n",
       "175339    2\n",
       "193352    2\n",
       "185811    2\n",
       "175410    2\n",
       "223239    2\n",
       "214573    2\n",
       "         ..\n",
       "217280    1\n",
       "183512    1\n",
       "167168    1\n",
       "214273    1\n",
       "236802    1\n",
       "193798    1\n",
       "167045    1\n",
       "146330    1\n",
       "195899    1\n",
       "202040    1\n",
       "245047    1\n",
       "146742    1\n",
       "183605    1\n",
       "175407    1\n",
       "224557    1\n",
       "224553    1\n",
       "193832    1\n",
       "210215    1\n",
       "218401    1\n",
       "177393    1\n",
       "213584    1\n",
       "206104    1\n",
       "255255    1\n",
       "245014    1\n",
       "175379    1\n",
       "212238    1\n",
       "212234    1\n",
       "224520    1\n",
       "185607    1\n",
       "215042    1\n",
       "Name: No_Sciper, dtype: int64"
      ]
     },
     "execution_count": 16,
     "metadata": {},
     "output_type": "execute_result"
    }
   ],
   "source": [
    "first_master.No_Sciper.value_counts()"
   ]
  },
  {
   "cell_type": "code",
   "execution_count": 29,
   "metadata": {
    "collapsed": false
   },
   "outputs": [
    {
     "data": {
      "text/plain": [
       "['Bindschaedler Vincent',\n",
       " 'Galissard de Marignac Vincent',\n",
       " 'Bindschaedler Vincent',\n",
       " 'Galissard de Marignac Vincent',\n",
       " 'Di Maïo Vincent',\n",
       " 'Débieux Vincent',\n",
       " 'Galissard de Marignac Vincent',\n",
       " 'Guggenheim Daniel Vincent',\n",
       " 'Loup Vincent',\n",
       " 'Mettraux Vincent Michel',\n",
       " 'Depraz Florian Vincent',\n",
       " 'Eggerling Vincent',\n",
       " 'Mouchet Christian Vincent',\n",
       " 'Renucci Allan Vincent Roger',\n",
       " 'Zellweger Vincent',\n",
       " 'Guidoux Vincent Claude',\n",
       " 'Rinaldi Vincent Michel Arnold Patrick',\n",
       " 'Débieux Vincent',\n",
       " 'Guggenheim Daniel Vincent',\n",
       " 'Loup Vincent',\n",
       " 'Depraz Florian Vincent',\n",
       " 'Eggerling Vincent',\n",
       " 'Galissard de Marignac Vincent',\n",
       " 'Mettraux Vincent Michel',\n",
       " 'Mouchet Christian Vincent',\n",
       " 'Renucci Allan Vincent Roger',\n",
       " 'Zellweger Vincent',\n",
       " 'Delamare Arnaud Vincent Julien',\n",
       " 'Guidoux Vincent Claude',\n",
       " 'Moyse Orson Vincent Lawrence',\n",
       " 'Rinaldi Vincent Michel Arnold Patrick',\n",
       " 'Delamare Arnaud Vincent Julien',\n",
       " 'Galissard de Marignac Vincent',\n",
       " 'Zellweger Vincent',\n",
       " 'Robert Vincent',\n",
       " 'Guggenheim Daniel Vincent',\n",
       " 'Loup Vincent',\n",
       " 'Tournier Vincent',\n",
       " 'Galissard de Marignac Vincent',\n",
       " 'Zellweger Vincent',\n",
       " 'Robert Vincent',\n",
       " 'Depraz Florian Vincent',\n",
       " 'Eggerling Vincent',\n",
       " 'Mettraux Vincent Michel',\n",
       " 'Mouchet Christian Vincent',\n",
       " 'Renucci Allan Vincent Roger',\n",
       " 'Guggenheim Daniel Vincent',\n",
       " 'Loup Vincent',\n",
       " 'Tournier Vincent',\n",
       " 'Robert Vincent',\n",
       " 'Robert Vincent',\n",
       " 'Depraz Florian Vincent',\n",
       " 'Eggerling Vincent',\n",
       " 'Mettraux Vincent Michel',\n",
       " 'Mouchet Christian Vincent',\n",
       " 'Renucci Allan Vincent Roger',\n",
       " 'Delort Vincent',\n",
       " 'Di Maïo Vincent',\n",
       " 'Delort Vincent',\n",
       " 'Di Maïo Vincent',\n",
       " 'Bindschaedler Vincent',\n",
       " 'Epiney Vincent',\n",
       " 'Bindschaedler Vincent',\n",
       " 'Delamare Arnaud Vincent Julien',\n",
       " 'Loup Vincent',\n",
       " 'Débieux Vincent',\n",
       " 'Demotz Vincent Daniel',\n",
       " 'Galissard de Marignac Vincent',\n",
       " 'Guggenheim Daniel Vincent',\n",
       " 'Mettraux Vincent Michel',\n",
       " 'Coriou Vincent Matthieu',\n",
       " 'Micheli Vincent Emile',\n",
       " 'Pantillon Kevin Vincent',\n",
       " 'Delamare Arnaud Vincent Julien',\n",
       " 'Débieux Vincent',\n",
       " 'Demotz Vincent Daniel',\n",
       " 'Depraz Florian Vincent',\n",
       " 'Galissard de Marignac Vincent',\n",
       " 'Guggenheim Daniel Vincent',\n",
       " 'Loup Vincent',\n",
       " 'Mettraux Vincent Michel',\n",
       " 'Mouchet Christian Vincent',\n",
       " 'Renucci Allan Vincent Roger',\n",
       " 'Rinaldi Vincent Michel Arnold Patrick',\n",
       " 'Coriou Vincent Matthieu',\n",
       " 'Guidoux Vincent Claude',\n",
       " 'Micheli Vincent Emile',\n",
       " 'Pantillon Kevin Vincent',\n",
       " 'Depraz Florian Vincent',\n",
       " 'Eggerling Vincent',\n",
       " 'Mouchet Christian Vincent',\n",
       " 'Renucci Allan Vincent Roger',\n",
       " 'Zellweger Vincent',\n",
       " 'Rinaldi Vincent Michel Arnold Patrick',\n",
       " 'Depraz Florian Vincent',\n",
       " 'Eggerling Vincent',\n",
       " 'Mettraux Vincent Michel',\n",
       " 'Galissard de Marignac Vincent',\n",
       " 'Zellweger Vincent',\n",
       " 'Depraz Florian Vincent',\n",
       " 'Eggerling Vincent',\n",
       " 'Mettraux Vincent Michel',\n",
       " 'Barrielle Vincent',\n",
       " 'Bindschaedler Vincent',\n",
       " 'Robert Vincent',\n",
       " 'Robert Vincent',\n",
       " 'Galissard de Marignac Vincent',\n",
       " 'Zellweger Vincent',\n",
       " 'Depraz Florian Vincent',\n",
       " 'Eggerling Vincent',\n",
       " 'Galissard de Marignac Vincent',\n",
       " 'Mettraux Vincent Michel',\n",
       " 'Mouchet Christian Vincent',\n",
       " 'Renucci Allan Vincent Roger',\n",
       " 'Zellweger Vincent',\n",
       " 'Delamare Arnaud Vincent Julien',\n",
       " 'Moyse Orson Vincent Lawrence',\n",
       " 'Rinaldi Vincent Michel Arnold Patrick',\n",
       " 'Depraz Florian Vincent',\n",
       " 'Eggerling Vincent',\n",
       " 'Galissard de Marignac Vincent',\n",
       " 'Mettraux Vincent Michel',\n",
       " 'Mouchet Christian Vincent',\n",
       " 'Renucci Allan Vincent Roger',\n",
       " 'Zellweger Vincent',\n",
       " 'Débieux Vincent',\n",
       " 'Guggenheim Daniel Vincent',\n",
       " 'Loup Vincent',\n",
       " 'Delamare Arnaud Vincent Julien',\n",
       " 'Lausseure Jean-Vincent Jérôme',\n",
       " 'Moyse Orson Vincent Lawrence',\n",
       " 'Rinaldi Vincent Michel Arnold Patrick',\n",
       " 'Riva Vincent Laurent',\n",
       " 'Tournier Vincent',\n",
       " 'Robert Vincent',\n",
       " 'Débieux Vincent',\n",
       " 'Guggenheim Daniel Vincent',\n",
       " 'Loup Vincent',\n",
       " 'Rinaldi Vincent Michel Arnold Patrick',\n",
       " 'Delamare Arnaud Vincent Julien',\n",
       " 'Loup Vincent',\n",
       " 'Petri Vincent',\n",
       " 'Gürtler Vincent',\n",
       " 'Marache Leo Alexis Vincent',\n",
       " 'Pantillon Kevin Vincent',\n",
       " 'Demotz Vincent Daniel',\n",
       " 'Depraz Florian Vincent',\n",
       " 'Guggenheim Daniel Vincent',\n",
       " 'Mettraux Vincent Michel',\n",
       " 'Mouchet Christian Vincent',\n",
       " 'Renucci Allan Vincent Roger',\n",
       " 'Débieux Vincent',\n",
       " 'Galissard de Marignac Vincent',\n",
       " 'Barrielle Vincent',\n",
       " 'Bindschaedler Vincent',\n",
       " 'Galissard de Marignac Vincent',\n",
       " 'Mettraux Vincent Michel',\n",
       " 'Zellweger Vincent',\n",
       " 'Barrielle Vincent',\n",
       " 'Bindschaedler Vincent',\n",
       " 'Galissard de Marignac Vincent',\n",
       " 'Mettraux Vincent Michel',\n",
       " 'Zellweger Vincent',\n",
       " 'Delort Vincent',\n",
       " 'Di Maïo Vincent',\n",
       " 'Bindschaedler Vincent',\n",
       " 'Epiney Vincent',\n",
       " 'Delort Vincent',\n",
       " 'Bozzo Vincent',\n",
       " 'Di Maïo Vincent',\n",
       " 'Bindschaedler Vincent',\n",
       " 'Epiney Vincent',\n",
       " 'Bozzo Vincent',\n",
       " 'Pazeller Vincent']"
      ]
     },
     "execution_count": 29,
     "metadata": {},
     "output_type": "execute_result"
    }
   ],
   "source": [
    "[name for name in all_data.Nom_Prénom if 'Vincent' in name]"
   ]
  },
  {
   "cell_type": "code",
   "execution_count": 30,
   "metadata": {
    "collapsed": false,
    "scrolled": true
   },
   "outputs": [
    {
     "data": {
      "text/html": [
       "<div>\n",
       "<table border=\"1\" class=\"dataframe\">\n",
       "  <thead>\n",
       "    <tr style=\"text-align: right;\">\n",
       "      <th></th>\n",
       "      <th>Civilité</th>\n",
       "      <th>Nom_Prénom</th>\n",
       "      <th>Orientation_Bachelor</th>\n",
       "      <th>Orientation_Master</th>\n",
       "      <th>Spécialisation</th>\n",
       "      <th>Filière_opt.</th>\n",
       "      <th>Mineur</th>\n",
       "      <th>Statut</th>\n",
       "      <th>Type_Echange</th>\n",
       "      <th>Ecole_Echange</th>\n",
       "      <th>No_Sciper</th>\n",
       "      <th>title</th>\n",
       "      <th>periode_acad</th>\n",
       "      <th>periode_pedago</th>\n",
       "    </tr>\n",
       "  </thead>\n",
       "  <tbody>\n",
       "    <tr>\n",
       "      <th>26</th>\n",
       "      <td>Monsieur</td>\n",
       "      <td>Débieux Vincent</td>\n",
       "      <td>NaN</td>\n",
       "      <td>NaN</td>\n",
       "      <td>NaN</td>\n",
       "      <td>NaN</td>\n",
       "      <td>NaN</td>\n",
       "      <td>Présent</td>\n",
       "      <td>NaN</td>\n",
       "      <td>NaN</td>\n",
       "      <td>224704</td>\n",
       "      <td>Informatique, 2014-2015, Bachelor semestre 5</td>\n",
       "      <td>2014-2015</td>\n",
       "      <td>Bachelor semestre 5</td>\n",
       "    </tr>\n",
       "    <tr>\n",
       "      <th>22</th>\n",
       "      <td>Monsieur</td>\n",
       "      <td>Débieux Vincent</td>\n",
       "      <td>NaN</td>\n",
       "      <td>NaN</td>\n",
       "      <td>NaN</td>\n",
       "      <td>NaN</td>\n",
       "      <td>NaN</td>\n",
       "      <td>Présent</td>\n",
       "      <td>NaN</td>\n",
       "      <td>NaN</td>\n",
       "      <td>224704</td>\n",
       "      <td>Informatique, 2014-2015, Bachelor semestre 6</td>\n",
       "      <td>2014-2015</td>\n",
       "      <td>Bachelor semestre 6</td>\n",
       "    </tr>\n",
       "    <tr>\n",
       "      <th>21</th>\n",
       "      <td>Monsieur</td>\n",
       "      <td>Débieux Vincent</td>\n",
       "      <td>NaN</td>\n",
       "      <td>NaN</td>\n",
       "      <td>NaN</td>\n",
       "      <td>NaN</td>\n",
       "      <td>NaN</td>\n",
       "      <td>Présent</td>\n",
       "      <td>NaN</td>\n",
       "      <td>NaN</td>\n",
       "      <td>224704</td>\n",
       "      <td>Informatique, 2015-2016, Master semestre 1</td>\n",
       "      <td>2015-2016</td>\n",
       "      <td>Master semestre 1</td>\n",
       "    </tr>\n",
       "    <tr>\n",
       "      <th>36</th>\n",
       "      <td>Monsieur</td>\n",
       "      <td>Débieux Vincent</td>\n",
       "      <td>NaN</td>\n",
       "      <td>NaN</td>\n",
       "      <td>NaN</td>\n",
       "      <td>NaN</td>\n",
       "      <td>NaN</td>\n",
       "      <td>Présent</td>\n",
       "      <td>NaN</td>\n",
       "      <td>NaN</td>\n",
       "      <td>224704</td>\n",
       "      <td>Informatique, 2015-2016, Master semestre 2</td>\n",
       "      <td>2015-2016</td>\n",
       "      <td>Master semestre 2</td>\n",
       "    </tr>\n",
       "    <tr>\n",
       "      <th>20</th>\n",
       "      <td>Monsieur</td>\n",
       "      <td>Débieux Vincent</td>\n",
       "      <td>NaN</td>\n",
       "      <td>NaN</td>\n",
       "      <td>NaN</td>\n",
       "      <td>NaN</td>\n",
       "      <td>NaN</td>\n",
       "      <td>Présent</td>\n",
       "      <td>NaN</td>\n",
       "      <td>NaN</td>\n",
       "      <td>224704</td>\n",
       "      <td>Informatique, 2013-2014, Bachelor semestre 3</td>\n",
       "      <td>2013-2014</td>\n",
       "      <td>Bachelor semestre 3</td>\n",
       "    </tr>\n",
       "    <tr>\n",
       "      <th>19</th>\n",
       "      <td>Monsieur</td>\n",
       "      <td>Débieux Vincent</td>\n",
       "      <td>NaN</td>\n",
       "      <td>NaN</td>\n",
       "      <td>NaN</td>\n",
       "      <td>NaN</td>\n",
       "      <td>NaN</td>\n",
       "      <td>Présent</td>\n",
       "      <td>NaN</td>\n",
       "      <td>NaN</td>\n",
       "      <td>224704</td>\n",
       "      <td>Informatique, 2013-2014, Bachelor semestre 4</td>\n",
       "      <td>2013-2014</td>\n",
       "      <td>Bachelor semestre 4</td>\n",
       "    </tr>\n",
       "    <tr>\n",
       "      <th>10</th>\n",
       "      <td>Monsieur</td>\n",
       "      <td>Débieux Vincent</td>\n",
       "      <td>NaN</td>\n",
       "      <td>NaN</td>\n",
       "      <td>NaN</td>\n",
       "      <td>NaN</td>\n",
       "      <td>NaN</td>\n",
       "      <td>Présent</td>\n",
       "      <td>NaN</td>\n",
       "      <td>NaN</td>\n",
       "      <td>224704</td>\n",
       "      <td>Informatique, 2016-2017, Projet Master automne</td>\n",
       "      <td>2016-2017</td>\n",
       "      <td>Projet Master automne</td>\n",
       "    </tr>\n",
       "  </tbody>\n",
       "</table>\n",
       "</div>"
      ],
      "text/plain": [
       "    Civilité       Nom_Prénom  Orientation_Bachelor  Orientation_Master  \\\n",
       "26  Monsieur  Débieux Vincent                   NaN                 NaN   \n",
       "22  Monsieur  Débieux Vincent                   NaN                 NaN   \n",
       "21  Monsieur  Débieux Vincent                   NaN                 NaN   \n",
       "36  Monsieur  Débieux Vincent                   NaN                 NaN   \n",
       "20  Monsieur  Débieux Vincent                   NaN                 NaN   \n",
       "19  Monsieur  Débieux Vincent                   NaN                 NaN   \n",
       "10  Monsieur  Débieux Vincent                   NaN                 NaN   \n",
       "\n",
       "   Spécialisation Filière_opt. Mineur   Statut Type_Echange Ecole_Echange  \\\n",
       "26            NaN          NaN    NaN  Présent          NaN           NaN   \n",
       "22            NaN          NaN    NaN  Présent          NaN           NaN   \n",
       "21            NaN          NaN    NaN  Présent          NaN           NaN   \n",
       "36            NaN          NaN    NaN  Présent          NaN           NaN   \n",
       "20            NaN          NaN    NaN  Présent          NaN           NaN   \n",
       "19            NaN          NaN    NaN  Présent          NaN           NaN   \n",
       "10            NaN          NaN    NaN  Présent          NaN           NaN   \n",
       "\n",
       "    No_Sciper                                           title periode_acad  \\\n",
       "26     224704    Informatique, 2014-2015, Bachelor semestre 5    2014-2015   \n",
       "22     224704    Informatique, 2014-2015, Bachelor semestre 6    2014-2015   \n",
       "21     224704      Informatique, 2015-2016, Master semestre 1    2015-2016   \n",
       "36     224704      Informatique, 2015-2016, Master semestre 2    2015-2016   \n",
       "20     224704    Informatique, 2013-2014, Bachelor semestre 3    2013-2014   \n",
       "19     224704    Informatique, 2013-2014, Bachelor semestre 4    2013-2014   \n",
       "10     224704  Informatique, 2016-2017, Projet Master automne    2016-2017   \n",
       "\n",
       "           periode_pedago  \n",
       "26    Bachelor semestre 5  \n",
       "22    Bachelor semestre 6  \n",
       "21      Master semestre 1  \n",
       "36      Master semestre 2  \n",
       "20    Bachelor semestre 3  \n",
       "19    Bachelor semestre 4  \n",
       "10  Projet Master automne  "
      ]
     },
     "execution_count": 30,
     "metadata": {},
     "output_type": "execute_result"
    }
   ],
   "source": [
    "all_data[all_data.Nom_Prénom == 'Débieux Vincent']"
   ]
  },
  {
   "cell_type": "code",
   "execution_count": 37,
   "metadata": {
    "collapsed": false
   },
   "outputs": [
    {
     "data": {
      "text/plain": [
       "<bound method Series.get_value of 0    Monsieur\n",
       "Name: Civilité, dtype: object>"
      ]
     },
     "execution_count": 37,
     "metadata": {},
     "output_type": "execute_result"
    }
   ],
   "source": [
    "first = all_data.head(1)\n",
    "first.Civilité."
   ]
  },
  {
   "cell_type": "code",
   "execution_count": 53,
   "metadata": {
    "collapsed": false
   },
   "outputs": [
    {
     "data": {
      "text/plain": [
       "2844"
      ]
     },
     "execution_count": 53,
     "metadata": {},
     "output_type": "execute_result"
    }
   ],
   "source": [
    "master = all_data[['Master' in periode for periode in all_data.periode_pedago]]\n",
    "len(master)"
   ]
  },
  {
   "cell_type": "code",
   "execution_count": 54,
   "metadata": {
    "collapsed": false
   },
   "outputs": [],
   "source": [
    "grouped = master.groupby(by='No_Sciper')"
   ]
  },
  {
   "cell_type": "code",
   "execution_count": null,
   "metadata": {
    "collapsed": true
   },
   "outputs": [],
   "source": []
  },
  {
   "cell_type": "code",
   "execution_count": 104,
   "metadata": {
    "collapsed": false
   },
   "outputs": [
    {
     "data": {
      "text/plain": [
       "76"
      ]
     },
     "execution_count": 104,
     "metadata": {},
     "output_type": "execute_result"
    }
   ],
   "source": [
    "no_master_1 = pd.DataFrame(columns=['Civilité', 'Nom_Prénom', 'Orientation_Bachelor', 'Orientation_Master',\n",
    "       'Spécialisation', 'Filière_opt.', 'Mineur', 'Statut', 'Type_Echange',\n",
    "       'Ecole_Echange', 'No_Sciper', 'title', 'periode_acad',\n",
    "       'periode_pedago']) \n",
    "\n",
    "for scip, group in grouped:\n",
    "    if (group.periode_pedago != 'Master semestre 1').all(): \n",
    "        no_master_1 = pd.concat([no_master_1, group])\n",
    "        x.append(group)\n",
    "len(no_master_1.No_Sciper.unique())   \n"
   ]
  },
  {
   "cell_type": "code",
   "execution_count": 105,
   "metadata": {
    "collapsed": false
   },
   "outputs": [
    {
     "data": {
      "text/plain": [
       "66"
      ]
     },
     "execution_count": 105,
     "metadata": {},
     "output_type": "execute_result"
    }
   ],
   "source": [
    "df_2006 = no_master_1[no_master_1.periode_acad == '2007-2008']\n",
    "len(df_2006.No_Sciper.unique())"
   ]
  },
  {
   "cell_type": "code",
   "execution_count": 113,
   "metadata": {
    "collapsed": false
   },
   "outputs": [
    {
     "ename": "TypeError",
     "evalue": "cannot compare a dtyped [object] array with a scalar of type [bool]",
     "output_type": "error",
     "traceback": [
      "\u001b[0;31m---------------------------------------------------------------------------\u001b[0m",
      "\u001b[0;31mTypeError\u001b[0m                                 Traceback (most recent call last)",
      "\u001b[0;32m/Users/baptisteraemy/anaconda3/lib/python3.5/site-packages/pandas/core/ops.py\u001b[0m in \u001b[0;36mna_op\u001b[0;34m(x, y)\u001b[0m\n\u001b[1;32m    784\u001b[0m         \u001b[0;32mtry\u001b[0m\u001b[0;34m:\u001b[0m\u001b[0;34m\u001b[0m\u001b[0m\n\u001b[0;32m--> 785\u001b[0;31m             \u001b[0mresult\u001b[0m \u001b[0;34m=\u001b[0m \u001b[0mop\u001b[0m\u001b[0;34m(\u001b[0m\u001b[0mx\u001b[0m\u001b[0;34m,\u001b[0m \u001b[0my\u001b[0m\u001b[0;34m)\u001b[0m\u001b[0;34m\u001b[0m\u001b[0m\n\u001b[0m\u001b[1;32m    786\u001b[0m         \u001b[0;32mexcept\u001b[0m \u001b[0mTypeError\u001b[0m\u001b[0;34m:\u001b[0m\u001b[0;34m\u001b[0m\u001b[0m\n",
      "\u001b[0;32m/Users/baptisteraemy/anaconda3/lib/python3.5/site-packages/pandas/core/ops.py\u001b[0m in \u001b[0;36m<lambda>\u001b[0;34m(x, y)\u001b[0m\n\u001b[1;32m    118\u001b[0m                  \u001b[0mxor\u001b[0m\u001b[0;34m=\u001b[0m\u001b[0mbool_method\u001b[0m\u001b[0;34m(\u001b[0m\u001b[0moperator\u001b[0m\u001b[0;34m.\u001b[0m\u001b[0mxor\u001b[0m\u001b[0;34m,\u001b[0m \u001b[0mnames\u001b[0m\u001b[0;34m(\u001b[0m\u001b[0;34m'xor'\u001b[0m\u001b[0;34m)\u001b[0m\u001b[0;34m,\u001b[0m \u001b[0mop\u001b[0m\u001b[0;34m(\u001b[0m\u001b[0;34m'^'\u001b[0m\u001b[0;34m)\u001b[0m\u001b[0;34m)\u001b[0m\u001b[0;34m,\u001b[0m\u001b[0;34m\u001b[0m\u001b[0m\n\u001b[0;32m--> 119\u001b[0;31m                  rand_=bool_method(lambda x, y: operator.and_(y, x),\n\u001b[0m\u001b[1;32m    120\u001b[0m                                    names('rand_'), op('&')),\n",
      "\u001b[0;31mTypeError\u001b[0m: unsupported operand type(s) for &: 'str' and 'str'",
      "\nDuring handling of the above exception, another exception occurred:\n",
      "\u001b[0;31mTypeError\u001b[0m                                 Traceback (most recent call last)",
      "\u001b[0;32m/Users/baptisteraemy/anaconda3/lib/python3.5/site-packages/pandas/core/ops.py\u001b[0m in \u001b[0;36mna_op\u001b[0;34m(x, y)\u001b[0m\n\u001b[1;32m    802\u001b[0m                         \u001b[0my\u001b[0m \u001b[0;34m=\u001b[0m \u001b[0mbool\u001b[0m\u001b[0;34m(\u001b[0m\u001b[0my\u001b[0m\u001b[0;34m)\u001b[0m\u001b[0;34m\u001b[0m\u001b[0m\n\u001b[0;32m--> 803\u001b[0;31m                     \u001b[0mresult\u001b[0m \u001b[0;34m=\u001b[0m \u001b[0mlib\u001b[0m\u001b[0;34m.\u001b[0m\u001b[0mscalar_binop\u001b[0m\u001b[0;34m(\u001b[0m\u001b[0mx\u001b[0m\u001b[0;34m,\u001b[0m \u001b[0my\u001b[0m\u001b[0;34m,\u001b[0m \u001b[0mop\u001b[0m\u001b[0;34m)\u001b[0m\u001b[0;34m\u001b[0m\u001b[0m\n\u001b[0m\u001b[1;32m    804\u001b[0m                 \u001b[0;32mexcept\u001b[0m\u001b[0;34m:\u001b[0m\u001b[0;34m\u001b[0m\u001b[0m\n",
      "\u001b[0;32mpandas/lib.pyx\u001b[0m in \u001b[0;36mpandas.lib.scalar_binop (pandas/lib.c:15744)\u001b[0;34m()\u001b[0m\n",
      "\u001b[0;32m/Users/baptisteraemy/anaconda3/lib/python3.5/site-packages/pandas/core/ops.py\u001b[0m in \u001b[0;36m<lambda>\u001b[0;34m(x, y)\u001b[0m\n\u001b[1;32m    118\u001b[0m                  \u001b[0mxor\u001b[0m\u001b[0;34m=\u001b[0m\u001b[0mbool_method\u001b[0m\u001b[0;34m(\u001b[0m\u001b[0moperator\u001b[0m\u001b[0;34m.\u001b[0m\u001b[0mxor\u001b[0m\u001b[0;34m,\u001b[0m \u001b[0mnames\u001b[0m\u001b[0;34m(\u001b[0m\u001b[0;34m'xor'\u001b[0m\u001b[0;34m)\u001b[0m\u001b[0;34m,\u001b[0m \u001b[0mop\u001b[0m\u001b[0;34m(\u001b[0m\u001b[0;34m'^'\u001b[0m\u001b[0;34m)\u001b[0m\u001b[0;34m)\u001b[0m\u001b[0;34m,\u001b[0m\u001b[0;34m\u001b[0m\u001b[0m\n\u001b[0;32m--> 119\u001b[0;31m                  rand_=bool_method(lambda x, y: operator.and_(y, x),\n\u001b[0m\u001b[1;32m    120\u001b[0m                                    names('rand_'), op('&')),\n",
      "\u001b[0;31mTypeError\u001b[0m: unsupported operand type(s) for &: 'bool' and 'str'",
      "\nDuring handling of the above exception, another exception occurred:\n",
      "\u001b[0;31mTypeError\u001b[0m                                 Traceback (most recent call last)",
      "\u001b[0;32m<ipython-input-113-adedec748e7f>\u001b[0m in \u001b[0;36m<module>\u001b[0;34m()\u001b[0m\n\u001b[0;32m----> 1\u001b[0;31m \u001b[0mdf\u001b[0m \u001b[0;34m=\u001b[0m \u001b[0mno_master_1\u001b[0m\u001b[0;34m[\u001b[0m\u001b[0mno_master_1\u001b[0m\u001b[0;34m.\u001b[0m\u001b[0mperiode_acad\u001b[0m \u001b[0;34m!=\u001b[0m \u001b[0;34m'2007-2008'\u001b[0m \u001b[0;34m&\u001b[0m \u001b[0mno_master_1\u001b[0m\u001b[0;34m.\u001b[0m\u001b[0mperiode_acad\u001b[0m \u001b[0;34m!=\u001b[0m \u001b[0;34m'2008-2009'\u001b[0m\u001b[0;34m]\u001b[0m\u001b[0;34m\u001b[0m\u001b[0m\n\u001b[0m\u001b[1;32m      2\u001b[0m \u001b[0mdf\u001b[0m\u001b[0;34m\u001b[0m\u001b[0m\n",
      "\u001b[0;32m/Users/baptisteraemy/anaconda3/lib/python3.5/site-packages/pandas/core/ops.py\u001b[0m in \u001b[0;36mwrapper\u001b[0;34m(self, other)\u001b[0m\n\u001b[1;32m    834\u001b[0m                       is_integer_dtype(np.asarray(other)) else fill_bool)\n\u001b[1;32m    835\u001b[0m             return filler(self._constructor(\n\u001b[0;32m--> 836\u001b[0;31m                 \u001b[0mna_op\u001b[0m\u001b[0;34m(\u001b[0m\u001b[0mself\u001b[0m\u001b[0;34m.\u001b[0m\u001b[0mvalues\u001b[0m\u001b[0;34m,\u001b[0m \u001b[0mother\u001b[0m\u001b[0;34m)\u001b[0m\u001b[0;34m,\u001b[0m\u001b[0;34m\u001b[0m\u001b[0m\n\u001b[0m\u001b[1;32m    837\u001b[0m                 index=self.index)).__finalize__(self)\n\u001b[1;32m    838\u001b[0m \u001b[0;34m\u001b[0m\u001b[0m\n",
      "\u001b[0;32m/Users/baptisteraemy/anaconda3/lib/python3.5/site-packages/pandas/core/ops.py\u001b[0m in \u001b[0;36mna_op\u001b[0;34m(x, y)\u001b[0m\n\u001b[1;32m    805\u001b[0m                     raise TypeError(\"cannot compare a dtyped [{0}] array with \"\n\u001b[1;32m    806\u001b[0m                                     \"a scalar of type [{1}]\".format(\n\u001b[0;32m--> 807\u001b[0;31m                                         x.dtype, type(y).__name__))\n\u001b[0m\u001b[1;32m    808\u001b[0m \u001b[0;34m\u001b[0m\u001b[0m\n\u001b[1;32m    809\u001b[0m         \u001b[0;32mreturn\u001b[0m \u001b[0mresult\u001b[0m\u001b[0;34m\u001b[0m\u001b[0m\n",
      "\u001b[0;31mTypeError\u001b[0m: cannot compare a dtyped [object] array with a scalar of type [bool]"
     ]
    }
   ],
   "source": [
    "df = no_master_1[no_master_1.periode_acad != '2007-2008' or no_master_1.periode_acad != '2008-2009']\n",
    "df"
   ]
  },
  {
   "cell_type": "code",
   "execution_count": 91,
   "metadata": {
    "collapsed": false
   },
   "outputs": [
    {
     "data": {
      "text/html": [
       "<div>\n",
       "<table border=\"1\" class=\"dataframe\">\n",
       "  <thead>\n",
       "    <tr style=\"text-align: right;\">\n",
       "      <th></th>\n",
       "      <th>Civilité</th>\n",
       "      <th>Nom_Prénom</th>\n",
       "      <th>Orientation_Bachelor</th>\n",
       "      <th>Orientation_Master</th>\n",
       "      <th>Spécialisation</th>\n",
       "      <th>Filière_opt.</th>\n",
       "      <th>Mineur</th>\n",
       "      <th>Statut</th>\n",
       "      <th>Type_Echange</th>\n",
       "      <th>Ecole_Echange</th>\n",
       "      <th>No_Sciper</th>\n",
       "      <th>title</th>\n",
       "      <th>periode_acad</th>\n",
       "      <th>periode_pedago</th>\n",
       "    </tr>\n",
       "  </thead>\n",
       "  <tbody>\n",
       "    <tr>\n",
       "      <th>10</th>\n",
       "      <td>Monsieur</td>\n",
       "      <td>Beaud Sylvain</td>\n",
       "      <td>NaN</td>\n",
       "      <td>NaN</td>\n",
       "      <td>NaN</td>\n",
       "      <td>NaN</td>\n",
       "      <td>NaN</td>\n",
       "      <td>Présent</td>\n",
       "      <td>NaN</td>\n",
       "      <td>NaN</td>\n",
       "      <td>227400</td>\n",
       "      <td>Informatique, 2012-2013, Bachelor semestre 2</td>\n",
       "      <td>2012-2013</td>\n",
       "      <td>Bachelor semestre 2</td>\n",
       "    </tr>\n",
       "    <tr>\n",
       "      <th>14</th>\n",
       "      <td>Monsieur</td>\n",
       "      <td>Beaud Sylvain</td>\n",
       "      <td>NaN</td>\n",
       "      <td>NaN</td>\n",
       "      <td>NaN</td>\n",
       "      <td>NaN</td>\n",
       "      <td>NaN</td>\n",
       "      <td>Présent</td>\n",
       "      <td>NaN</td>\n",
       "      <td>NaN</td>\n",
       "      <td>227400</td>\n",
       "      <td>Informatique, 2012-2013, Bachelor semestre 1</td>\n",
       "      <td>2012-2013</td>\n",
       "      <td>Bachelor semestre 1</td>\n",
       "    </tr>\n",
       "  </tbody>\n",
       "</table>\n",
       "</div>"
      ],
      "text/plain": [
       "    Civilité     Nom_Prénom  Orientation_Bachelor  Orientation_Master  \\\n",
       "10  Monsieur  Beaud Sylvain                   NaN                 NaN   \n",
       "14  Monsieur  Beaud Sylvain                   NaN                 NaN   \n",
       "\n",
       "   Spécialisation Filière_opt. Mineur   Statut Type_Echange Ecole_Echange  \\\n",
       "10            NaN          NaN    NaN  Présent          NaN           NaN   \n",
       "14            NaN          NaN    NaN  Présent          NaN           NaN   \n",
       "\n",
       "    No_Sciper                                         title periode_acad  \\\n",
       "10     227400  Informatique, 2012-2013, Bachelor semestre 2    2012-2013   \n",
       "14     227400  Informatique, 2012-2013, Bachelor semestre 1    2012-2013   \n",
       "\n",
       "         periode_pedago  \n",
       "10  Bachelor semestre 2  \n",
       "14  Bachelor semestre 1  "
      ]
     },
     "execution_count": 91,
     "metadata": {},
     "output_type": "execute_result"
    }
   ],
   "source": [
    "all_data[all_data.Nom_Prénom == 'Beaud Sylvain']"
   ]
  },
  {
   "cell_type": "code",
   "execution_count": null,
   "metadata": {
    "collapsed": true
   },
   "outputs": [],
   "source": []
  }
 ],
 "metadata": {
  "anaconda-cloud": {},
  "kernelspec": {
   "display_name": "Python [default]",
   "language": "python",
   "name": "python3"
  },
  "language_info": {
   "codemirror_mode": {
    "name": "ipython",
    "version": 3
   },
   "file_extension": ".py",
   "mimetype": "text/x-python",
   "name": "python",
   "nbconvert_exporter": "python",
   "pygments_lexer": "ipython3",
   "version": "3.5.2"
  }
 },
 "nbformat": 4,
 "nbformat_minor": 1
}
