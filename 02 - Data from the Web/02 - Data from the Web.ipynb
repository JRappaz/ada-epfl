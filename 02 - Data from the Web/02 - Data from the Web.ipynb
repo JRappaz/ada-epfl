{
 "cells": [
  {
   "cell_type": "code",
   "execution_count": null,
   "metadata": {
    "collapsed": false
   },
   "outputs": [],
   "source": [
    "import pandas as pd\n",
    "import numpy as np\n",
    "import requests as requests\n",
    "from bs4 import BeautifulSoup\n",
    "import re\n",
    "import matplotlib.pyplot as plt\n",
    "%matplotlib inline\n",
    "\n",
    "pd.options.mode.chained_assignment = None  # default='warn'"
   ]
  },
  {
   "cell_type": "code",
   "execution_count": null,
   "metadata": {
    "collapsed": false
   },
   "outputs": [],
   "source": [
    "r = requests.get('http://isa.epfl.ch/imoniteur_ISAP/!GEDPUBLICREPORTS.filter?ww_i_reportModel=133685247')\n",
    "soupe = BeautifulSoup(r.text, 'html.parser')\n",
    "\n"
   ]
  },
  {
   "cell_type": "markdown",
   "metadata": {},
   "source": [
    "# Collect the data\n",
    "## Get the name of the 4 fields we have to select"
   ]
  },
  {
   "cell_type": "code",
   "execution_count": null,
   "metadata": {
    "collapsed": false
   },
   "outputs": [],
   "source": [
    "select = soupe.find_all('select')\n",
    "select_name = [s.attrs['name'] for s in select]\n",
    "select_name\n"
   ]
  },
  {
   "cell_type": "markdown",
   "metadata": {},
   "source": [
    "## Get the select field correspondind to the 4 names found before"
   ]
  },
  {
   "cell_type": "code",
   "execution_count": null,
   "metadata": {
    "collapsed": false
   },
   "outputs": [],
   "source": [
    "select_field = [soupe.find('select',{'name': name}) for name in select_name]\n"
   ]
  },
  {
   "cell_type": "markdown",
   "metadata": {},
   "source": [
    "## Get the value corresponding to the \"Informatique\""
   ]
  },
  {
   "cell_type": "code",
   "execution_count": null,
   "metadata": {
    "collapsed": false
   },
   "outputs": [],
   "source": [
    "option_unite_acad = select_field[0].find_all('option')\n",
    "#option_unite_acad[[opt.text == 'Informatique' for opt in option_unite_acad]]\n",
    "option_unite_acad\n",
    "unite_acad ={opt['value']: opt.text for opt in option_unite_acad if opt.text == 'Informatique'}\n",
    " \n",
    "unite_acad       "
   ]
  },
  {
   "cell_type": "markdown",
   "metadata": {},
   "source": [
    "## Get all the values of the academic period field\n",
    "In the second select_Field, in the option tag, we take all value execept the one equal to null\n",
    "\n",
    "We only keep the period that are bigger than 2007 (in case there were older periods)"
   ]
  },
  {
   "cell_type": "code",
   "execution_count": null,
   "metadata": {
    "collapsed": false
   },
   "outputs": [],
   "source": [
    "select_field[1].find_all('option')\n",
    "period_acad = {opt['value']: opt.text for opt in select_field[1].find_all('option') if opt['value'] != 'null' and int(opt.text.split('-')[0]) >= 2007}\n",
    "period_acad"
   ]
  },
  {
   "cell_type": "markdown",
   "metadata": {},
   "source": [
    "## Get all the values of the pedagogic period field correspoding to the bachelor semester\n",
    "\n",
    "in the 3rd select_field, we take all value that contains 'Bachelor' in the label\n",
    "\n",
    "Since we need to find the first and last record of a student, we only consider the 1st, 5th and 6th semester. \n",
    "\n",
    "It is not possible to finish his bachelor during the 2, 3 or 4 semester but it is possible to finish during the 5th semester if we miss some credits during our last year and we only need one semester to finish\n"
   ]
  },
  {
   "cell_type": "code",
   "execution_count": null,
   "metadata": {
    "collapsed": false
   },
   "outputs": [],
   "source": [
    "option = select_field[2].find_all('option')\n",
    "\n",
    "period_pedago = {opt['value']: opt.text for opt in option if 'Bachelor' in opt.text and ('1' in opt.text or '5' in opt.text or '6' in opt.text) }\n",
    "period_pedago"
   ]
  },
  {
   "cell_type": "code",
   "execution_count": null,
   "metadata": {
    "collapsed": false
   },
   "outputs": [],
   "source": [
    "option = select_field[3].find_all('option')\n",
    "hiverEte = {opt['value']: opt.text for opt in option if opt['value'] != 'null'}\n",
    "hiverEte"
   ]
  },
  {
   "cell_type": "markdown",
   "metadata": {},
   "source": [
    "## Collect the data"
   ]
  },
  {
   "cell_type": "markdown",
   "metadata": {},
   "source": [
    "Create a function that will parse one request and return a dataFrame"
   ]
  },
  {
   "cell_type": "code",
   "execution_count": null,
   "metadata": {
    "collapsed": false
   },
   "outputs": [],
   "source": [
    "def parseRequest(u_a, p_a, p_p, h_e):\n",
    "\n",
    "    #Send request\n",
    "    url = 'http://isa.epfl.ch/imoniteur_ISAP/!GEDPUBLICREPORTS.html?ww_x_GPS=-1&ww_i_reportModel=133685247&ww_i_reportModelXsl=133685270&ww_x_UNITE_ACAD='+u_a[0]+'&ww_x_PERIODE_ACAD='+p_a[0]+'&ww_x_PERIODE_PEDAGO='+p_p[0]+'&ww_x_HIVERETE='+ h_e\n",
    "    r = requests.get(url)\n",
    "    soupe = BeautifulSoup(r.text, 'html.parser')\n",
    "    \n",
    "    #get the header , we also replace the space by '_' (easier to use the dataframe later)  \n",
    "    th_tag = soupe.find_all('th')\n",
    "    th = [t.text.replace(' ', '_') for t in th_tag]\n",
    "    #remove the first th that correspond to the title of the table\n",
    "    th = th[1:]\n",
    "\n",
    "    \n",
    "    #save the size of the header\n",
    "    header_size = len(th)\n",
    "    #add new information (new columns): year_start, year_stop, semester number\n",
    "    th = np.append(th, ['Year_start', 'Year_stop', 'Semester'])\n",
    "    \n",
    "    #Find all the 'tr' tag\n",
    "    tr_tag = soupe.find_all('tr')\n",
    "    #drop the 2 first tag that correspond to the title and the headers of the table\n",
    "    tr_tag = tr_tag[2:]\n",
    "    \n",
    "    #Temporary dictionary that will collect all the entry of the dataframe\n",
    "    data = []\n",
    "    \n",
    "    #Read the request line by line and fill the dataframe\n",
    "    for tr in tr_tag:\n",
    "        #create the new entry\n",
    "        row = [r.text.replace('\\xa0', ' ')  for r in tr]\n",
    "        #one row contains 12 elements but the header has only 11-> drop the last one because it is always empty\n",
    "        row = row[:header_size]\n",
    "\n",
    "        ##add the  new information to the row\n",
    "        #split the academic period\n",
    "        year = p_a[1].split('-')\n",
    "        #find the semester\n",
    "        semester = p_p[1].split()[2]\n",
    "        newCol = [int(year[0]), int(year[1]), semester]\n",
    "\n",
    "        #concat the row with the new info\n",
    "        row += newCol\n",
    "        data.append(row)\n",
    "\n",
    "    df = pd.DataFrame(data, columns= th)\n",
    "    return df"
   ]
  },
  {
   "cell_type": "markdown",
   "metadata": {},
   "source": [
    "We iterate over all the parameters. We decided to skip the 'Type de semestre' (HIVERETE) since it is a redundant information. An odd semester is always in Autumn and an even one is always in Spring"
   ]
  },
  {
   "cell_type": "code",
   "execution_count": null,
   "metadata": {
    "collapsed": false,
    "scrolled": true
   },
   "outputs": [],
   "source": [
    "\n",
    "\n",
    "list_df = []\n",
    "\n",
    "for u_a in unite_acad.items():\n",
    "    for p_a in period_acad.items():\n",
    "        for p_p in period_pedago.items():\n",
    "                print('Request for: ',u_a[1], p_a[1],  p_p[1])\n",
    "                list_df.append(parseRequest(u_a,p_a, p_p, 'null'))\n",
    "\n",
    "\n",
    "Student = pd.concat(list_df, ignore_index=True)\n",
    "Student                \n"
   ]
  },
  {
   "cell_type": "markdown",
   "metadata": {
    "collapsed": false
   },
   "source": [
    "# How many months it took each student to go from the first to the sixth semester\n",
    "\n",
    "As said before, here we check student that are in semester 1 (beginning) and semester 6 or 5 (in case they did the bachelor in 3.5 or 4.5 year)"
   ]
  },
  {
   "cell_type": "code",
   "execution_count": null,
   "metadata": {
    "collapsed": false
   },
   "outputs": [],
   "source": [
    "Student.index = Student.No_Sciper+ Student.Semester.astype(str) + Student.Year_start.astype(str)\n",
    "Student.index.is_unique"
   ]
  },
  {
   "cell_type": "markdown",
   "metadata": {},
   "source": [
    "Show total number of student that made at least one semester"
   ]
  },
  {
   "cell_type": "code",
   "execution_count": null,
   "metadata": {
    "collapsed": false
   },
   "outputs": [],
   "source": [
    "len(Student.No_Sciper.unique())"
   ]
  },
  {
   "cell_type": "markdown",
   "metadata": {},
   "source": [
    "## Eliminate student who don't finished their studies\n",
    "We group by sciper number (which we now is unique for each student). It return a sciper with a dataframe containing all the entries for one student\n",
    "\n",
    "\n",
    "We keep people that appear in semester 1, 5 and 6. => those are the people that graduated in informatique\n",
    "\n",
    "We drop all other people because:\n",
    "   * if they don't appear in smester 6 it means they never finished the Bachelor\n",
    "   * if they appear only in semester 5 and 6 it means that they begin in another section (usually in communication system), but we cann't now when they begin epfl without loading the data for all sections\n",
    "   \n",
    "But just to have an idea, we keep the person who only take part to semester 5 and 6, just to see the proportion   \n"
   ]
  },
  {
   "cell_type": "code",
   "execution_count": null,
   "metadata": {
    "collapsed": true
   },
   "outputs": [],
   "source": [
    "def computeTotalYears(df):\n",
    "    start = group.Year_start.min()\n",
    "    end = group.Year_stop.max()\n",
    "    end_semester = df[df.Year_stop == end].Semester\n",
    "    if(end_semester.any() == '6'):\n",
    "        return (int(end) - int(start)) \n",
    "    else: \n",
    "        return (int(end) - int(start) -0.5)\n",
    "    "
   ]
  },
  {
   "cell_type": "code",
   "execution_count": null,
   "metadata": {
    "collapsed": false
   },
   "outputs": [],
   "source": [
    "Student_copy = Student.copy()\n",
    "Student_copy.index = Student.index\n",
    "\n",
    "\n",
    "#We init the dataframe\n",
    "#store people that complete the 3 years in informatique\n",
    "Bachelor = pd.DataFrame(columns = ['Sciper', 'Civilité', 'Years'])\n",
    "#store people that complet only the 2 last years\n",
    "Only_5_6 = pd.DataFrame(columns = ['Sciper', 'Civilité', 'Years'])\n",
    "\n",
    "#Groupe by sciper\n",
    "grouped = Student_copy.groupby(['No_Sciper'])\n",
    "\n",
    "\n",
    "\n",
    "for scip, group in grouped:\n",
    "    if((group.Semester != '1').all() and (group.Semester == '5').any() and (group.Semester == '6').any()): \n",
    "        total = computeTotalYears(group)\n",
    "        Only_5_6.ix[scip] = [scip,group.Civilité.iloc[0] , total  ]\n",
    "    elif((group.Semester == '1').any() and (group.Semester == '5').any() and (group.Semester == '6').any()):\n",
    "        total = computeTotalYears(group)\n",
    "        Bachelor.ix[scip] = [scip,group.Civilité.iloc[0] , total ]     \n",
    "\n",
    "        \n",
    "            \n",
    "    "
   ]
  },
  {
   "cell_type": "code",
   "execution_count": null,
   "metadata": {
    "collapsed": true
   },
   "outputs": [],
   "source": []
  },
  {
   "cell_type": "code",
   "execution_count": null,
   "metadata": {
    "collapsed": false
   },
   "outputs": [],
   "source": [
    "Bachelor.head()"
   ]
  },
  {
   "cell_type": "markdown",
   "metadata": {},
   "source": [
    "Person that didn't complete the first year in compute Science, we don't consider them since we can't know when they begin their first year"
   ]
  },
  {
   "cell_type": "code",
   "execution_count": null,
   "metadata": {
    "collapsed": false
   },
   "outputs": [],
   "source": [
    "Only_5_6.count()"
   ]
  },
  {
   "cell_type": "markdown",
   "metadata": {},
   "source": [
    "Nomber of person that complete the bachelor in computer science"
   ]
  },
  {
   "cell_type": "code",
   "execution_count": null,
   "metadata": {
    "collapsed": false
   },
   "outputs": [],
   "source": [
    "Bachelor.count()"
   ]
  },
  {
   "cell_type": "markdown",
   "metadata": {},
   "source": [
    "Number of person that tried at least the first years or last one"
   ]
  },
  {
   "cell_type": "code",
   "execution_count": null,
   "metadata": {
    "collapsed": false
   },
   "outputs": [],
   "source": [
    "len(grouped)"
   ]
  },
  {
   "cell_type": "markdown",
   "metadata": {},
   "source": [
    "Person that tried the first year but never finished the bachelor"
   ]
  },
  {
   "cell_type": "code",
   "execution_count": null,
   "metadata": {
    "collapsed": false
   },
   "outputs": [],
   "source": [
    "len(grouped) - len(Bachelor) - len(Only_5_6)"
   ]
  },
  {
   "cell_type": "markdown",
   "metadata": {},
   "source": [
    "## Compute the average time (in years) to  complete the bachelor\n",
    "we choose to ouptut the result in years since it is more significant for human than month. To have the number of months we just need to multiply by 12"
   ]
  },
  {
   "cell_type": "markdown",
   "metadata": {},
   "source": [
    "In total"
   ]
  },
  {
   "cell_type": "code",
   "execution_count": null,
   "metadata": {
    "collapsed": false
   },
   "outputs": [],
   "source": [
    "len(Bachelor)"
   ]
  },
  {
   "cell_type": "code",
   "execution_count": null,
   "metadata": {
    "collapsed": false
   },
   "outputs": [],
   "source": [
    "average = Bachelor.Years.sum()/len(Bachelor)\n",
    "average"
   ]
  },
  {
   "cell_type": "code",
   "execution_count": null,
   "metadata": {
    "collapsed": false
   },
   "outputs": [],
   "source": [
    "Bachelor.Years.max()"
   ]
  },
  {
   "cell_type": "code",
   "execution_count": null,
   "metadata": {
    "collapsed": false
   },
   "outputs": [],
   "source": [
    "Bachelor.Years.min()"
   ]
  },
  {
   "cell_type": "code",
   "execution_count": null,
   "metadata": {
    "collapsed": false
   },
   "outputs": [],
   "source": [
    "Bachelor.Years.hist(bins = 10, range=[3, 8])"
   ]
  },
  {
   "cell_type": "markdown",
   "metadata": {},
   "source": [
    "### Female"
   ]
  },
  {
   "cell_type": "code",
   "execution_count": null,
   "metadata": {
    "collapsed": false
   },
   "outputs": [],
   "source": [
    "Female = Bachelor[Bachelor.Civilité == 'Madame']\n",
    "len(Female)"
   ]
  },
  {
   "cell_type": "code",
   "execution_count": null,
   "metadata": {
    "collapsed": false
   },
   "outputs": [],
   "source": [
    "averageFemale = Female.Years.sum()/len(Female)\n",
    "averageFemale"
   ]
  },
  {
   "cell_type": "code",
   "execution_count": null,
   "metadata": {
    "collapsed": false
   },
   "outputs": [],
   "source": [
    "Female.Years.hist(bins = 10, range=[3, 8])\n"
   ]
  },
  {
   "cell_type": "markdown",
   "metadata": {},
   "source": [
    "### Male"
   ]
  },
  {
   "cell_type": "code",
   "execution_count": null,
   "metadata": {
    "collapsed": false
   },
   "outputs": [],
   "source": [
    "Male = Bachelor[Bachelor.Civilité == 'Monsieur']\n",
    "len(Male)"
   ]
  },
  {
   "cell_type": "code",
   "execution_count": null,
   "metadata": {
    "collapsed": false
   },
   "outputs": [],
   "source": [
    "average = Male.Years.sum()/len(Male)\n",
    "average\n"
   ]
  },
  {
   "cell_type": "code",
   "execution_count": null,
   "metadata": {
    "collapsed": false
   },
   "outputs": [],
   "source": [
    "Male.Years.hist(bins = 10, range=[3, 8])"
   ]
  },
  {
   "cell_type": "code",
   "execution_count": null,
   "metadata": {
    "collapsed": true
   },
   "outputs": [],
   "source": []
  },
  {
   "cell_type": "code",
   "execution_count": null,
   "metadata": {
    "collapsed": true
   },
   "outputs": [],
   "source": []
  }
 ],
 "metadata": {
  "anaconda-cloud": {},
  "kernelspec": {
   "display_name": "Python [default]",
   "language": "python",
   "name": "python3"
  },
  "language_info": {
   "codemirror_mode": {
    "name": "ipython",
    "version": 3
   },
   "file_extension": ".py",
   "mimetype": "text/x-python",
   "name": "python",
   "nbconvert_exporter": "python",
   "pygments_lexer": "ipython3",
   "version": "3.5.2"
  }
 },
 "nbformat": 4,
 "nbformat_minor": 1
}
