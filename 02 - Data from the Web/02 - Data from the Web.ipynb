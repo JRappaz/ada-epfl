{
 "cells": [
  {
   "cell_type": "code",
   "execution_count": 1,
   "metadata": {
    "collapsed": false
   },
   "outputs": [],
   "source": [
    "import pandas as pd\n",
    "import numpy as np\n",
    "import requests as requests\n",
    "from bs4 import BeautifulSoup\n",
    "import re\n",
    "import matplotlib.pyplot as plt\n",
    "%matplotlib inline\n",
    "\n",
    "pd.options.mode.chained_assignment = None  # default='warn'"
   ]
  },
  {
   "cell_type": "code",
   "execution_count": 2,
   "metadata": {
    "collapsed": false
   },
   "outputs": [],
   "source": [
    "r = requests.get('http://isa.epfl.ch/imoniteur_ISAP/!GEDPUBLICREPORTS.filter?ww_i_reportModel=133685247')\n",
    "soupe = BeautifulSoup(r.text, 'html.parser')\n",
    "\n"
   ]
  },
  {
   "cell_type": "markdown",
   "metadata": {},
   "source": [
    "# Collect the data\n",
    "## Get the name of the 4 fields we have to select"
   ]
  },
  {
   "cell_type": "code",
   "execution_count": 3,
   "metadata": {
    "collapsed": false
   },
   "outputs": [
    {
     "data": {
      "text/plain": [
       "['ww_x_UNITE_ACAD',\n",
       " 'ww_x_PERIODE_ACAD',\n",
       " 'ww_x_PERIODE_PEDAGO',\n",
       " 'ww_x_HIVERETE']"
      ]
     },
     "execution_count": 3,
     "metadata": {},
     "output_type": "execute_result"
    }
   ],
   "source": [
    "select = soupe.find_all('select')\n",
    "select_name = [s.attrs['name'] for s in select]\n",
    "select_name\n"
   ]
  },
  {
   "cell_type": "markdown",
   "metadata": {},
   "source": [
    "## Get the select field correspondind to the 4 names found before"
   ]
  },
  {
   "cell_type": "code",
   "execution_count": 4,
   "metadata": {
    "collapsed": false
   },
   "outputs": [],
   "source": [
    "select_field = [soupe.find('select',{'name': name}) for name in select_name]\n"
   ]
  },
  {
   "cell_type": "markdown",
   "metadata": {},
   "source": [
    "## Get the value corresponding to the \"Informatique\""
   ]
  },
  {
   "cell_type": "code",
   "execution_count": 5,
   "metadata": {
    "collapsed": false
   },
   "outputs": [
    {
     "data": {
      "text/plain": [
       "{'249847': 'Informatique'}"
      ]
     },
     "execution_count": 5,
     "metadata": {},
     "output_type": "execute_result"
    }
   ],
   "source": [
    "option_unite_acad = select_field[0].find_all('option')\n",
    "#option_unite_acad[[opt.text == 'Informatique' for opt in option_unite_acad]]\n",
    "option_unite_acad\n",
    "unite_acad ={opt['value']: opt.text for opt in option_unite_acad if opt.text == 'Informatique'}\n",
    " \n",
    "unite_acad       "
   ]
  },
  {
   "cell_type": "markdown",
   "metadata": {},
   "source": [
    "## Get all the values of the academic period field\n",
    "In the second select_Field, in the option tag, we take all value execept the one equal to null\n",
    "\n",
    "We only keep the period that are bigger than 2007 (in case there were older periods)"
   ]
  },
  {
   "cell_type": "code",
   "execution_count": 6,
   "metadata": {
    "collapsed": false
   },
   "outputs": [
    {
     "data": {
      "text/plain": [
       "{'123455150': '2011-2012',\n",
       " '123456101': '2012-2013',\n",
       " '213637754': '2013-2014',\n",
       " '213637922': '2014-2015',\n",
       " '213638028': '2015-2016',\n",
       " '355925344': '2016-2017',\n",
       " '39486325': '2010-2011',\n",
       " '978181': '2007-2008',\n",
       " '978187': '2008-2009',\n",
       " '978195': '2009-2010'}"
      ]
     },
     "execution_count": 6,
     "metadata": {},
     "output_type": "execute_result"
    }
   ],
   "source": [
    "option = select_field[1].find_all('option')\n",
    "period_acad = {opt['value']: opt.text for opt in option if opt['value'] != 'null' and int(opt.text.split('-')[0]) >= 2007}\n",
    "period_acad"
   ]
  },
  {
   "cell_type": "markdown",
   "metadata": {},
   "source": [
    "## Get all the values of the pedagogic period field correspoding to the bachelor semester\n",
    "\n",
    "in the 3rd select_field, we take all value that contains 'Bachelor' in the label\n",
    "\n",
    "Since we need to find the first and last record of a student, we only consider the 1st, 5th and 6th semester. \n",
    "\n",
    "It is not possible to finish his bachelor during the 2, 3 or 4 semester but it is possible to finish during the 5th semester if we miss some credits during our last year and we only need one semester to finish\n"
   ]
  },
  {
   "cell_type": "code",
   "execution_count": 7,
   "metadata": {
    "collapsed": false
   },
   "outputs": [
    {
     "data": {
      "text/plain": [
       "{'2226768': 'Bachelor semestre 5b',\n",
       " '2226785': 'Bachelor semestre 6b',\n",
       " '249108': 'Bachelor semestre 1',\n",
       " '942120': 'Bachelor semestre 5',\n",
       " '942175': 'Bachelor semestre 6'}"
      ]
     },
     "execution_count": 7,
     "metadata": {},
     "output_type": "execute_result"
    }
   ],
   "source": [
    "option = select_field[2].find_all('option')\n",
    "\n",
    "period_pedago = {opt['value']: opt.text for opt in option if 'Bachelor' in opt.text and ('1' in opt.text or '5' in opt.text or '6' in opt.text) }\n",
    "period_pedago"
   ]
  },
  {
   "cell_type": "code",
   "execution_count": 8,
   "metadata": {
    "collapsed": false
   },
   "outputs": [
    {
     "data": {
      "text/plain": [
       "{'2936286': \"Semestre d'automne\", '2936295': 'Semestre de printemps'}"
      ]
     },
     "execution_count": 8,
     "metadata": {},
     "output_type": "execute_result"
    }
   ],
   "source": [
    "option = select_field[3].find_all('option')\n",
    "hiverEte = {opt['value']: opt.text for opt in option if opt['value'] != 'null'}\n",
    "hiverEte"
   ]
  },
  {
   "cell_type": "markdown",
   "metadata": {},
   "source": [
    "## Collect the data"
   ]
  },
  {
   "cell_type": "markdown",
   "metadata": {},
   "source": [
    "Create a function that will parse one request and return a dataFrame"
   ]
  },
  {
   "cell_type": "code",
   "execution_count": 9,
   "metadata": {
    "collapsed": false
   },
   "outputs": [],
   "source": [
    "def parseRequest(u_a, p_a, p_p, h_e):\n",
    "\n",
    "    #Send request\n",
    "    url = 'http://isa.epfl.ch/imoniteur_ISAP/!GEDPUBLICREPORTS.html?ww_x_GPS=-1&ww_i_reportModel=133685247&ww_i_reportModelXsl=133685270&ww_x_UNITE_ACAD='+u_a[0]+'&ww_x_PERIODE_ACAD='+p_a[0]+'&ww_x_PERIODE_PEDAGO='+p_p[0]+'&ww_x_HIVERETE='+ h_e\n",
    "    r = requests.get(url)\n",
    "    soupe = BeautifulSoup(r.text, 'html.parser')\n",
    "    \n",
    "    #get the header , we also replace the space by '_' (easier to use the dataframe later)  \n",
    "    th_tag = soupe.find_all('th')\n",
    "    th = [t.text.replace(' ', '_') for t in th_tag]\n",
    "    #remove the first th that correspond to the title of the table\n",
    "    th = th[1:]\n",
    "\n",
    "    \n",
    "    #save the size of the header\n",
    "    header_size = len(th)\n",
    "    #add new information (new columns): year_start, year_stop, semester number\n",
    "    th = np.append(th, ['Year_start', 'Year_stop', 'Semester'])\n",
    "    \n",
    "    #Find all the 'tr' tag\n",
    "    tr_tag = soupe.find_all('tr')\n",
    "    #drop the 2 first tag that correspond to the title and the headers of the table\n",
    "    tr_tag = tr_tag[2:]\n",
    "    \n",
    "    #Temporary dictionary that will collect all the entry of the dataframe\n",
    "    data = []\n",
    "    \n",
    "    #Read the request line by line and fill the dataframe\n",
    "    for tr in tr_tag:\n",
    "        #create the new entry\n",
    "        row = [r.text.replace('\\xa0', ' ')  for r in tr]\n",
    "        #one row contains 12 elements but the header has only 11-> drop the last one because it is always empty\n",
    "        row = row[:header_size]\n",
    "\n",
    "        ##add the  new information to the row\n",
    "        #split the academic period\n",
    "        year = p_a[1].split('-')\n",
    "        #find the semester\n",
    "        semester = p_p[1].split()[2]\n",
    "        newCol = [int(year[0]), int(year[1]), semester]\n",
    "\n",
    "        #concat the row with the new info\n",
    "        row += newCol\n",
    "        data.append(row)\n",
    "\n",
    "    df = pd.DataFrame(data, columns= th)\n",
    "    return df"
   ]
  },
  {
   "cell_type": "markdown",
   "metadata": {},
   "source": [
    "We iterate over all the parameters. We decided to skip the 'Type de semestre' (HIVERETE) since it is a redundant information. An odd semester is always in Autumn and an even one is always in Spring"
   ]
  },
  {
   "cell_type": "code",
   "execution_count": 10,
   "metadata": {
    "collapsed": false,
    "scrolled": true
   },
   "outputs": [
    {
     "name": "stdout",
     "output_type": "stream",
     "text": [
      "Request for:  Informatique 2009-2010 Bachelor semestre 1\n",
      "Request for:  Informatique 2009-2010 Bachelor semestre 5\n",
      "Request for:  Informatique 2009-2010 Bachelor semestre 5b\n",
      "Request for:  Informatique 2009-2010 Bachelor semestre 6b\n",
      "Request for:  Informatique 2009-2010 Bachelor semestre 6\n",
      "Request for:  Informatique 2008-2009 Bachelor semestre 1\n",
      "Request for:  Informatique 2008-2009 Bachelor semestre 5\n",
      "Request for:  Informatique 2008-2009 Bachelor semestre 5b\n",
      "Request for:  Informatique 2008-2009 Bachelor semestre 6b\n",
      "Request for:  Informatique 2008-2009 Bachelor semestre 6\n",
      "Request for:  Informatique 2014-2015 Bachelor semestre 1\n",
      "Request for:  Informatique 2014-2015 Bachelor semestre 5\n",
      "Request for:  Informatique 2014-2015 Bachelor semestre 5b\n",
      "Request for:  Informatique 2014-2015 Bachelor semestre 6b\n",
      "Request for:  Informatique 2014-2015 Bachelor semestre 6\n",
      "Request for:  Informatique 2015-2016 Bachelor semestre 1\n",
      "Request for:  Informatique 2015-2016 Bachelor semestre 5\n",
      "Request for:  Informatique 2015-2016 Bachelor semestre 5b\n",
      "Request for:  Informatique 2015-2016 Bachelor semestre 6b\n",
      "Request for:  Informatique 2015-2016 Bachelor semestre 6\n",
      "Request for:  Informatique 2010-2011 Bachelor semestre 1\n",
      "Request for:  Informatique 2010-2011 Bachelor semestre 5\n",
      "Request for:  Informatique 2010-2011 Bachelor semestre 5b\n",
      "Request for:  Informatique 2010-2011 Bachelor semestre 6b\n",
      "Request for:  Informatique 2010-2011 Bachelor semestre 6\n",
      "Request for:  Informatique 2016-2017 Bachelor semestre 1\n",
      "Request for:  Informatique 2016-2017 Bachelor semestre 5\n",
      "Request for:  Informatique 2016-2017 Bachelor semestre 5b\n",
      "Request for:  Informatique 2016-2017 Bachelor semestre 6b\n",
      "Request for:  Informatique 2016-2017 Bachelor semestre 6\n",
      "Request for:  Informatique 2007-2008 Bachelor semestre 1\n",
      "Request for:  Informatique 2007-2008 Bachelor semestre 5\n",
      "Request for:  Informatique 2007-2008 Bachelor semestre 5b\n",
      "Request for:  Informatique 2007-2008 Bachelor semestre 6b\n",
      "Request for:  Informatique 2007-2008 Bachelor semestre 6\n",
      "Request for:  Informatique 2012-2013 Bachelor semestre 1\n",
      "Request for:  Informatique 2012-2013 Bachelor semestre 5\n",
      "Request for:  Informatique 2012-2013 Bachelor semestre 5b\n",
      "Request for:  Informatique 2012-2013 Bachelor semestre 6b\n",
      "Request for:  Informatique 2012-2013 Bachelor semestre 6\n",
      "Request for:  Informatique 2013-2014 Bachelor semestre 1\n",
      "Request for:  Informatique 2013-2014 Bachelor semestre 5\n",
      "Request for:  Informatique 2013-2014 Bachelor semestre 5b\n",
      "Request for:  Informatique 2013-2014 Bachelor semestre 6b\n",
      "Request for:  Informatique 2013-2014 Bachelor semestre 6\n",
      "Request for:  Informatique 2011-2012 Bachelor semestre 1\n",
      "Request for:  Informatique 2011-2012 Bachelor semestre 5\n",
      "Request for:  Informatique 2011-2012 Bachelor semestre 5b\n",
      "Request for:  Informatique 2011-2012 Bachelor semestre 6b\n",
      "Request for:  Informatique 2011-2012 Bachelor semestre 6\n"
     ]
    },
    {
     "data": {
      "text/html": [
       "<div>\n",
       "<table border=\"1\" class=\"dataframe\">\n",
       "  <thead>\n",
       "    <tr style=\"text-align: right;\">\n",
       "      <th></th>\n",
       "      <th>Civilité</th>\n",
       "      <th>Ecole_Echange</th>\n",
       "      <th>Filière_opt.</th>\n",
       "      <th>Mineur</th>\n",
       "      <th>No_Sciper</th>\n",
       "      <th>Nom_Prénom</th>\n",
       "      <th>Orientation_Bachelor</th>\n",
       "      <th>Orientation_Master</th>\n",
       "      <th>Semester</th>\n",
       "      <th>Spécialisation</th>\n",
       "      <th>Statut</th>\n",
       "      <th>Type_Echange</th>\n",
       "      <th>Year_start</th>\n",
       "      <th>Year_stop</th>\n",
       "    </tr>\n",
       "  </thead>\n",
       "  <tbody>\n",
       "    <tr>\n",
       "      <th>0</th>\n",
       "      <td>Monsieur</td>\n",
       "      <td></td>\n",
       "      <td></td>\n",
       "      <td></td>\n",
       "      <td>194197</td>\n",
       "      <td>Abdallah Jad</td>\n",
       "      <td></td>\n",
       "      <td></td>\n",
       "      <td>1</td>\n",
       "      <td></td>\n",
       "      <td>Présent</td>\n",
       "      <td></td>\n",
       "      <td>2009.0</td>\n",
       "      <td>2010.0</td>\n",
       "    </tr>\n",
       "    <tr>\n",
       "      <th>1</th>\n",
       "      <td>Madame</td>\n",
       "      <td></td>\n",
       "      <td></td>\n",
       "      <td></td>\n",
       "      <td>195766</td>\n",
       "      <td>Al Azawi Marwa</td>\n",
       "      <td></td>\n",
       "      <td></td>\n",
       "      <td>1</td>\n",
       "      <td></td>\n",
       "      <td>Présent</td>\n",
       "      <td></td>\n",
       "      <td>2009.0</td>\n",
       "      <td>2010.0</td>\n",
       "    </tr>\n",
       "    <tr>\n",
       "      <th>2</th>\n",
       "      <td>Monsieur</td>\n",
       "      <td></td>\n",
       "      <td></td>\n",
       "      <td></td>\n",
       "      <td>186942</td>\n",
       "      <td>Amrani Ismaïl</td>\n",
       "      <td></td>\n",
       "      <td></td>\n",
       "      <td>1</td>\n",
       "      <td></td>\n",
       "      <td>Présent</td>\n",
       "      <td></td>\n",
       "      <td>2009.0</td>\n",
       "      <td>2010.0</td>\n",
       "    </tr>\n",
       "    <tr>\n",
       "      <th>3</th>\n",
       "      <td>Monsieur</td>\n",
       "      <td></td>\n",
       "      <td></td>\n",
       "      <td></td>\n",
       "      <td>194182</td>\n",
       "      <td>Antognini Marco</td>\n",
       "      <td></td>\n",
       "      <td></td>\n",
       "      <td>1</td>\n",
       "      <td></td>\n",
       "      <td>Présent</td>\n",
       "      <td></td>\n",
       "      <td>2009.0</td>\n",
       "      <td>2010.0</td>\n",
       "    </tr>\n",
       "    <tr>\n",
       "      <th>4</th>\n",
       "      <td>Monsieur</td>\n",
       "      <td></td>\n",
       "      <td></td>\n",
       "      <td></td>\n",
       "      <td>186595</td>\n",
       "      <td>Augsburger Damien</td>\n",
       "      <td></td>\n",
       "      <td></td>\n",
       "      <td>1</td>\n",
       "      <td></td>\n",
       "      <td>Présent</td>\n",
       "      <td></td>\n",
       "      <td>2009.0</td>\n",
       "      <td>2010.0</td>\n",
       "    </tr>\n",
       "    <tr>\n",
       "      <th>5</th>\n",
       "      <td>Madame</td>\n",
       "      <td></td>\n",
       "      <td></td>\n",
       "      <td></td>\n",
       "      <td>192757</td>\n",
       "      <td>Balmau Oana Maria</td>\n",
       "      <td></td>\n",
       "      <td></td>\n",
       "      <td>1</td>\n",
       "      <td></td>\n",
       "      <td>Présent</td>\n",
       "      <td></td>\n",
       "      <td>2009.0</td>\n",
       "      <td>2010.0</td>\n",
       "    </tr>\n",
       "    <tr>\n",
       "      <th>6</th>\n",
       "      <td>Monsieur</td>\n",
       "      <td></td>\n",
       "      <td></td>\n",
       "      <td></td>\n",
       "      <td>189517</td>\n",
       "      <td>Barben Loïc</td>\n",
       "      <td></td>\n",
       "      <td></td>\n",
       "      <td>1</td>\n",
       "      <td></td>\n",
       "      <td>Présent</td>\n",
       "      <td></td>\n",
       "      <td>2009.0</td>\n",
       "      <td>2010.0</td>\n",
       "    </tr>\n",
       "    <tr>\n",
       "      <th>7</th>\n",
       "      <td>Monsieur</td>\n",
       "      <td></td>\n",
       "      <td></td>\n",
       "      <td></td>\n",
       "      <td>192248</td>\n",
       "      <td>Barbier Issa</td>\n",
       "      <td></td>\n",
       "      <td></td>\n",
       "      <td>1</td>\n",
       "      <td></td>\n",
       "      <td>Présent</td>\n",
       "      <td></td>\n",
       "      <td>2009.0</td>\n",
       "      <td>2010.0</td>\n",
       "    </tr>\n",
       "    <tr>\n",
       "      <th>8</th>\n",
       "      <td>Monsieur</td>\n",
       "      <td></td>\n",
       "      <td></td>\n",
       "      <td></td>\n",
       "      <td>187143</td>\n",
       "      <td>Bennani Kabchi Reda</td>\n",
       "      <td></td>\n",
       "      <td></td>\n",
       "      <td>1</td>\n",
       "      <td></td>\n",
       "      <td>Présent</td>\n",
       "      <td></td>\n",
       "      <td>2009.0</td>\n",
       "      <td>2010.0</td>\n",
       "    </tr>\n",
       "    <tr>\n",
       "      <th>9</th>\n",
       "      <td>Monsieur</td>\n",
       "      <td></td>\n",
       "      <td></td>\n",
       "      <td></td>\n",
       "      <td>195551</td>\n",
       "      <td>Berta Stefano</td>\n",
       "      <td></td>\n",
       "      <td></td>\n",
       "      <td>1</td>\n",
       "      <td></td>\n",
       "      <td>Présent</td>\n",
       "      <td></td>\n",
       "      <td>2009.0</td>\n",
       "      <td>2010.0</td>\n",
       "    </tr>\n",
       "    <tr>\n",
       "      <th>10</th>\n",
       "      <td>Monsieur</td>\n",
       "      <td></td>\n",
       "      <td></td>\n",
       "      <td></td>\n",
       "      <td>193110</td>\n",
       "      <td>Bertrand Thomas</td>\n",
       "      <td></td>\n",
       "      <td></td>\n",
       "      <td>1</td>\n",
       "      <td></td>\n",
       "      <td>Présent</td>\n",
       "      <td></td>\n",
       "      <td>2009.0</td>\n",
       "      <td>2010.0</td>\n",
       "    </tr>\n",
       "    <tr>\n",
       "      <th>11</th>\n",
       "      <td>Monsieur</td>\n",
       "      <td></td>\n",
       "      <td></td>\n",
       "      <td></td>\n",
       "      <td>184583</td>\n",
       "      <td>Bischof Jonathan</td>\n",
       "      <td></td>\n",
       "      <td></td>\n",
       "      <td>1</td>\n",
       "      <td></td>\n",
       "      <td>Présent</td>\n",
       "      <td></td>\n",
       "      <td>2009.0</td>\n",
       "      <td>2010.0</td>\n",
       "    </tr>\n",
       "    <tr>\n",
       "      <th>12</th>\n",
       "      <td>Monsieur</td>\n",
       "      <td></td>\n",
       "      <td></td>\n",
       "      <td></td>\n",
       "      <td>184098</td>\n",
       "      <td>Blanvillain Olivier Eric Paul</td>\n",
       "      <td></td>\n",
       "      <td></td>\n",
       "      <td>1</td>\n",
       "      <td></td>\n",
       "      <td>Présent</td>\n",
       "      <td></td>\n",
       "      <td>2009.0</td>\n",
       "      <td>2010.0</td>\n",
       "    </tr>\n",
       "    <tr>\n",
       "      <th>13</th>\n",
       "      <td>Monsieur</td>\n",
       "      <td></td>\n",
       "      <td></td>\n",
       "      <td></td>\n",
       "      <td>193046</td>\n",
       "      <td>Bliss Louis</td>\n",
       "      <td></td>\n",
       "      <td></td>\n",
       "      <td>1</td>\n",
       "      <td></td>\n",
       "      <td>Présent</td>\n",
       "      <td></td>\n",
       "      <td>2009.0</td>\n",
       "      <td>2010.0</td>\n",
       "    </tr>\n",
       "    <tr>\n",
       "      <th>14</th>\n",
       "      <td>Monsieur</td>\n",
       "      <td></td>\n",
       "      <td></td>\n",
       "      <td></td>\n",
       "      <td>186264</td>\n",
       "      <td>Bougacha Malik</td>\n",
       "      <td></td>\n",
       "      <td></td>\n",
       "      <td>1</td>\n",
       "      <td></td>\n",
       "      <td>Présent</td>\n",
       "      <td></td>\n",
       "      <td>2009.0</td>\n",
       "      <td>2010.0</td>\n",
       "    </tr>\n",
       "    <tr>\n",
       "      <th>15</th>\n",
       "      <td>Monsieur</td>\n",
       "      <td></td>\n",
       "      <td></td>\n",
       "      <td></td>\n",
       "      <td>194849</td>\n",
       "      <td>Bourban Fabien</td>\n",
       "      <td></td>\n",
       "      <td></td>\n",
       "      <td>1</td>\n",
       "      <td></td>\n",
       "      <td>Présent</td>\n",
       "      <td></td>\n",
       "      <td>2009.0</td>\n",
       "      <td>2010.0</td>\n",
       "    </tr>\n",
       "    <tr>\n",
       "      <th>16</th>\n",
       "      <td>Monsieur</td>\n",
       "      <td></td>\n",
       "      <td></td>\n",
       "      <td></td>\n",
       "      <td>184264</td>\n",
       "      <td>Bourqui Marc</td>\n",
       "      <td></td>\n",
       "      <td></td>\n",
       "      <td>1</td>\n",
       "      <td></td>\n",
       "      <td>Présent</td>\n",
       "      <td></td>\n",
       "      <td>2009.0</td>\n",
       "      <td>2010.0</td>\n",
       "    </tr>\n",
       "    <tr>\n",
       "      <th>17</th>\n",
       "      <td>Madame</td>\n",
       "      <td></td>\n",
       "      <td></td>\n",
       "      <td></td>\n",
       "      <td>194595</td>\n",
       "      <td>Buet Solène Madeleine Jacqueline</td>\n",
       "      <td></td>\n",
       "      <td></td>\n",
       "      <td>1</td>\n",
       "      <td></td>\n",
       "      <td>Présent</td>\n",
       "      <td></td>\n",
       "      <td>2009.0</td>\n",
       "      <td>2010.0</td>\n",
       "    </tr>\n",
       "    <tr>\n",
       "      <th>18</th>\n",
       "      <td>Monsieur</td>\n",
       "      <td></td>\n",
       "      <td></td>\n",
       "      <td></td>\n",
       "      <td>192345</td>\n",
       "      <td>Camenzind Marzell</td>\n",
       "      <td></td>\n",
       "      <td></td>\n",
       "      <td>1</td>\n",
       "      <td></td>\n",
       "      <td>Présent</td>\n",
       "      <td></td>\n",
       "      <td>2009.0</td>\n",
       "      <td>2010.0</td>\n",
       "    </tr>\n",
       "    <tr>\n",
       "      <th>19</th>\n",
       "      <td>Monsieur</td>\n",
       "      <td></td>\n",
       "      <td></td>\n",
       "      <td></td>\n",
       "      <td>186426</td>\n",
       "      <td>Carballo Christopher</td>\n",
       "      <td></td>\n",
       "      <td></td>\n",
       "      <td>1</td>\n",
       "      <td></td>\n",
       "      <td>Présent</td>\n",
       "      <td></td>\n",
       "      <td>2009.0</td>\n",
       "      <td>2010.0</td>\n",
       "    </tr>\n",
       "    <tr>\n",
       "      <th>20</th>\n",
       "      <td>Monsieur</td>\n",
       "      <td></td>\n",
       "      <td></td>\n",
       "      <td></td>\n",
       "      <td>194875</td>\n",
       "      <td>Carlessi Alexandre</td>\n",
       "      <td></td>\n",
       "      <td></td>\n",
       "      <td>1</td>\n",
       "      <td></td>\n",
       "      <td>Présent</td>\n",
       "      <td></td>\n",
       "      <td>2009.0</td>\n",
       "      <td>2010.0</td>\n",
       "    </tr>\n",
       "    <tr>\n",
       "      <th>21</th>\n",
       "      <td>Monsieur</td>\n",
       "      <td></td>\n",
       "      <td></td>\n",
       "      <td></td>\n",
       "      <td>192647</td>\n",
       "      <td>Chollet Yorick</td>\n",
       "      <td></td>\n",
       "      <td></td>\n",
       "      <td>1</td>\n",
       "      <td></td>\n",
       "      <td>Présent</td>\n",
       "      <td></td>\n",
       "      <td>2009.0</td>\n",
       "      <td>2010.0</td>\n",
       "    </tr>\n",
       "    <tr>\n",
       "      <th>22</th>\n",
       "      <td>Monsieur</td>\n",
       "      <td></td>\n",
       "      <td></td>\n",
       "      <td></td>\n",
       "      <td>185283</td>\n",
       "      <td>Constantin Victor</td>\n",
       "      <td></td>\n",
       "      <td></td>\n",
       "      <td>1</td>\n",
       "      <td></td>\n",
       "      <td>Présent</td>\n",
       "      <td></td>\n",
       "      <td>2009.0</td>\n",
       "      <td>2010.0</td>\n",
       "    </tr>\n",
       "    <tr>\n",
       "      <th>23</th>\n",
       "      <td>Monsieur</td>\n",
       "      <td></td>\n",
       "      <td></td>\n",
       "      <td></td>\n",
       "      <td>195855</td>\n",
       "      <td>Daiber Kevin</td>\n",
       "      <td></td>\n",
       "      <td></td>\n",
       "      <td>1</td>\n",
       "      <td></td>\n",
       "      <td>Présent</td>\n",
       "      <td></td>\n",
       "      <td>2009.0</td>\n",
       "      <td>2010.0</td>\n",
       "    </tr>\n",
       "    <tr>\n",
       "      <th>24</th>\n",
       "      <td>Monsieur</td>\n",
       "      <td></td>\n",
       "      <td></td>\n",
       "      <td></td>\n",
       "      <td>186733</td>\n",
       "      <td>De Labouchere Michael</td>\n",
       "      <td></td>\n",
       "      <td></td>\n",
       "      <td>1</td>\n",
       "      <td></td>\n",
       "      <td>Présent</td>\n",
       "      <td></td>\n",
       "      <td>2009.0</td>\n",
       "      <td>2010.0</td>\n",
       "    </tr>\n",
       "    <tr>\n",
       "      <th>25</th>\n",
       "      <td>Madame</td>\n",
       "      <td></td>\n",
       "      <td></td>\n",
       "      <td></td>\n",
       "      <td>192311</td>\n",
       "      <td>Dessingy Mélanie</td>\n",
       "      <td></td>\n",
       "      <td></td>\n",
       "      <td>1</td>\n",
       "      <td></td>\n",
       "      <td>Présent</td>\n",
       "      <td></td>\n",
       "      <td>2009.0</td>\n",
       "      <td>2010.0</td>\n",
       "    </tr>\n",
       "    <tr>\n",
       "      <th>26</th>\n",
       "      <td>Monsieur</td>\n",
       "      <td></td>\n",
       "      <td></td>\n",
       "      <td></td>\n",
       "      <td>185969</td>\n",
       "      <td>Dias Emanuele</td>\n",
       "      <td></td>\n",
       "      <td></td>\n",
       "      <td>1</td>\n",
       "      <td></td>\n",
       "      <td>Présent</td>\n",
       "      <td></td>\n",
       "      <td>2009.0</td>\n",
       "      <td>2010.0</td>\n",
       "    </tr>\n",
       "    <tr>\n",
       "      <th>27</th>\n",
       "      <td>Monsieur</td>\n",
       "      <td></td>\n",
       "      <td></td>\n",
       "      <td></td>\n",
       "      <td>185934</td>\n",
       "      <td>Didot Bruno</td>\n",
       "      <td></td>\n",
       "      <td></td>\n",
       "      <td>1</td>\n",
       "      <td></td>\n",
       "      <td>Présent</td>\n",
       "      <td></td>\n",
       "      <td>2009.0</td>\n",
       "      <td>2010.0</td>\n",
       "    </tr>\n",
       "    <tr>\n",
       "      <th>28</th>\n",
       "      <td>Monsieur</td>\n",
       "      <td></td>\n",
       "      <td></td>\n",
       "      <td></td>\n",
       "      <td>192517</td>\n",
       "      <td>Dieng Seydou</td>\n",
       "      <td></td>\n",
       "      <td></td>\n",
       "      <td>1</td>\n",
       "      <td></td>\n",
       "      <td>Présent</td>\n",
       "      <td></td>\n",
       "      <td>2009.0</td>\n",
       "      <td>2010.0</td>\n",
       "    </tr>\n",
       "    <tr>\n",
       "      <th>29</th>\n",
       "      <td>Monsieur</td>\n",
       "      <td></td>\n",
       "      <td></td>\n",
       "      <td></td>\n",
       "      <td>186829</td>\n",
       "      <td>Dotti Aris</td>\n",
       "      <td></td>\n",
       "      <td></td>\n",
       "      <td>1</td>\n",
       "      <td></td>\n",
       "      <td>Présent</td>\n",
       "      <td></td>\n",
       "      <td>2009.0</td>\n",
       "      <td>2010.0</td>\n",
       "    </tr>\n",
       "    <tr>\n",
       "      <th>...</th>\n",
       "      <td>...</td>\n",
       "      <td>...</td>\n",
       "      <td>...</td>\n",
       "      <td>...</td>\n",
       "      <td>...</td>\n",
       "      <td>...</td>\n",
       "      <td>...</td>\n",
       "      <td>...</td>\n",
       "      <td>...</td>\n",
       "      <td>...</td>\n",
       "      <td>...</td>\n",
       "      <td>...</td>\n",
       "      <td>...</td>\n",
       "      <td>...</td>\n",
       "    </tr>\n",
       "    <tr>\n",
       "      <th>3243</th>\n",
       "      <td>Monsieur</td>\n",
       "      <td></td>\n",
       "      <td></td>\n",
       "      <td></td>\n",
       "      <td>192309</td>\n",
       "      <td>Genini Leonardo</td>\n",
       "      <td></td>\n",
       "      <td></td>\n",
       "      <td>6</td>\n",
       "      <td></td>\n",
       "      <td>Présent</td>\n",
       "      <td></td>\n",
       "      <td>2011.0</td>\n",
       "      <td>2012.0</td>\n",
       "    </tr>\n",
       "    <tr>\n",
       "      <th>3244</th>\n",
       "      <td>Monsieur</td>\n",
       "      <td>Iowa State University Ames</td>\n",
       "      <td></td>\n",
       "      <td></td>\n",
       "      <td>193505</td>\n",
       "      <td>Heiniger Sylvain</td>\n",
       "      <td></td>\n",
       "      <td></td>\n",
       "      <td>6</td>\n",
       "      <td></td>\n",
       "      <td>Congé</td>\n",
       "      <td>Bilatéral</td>\n",
       "      <td>2011.0</td>\n",
       "      <td>2012.0</td>\n",
       "    </tr>\n",
       "    <tr>\n",
       "      <th>3245</th>\n",
       "      <td>Monsieur</td>\n",
       "      <td></td>\n",
       "      <td></td>\n",
       "      <td></td>\n",
       "      <td>187119</td>\n",
       "      <td>Hobbs Michael</td>\n",
       "      <td></td>\n",
       "      <td></td>\n",
       "      <td>6</td>\n",
       "      <td></td>\n",
       "      <td>Présent</td>\n",
       "      <td></td>\n",
       "      <td>2011.0</td>\n",
       "      <td>2012.0</td>\n",
       "    </tr>\n",
       "    <tr>\n",
       "      <th>3246</th>\n",
       "      <td>Monsieur</td>\n",
       "      <td></td>\n",
       "      <td></td>\n",
       "      <td></td>\n",
       "      <td>186598</td>\n",
       "      <td>Hugonot Joachim</td>\n",
       "      <td></td>\n",
       "      <td></td>\n",
       "      <td>6</td>\n",
       "      <td></td>\n",
       "      <td>Présent</td>\n",
       "      <td></td>\n",
       "      <td>2011.0</td>\n",
       "      <td>2012.0</td>\n",
       "    </tr>\n",
       "    <tr>\n",
       "      <th>3247</th>\n",
       "      <td>Monsieur</td>\n",
       "      <td></td>\n",
       "      <td></td>\n",
       "      <td></td>\n",
       "      <td>181244</td>\n",
       "      <td>Jolidon Fabien</td>\n",
       "      <td></td>\n",
       "      <td></td>\n",
       "      <td>6</td>\n",
       "      <td></td>\n",
       "      <td>Présent</td>\n",
       "      <td></td>\n",
       "      <td>2011.0</td>\n",
       "      <td>2012.0</td>\n",
       "    </tr>\n",
       "    <tr>\n",
       "      <th>3248</th>\n",
       "      <td>Monsieur</td>\n",
       "      <td></td>\n",
       "      <td></td>\n",
       "      <td></td>\n",
       "      <td>186872</td>\n",
       "      <td>Kessel Alexis</td>\n",
       "      <td></td>\n",
       "      <td></td>\n",
       "      <td>6</td>\n",
       "      <td></td>\n",
       "      <td>Présent</td>\n",
       "      <td></td>\n",
       "      <td>2011.0</td>\n",
       "      <td>2012.0</td>\n",
       "    </tr>\n",
       "    <tr>\n",
       "      <th>3249</th>\n",
       "      <td>Monsieur</td>\n",
       "      <td></td>\n",
       "      <td></td>\n",
       "      <td></td>\n",
       "      <td>194430</td>\n",
       "      <td>Kromwijk Sander</td>\n",
       "      <td></td>\n",
       "      <td></td>\n",
       "      <td>6</td>\n",
       "      <td></td>\n",
       "      <td>Présent</td>\n",
       "      <td></td>\n",
       "      <td>2011.0</td>\n",
       "      <td>2012.0</td>\n",
       "    </tr>\n",
       "    <tr>\n",
       "      <th>3250</th>\n",
       "      <td>Monsieur</td>\n",
       "      <td></td>\n",
       "      <td></td>\n",
       "      <td></td>\n",
       "      <td>174847</td>\n",
       "      <td>Laurent Florian</td>\n",
       "      <td></td>\n",
       "      <td></td>\n",
       "      <td>6</td>\n",
       "      <td></td>\n",
       "      <td>Présent</td>\n",
       "      <td></td>\n",
       "      <td>2011.0</td>\n",
       "      <td>2012.0</td>\n",
       "    </tr>\n",
       "    <tr>\n",
       "      <th>3251</th>\n",
       "      <td>Monsieur</td>\n",
       "      <td></td>\n",
       "      <td></td>\n",
       "      <td></td>\n",
       "      <td>194146</td>\n",
       "      <td>Maître Nicolas</td>\n",
       "      <td></td>\n",
       "      <td></td>\n",
       "      <td>6</td>\n",
       "      <td></td>\n",
       "      <td>Présent</td>\n",
       "      <td></td>\n",
       "      <td>2011.0</td>\n",
       "      <td>2012.0</td>\n",
       "    </tr>\n",
       "    <tr>\n",
       "      <th>3252</th>\n",
       "      <td>Monsieur</td>\n",
       "      <td></td>\n",
       "      <td></td>\n",
       "      <td></td>\n",
       "      <td>194127</td>\n",
       "      <td>Martin Stéphane Bernard</td>\n",
       "      <td></td>\n",
       "      <td></td>\n",
       "      <td>6</td>\n",
       "      <td></td>\n",
       "      <td>Présent</td>\n",
       "      <td></td>\n",
       "      <td>2011.0</td>\n",
       "      <td>2012.0</td>\n",
       "    </tr>\n",
       "    <tr>\n",
       "      <th>3253</th>\n",
       "      <td>Monsieur</td>\n",
       "      <td></td>\n",
       "      <td></td>\n",
       "      <td></td>\n",
       "      <td>184258</td>\n",
       "      <td>Menétrey Jeremiah</td>\n",
       "      <td></td>\n",
       "      <td></td>\n",
       "      <td>6</td>\n",
       "      <td></td>\n",
       "      <td>Présent</td>\n",
       "      <td></td>\n",
       "      <td>2011.0</td>\n",
       "      <td>2012.0</td>\n",
       "    </tr>\n",
       "    <tr>\n",
       "      <th>3254</th>\n",
       "      <td>Monsieur</td>\n",
       "      <td></td>\n",
       "      <td></td>\n",
       "      <td></td>\n",
       "      <td>196065</td>\n",
       "      <td>Monney Mathieu</td>\n",
       "      <td></td>\n",
       "      <td></td>\n",
       "      <td>6</td>\n",
       "      <td></td>\n",
       "      <td>Présent</td>\n",
       "      <td></td>\n",
       "      <td>2011.0</td>\n",
       "      <td>2012.0</td>\n",
       "    </tr>\n",
       "    <tr>\n",
       "      <th>3255</th>\n",
       "      <td>Monsieur</td>\n",
       "      <td></td>\n",
       "      <td></td>\n",
       "      <td></td>\n",
       "      <td>186193</td>\n",
       "      <td>Mühlematter Thomas</td>\n",
       "      <td></td>\n",
       "      <td></td>\n",
       "      <td>6</td>\n",
       "      <td></td>\n",
       "      <td>Présent</td>\n",
       "      <td></td>\n",
       "      <td>2011.0</td>\n",
       "      <td>2012.0</td>\n",
       "    </tr>\n",
       "    <tr>\n",
       "      <th>3256</th>\n",
       "      <td>Monsieur</td>\n",
       "      <td>Indian Institute of Technology Madras</td>\n",
       "      <td></td>\n",
       "      <td></td>\n",
       "      <td>196125</td>\n",
       "      <td>Pellegrini Paul</td>\n",
       "      <td></td>\n",
       "      <td></td>\n",
       "      <td>6</td>\n",
       "      <td></td>\n",
       "      <td>Congé</td>\n",
       "      <td>Bilatéral</td>\n",
       "      <td>2011.0</td>\n",
       "      <td>2012.0</td>\n",
       "    </tr>\n",
       "    <tr>\n",
       "      <th>3257</th>\n",
       "      <td>Monsieur</td>\n",
       "      <td>Universitat Politècnica de Catalunya, Barcelona</td>\n",
       "      <td></td>\n",
       "      <td></td>\n",
       "      <td>195950</td>\n",
       "      <td>Rieder Jeremy</td>\n",
       "      <td></td>\n",
       "      <td></td>\n",
       "      <td>6</td>\n",
       "      <td></td>\n",
       "      <td>Congé</td>\n",
       "      <td>Erasmus</td>\n",
       "      <td>2011.0</td>\n",
       "      <td>2012.0</td>\n",
       "    </tr>\n",
       "    <tr>\n",
       "      <th>3258</th>\n",
       "      <td>Monsieur</td>\n",
       "      <td></td>\n",
       "      <td></td>\n",
       "      <td></td>\n",
       "      <td>180968</td>\n",
       "      <td>Rodrigues Dinis</td>\n",
       "      <td></td>\n",
       "      <td></td>\n",
       "      <td>6</td>\n",
       "      <td></td>\n",
       "      <td>Présent</td>\n",
       "      <td></td>\n",
       "      <td>2011.0</td>\n",
       "      <td>2012.0</td>\n",
       "    </tr>\n",
       "    <tr>\n",
       "      <th>3259</th>\n",
       "      <td>Monsieur</td>\n",
       "      <td></td>\n",
       "      <td></td>\n",
       "      <td></td>\n",
       "      <td>184118</td>\n",
       "      <td>Rohrbach Jonathan</td>\n",
       "      <td></td>\n",
       "      <td></td>\n",
       "      <td>6</td>\n",
       "      <td></td>\n",
       "      <td>Présent</td>\n",
       "      <td></td>\n",
       "      <td>2011.0</td>\n",
       "      <td>2012.0</td>\n",
       "    </tr>\n",
       "    <tr>\n",
       "      <th>3260</th>\n",
       "      <td>Monsieur</td>\n",
       "      <td></td>\n",
       "      <td></td>\n",
       "      <td></td>\n",
       "      <td>186870</td>\n",
       "      <td>Rolland Cédric</td>\n",
       "      <td></td>\n",
       "      <td></td>\n",
       "      <td>6</td>\n",
       "      <td></td>\n",
       "      <td>Présent</td>\n",
       "      <td></td>\n",
       "      <td>2011.0</td>\n",
       "      <td>2012.0</td>\n",
       "    </tr>\n",
       "    <tr>\n",
       "      <th>3261</th>\n",
       "      <td>Madame</td>\n",
       "      <td></td>\n",
       "      <td></td>\n",
       "      <td></td>\n",
       "      <td>184956</td>\n",
       "      <td>Rollier Orianne</td>\n",
       "      <td></td>\n",
       "      <td></td>\n",
       "      <td>6</td>\n",
       "      <td></td>\n",
       "      <td>Présent</td>\n",
       "      <td></td>\n",
       "      <td>2011.0</td>\n",
       "      <td>2012.0</td>\n",
       "    </tr>\n",
       "    <tr>\n",
       "      <th>3262</th>\n",
       "      <td>Monsieur</td>\n",
       "      <td></td>\n",
       "      <td></td>\n",
       "      <td></td>\n",
       "      <td>185301</td>\n",
       "      <td>Sarfati Alexandre</td>\n",
       "      <td></td>\n",
       "      <td></td>\n",
       "      <td>6</td>\n",
       "      <td></td>\n",
       "      <td>Présent</td>\n",
       "      <td></td>\n",
       "      <td>2011.0</td>\n",
       "      <td>2012.0</td>\n",
       "    </tr>\n",
       "    <tr>\n",
       "      <th>3263</th>\n",
       "      <td>Monsieur</td>\n",
       "      <td></td>\n",
       "      <td></td>\n",
       "      <td></td>\n",
       "      <td>195446</td>\n",
       "      <td>Simond Florian</td>\n",
       "      <td></td>\n",
       "      <td></td>\n",
       "      <td>6</td>\n",
       "      <td></td>\n",
       "      <td>Présent</td>\n",
       "      <td></td>\n",
       "      <td>2011.0</td>\n",
       "      <td>2012.0</td>\n",
       "    </tr>\n",
       "    <tr>\n",
       "      <th>3264</th>\n",
       "      <td>Madame</td>\n",
       "      <td></td>\n",
       "      <td></td>\n",
       "      <td></td>\n",
       "      <td>184373</td>\n",
       "      <td>Sisto Maria</td>\n",
       "      <td></td>\n",
       "      <td></td>\n",
       "      <td>6</td>\n",
       "      <td></td>\n",
       "      <td>Présent</td>\n",
       "      <td></td>\n",
       "      <td>2011.0</td>\n",
       "      <td>2012.0</td>\n",
       "    </tr>\n",
       "    <tr>\n",
       "      <th>3265</th>\n",
       "      <td>Monsieur</td>\n",
       "      <td>Carnegie Mellon University Pittsburgh</td>\n",
       "      <td></td>\n",
       "      <td></td>\n",
       "      <td>193352</td>\n",
       "      <td>Tramèr Florian</td>\n",
       "      <td></td>\n",
       "      <td></td>\n",
       "      <td>6</td>\n",
       "      <td></td>\n",
       "      <td>Congé</td>\n",
       "      <td>Bilatéral</td>\n",
       "      <td>2011.0</td>\n",
       "      <td>2012.0</td>\n",
       "    </tr>\n",
       "    <tr>\n",
       "      <th>3266</th>\n",
       "      <td>Monsieur</td>\n",
       "      <td></td>\n",
       "      <td></td>\n",
       "      <td></td>\n",
       "      <td>183984</td>\n",
       "      <td>Vallone Joël</td>\n",
       "      <td></td>\n",
       "      <td></td>\n",
       "      <td>6</td>\n",
       "      <td></td>\n",
       "      <td>Présent</td>\n",
       "      <td></td>\n",
       "      <td>2011.0</td>\n",
       "      <td>2012.0</td>\n",
       "    </tr>\n",
       "    <tr>\n",
       "      <th>3267</th>\n",
       "      <td>Monsieur</td>\n",
       "      <td></td>\n",
       "      <td></td>\n",
       "      <td></td>\n",
       "      <td>192668</td>\n",
       "      <td>Vanini Erico</td>\n",
       "      <td></td>\n",
       "      <td></td>\n",
       "      <td>6</td>\n",
       "      <td></td>\n",
       "      <td>Présent</td>\n",
       "      <td></td>\n",
       "      <td>2011.0</td>\n",
       "      <td>2012.0</td>\n",
       "    </tr>\n",
       "    <tr>\n",
       "      <th>3268</th>\n",
       "      <td>Monsieur</td>\n",
       "      <td>Royal Institute of Technology, (KTH) Stockholm</td>\n",
       "      <td></td>\n",
       "      <td></td>\n",
       "      <td>186067</td>\n",
       "      <td>Vasta Rivo</td>\n",
       "      <td></td>\n",
       "      <td></td>\n",
       "      <td>6</td>\n",
       "      <td></td>\n",
       "      <td>Congé</td>\n",
       "      <td>Erasmus</td>\n",
       "      <td>2011.0</td>\n",
       "      <td>2012.0</td>\n",
       "    </tr>\n",
       "    <tr>\n",
       "      <th>3269</th>\n",
       "      <td>Monsieur</td>\n",
       "      <td></td>\n",
       "      <td></td>\n",
       "      <td></td>\n",
       "      <td>195916</td>\n",
       "      <td>Viaccoz Thierry</td>\n",
       "      <td></td>\n",
       "      <td></td>\n",
       "      <td>6</td>\n",
       "      <td></td>\n",
       "      <td>Présent</td>\n",
       "      <td></td>\n",
       "      <td>2011.0</td>\n",
       "      <td>2012.0</td>\n",
       "    </tr>\n",
       "    <tr>\n",
       "      <th>3270</th>\n",
       "      <td>Monsieur</td>\n",
       "      <td></td>\n",
       "      <td></td>\n",
       "      <td></td>\n",
       "      <td>175410</td>\n",
       "      <td>Vion Roger</td>\n",
       "      <td></td>\n",
       "      <td></td>\n",
       "      <td>6</td>\n",
       "      <td></td>\n",
       "      <td>Présent</td>\n",
       "      <td></td>\n",
       "      <td>2011.0</td>\n",
       "      <td>2012.0</td>\n",
       "    </tr>\n",
       "    <tr>\n",
       "      <th>3271</th>\n",
       "      <td>Monsieur</td>\n",
       "      <td></td>\n",
       "      <td></td>\n",
       "      <td></td>\n",
       "      <td>184863</td>\n",
       "      <td>Wenger Amos</td>\n",
       "      <td></td>\n",
       "      <td></td>\n",
       "      <td>6</td>\n",
       "      <td></td>\n",
       "      <td>Présent</td>\n",
       "      <td></td>\n",
       "      <td>2011.0</td>\n",
       "      <td>2012.0</td>\n",
       "    </tr>\n",
       "    <tr>\n",
       "      <th>3272</th>\n",
       "      <td>Monsieur</td>\n",
       "      <td></td>\n",
       "      <td></td>\n",
       "      <td></td>\n",
       "      <td>192870</td>\n",
       "      <td>Zablotchi Mihail Igor</td>\n",
       "      <td></td>\n",
       "      <td></td>\n",
       "      <td>6</td>\n",
       "      <td></td>\n",
       "      <td>Présent</td>\n",
       "      <td></td>\n",
       "      <td>2011.0</td>\n",
       "      <td>2012.0</td>\n",
       "    </tr>\n",
       "  </tbody>\n",
       "</table>\n",
       "<p>3273 rows × 14 columns</p>\n",
       "</div>"
      ],
      "text/plain": [
       "      Civilité                                    Ecole_Echange Filière_opt.  \\\n",
       "0     Monsieur                                                                 \n",
       "1       Madame                                                                 \n",
       "2     Monsieur                                                                 \n",
       "3     Monsieur                                                                 \n",
       "4     Monsieur                                                                 \n",
       "5       Madame                                                                 \n",
       "6     Monsieur                                                                 \n",
       "7     Monsieur                                                                 \n",
       "8     Monsieur                                                                 \n",
       "9     Monsieur                                                                 \n",
       "10    Monsieur                                                                 \n",
       "11    Monsieur                                                                 \n",
       "12    Monsieur                                                                 \n",
       "13    Monsieur                                                                 \n",
       "14    Monsieur                                                                 \n",
       "15    Monsieur                                                                 \n",
       "16    Monsieur                                                                 \n",
       "17      Madame                                                                 \n",
       "18    Monsieur                                                                 \n",
       "19    Monsieur                                                                 \n",
       "20    Monsieur                                                                 \n",
       "21    Monsieur                                                                 \n",
       "22    Monsieur                                                                 \n",
       "23    Monsieur                                                                 \n",
       "24    Monsieur                                                                 \n",
       "25      Madame                                                                 \n",
       "26    Monsieur                                                                 \n",
       "27    Monsieur                                                                 \n",
       "28    Monsieur                                                                 \n",
       "29    Monsieur                                                                 \n",
       "...        ...                                              ...          ...   \n",
       "3243  Monsieur                                                                 \n",
       "3244  Monsieur                       Iowa State University Ames                \n",
       "3245  Monsieur                                                                 \n",
       "3246  Monsieur                                                                 \n",
       "3247  Monsieur                                                                 \n",
       "3248  Monsieur                                                                 \n",
       "3249  Monsieur                                                                 \n",
       "3250  Monsieur                                                                 \n",
       "3251  Monsieur                                                                 \n",
       "3252  Monsieur                                                                 \n",
       "3253  Monsieur                                                                 \n",
       "3254  Monsieur                                                                 \n",
       "3255  Monsieur                                                                 \n",
       "3256  Monsieur            Indian Institute of Technology Madras                \n",
       "3257  Monsieur  Universitat Politècnica de Catalunya, Barcelona                \n",
       "3258  Monsieur                                                                 \n",
       "3259  Monsieur                                                                 \n",
       "3260  Monsieur                                                                 \n",
       "3261    Madame                                                                 \n",
       "3262  Monsieur                                                                 \n",
       "3263  Monsieur                                                                 \n",
       "3264    Madame                                                                 \n",
       "3265  Monsieur            Carnegie Mellon University Pittsburgh                \n",
       "3266  Monsieur                                                                 \n",
       "3267  Monsieur                                                                 \n",
       "3268  Monsieur   Royal Institute of Technology, (KTH) Stockholm                \n",
       "3269  Monsieur                                                                 \n",
       "3270  Monsieur                                                                 \n",
       "3271  Monsieur                                                                 \n",
       "3272  Monsieur                                                                 \n",
       "\n",
       "     Mineur No_Sciper                        Nom_Prénom Orientation_Bachelor  \\\n",
       "0              194197                      Abdallah Jad                        \n",
       "1              195766                    Al Azawi Marwa                        \n",
       "2              186942                     Amrani Ismaïl                        \n",
       "3              194182                   Antognini Marco                        \n",
       "4              186595                 Augsburger Damien                        \n",
       "5              192757                 Balmau Oana Maria                        \n",
       "6              189517                       Barben Loïc                        \n",
       "7              192248                      Barbier Issa                        \n",
       "8              187143               Bennani Kabchi Reda                        \n",
       "9              195551                     Berta Stefano                        \n",
       "10             193110                   Bertrand Thomas                        \n",
       "11             184583                  Bischof Jonathan                        \n",
       "12             184098     Blanvillain Olivier Eric Paul                        \n",
       "13             193046                       Bliss Louis                        \n",
       "14             186264                    Bougacha Malik                        \n",
       "15             194849                    Bourban Fabien                        \n",
       "16             184264                      Bourqui Marc                        \n",
       "17             194595  Buet Solène Madeleine Jacqueline                        \n",
       "18             192345                 Camenzind Marzell                        \n",
       "19             186426              Carballo Christopher                        \n",
       "20             194875                Carlessi Alexandre                        \n",
       "21             192647                    Chollet Yorick                        \n",
       "22             185283                 Constantin Victor                        \n",
       "23             195855                      Daiber Kevin                        \n",
       "24             186733             De Labouchere Michael                        \n",
       "25             192311                  Dessingy Mélanie                        \n",
       "26             185969                     Dias Emanuele                        \n",
       "27             185934                       Didot Bruno                        \n",
       "28             192517                      Dieng Seydou                        \n",
       "29             186829                        Dotti Aris                        \n",
       "...     ...       ...                               ...                  ...   \n",
       "3243           192309                   Genini Leonardo                        \n",
       "3244           193505                  Heiniger Sylvain                        \n",
       "3245           187119                     Hobbs Michael                        \n",
       "3246           186598                   Hugonot Joachim                        \n",
       "3247           181244                    Jolidon Fabien                        \n",
       "3248           186872                     Kessel Alexis                        \n",
       "3249           194430                   Kromwijk Sander                        \n",
       "3250           174847                   Laurent Florian                        \n",
       "3251           194146                    Maître Nicolas                        \n",
       "3252           194127           Martin Stéphane Bernard                        \n",
       "3253           184258                 Menétrey Jeremiah                        \n",
       "3254           196065                    Monney Mathieu                        \n",
       "3255           186193                Mühlematter Thomas                        \n",
       "3256           196125                   Pellegrini Paul                        \n",
       "3257           195950                     Rieder Jeremy                        \n",
       "3258           180968                   Rodrigues Dinis                        \n",
       "3259           184118                 Rohrbach Jonathan                        \n",
       "3260           186870                    Rolland Cédric                        \n",
       "3261           184956                   Rollier Orianne                        \n",
       "3262           185301                 Sarfati Alexandre                        \n",
       "3263           195446                    Simond Florian                        \n",
       "3264           184373                       Sisto Maria                        \n",
       "3265           193352                    Tramèr Florian                        \n",
       "3266           183984                      Vallone Joël                        \n",
       "3267           192668                      Vanini Erico                        \n",
       "3268           186067                        Vasta Rivo                        \n",
       "3269           195916                   Viaccoz Thierry                        \n",
       "3270           175410                        Vion Roger                        \n",
       "3271           184863                       Wenger Amos                        \n",
       "3272           192870             Zablotchi Mihail Igor                        \n",
       "\n",
       "     Orientation_Master Semester Spécialisation   Statut Type_Echange  \\\n",
       "0                              1                 Présent                \n",
       "1                              1                 Présent                \n",
       "2                              1                 Présent                \n",
       "3                              1                 Présent                \n",
       "4                              1                 Présent                \n",
       "5                              1                 Présent                \n",
       "6                              1                 Présent                \n",
       "7                              1                 Présent                \n",
       "8                              1                 Présent                \n",
       "9                              1                 Présent                \n",
       "10                             1                 Présent                \n",
       "11                             1                 Présent                \n",
       "12                             1                 Présent                \n",
       "13                             1                 Présent                \n",
       "14                             1                 Présent                \n",
       "15                             1                 Présent                \n",
       "16                             1                 Présent                \n",
       "17                             1                 Présent                \n",
       "18                             1                 Présent                \n",
       "19                             1                 Présent                \n",
       "20                             1                 Présent                \n",
       "21                             1                 Présent                \n",
       "22                             1                 Présent                \n",
       "23                             1                 Présent                \n",
       "24                             1                 Présent                \n",
       "25                             1                 Présent                \n",
       "26                             1                 Présent                \n",
       "27                             1                 Présent                \n",
       "28                             1                 Présent                \n",
       "29                             1                 Présent                \n",
       "...                 ...      ...            ...      ...          ...   \n",
       "3243                           6                 Présent                \n",
       "3244                           6                   Congé    Bilatéral   \n",
       "3245                           6                 Présent                \n",
       "3246                           6                 Présent                \n",
       "3247                           6                 Présent                \n",
       "3248                           6                 Présent                \n",
       "3249                           6                 Présent                \n",
       "3250                           6                 Présent                \n",
       "3251                           6                 Présent                \n",
       "3252                           6                 Présent                \n",
       "3253                           6                 Présent                \n",
       "3254                           6                 Présent                \n",
       "3255                           6                 Présent                \n",
       "3256                           6                   Congé    Bilatéral   \n",
       "3257                           6                   Congé      Erasmus   \n",
       "3258                           6                 Présent                \n",
       "3259                           6                 Présent                \n",
       "3260                           6                 Présent                \n",
       "3261                           6                 Présent                \n",
       "3262                           6                 Présent                \n",
       "3263                           6                 Présent                \n",
       "3264                           6                 Présent                \n",
       "3265                           6                   Congé    Bilatéral   \n",
       "3266                           6                 Présent                \n",
       "3267                           6                 Présent                \n",
       "3268                           6                   Congé      Erasmus   \n",
       "3269                           6                 Présent                \n",
       "3270                           6                 Présent                \n",
       "3271                           6                 Présent                \n",
       "3272                           6                 Présent                \n",
       "\n",
       "      Year_start  Year_stop  \n",
       "0         2009.0     2010.0  \n",
       "1         2009.0     2010.0  \n",
       "2         2009.0     2010.0  \n",
       "3         2009.0     2010.0  \n",
       "4         2009.0     2010.0  \n",
       "5         2009.0     2010.0  \n",
       "6         2009.0     2010.0  \n",
       "7         2009.0     2010.0  \n",
       "8         2009.0     2010.0  \n",
       "9         2009.0     2010.0  \n",
       "10        2009.0     2010.0  \n",
       "11        2009.0     2010.0  \n",
       "12        2009.0     2010.0  \n",
       "13        2009.0     2010.0  \n",
       "14        2009.0     2010.0  \n",
       "15        2009.0     2010.0  \n",
       "16        2009.0     2010.0  \n",
       "17        2009.0     2010.0  \n",
       "18        2009.0     2010.0  \n",
       "19        2009.0     2010.0  \n",
       "20        2009.0     2010.0  \n",
       "21        2009.0     2010.0  \n",
       "22        2009.0     2010.0  \n",
       "23        2009.0     2010.0  \n",
       "24        2009.0     2010.0  \n",
       "25        2009.0     2010.0  \n",
       "26        2009.0     2010.0  \n",
       "27        2009.0     2010.0  \n",
       "28        2009.0     2010.0  \n",
       "29        2009.0     2010.0  \n",
       "...          ...        ...  \n",
       "3243      2011.0     2012.0  \n",
       "3244      2011.0     2012.0  \n",
       "3245      2011.0     2012.0  \n",
       "3246      2011.0     2012.0  \n",
       "3247      2011.0     2012.0  \n",
       "3248      2011.0     2012.0  \n",
       "3249      2011.0     2012.0  \n",
       "3250      2011.0     2012.0  \n",
       "3251      2011.0     2012.0  \n",
       "3252      2011.0     2012.0  \n",
       "3253      2011.0     2012.0  \n",
       "3254      2011.0     2012.0  \n",
       "3255      2011.0     2012.0  \n",
       "3256      2011.0     2012.0  \n",
       "3257      2011.0     2012.0  \n",
       "3258      2011.0     2012.0  \n",
       "3259      2011.0     2012.0  \n",
       "3260      2011.0     2012.0  \n",
       "3261      2011.0     2012.0  \n",
       "3262      2011.0     2012.0  \n",
       "3263      2011.0     2012.0  \n",
       "3264      2011.0     2012.0  \n",
       "3265      2011.0     2012.0  \n",
       "3266      2011.0     2012.0  \n",
       "3267      2011.0     2012.0  \n",
       "3268      2011.0     2012.0  \n",
       "3269      2011.0     2012.0  \n",
       "3270      2011.0     2012.0  \n",
       "3271      2011.0     2012.0  \n",
       "3272      2011.0     2012.0  \n",
       "\n",
       "[3273 rows x 14 columns]"
      ]
     },
     "execution_count": 10,
     "metadata": {},
     "output_type": "execute_result"
    }
   ],
   "source": [
    "\n",
    "\n",
    "list_df = []\n",
    "\n",
    "for u_a in unite_acad.items():\n",
    "    for p_a in period_acad.items():\n",
    "        for p_p in period_pedago.items():\n",
    "                print('Request for: ',u_a[1], p_a[1],  p_p[1])\n",
    "                list_df.append(parseRequest(u_a,p_a, p_p, 'null'))\n",
    "\n",
    "\n",
    "Student = pd.concat(list_df, ignore_index=True)\n",
    "Student                \n"
   ]
  },
  {
   "cell_type": "markdown",
   "metadata": {
    "collapsed": false
   },
   "source": [
    "# How many months it took each student to go from the first to the sixth semester\n",
    "\n",
    "As said before, here we check student that are in semester 1 (beginning) and semester 6 or 5 (in case they did the bachelor in 3.5 or 4.5 year)"
   ]
  },
  {
   "cell_type": "code",
   "execution_count": 11,
   "metadata": {
    "collapsed": false
   },
   "outputs": [
    {
     "data": {
      "text/plain": [
       "True"
      ]
     },
     "execution_count": 11,
     "metadata": {},
     "output_type": "execute_result"
    }
   ],
   "source": [
    "Student.index = Student.No_Sciper + Student.Semester.astype(str) + Student.Year_start.astype(str)\n",
    "Student.index.is_unique"
   ]
  },
  {
   "cell_type": "markdown",
   "metadata": {},
   "source": [
    "Show total number of student that made at least one semester"
   ]
  },
  {
   "cell_type": "code",
   "execution_count": 12,
   "metadata": {
    "collapsed": false
   },
   "outputs": [
    {
     "data": {
      "text/plain": [
       "1465"
      ]
     },
     "execution_count": 12,
     "metadata": {},
     "output_type": "execute_result"
    }
   ],
   "source": [
    "len(Student.No_Sciper.unique())"
   ]
  },
  {
   "cell_type": "markdown",
   "metadata": {},
   "source": [
    "## Eliminate student who don't finished their studies\n",
    "We group by sciper number (which we now is unique for each student). It return a sciper with a dataframe containing all the entries for one student\n",
    "\n",
    "\n",
    "We keep people that appear in semester 1, 5 and 6. => those are the people that graduated in informatique\n",
    "\n",
    "We drop all other people because:\n",
    "   * if they don't appear in semester 6 it means they never finished the Bachelor\n",
    "   * if they appear only in semester 5 and 6 it means that they began in another section (usually in communication system), but we can't know when they began epfl without loading the data for all sections\n",
    "   \n",
    "But just to have an idea, we keep the person who only take part to semester 5 and 6, just to see the proportion   \n"
   ]
  },
  {
   "cell_type": "code",
   "execution_count": 36,
   "metadata": {
    "collapsed": true
   },
   "outputs": [],
   "source": [
    "def computeTotalYears(df):\n",
    "    start = df.Year_start.min()\n",
    "    end = df.Year_stop.max()\n",
    "    end_semester = df[df.Year_stop == end].Semester\n",
    "    if(end_semester == '6').any():\n",
    "        return (int(end) - int(start)) \n",
    "    else: \n",
    "        return (int(end) - int(start) -0.5)\n",
    "    "
   ]
  },
  {
   "cell_type": "code",
   "execution_count": 40,
   "metadata": {
    "collapsed": false
   },
   "outputs": [],
   "source": [
    "Student_copy = Student.copy()\n",
    "Student_copy.index = Student.index\n",
    "\n",
    "\n",
    "#We init the dataframe\n",
    "#store people that complete the 3 years in informatique\n",
    "Bachelor = pd.DataFrame(columns = ['Sciper', 'Civilité', 'Years'])\n",
    "#store people that complet only the 2 last years\n",
    "Only_5_6 = pd.DataFrame(columns = ['Sciper', 'Civilité', 'Years'])\n",
    "\n",
    "#Groupe by sciper\n",
    "grouped = Student_copy.groupby(['No_Sciper'])\n",
    "\n",
    "\n",
    "\n",
    "for scip, group in grouped:\n",
    "    if((group.Semester != '1').all() and (group.Semester == '5').any() and (group.Semester == '6').any()): \n",
    "        total = computeTotalYears(group)\n",
    "        Only_5_6.ix[scip] = [scip,group.Civilité.iloc[0] , total  ]\n",
    "    elif((group.Semester == '1').any() and (group.Semester == '5').any() and (group.Semester == '6').any()):\n",
    "        total = computeTotalYears(group)\n",
    "        Bachelor.ix[scip] = [scip,group.Civilité.iloc[0] , total ]     \n"
   ]
  },
  {
   "cell_type": "code",
   "execution_count": 42,
   "metadata": {
    "collapsed": false
   },
   "outputs": [
    {
     "data": {
      "text/plain": [
       "7.0"
      ]
     },
     "execution_count": 42,
     "metadata": {},
     "output_type": "execute_result"
    }
   ],
   "source": [
    "Bachelor.Years.max()"
   ]
  },
  {
   "cell_type": "code",
   "execution_count": 43,
   "metadata": {
    "collapsed": false
   },
   "outputs": [
    {
     "data": {
      "text/plain": [
       "3.0"
      ]
     },
     "execution_count": 43,
     "metadata": {},
     "output_type": "execute_result"
    }
   ],
   "source": [
    "Bachelor.Years.min()"
   ]
  },
  {
   "cell_type": "code",
   "execution_count": 39,
   "metadata": {
    "collapsed": false
   },
   "outputs": [
    {
     "data": {
      "text/html": [
       "<div>\n",
       "<table border=\"1\" class=\"dataframe\">\n",
       "  <thead>\n",
       "    <tr style=\"text-align: right;\">\n",
       "      <th></th>\n",
       "      <th>Sciper</th>\n",
       "      <th>Civilité</th>\n",
       "      <th>Years</th>\n",
       "    </tr>\n",
       "  </thead>\n",
       "  <tbody>\n",
       "    <tr>\n",
       "      <th>147008</th>\n",
       "      <td>147008</td>\n",
       "      <td>Monsieur</td>\n",
       "      <td>3.0</td>\n",
       "    </tr>\n",
       "    <tr>\n",
       "      <th>169569</th>\n",
       "      <td>169569</td>\n",
       "      <td>Monsieur</td>\n",
       "      <td>3.0</td>\n",
       "    </tr>\n",
       "    <tr>\n",
       "      <th>169731</th>\n",
       "      <td>169731</td>\n",
       "      <td>Monsieur</td>\n",
       "      <td>4.0</td>\n",
       "    </tr>\n",
       "    <tr>\n",
       "      <th>169795</th>\n",
       "      <td>169795</td>\n",
       "      <td>Monsieur</td>\n",
       "      <td>4.5</td>\n",
       "    </tr>\n",
       "    <tr>\n",
       "      <th>171195</th>\n",
       "      <td>171195</td>\n",
       "      <td>Monsieur</td>\n",
       "      <td>3.0</td>\n",
       "    </tr>\n",
       "  </tbody>\n",
       "</table>\n",
       "</div>"
      ],
      "text/plain": [
       "        Sciper  Civilité  Years\n",
       "147008  147008  Monsieur    3.0\n",
       "169569  169569  Monsieur    3.0\n",
       "169731  169731  Monsieur    4.0\n",
       "169795  169795  Monsieur    4.5\n",
       "171195  171195  Monsieur    3.0"
      ]
     },
     "execution_count": 39,
     "metadata": {},
     "output_type": "execute_result"
    }
   ],
   "source": [
    "Bachelor.head()"
   ]
  },
  {
   "cell_type": "markdown",
   "metadata": {},
   "source": [
    "Person that didn't complete the first year in compute Science, we don't consider them since we can't know when they begin their first year"
   ]
  },
  {
   "cell_type": "code",
   "execution_count": 44,
   "metadata": {
    "collapsed": false
   },
   "outputs": [
    {
     "data": {
      "text/plain": [
       "Sciper      119\n",
       "Civilité    119\n",
       "Years       119\n",
       "dtype: int64"
      ]
     },
     "execution_count": 44,
     "metadata": {},
     "output_type": "execute_result"
    }
   ],
   "source": [
    "Only_5_6.count()"
   ]
  },
  {
   "cell_type": "markdown",
   "metadata": {},
   "source": [
    "Nomber of person that complete the bachelor in computer science"
   ]
  },
  {
   "cell_type": "code",
   "execution_count": 45,
   "metadata": {
    "collapsed": false
   },
   "outputs": [
    {
     "data": {
      "text/plain": [
       "Sciper      397\n",
       "Civilité    397\n",
       "Years       397\n",
       "dtype: int64"
      ]
     },
     "execution_count": 45,
     "metadata": {},
     "output_type": "execute_result"
    }
   ],
   "source": [
    "Bachelor.count()"
   ]
  },
  {
   "cell_type": "markdown",
   "metadata": {},
   "source": [
    "Number of person that tried at least the first years or last one"
   ]
  },
  {
   "cell_type": "code",
   "execution_count": 46,
   "metadata": {
    "collapsed": false
   },
   "outputs": [
    {
     "data": {
      "text/plain": [
       "1465"
      ]
     },
     "execution_count": 46,
     "metadata": {},
     "output_type": "execute_result"
    }
   ],
   "source": [
    "len(grouped)"
   ]
  },
  {
   "cell_type": "markdown",
   "metadata": {},
   "source": [
    "Person that tried the first year but never finished the bachelor"
   ]
  },
  {
   "cell_type": "code",
   "execution_count": 47,
   "metadata": {
    "collapsed": false
   },
   "outputs": [
    {
     "data": {
      "text/plain": [
       "949"
      ]
     },
     "execution_count": 47,
     "metadata": {},
     "output_type": "execute_result"
    }
   ],
   "source": [
    "len(grouped) - len(Bachelor) - len(Only_5_6)"
   ]
  },
  {
   "cell_type": "markdown",
   "metadata": {},
   "source": [
    "## Compute the average time (in years) to  complete the bachelor\n",
    "we choose to ouptut the result in years since it is more significant for human than month. To have the number of months we just need to multiply by 12"
   ]
  },
  {
   "cell_type": "markdown",
   "metadata": {},
   "source": [
    "In total"
   ]
  },
  {
   "cell_type": "code",
   "execution_count": 48,
   "metadata": {
    "collapsed": false
   },
   "outputs": [
    {
     "data": {
      "text/plain": [
       "397"
      ]
     },
     "execution_count": 48,
     "metadata": {},
     "output_type": "execute_result"
    }
   ],
   "source": [
    "len(Bachelor)"
   ]
  },
  {
   "cell_type": "code",
   "execution_count": 49,
   "metadata": {
    "collapsed": false
   },
   "outputs": [
    {
     "data": {
      "text/plain": [
       "3.5604534005037785"
      ]
     },
     "execution_count": 49,
     "metadata": {},
     "output_type": "execute_result"
    }
   ],
   "source": [
    "average = Bachelor.Years.sum()/len(Bachelor)\n",
    "average"
   ]
  },
  {
   "cell_type": "code",
   "execution_count": 50,
   "metadata": {
    "collapsed": false
   },
   "outputs": [
    {
     "data": {
      "text/plain": [
       "7.0"
      ]
     },
     "execution_count": 50,
     "metadata": {},
     "output_type": "execute_result"
    }
   ],
   "source": [
    "Bachelor.Years.max()"
   ]
  },
  {
   "cell_type": "code",
   "execution_count": 51,
   "metadata": {
    "collapsed": false
   },
   "outputs": [
    {
     "data": {
      "text/plain": [
       "3.0"
      ]
     },
     "execution_count": 51,
     "metadata": {},
     "output_type": "execute_result"
    }
   ],
   "source": [
    "Bachelor.Years.min()"
   ]
  },
  {
   "cell_type": "code",
   "execution_count": 52,
   "metadata": {
    "collapsed": false
   },
   "outputs": [
    {
     "data": {
      "text/plain": [
       "<matplotlib.axes._subplots.AxesSubplot at 0x7f5f4b808668>"
      ]
     },
     "execution_count": 52,
     "metadata": {},
     "output_type": "execute_result"
    },
    {
     "data": {
      "image/png": "[encoded data removed]",
      "text/plain": [
       "<matplotlib.figure.Figure at 0x7f5f4b7b5be0>"
      ]
     },
     "metadata": {},
     "output_type": "display_data"
    }
   ],
   "source": [
    "Bachelor.Years.hist(bins = 10, range=[3, 8])"
   ]
  },
  {
   "cell_type": "markdown",
   "metadata": {},
   "source": [
    "### Female"
   ]
  },
  {
   "cell_type": "code",
   "execution_count": 53,
   "metadata": {
    "collapsed": false
   },
   "outputs": [
    {
     "data": {
      "text/plain": [
       "29"
      ]
     },
     "execution_count": 53,
     "metadata": {},
     "output_type": "execute_result"
    }
   ],
   "source": [
    "Female = Bachelor[Bachelor.Civilité == 'Madame']\n",
    "len(Female)"
   ]
  },
  {
   "cell_type": "code",
   "execution_count": 54,
   "metadata": {
    "collapsed": false
   },
   "outputs": [
    {
     "data": {
      "text/plain": [
       "3.396551724137931"
      ]
     },
     "execution_count": 54,
     "metadata": {},
     "output_type": "execute_result"
    }
   ],
   "source": [
    "averageFemale = Female.Years.sum()/len(Female)\n",
    "averageFemale"
   ]
  },
  {
   "cell_type": "code",
   "execution_count": 55,
   "metadata": {
    "collapsed": false
   },
   "outputs": [
    {
     "data": {
      "text/plain": [
       "<matplotlib.axes._subplots.AxesSubplot at 0x7f5f4b5f6128>"
      ]
     },
     "execution_count": 55,
     "metadata": {},
     "output_type": "execute_result"
    },
    {
     "data": {
      "image/png": "[encoded data removed]",
      "text/plain": [
       "<matplotlib.figure.Figure at 0x7f5f4b759160>"
      ]
     },
     "metadata": {},
     "output_type": "display_data"
    }
   ],
   "source": [
    "Female.Years.hist(bins = 10, range=[3, 8])\n"
   ]
  },
  {
   "cell_type": "markdown",
   "metadata": {},
   "source": [
    "### Male"
   ]
  },
  {
   "cell_type": "code",
   "execution_count": 56,
   "metadata": {
    "collapsed": false
   },
   "outputs": [
    {
     "data": {
      "text/plain": [
       "368"
      ]
     },
     "execution_count": 56,
     "metadata": {},
     "output_type": "execute_result"
    }
   ],
   "source": [
    "Male = Bachelor[Bachelor.Civilité == 'Monsieur']\n",
    "len(Male)"
   ]
  },
  {
   "cell_type": "code",
   "execution_count": 57,
   "metadata": {
    "collapsed": false
   },
   "outputs": [
    {
     "data": {
      "text/plain": [
       "3.573369565217391"
      ]
     },
     "execution_count": 57,
     "metadata": {},
     "output_type": "execute_result"
    }
   ],
   "source": [
    "average = Male.Years.sum()/len(Male)\n",
    "average\n"
   ]
  },
  {
   "cell_type": "code",
   "execution_count": 58,
   "metadata": {
    "collapsed": false
   },
   "outputs": [
    {
     "data": {
      "text/plain": [
       "<matplotlib.axes._subplots.AxesSubplot at 0x7f5f4b296b70>"
      ]
     },
     "execution_count": 58,
     "metadata": {},
     "output_type": "execute_result"
    },
    {
     "data": {
      "image/png": "[encoded data removed]",
      "text/plain": [
       "<matplotlib.figure.Figure at 0x7f5f4b1cee80>"
      ]
     },
     "metadata": {},
     "output_type": "display_data"
    }
   ],
   "source": [
    "Male.Years.hist(bins = 10, range=[3, 8])"
   ]
  },
  {
   "cell_type": "code",
   "execution_count": null,
   "metadata": {
    "collapsed": true
   },
   "outputs": [],
   "source": []
  },
  {
   "cell_type": "code",
   "execution_count": null,
   "metadata": {
    "collapsed": true
   },
   "outputs": [],
   "source": []
  }
 ],
 "metadata": {
  "anaconda-cloud": {},
  "kernelspec": {
   "display_name": "Python [Root]",
   "language": "python",
   "name": "Python [Root]"
  },
  "language_info": {
   "codemirror_mode": {
    "name": "ipython",
    "version": 3
   },
   "file_extension": ".py",
   "mimetype": "text/x-python",
   "name": "python",
   "nbconvert_exporter": "python",
   "pygments_lexer": "ipython3",
   "version": "3.5.2"
  }
 },
 "nbformat": 4,
 "nbformat_minor": 1
}
